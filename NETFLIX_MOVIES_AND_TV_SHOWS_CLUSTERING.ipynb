{
  "nbformat": 4,
  "nbformat_minor": 0,
  "metadata": {
    "colab": {
      "provenance": [],
      "collapsed_sections": [
        "daTsqzUs0C92",
        "rawGvf3X0Z33"
      ],
      "mount_file_id": "1w8b9te7WiL-xrZ0vDXUPQq6KMKwpfMKB",
      "authorship_tag": "ABX9TyO6p644RV7qicZKV2WjW0h/",
      "include_colab_link": true
    },
    "kernelspec": {
      "name": "python3",
      "display_name": "Python 3"
    },
    "language_info": {
      "name": "python"
    }
  },
  "cells": [
    {
      "cell_type": "markdown",
      "metadata": {
        "id": "view-in-github",
        "colab_type": "text"
      },
      "source": [
        "<a href=\"https://colab.research.google.com/github/kiranahire03/NETFLIX-MOVIES-AND-TV-SHOWS-CLUSTERING/blob/main/NETFLIX_MOVIES_AND_TV_SHOWS_CLUSTERING.ipynb\" target=\"_parent\"><img src=\"https://colab.research.google.com/assets/colab-badge.svg\" alt=\"Open In Colab\"/></a>"
      ]
    },
    {
      "cell_type": "markdown",
      "source": [
        "# **Capstone Project 4**"
      ],
      "metadata": {
        "id": "daTsqzUs0C92"
      }
    },
    {
      "cell_type": "markdown",
      "source": [
        "# **Problem Statement**"
      ],
      "metadata": {
        "id": "I-yV4bg70IgA"
      }
    },
    {
      "cell_type": "markdown",
      "source": [
        "This dataset consists of tv shows and movies available on Netflix as of 2019. The dataset is collected from Flixable which is a third-party Netflix search engine.\n",
        "\n",
        "In 2018, they released an interesting report which shows that the number of TV shows on Netflix has nearly tripled since 2010. The streaming service’s number of movies has decreased by more than 2,000 titles since 2010, while its number of TV shows has nearly tripled. It will be interesting to explore what all other insights can be obtained from the same dataset.\n",
        "\n",
        "Integrating this dataset with other external datasets such as IMDB ratings, rotten tomatoes can also provide many interesting findings."
      ],
      "metadata": {
        "id": "B81pVtDe0Nbv"
      }
    },
    {
      "cell_type": "markdown",
      "source": [
        "## <b>In this  project, you are required to do </b>\n",
        "1. Exploratory Data Analysis \n",
        "\n",
        "2. Understanding what type content is available in different countries\n",
        "\n",
        "3. Is Netflix has increasingly focusing on TV rather than movies in recent years.\n",
        "4. Clustering similar content by matching text-based features\n"
      ],
      "metadata": {
        "id": "rawGvf3X0Z33"
      }
    },
    {
      "cell_type": "markdown",
      "source": [
        "# **Attribute Information**"
      ],
      "metadata": {
        "id": "y59JtOgZ0hc5"
      }
    },
    {
      "cell_type": "markdown",
      "source": [
        "1. show_id : Unique ID for every Movie / Tv Show\n",
        "\n",
        "2. type : Identifier - A Movie or TV Show\n",
        "\n",
        "3. title : Title of the Movie / Tv Show\n",
        "\n",
        "4. director : Director of the Movie\n",
        "\n",
        "5. cast : Actors involved in the movie / show\n",
        "\n",
        "6. country : Country where the movie / show was produced\n",
        "\n",
        "7. date_added : Date it was added on Netflix\n",
        "\n",
        "8. release_year : Actual Releaseyear of the movie / show\n",
        "\n",
        "9. rating : TV Rating of the movie / show\n",
        "\n",
        "10. duration : Total Duration - in minutes or number of seasons\n",
        "\n",
        "11. listed_in : Genere\n",
        "\n",
        "12. description: The Summary description"
      ],
      "metadata": {
        "id": "YrpfizxS0i6y"
      }
    },
    {
      "cell_type": "markdown",
      "source": [
        "## **Loading Dataset and Importing Libraries**"
      ],
      "metadata": {
        "id": "ozzIi7ly0-o7"
      }
    },
    {
      "cell_type": "code",
      "source": [
        "# Importing the libraries\n",
        "import numpy as np\n",
        "import pandas as pd\n",
        "from numpy import math\n",
        "import seaborn as sns\n",
        "import matplotlib.pyplot as plt\n",
        "import matplotlib.ticker as mtick\n",
        "from matplotlib.pyplot import figure\n",
        "import plotly.graph_objects as go\n",
        "import plotly.offline as py\n",
        "import plotly.express as px\n",
        "from datetime import datetime\n",
        "import missingno as msno\n",
        "\n",
        "import warnings\n",
        "warnings.filterwarnings('ignore')"
      ],
      "metadata": {
        "id": "Vt5o8HSe1IXG"
      },
      "execution_count": 1,
      "outputs": []
    },
    {
      "cell_type": "code",
      "source": [
        "#Loading the dataset\n",
        "netflix_df = pd.read_csv('/content/drive/MyDrive/NETFLIX MOVIES AND TV SHOWS CLUSTERING - Kiran Ahire/NETFLIX MOVIES AND TV SHOWS CLUSTERING.csv')"
      ],
      "metadata": {
        "id": "SFvHBw2R2Eal"
      },
      "execution_count": 2,
      "outputs": []
    },
    {
      "cell_type": "markdown",
      "source": [
        "## **Descriptive Analysis**"
      ],
      "metadata": {
        "id": "878FUP_O22nO"
      }
    },
    {
      "cell_type": "code",
      "source": [
        "#first five rows\n",
        "netflix_df.head()"
      ],
      "metadata": {
        "colab": {
          "base_uri": "https://localhost:8080/",
          "height": 337
        },
        "id": "Ur0uQWSg2g5J",
        "outputId": "c917b374-2072-4c03-d70e-9df79ca64638"
      },
      "execution_count": 3,
      "outputs": [
        {
          "output_type": "execute_result",
          "data": {
            "text/plain": [
              "  show_id     type  title           director  \\\n",
              "0      s1  TV Show     3%                NaN   \n",
              "1      s2    Movie   7:19  Jorge Michel Grau   \n",
              "2      s3    Movie  23:59       Gilbert Chan   \n",
              "3      s4    Movie      9        Shane Acker   \n",
              "4      s5    Movie     21     Robert Luketic   \n",
              "\n",
              "                                                cast        country  \\\n",
              "0  João Miguel, Bianca Comparato, Michel Gomes, R...         Brazil   \n",
              "1  Demián Bichir, Héctor Bonilla, Oscar Serrano, ...         Mexico   \n",
              "2  Tedd Chan, Stella Chung, Henley Hii, Lawrence ...      Singapore   \n",
              "3  Elijah Wood, John C. Reilly, Jennifer Connelly...  United States   \n",
              "4  Jim Sturgess, Kevin Spacey, Kate Bosworth, Aar...  United States   \n",
              "\n",
              "          date_added  release_year rating   duration  \\\n",
              "0    August 14, 2020          2020  TV-MA  4 Seasons   \n",
              "1  December 23, 2016          2016  TV-MA     93 min   \n",
              "2  December 20, 2018          2011      R     78 min   \n",
              "3  November 16, 2017          2009  PG-13     80 min   \n",
              "4    January 1, 2020          2008  PG-13    123 min   \n",
              "\n",
              "                                           listed_in  \\\n",
              "0  International TV Shows, TV Dramas, TV Sci-Fi &...   \n",
              "1                       Dramas, International Movies   \n",
              "2                Horror Movies, International Movies   \n",
              "3  Action & Adventure, Independent Movies, Sci-Fi...   \n",
              "4                                             Dramas   \n",
              "\n",
              "                                         description  \n",
              "0  In a future where the elite inhabit an island ...  \n",
              "1  After a devastating earthquake hits Mexico Cit...  \n",
              "2  When an army recruit is found dead, his fellow...  \n",
              "3  In a postapocalyptic world, rag-doll robots hi...  \n",
              "4  A brilliant group of students become card-coun...  "
            ],
            "text/html": [
              "\n",
              "  <div id=\"df-39d74845-a7bd-4573-ad6c-1d9e45ab7325\">\n",
              "    <div class=\"colab-df-container\">\n",
              "      <div>\n",
              "<style scoped>\n",
              "    .dataframe tbody tr th:only-of-type {\n",
              "        vertical-align: middle;\n",
              "    }\n",
              "\n",
              "    .dataframe tbody tr th {\n",
              "        vertical-align: top;\n",
              "    }\n",
              "\n",
              "    .dataframe thead th {\n",
              "        text-align: right;\n",
              "    }\n",
              "</style>\n",
              "<table border=\"1\" class=\"dataframe\">\n",
              "  <thead>\n",
              "    <tr style=\"text-align: right;\">\n",
              "      <th></th>\n",
              "      <th>show_id</th>\n",
              "      <th>type</th>\n",
              "      <th>title</th>\n",
              "      <th>director</th>\n",
              "      <th>cast</th>\n",
              "      <th>country</th>\n",
              "      <th>date_added</th>\n",
              "      <th>release_year</th>\n",
              "      <th>rating</th>\n",
              "      <th>duration</th>\n",
              "      <th>listed_in</th>\n",
              "      <th>description</th>\n",
              "    </tr>\n",
              "  </thead>\n",
              "  <tbody>\n",
              "    <tr>\n",
              "      <th>0</th>\n",
              "      <td>s1</td>\n",
              "      <td>TV Show</td>\n",
              "      <td>3%</td>\n",
              "      <td>NaN</td>\n",
              "      <td>João Miguel, Bianca Comparato, Michel Gomes, R...</td>\n",
              "      <td>Brazil</td>\n",
              "      <td>August 14, 2020</td>\n",
              "      <td>2020</td>\n",
              "      <td>TV-MA</td>\n",
              "      <td>4 Seasons</td>\n",
              "      <td>International TV Shows, TV Dramas, TV Sci-Fi &amp;...</td>\n",
              "      <td>In a future where the elite inhabit an island ...</td>\n",
              "    </tr>\n",
              "    <tr>\n",
              "      <th>1</th>\n",
              "      <td>s2</td>\n",
              "      <td>Movie</td>\n",
              "      <td>7:19</td>\n",
              "      <td>Jorge Michel Grau</td>\n",
              "      <td>Demián Bichir, Héctor Bonilla, Oscar Serrano, ...</td>\n",
              "      <td>Mexico</td>\n",
              "      <td>December 23, 2016</td>\n",
              "      <td>2016</td>\n",
              "      <td>TV-MA</td>\n",
              "      <td>93 min</td>\n",
              "      <td>Dramas, International Movies</td>\n",
              "      <td>After a devastating earthquake hits Mexico Cit...</td>\n",
              "    </tr>\n",
              "    <tr>\n",
              "      <th>2</th>\n",
              "      <td>s3</td>\n",
              "      <td>Movie</td>\n",
              "      <td>23:59</td>\n",
              "      <td>Gilbert Chan</td>\n",
              "      <td>Tedd Chan, Stella Chung, Henley Hii, Lawrence ...</td>\n",
              "      <td>Singapore</td>\n",
              "      <td>December 20, 2018</td>\n",
              "      <td>2011</td>\n",
              "      <td>R</td>\n",
              "      <td>78 min</td>\n",
              "      <td>Horror Movies, International Movies</td>\n",
              "      <td>When an army recruit is found dead, his fellow...</td>\n",
              "    </tr>\n",
              "    <tr>\n",
              "      <th>3</th>\n",
              "      <td>s4</td>\n",
              "      <td>Movie</td>\n",
              "      <td>9</td>\n",
              "      <td>Shane Acker</td>\n",
              "      <td>Elijah Wood, John C. Reilly, Jennifer Connelly...</td>\n",
              "      <td>United States</td>\n",
              "      <td>November 16, 2017</td>\n",
              "      <td>2009</td>\n",
              "      <td>PG-13</td>\n",
              "      <td>80 min</td>\n",
              "      <td>Action &amp; Adventure, Independent Movies, Sci-Fi...</td>\n",
              "      <td>In a postapocalyptic world, rag-doll robots hi...</td>\n",
              "    </tr>\n",
              "    <tr>\n",
              "      <th>4</th>\n",
              "      <td>s5</td>\n",
              "      <td>Movie</td>\n",
              "      <td>21</td>\n",
              "      <td>Robert Luketic</td>\n",
              "      <td>Jim Sturgess, Kevin Spacey, Kate Bosworth, Aar...</td>\n",
              "      <td>United States</td>\n",
              "      <td>January 1, 2020</td>\n",
              "      <td>2008</td>\n",
              "      <td>PG-13</td>\n",
              "      <td>123 min</td>\n",
              "      <td>Dramas</td>\n",
              "      <td>A brilliant group of students become card-coun...</td>\n",
              "    </tr>\n",
              "  </tbody>\n",
              "</table>\n",
              "</div>\n",
              "      <button class=\"colab-df-convert\" onclick=\"convertToInteractive('df-39d74845-a7bd-4573-ad6c-1d9e45ab7325')\"\n",
              "              title=\"Convert this dataframe to an interactive table.\"\n",
              "              style=\"display:none;\">\n",
              "        \n",
              "  <svg xmlns=\"http://www.w3.org/2000/svg\" height=\"24px\"viewBox=\"0 0 24 24\"\n",
              "       width=\"24px\">\n",
              "    <path d=\"M0 0h24v24H0V0z\" fill=\"none\"/>\n",
              "    <path d=\"M18.56 5.44l.94 2.06.94-2.06 2.06-.94-2.06-.94-.94-2.06-.94 2.06-2.06.94zm-11 1L8.5 8.5l.94-2.06 2.06-.94-2.06-.94L8.5 2.5l-.94 2.06-2.06.94zm10 10l.94 2.06.94-2.06 2.06-.94-2.06-.94-.94-2.06-.94 2.06-2.06.94z\"/><path d=\"M17.41 7.96l-1.37-1.37c-.4-.4-.92-.59-1.43-.59-.52 0-1.04.2-1.43.59L10.3 9.45l-7.72 7.72c-.78.78-.78 2.05 0 2.83L4 21.41c.39.39.9.59 1.41.59.51 0 1.02-.2 1.41-.59l7.78-7.78 2.81-2.81c.8-.78.8-2.07 0-2.86zM5.41 20L4 18.59l7.72-7.72 1.47 1.35L5.41 20z\"/>\n",
              "  </svg>\n",
              "      </button>\n",
              "      \n",
              "  <style>\n",
              "    .colab-df-container {\n",
              "      display:flex;\n",
              "      flex-wrap:wrap;\n",
              "      gap: 12px;\n",
              "    }\n",
              "\n",
              "    .colab-df-convert {\n",
              "      background-color: #E8F0FE;\n",
              "      border: none;\n",
              "      border-radius: 50%;\n",
              "      cursor: pointer;\n",
              "      display: none;\n",
              "      fill: #1967D2;\n",
              "      height: 32px;\n",
              "      padding: 0 0 0 0;\n",
              "      width: 32px;\n",
              "    }\n",
              "\n",
              "    .colab-df-convert:hover {\n",
              "      background-color: #E2EBFA;\n",
              "      box-shadow: 0px 1px 2px rgba(60, 64, 67, 0.3), 0px 1px 3px 1px rgba(60, 64, 67, 0.15);\n",
              "      fill: #174EA6;\n",
              "    }\n",
              "\n",
              "    [theme=dark] .colab-df-convert {\n",
              "      background-color: #3B4455;\n",
              "      fill: #D2E3FC;\n",
              "    }\n",
              "\n",
              "    [theme=dark] .colab-df-convert:hover {\n",
              "      background-color: #434B5C;\n",
              "      box-shadow: 0px 1px 3px 1px rgba(0, 0, 0, 0.15);\n",
              "      filter: drop-shadow(0px 1px 2px rgba(0, 0, 0, 0.3));\n",
              "      fill: #FFFFFF;\n",
              "    }\n",
              "  </style>\n",
              "\n",
              "      <script>\n",
              "        const buttonEl =\n",
              "          document.querySelector('#df-39d74845-a7bd-4573-ad6c-1d9e45ab7325 button.colab-df-convert');\n",
              "        buttonEl.style.display =\n",
              "          google.colab.kernel.accessAllowed ? 'block' : 'none';\n",
              "\n",
              "        async function convertToInteractive(key) {\n",
              "          const element = document.querySelector('#df-39d74845-a7bd-4573-ad6c-1d9e45ab7325');\n",
              "          const dataTable =\n",
              "            await google.colab.kernel.invokeFunction('convertToInteractive',\n",
              "                                                     [key], {});\n",
              "          if (!dataTable) return;\n",
              "\n",
              "          const docLinkHtml = 'Like what you see? Visit the ' +\n",
              "            '<a target=\"_blank\" href=https://colab.research.google.com/notebooks/data_table.ipynb>data table notebook</a>'\n",
              "            + ' to learn more about interactive tables.';\n",
              "          element.innerHTML = '';\n",
              "          dataTable['output_type'] = 'display_data';\n",
              "          await google.colab.output.renderOutput(dataTable, element);\n",
              "          const docLink = document.createElement('div');\n",
              "          docLink.innerHTML = docLinkHtml;\n",
              "          element.appendChild(docLink);\n",
              "        }\n",
              "      </script>\n",
              "    </div>\n",
              "  </div>\n",
              "  "
            ]
          },
          "metadata": {},
          "execution_count": 3
        }
      ]
    },
    {
      "cell_type": "code",
      "source": [
        "#last 5 rows\n",
        "netflix_df.tail()"
      ],
      "metadata": {
        "colab": {
          "base_uri": "https://localhost:8080/",
          "height": 424
        },
        "id": "mglVPlnD2wmK",
        "outputId": "952bea93-34e3-4736-986c-27b26bcf65f0"
      },
      "execution_count": 4,
      "outputs": [
        {
          "output_type": "execute_result",
          "data": {
            "text/plain": [
              "     show_id     type                                    title     director  \\\n",
              "7782   s7783    Movie                                     Zozo  Josef Fares   \n",
              "7783   s7784    Movie                                   Zubaan  Mozez Singh   \n",
              "7784   s7785    Movie                        Zulu Man in Japan          NaN   \n",
              "7785   s7786  TV Show                    Zumbo's Just Desserts          NaN   \n",
              "7786   s7787    Movie  ZZ TOP: THAT LITTLE OL' BAND FROM TEXAS     Sam Dunn   \n",
              "\n",
              "                                                   cast  \\\n",
              "7782  Imad Creidi, Antoinette Turk, Elias Gergi, Car...   \n",
              "7783  Vicky Kaushal, Sarah-Jane Dias, Raaghav Chanan...   \n",
              "7784                                            Nasty C   \n",
              "7785                         Adriano Zumbo, Rachel Khoo   \n",
              "7786                                                NaN   \n",
              "\n",
              "                                                country          date_added  \\\n",
              "7782  Sweden, Czech Republic, United Kingdom, Denmar...    October 19, 2020   \n",
              "7783                                              India       March 2, 2019   \n",
              "7784                                                NaN  September 25, 2020   \n",
              "7785                                          Australia    October 31, 2020   \n",
              "7786              United Kingdom, Canada, United States       March 1, 2020   \n",
              "\n",
              "      release_year rating  duration  \\\n",
              "7782          2005  TV-MA    99 min   \n",
              "7783          2015  TV-14   111 min   \n",
              "7784          2019  TV-MA    44 min   \n",
              "7785          2019  TV-PG  1 Season   \n",
              "7786          2019  TV-MA    90 min   \n",
              "\n",
              "                                              listed_in  \\\n",
              "7782                       Dramas, International Movies   \n",
              "7783     Dramas, International Movies, Music & Musicals   \n",
              "7784  Documentaries, International Movies, Music & M...   \n",
              "7785                 International TV Shows, Reality TV   \n",
              "7786                    Documentaries, Music & Musicals   \n",
              "\n",
              "                                            description  \n",
              "7782  When Lebanon's Civil War deprives Zozo of his ...  \n",
              "7783  A scrappy but poor boy worms his way into a ty...  \n",
              "7784  In this documentary, South African rapper Nast...  \n",
              "7785  Dessert wizard Adriano Zumbo looks for the nex...  \n",
              "7786  This documentary delves into the mystique behi...  "
            ],
            "text/html": [
              "\n",
              "  <div id=\"df-61677f8d-e46a-413c-b56f-6e971d83aa92\">\n",
              "    <div class=\"colab-df-container\">\n",
              "      <div>\n",
              "<style scoped>\n",
              "    .dataframe tbody tr th:only-of-type {\n",
              "        vertical-align: middle;\n",
              "    }\n",
              "\n",
              "    .dataframe tbody tr th {\n",
              "        vertical-align: top;\n",
              "    }\n",
              "\n",
              "    .dataframe thead th {\n",
              "        text-align: right;\n",
              "    }\n",
              "</style>\n",
              "<table border=\"1\" class=\"dataframe\">\n",
              "  <thead>\n",
              "    <tr style=\"text-align: right;\">\n",
              "      <th></th>\n",
              "      <th>show_id</th>\n",
              "      <th>type</th>\n",
              "      <th>title</th>\n",
              "      <th>director</th>\n",
              "      <th>cast</th>\n",
              "      <th>country</th>\n",
              "      <th>date_added</th>\n",
              "      <th>release_year</th>\n",
              "      <th>rating</th>\n",
              "      <th>duration</th>\n",
              "      <th>listed_in</th>\n",
              "      <th>description</th>\n",
              "    </tr>\n",
              "  </thead>\n",
              "  <tbody>\n",
              "    <tr>\n",
              "      <th>7782</th>\n",
              "      <td>s7783</td>\n",
              "      <td>Movie</td>\n",
              "      <td>Zozo</td>\n",
              "      <td>Josef Fares</td>\n",
              "      <td>Imad Creidi, Antoinette Turk, Elias Gergi, Car...</td>\n",
              "      <td>Sweden, Czech Republic, United Kingdom, Denmar...</td>\n",
              "      <td>October 19, 2020</td>\n",
              "      <td>2005</td>\n",
              "      <td>TV-MA</td>\n",
              "      <td>99 min</td>\n",
              "      <td>Dramas, International Movies</td>\n",
              "      <td>When Lebanon's Civil War deprives Zozo of his ...</td>\n",
              "    </tr>\n",
              "    <tr>\n",
              "      <th>7783</th>\n",
              "      <td>s7784</td>\n",
              "      <td>Movie</td>\n",
              "      <td>Zubaan</td>\n",
              "      <td>Mozez Singh</td>\n",
              "      <td>Vicky Kaushal, Sarah-Jane Dias, Raaghav Chanan...</td>\n",
              "      <td>India</td>\n",
              "      <td>March 2, 2019</td>\n",
              "      <td>2015</td>\n",
              "      <td>TV-14</td>\n",
              "      <td>111 min</td>\n",
              "      <td>Dramas, International Movies, Music &amp; Musicals</td>\n",
              "      <td>A scrappy but poor boy worms his way into a ty...</td>\n",
              "    </tr>\n",
              "    <tr>\n",
              "      <th>7784</th>\n",
              "      <td>s7785</td>\n",
              "      <td>Movie</td>\n",
              "      <td>Zulu Man in Japan</td>\n",
              "      <td>NaN</td>\n",
              "      <td>Nasty C</td>\n",
              "      <td>NaN</td>\n",
              "      <td>September 25, 2020</td>\n",
              "      <td>2019</td>\n",
              "      <td>TV-MA</td>\n",
              "      <td>44 min</td>\n",
              "      <td>Documentaries, International Movies, Music &amp; M...</td>\n",
              "      <td>In this documentary, South African rapper Nast...</td>\n",
              "    </tr>\n",
              "    <tr>\n",
              "      <th>7785</th>\n",
              "      <td>s7786</td>\n",
              "      <td>TV Show</td>\n",
              "      <td>Zumbo's Just Desserts</td>\n",
              "      <td>NaN</td>\n",
              "      <td>Adriano Zumbo, Rachel Khoo</td>\n",
              "      <td>Australia</td>\n",
              "      <td>October 31, 2020</td>\n",
              "      <td>2019</td>\n",
              "      <td>TV-PG</td>\n",
              "      <td>1 Season</td>\n",
              "      <td>International TV Shows, Reality TV</td>\n",
              "      <td>Dessert wizard Adriano Zumbo looks for the nex...</td>\n",
              "    </tr>\n",
              "    <tr>\n",
              "      <th>7786</th>\n",
              "      <td>s7787</td>\n",
              "      <td>Movie</td>\n",
              "      <td>ZZ TOP: THAT LITTLE OL' BAND FROM TEXAS</td>\n",
              "      <td>Sam Dunn</td>\n",
              "      <td>NaN</td>\n",
              "      <td>United Kingdom, Canada, United States</td>\n",
              "      <td>March 1, 2020</td>\n",
              "      <td>2019</td>\n",
              "      <td>TV-MA</td>\n",
              "      <td>90 min</td>\n",
              "      <td>Documentaries, Music &amp; Musicals</td>\n",
              "      <td>This documentary delves into the mystique behi...</td>\n",
              "    </tr>\n",
              "  </tbody>\n",
              "</table>\n",
              "</div>\n",
              "      <button class=\"colab-df-convert\" onclick=\"convertToInteractive('df-61677f8d-e46a-413c-b56f-6e971d83aa92')\"\n",
              "              title=\"Convert this dataframe to an interactive table.\"\n",
              "              style=\"display:none;\">\n",
              "        \n",
              "  <svg xmlns=\"http://www.w3.org/2000/svg\" height=\"24px\"viewBox=\"0 0 24 24\"\n",
              "       width=\"24px\">\n",
              "    <path d=\"M0 0h24v24H0V0z\" fill=\"none\"/>\n",
              "    <path d=\"M18.56 5.44l.94 2.06.94-2.06 2.06-.94-2.06-.94-.94-2.06-.94 2.06-2.06.94zm-11 1L8.5 8.5l.94-2.06 2.06-.94-2.06-.94L8.5 2.5l-.94 2.06-2.06.94zm10 10l.94 2.06.94-2.06 2.06-.94-2.06-.94-.94-2.06-.94 2.06-2.06.94z\"/><path d=\"M17.41 7.96l-1.37-1.37c-.4-.4-.92-.59-1.43-.59-.52 0-1.04.2-1.43.59L10.3 9.45l-7.72 7.72c-.78.78-.78 2.05 0 2.83L4 21.41c.39.39.9.59 1.41.59.51 0 1.02-.2 1.41-.59l7.78-7.78 2.81-2.81c.8-.78.8-2.07 0-2.86zM5.41 20L4 18.59l7.72-7.72 1.47 1.35L5.41 20z\"/>\n",
              "  </svg>\n",
              "      </button>\n",
              "      \n",
              "  <style>\n",
              "    .colab-df-container {\n",
              "      display:flex;\n",
              "      flex-wrap:wrap;\n",
              "      gap: 12px;\n",
              "    }\n",
              "\n",
              "    .colab-df-convert {\n",
              "      background-color: #E8F0FE;\n",
              "      border: none;\n",
              "      border-radius: 50%;\n",
              "      cursor: pointer;\n",
              "      display: none;\n",
              "      fill: #1967D2;\n",
              "      height: 32px;\n",
              "      padding: 0 0 0 0;\n",
              "      width: 32px;\n",
              "    }\n",
              "\n",
              "    .colab-df-convert:hover {\n",
              "      background-color: #E2EBFA;\n",
              "      box-shadow: 0px 1px 2px rgba(60, 64, 67, 0.3), 0px 1px 3px 1px rgba(60, 64, 67, 0.15);\n",
              "      fill: #174EA6;\n",
              "    }\n",
              "\n",
              "    [theme=dark] .colab-df-convert {\n",
              "      background-color: #3B4455;\n",
              "      fill: #D2E3FC;\n",
              "    }\n",
              "\n",
              "    [theme=dark] .colab-df-convert:hover {\n",
              "      background-color: #434B5C;\n",
              "      box-shadow: 0px 1px 3px 1px rgba(0, 0, 0, 0.15);\n",
              "      filter: drop-shadow(0px 1px 2px rgba(0, 0, 0, 0.3));\n",
              "      fill: #FFFFFF;\n",
              "    }\n",
              "  </style>\n",
              "\n",
              "      <script>\n",
              "        const buttonEl =\n",
              "          document.querySelector('#df-61677f8d-e46a-413c-b56f-6e971d83aa92 button.colab-df-convert');\n",
              "        buttonEl.style.display =\n",
              "          google.colab.kernel.accessAllowed ? 'block' : 'none';\n",
              "\n",
              "        async function convertToInteractive(key) {\n",
              "          const element = document.querySelector('#df-61677f8d-e46a-413c-b56f-6e971d83aa92');\n",
              "          const dataTable =\n",
              "            await google.colab.kernel.invokeFunction('convertToInteractive',\n",
              "                                                     [key], {});\n",
              "          if (!dataTable) return;\n",
              "\n",
              "          const docLinkHtml = 'Like what you see? Visit the ' +\n",
              "            '<a target=\"_blank\" href=https://colab.research.google.com/notebooks/data_table.ipynb>data table notebook</a>'\n",
              "            + ' to learn more about interactive tables.';\n",
              "          element.innerHTML = '';\n",
              "          dataTable['output_type'] = 'display_data';\n",
              "          await google.colab.output.renderOutput(dataTable, element);\n",
              "          const docLink = document.createElement('div');\n",
              "          docLink.innerHTML = docLinkHtml;\n",
              "          element.appendChild(docLink);\n",
              "        }\n",
              "      </script>\n",
              "    </div>\n",
              "  </div>\n",
              "  "
            ]
          },
          "metadata": {},
          "execution_count": 4
        }
      ]
    },
    {
      "cell_type": "code",
      "source": [
        "#Getting number of rows and column of the dataset\n",
        "netflix_df.shape"
      ],
      "metadata": {
        "colab": {
          "base_uri": "https://localhost:8080/"
        },
        "id": "dMotyPWQALLj",
        "outputId": "0caef8db-6553-4588-ef52-3f20db750dee"
      },
      "execution_count": 5,
      "outputs": [
        {
          "output_type": "execute_result",
          "data": {
            "text/plain": [
              "(7787, 12)"
            ]
          },
          "metadata": {},
          "execution_count": 5
        }
      ]
    },
    {
      "cell_type": "markdown",
      "source": [
        "\n",
        "*   **Dataset has 7787 rows and 12 Columns.**\n",
        "\n",
        "\n"
      ],
      "metadata": {
        "id": "hJeQM_BCAlSZ"
      }
    },
    {
      "cell_type": "code",
      "source": [
        "# Getting Columns name\n",
        "netflix_df.columns"
      ],
      "metadata": {
        "colab": {
          "base_uri": "https://localhost:8080/"
        },
        "id": "zQF_r0mH3OXo",
        "outputId": "86afd0af-83e9-45b7-c4f3-5eeb39bef72e"
      },
      "execution_count": 6,
      "outputs": [
        {
          "output_type": "execute_result",
          "data": {
            "text/plain": [
              "Index(['show_id', 'type', 'title', 'director', 'cast', 'country', 'date_added',\n",
              "       'release_year', 'rating', 'duration', 'listed_in', 'description'],\n",
              "      dtype='object')"
            ]
          },
          "metadata": {},
          "execution_count": 6
        }
      ]
    },
    {
      "cell_type": "code",
      "source": [
        "# Information about the dataset\n",
        "netflix_df.info()"
      ],
      "metadata": {
        "colab": {
          "base_uri": "https://localhost:8080/"
        },
        "id": "7n1140q03X80",
        "outputId": "158d20cc-7c02-472a-c844-b9fd211eede8"
      },
      "execution_count": 7,
      "outputs": [
        {
          "output_type": "stream",
          "name": "stdout",
          "text": [
            "<class 'pandas.core.frame.DataFrame'>\n",
            "RangeIndex: 7787 entries, 0 to 7786\n",
            "Data columns (total 12 columns):\n",
            " #   Column        Non-Null Count  Dtype \n",
            "---  ------        --------------  ----- \n",
            " 0   show_id       7787 non-null   object\n",
            " 1   type          7787 non-null   object\n",
            " 2   title         7787 non-null   object\n",
            " 3   director      5398 non-null   object\n",
            " 4   cast          7069 non-null   object\n",
            " 5   country       7280 non-null   object\n",
            " 6   date_added    7777 non-null   object\n",
            " 7   release_year  7787 non-null   int64 \n",
            " 8   rating        7780 non-null   object\n",
            " 9   duration      7787 non-null   object\n",
            " 10  listed_in     7787 non-null   object\n",
            " 11  description   7787 non-null   object\n",
            "dtypes: int64(1), object(11)\n",
            "memory usage: 730.2+ KB\n"
          ]
        }
      ]
    },
    {
      "cell_type": "code",
      "source": [
        "#finding unique values\n",
        "netflix_df.nunique()"
      ],
      "metadata": {
        "colab": {
          "base_uri": "https://localhost:8080/"
        },
        "id": "blXH-SpN5XKO",
        "outputId": "099c8b09-eb67-44dd-8130-523985e20d86"
      },
      "execution_count": 8,
      "outputs": [
        {
          "output_type": "execute_result",
          "data": {
            "text/plain": [
              "show_id         7787\n",
              "type               2\n",
              "title           7787\n",
              "director        4049\n",
              "cast            6831\n",
              "country          681\n",
              "date_added      1565\n",
              "release_year      73\n",
              "rating            14\n",
              "duration         216\n",
              "listed_in        492\n",
              "description     7769\n",
              "dtype: int64"
            ]
          },
          "metadata": {},
          "execution_count": 8
        }
      ]
    },
    {
      "cell_type": "markdown",
      "source": [
        "## **Data Preprocessing**"
      ],
      "metadata": {
        "id": "yQipKw5n4gfL"
      }
    },
    {
      "cell_type": "markdown",
      "source": [
        "### **Duplicate values**"
      ],
      "metadata": {
        "id": "nB0qz6hABIZB"
      }
    },
    {
      "cell_type": "code",
      "source": [
        "# Checking Duplicate Values\n",
        "duplicate = len(netflix_df[netflix_df.duplicated()])\n",
        "print(\"Duplicate values in the data set is = \",duplicate)"
      ],
      "metadata": {
        "colab": {
          "base_uri": "https://localhost:8080/"
        },
        "id": "U46hVa1OBP9d",
        "outputId": "6fe3689b-4ad6-43d5-9da6-f3af6caf8e75"
      },
      "execution_count": 9,
      "outputs": [
        {
          "output_type": "stream",
          "name": "stdout",
          "text": [
            "Duplicate values in the data set is =  0\n"
          ]
        }
      ]
    },
    {
      "cell_type": "markdown",
      "source": [
        "*  **From the above we can see as there are no Duplicate values as well.**"
      ],
      "metadata": {
        "id": "y48FJprNBq45"
      }
    },
    {
      "cell_type": "markdown",
      "source": [
        "### **Missing values**"
      ],
      "metadata": {
        "id": "CdPNgltDCv11"
      }
    },
    {
      "cell_type": "code",
      "source": [
        "#Checking for the missing values\n",
        "netflix_df.isnull().sum()"
      ],
      "metadata": {
        "colab": {
          "base_uri": "https://localhost:8080/"
        },
        "id": "8Qcl8qyQC1vd",
        "outputId": "69efa001-20d6-4b2c-961c-81f62d3f6ef7"
      },
      "execution_count": 10,
      "outputs": [
        {
          "output_type": "execute_result",
          "data": {
            "text/plain": [
              "show_id            0\n",
              "type               0\n",
              "title              0\n",
              "director        2389\n",
              "cast             718\n",
              "country          507\n",
              "date_added        10\n",
              "release_year       0\n",
              "rating             7\n",
              "duration           0\n",
              "listed_in          0\n",
              "description        0\n",
              "dtype: int64"
            ]
          },
          "metadata": {},
          "execution_count": 10
        }
      ]
    },
    {
      "cell_type": "code",
      "source": [
        "#Checking for any missing values \n",
        "msno.matrix(netflix_df,figsize = (14,6),labels = None)"
      ],
      "metadata": {
        "colab": {
          "base_uri": "https://localhost:8080/",
          "height": 477
        },
        "id": "TnXfrPzgC6Cu",
        "outputId": "33bb4184-0160-43ec-eae1-7b1e5e8adc92"
      },
      "execution_count": 11,
      "outputs": [
        {
          "output_type": "execute_result",
          "data": {
            "text/plain": [
              "<matplotlib.axes._subplots.AxesSubplot at 0x7f7d30c464d0>"
            ]
          },
          "metadata": {},
          "execution_count": 11
        },
        {
          "output_type": "display_data",
          "data": {
            "text/plain": [
              "<Figure size 1008x432 with 2 Axes>"
            ],
            "image/png": "[encoded data removed]"
          },
          "metadata": {
            "needs_background": "light"
          }
        }
      ]
    },
    {
      "cell_type": "markdown",
      "source": [
        "*   **From the above plot we can say that there are missing values in 'Director', 'Country' ,'Cast' columns in our dataset.**"
      ],
      "metadata": {
        "id": "ZRA71RmrDBcm"
      }
    },
    {
      "cell_type": "markdown",
      "source": [
        "### **NULL VALUE TREATMENT**"
      ],
      "metadata": {
        "id": "hCLXLKVBDNsE"
      }
    },
    {
      "cell_type": "markdown",
      "source": [
        "1. **RATING & COUNTRY** - As rating column has 0.08% null values , so replacing nulls with mose frequent TV-MA rating and doing same thing with country column\n",
        "\n",
        "2. **CAST** - cast column has too many different values and more than 9% are missing, so there is no need to keep it but we are keeping it to perform EDA\n",
        "\n",
        "3. **DATE** - there are few missing values for date column. so, lets drop missing value rows.\n",
        "\n",
        "4. **DIRECTOR** - Director column has more then 30% null values so dropping that column"
      ],
      "metadata": {
        "id": "uhCVT2BsDYOS"
      }
    },
    {
      "cell_type": "code",
      "source": [
        "netflix_df['rating'].replace(np.nan, 'TV-MA',inplace  = True)\n",
        "netflix_df['country'].replace(np.nan, 'United States',inplace  = True)\n",
        "netflix_df['cast'].replace(np.nan, 'missing info',inplace  = True)\n",
        "\n",
        "netflix_df= netflix_df.drop(columns='director',axis=1)"
      ],
      "metadata": {
        "id": "K2-Wu0HyDqkY"
      },
      "execution_count": 12,
      "outputs": []
    },
    {
      "cell_type": "code",
      "source": [
        "netflix_df.head()"
      ],
      "metadata": {
        "colab": {
          "base_uri": "https://localhost:8080/",
          "height": 337
        },
        "id": "rLsjWricD0gf",
        "outputId": "a9068be1-6351-4bab-ca55-91f9aca04704"
      },
      "execution_count": 13,
      "outputs": [
        {
          "output_type": "execute_result",
          "data": {
            "text/plain": [
              "  show_id     type  title                                               cast  \\\n",
              "0      s1  TV Show     3%  João Miguel, Bianca Comparato, Michel Gomes, R...   \n",
              "1      s2    Movie   7:19  Demián Bichir, Héctor Bonilla, Oscar Serrano, ...   \n",
              "2      s3    Movie  23:59  Tedd Chan, Stella Chung, Henley Hii, Lawrence ...   \n",
              "3      s4    Movie      9  Elijah Wood, John C. Reilly, Jennifer Connelly...   \n",
              "4      s5    Movie     21  Jim Sturgess, Kevin Spacey, Kate Bosworth, Aar...   \n",
              "\n",
              "         country         date_added  release_year rating   duration  \\\n",
              "0         Brazil    August 14, 2020          2020  TV-MA  4 Seasons   \n",
              "1         Mexico  December 23, 2016          2016  TV-MA     93 min   \n",
              "2      Singapore  December 20, 2018          2011      R     78 min   \n",
              "3  United States  November 16, 2017          2009  PG-13     80 min   \n",
              "4  United States    January 1, 2020          2008  PG-13    123 min   \n",
              "\n",
              "                                           listed_in  \\\n",
              "0  International TV Shows, TV Dramas, TV Sci-Fi &...   \n",
              "1                       Dramas, International Movies   \n",
              "2                Horror Movies, International Movies   \n",
              "3  Action & Adventure, Independent Movies, Sci-Fi...   \n",
              "4                                             Dramas   \n",
              "\n",
              "                                         description  \n",
              "0  In a future where the elite inhabit an island ...  \n",
              "1  After a devastating earthquake hits Mexico Cit...  \n",
              "2  When an army recruit is found dead, his fellow...  \n",
              "3  In a postapocalyptic world, rag-doll robots hi...  \n",
              "4  A brilliant group of students become card-coun...  "
            ],
            "text/html": [
              "\n",
              "  <div id=\"df-71bbe065-c6fa-4cc7-8867-ecc69bdf6cb1\">\n",
              "    <div class=\"colab-df-container\">\n",
              "      <div>\n",
              "<style scoped>\n",
              "    .dataframe tbody tr th:only-of-type {\n",
              "        vertical-align: middle;\n",
              "    }\n",
              "\n",
              "    .dataframe tbody tr th {\n",
              "        vertical-align: top;\n",
              "    }\n",
              "\n",
              "    .dataframe thead th {\n",
              "        text-align: right;\n",
              "    }\n",
              "</style>\n",
              "<table border=\"1\" class=\"dataframe\">\n",
              "  <thead>\n",
              "    <tr style=\"text-align: right;\">\n",
              "      <th></th>\n",
              "      <th>show_id</th>\n",
              "      <th>type</th>\n",
              "      <th>title</th>\n",
              "      <th>cast</th>\n",
              "      <th>country</th>\n",
              "      <th>date_added</th>\n",
              "      <th>release_year</th>\n",
              "      <th>rating</th>\n",
              "      <th>duration</th>\n",
              "      <th>listed_in</th>\n",
              "      <th>description</th>\n",
              "    </tr>\n",
              "  </thead>\n",
              "  <tbody>\n",
              "    <tr>\n",
              "      <th>0</th>\n",
              "      <td>s1</td>\n",
              "      <td>TV Show</td>\n",
              "      <td>3%</td>\n",
              "      <td>João Miguel, Bianca Comparato, Michel Gomes, R...</td>\n",
              "      <td>Brazil</td>\n",
              "      <td>August 14, 2020</td>\n",
              "      <td>2020</td>\n",
              "      <td>TV-MA</td>\n",
              "      <td>4 Seasons</td>\n",
              "      <td>International TV Shows, TV Dramas, TV Sci-Fi &amp;...</td>\n",
              "      <td>In a future where the elite inhabit an island ...</td>\n",
              "    </tr>\n",
              "    <tr>\n",
              "      <th>1</th>\n",
              "      <td>s2</td>\n",
              "      <td>Movie</td>\n",
              "      <td>7:19</td>\n",
              "      <td>Demián Bichir, Héctor Bonilla, Oscar Serrano, ...</td>\n",
              "      <td>Mexico</td>\n",
              "      <td>December 23, 2016</td>\n",
              "      <td>2016</td>\n",
              "      <td>TV-MA</td>\n",
              "      <td>93 min</td>\n",
              "      <td>Dramas, International Movies</td>\n",
              "      <td>After a devastating earthquake hits Mexico Cit...</td>\n",
              "    </tr>\n",
              "    <tr>\n",
              "      <th>2</th>\n",
              "      <td>s3</td>\n",
              "      <td>Movie</td>\n",
              "      <td>23:59</td>\n",
              "      <td>Tedd Chan, Stella Chung, Henley Hii, Lawrence ...</td>\n",
              "      <td>Singapore</td>\n",
              "      <td>December 20, 2018</td>\n",
              "      <td>2011</td>\n",
              "      <td>R</td>\n",
              "      <td>78 min</td>\n",
              "      <td>Horror Movies, International Movies</td>\n",
              "      <td>When an army recruit is found dead, his fellow...</td>\n",
              "    </tr>\n",
              "    <tr>\n",
              "      <th>3</th>\n",
              "      <td>s4</td>\n",
              "      <td>Movie</td>\n",
              "      <td>9</td>\n",
              "      <td>Elijah Wood, John C. Reilly, Jennifer Connelly...</td>\n",
              "      <td>United States</td>\n",
              "      <td>November 16, 2017</td>\n",
              "      <td>2009</td>\n",
              "      <td>PG-13</td>\n",
              "      <td>80 min</td>\n",
              "      <td>Action &amp; Adventure, Independent Movies, Sci-Fi...</td>\n",
              "      <td>In a postapocalyptic world, rag-doll robots hi...</td>\n",
              "    </tr>\n",
              "    <tr>\n",
              "      <th>4</th>\n",
              "      <td>s5</td>\n",
              "      <td>Movie</td>\n",
              "      <td>21</td>\n",
              "      <td>Jim Sturgess, Kevin Spacey, Kate Bosworth, Aar...</td>\n",
              "      <td>United States</td>\n",
              "      <td>January 1, 2020</td>\n",
              "      <td>2008</td>\n",
              "      <td>PG-13</td>\n",
              "      <td>123 min</td>\n",
              "      <td>Dramas</td>\n",
              "      <td>A brilliant group of students become card-coun...</td>\n",
              "    </tr>\n",
              "  </tbody>\n",
              "</table>\n",
              "</div>\n",
              "      <button class=\"colab-df-convert\" onclick=\"convertToInteractive('df-71bbe065-c6fa-4cc7-8867-ecc69bdf6cb1')\"\n",
              "              title=\"Convert this dataframe to an interactive table.\"\n",
              "              style=\"display:none;\">\n",
              "        \n",
              "  <svg xmlns=\"http://www.w3.org/2000/svg\" height=\"24px\"viewBox=\"0 0 24 24\"\n",
              "       width=\"24px\">\n",
              "    <path d=\"M0 0h24v24H0V0z\" fill=\"none\"/>\n",
              "    <path d=\"M18.56 5.44l.94 2.06.94-2.06 2.06-.94-2.06-.94-.94-2.06-.94 2.06-2.06.94zm-11 1L8.5 8.5l.94-2.06 2.06-.94-2.06-.94L8.5 2.5l-.94 2.06-2.06.94zm10 10l.94 2.06.94-2.06 2.06-.94-2.06-.94-.94-2.06-.94 2.06-2.06.94z\"/><path d=\"M17.41 7.96l-1.37-1.37c-.4-.4-.92-.59-1.43-.59-.52 0-1.04.2-1.43.59L10.3 9.45l-7.72 7.72c-.78.78-.78 2.05 0 2.83L4 21.41c.39.39.9.59 1.41.59.51 0 1.02-.2 1.41-.59l7.78-7.78 2.81-2.81c.8-.78.8-2.07 0-2.86zM5.41 20L4 18.59l7.72-7.72 1.47 1.35L5.41 20z\"/>\n",
              "  </svg>\n",
              "      </button>\n",
              "      \n",
              "  <style>\n",
              "    .colab-df-container {\n",
              "      display:flex;\n",
              "      flex-wrap:wrap;\n",
              "      gap: 12px;\n",
              "    }\n",
              "\n",
              "    .colab-df-convert {\n",
              "      background-color: #E8F0FE;\n",
              "      border: none;\n",
              "      border-radius: 50%;\n",
              "      cursor: pointer;\n",
              "      display: none;\n",
              "      fill: #1967D2;\n",
              "      height: 32px;\n",
              "      padding: 0 0 0 0;\n",
              "      width: 32px;\n",
              "    }\n",
              "\n",
              "    .colab-df-convert:hover {\n",
              "      background-color: #E2EBFA;\n",
              "      box-shadow: 0px 1px 2px rgba(60, 64, 67, 0.3), 0px 1px 3px 1px rgba(60, 64, 67, 0.15);\n",
              "      fill: #174EA6;\n",
              "    }\n",
              "\n",
              "    [theme=dark] .colab-df-convert {\n",
              "      background-color: #3B4455;\n",
              "      fill: #D2E3FC;\n",
              "    }\n",
              "\n",
              "    [theme=dark] .colab-df-convert:hover {\n",
              "      background-color: #434B5C;\n",
              "      box-shadow: 0px 1px 3px 1px rgba(0, 0, 0, 0.15);\n",
              "      filter: drop-shadow(0px 1px 2px rgba(0, 0, 0, 0.3));\n",
              "      fill: #FFFFFF;\n",
              "    }\n",
              "  </style>\n",
              "\n",
              "      <script>\n",
              "        const buttonEl =\n",
              "          document.querySelector('#df-71bbe065-c6fa-4cc7-8867-ecc69bdf6cb1 button.colab-df-convert');\n",
              "        buttonEl.style.display =\n",
              "          google.colab.kernel.accessAllowed ? 'block' : 'none';\n",
              "\n",
              "        async function convertToInteractive(key) {\n",
              "          const element = document.querySelector('#df-71bbe065-c6fa-4cc7-8867-ecc69bdf6cb1');\n",
              "          const dataTable =\n",
              "            await google.colab.kernel.invokeFunction('convertToInteractive',\n",
              "                                                     [key], {});\n",
              "          if (!dataTable) return;\n",
              "\n",
              "          const docLinkHtml = 'Like what you see? Visit the ' +\n",
              "            '<a target=\"_blank\" href=https://colab.research.google.com/notebooks/data_table.ipynb>data table notebook</a>'\n",
              "            + ' to learn more about interactive tables.';\n",
              "          element.innerHTML = '';\n",
              "          dataTable['output_type'] = 'display_data';\n",
              "          await google.colab.output.renderOutput(dataTable, element);\n",
              "          const docLink = document.createElement('div');\n",
              "          docLink.innerHTML = docLinkHtml;\n",
              "          element.appendChild(docLink);\n",
              "        }\n",
              "      </script>\n",
              "    </div>\n",
              "  </div>\n",
              "  "
            ]
          },
          "metadata": {},
          "execution_count": 13
        }
      ]
    },
    {
      "cell_type": "code",
      "source": [
        "netflix_df = netflix_df[netflix_df['date_added'].notna()]"
      ],
      "metadata": {
        "id": "3OUmL48tEQJK"
      },
      "execution_count": 14,
      "outputs": []
    },
    {
      "cell_type": "code",
      "source": [
        "netflix_df.isnull().sum()"
      ],
      "metadata": {
        "colab": {
          "base_uri": "https://localhost:8080/"
        },
        "id": "lhEeB2ZsEWzE",
        "outputId": "e0365550-0546-40bd-e112-b0605d252533"
      },
      "execution_count": 15,
      "outputs": [
        {
          "output_type": "execute_result",
          "data": {
            "text/plain": [
              "show_id         0\n",
              "type            0\n",
              "title           0\n",
              "cast            0\n",
              "country         0\n",
              "date_added      0\n",
              "release_year    0\n",
              "rating          0\n",
              "duration        0\n",
              "listed_in       0\n",
              "description     0\n",
              "dtype: int64"
            ]
          },
          "metadata": {},
          "execution_count": 15
        }
      ]
    },
    {
      "cell_type": "code",
      "source": [
        "# add new features\n",
        "netflix_df[\"date_added\"] = pd.to_datetime(netflix_df['date_added'])\n",
        "netflix_df['year_added'] = netflix_df['date_added'].dt.year\n",
        "netflix_df['month_added'] = netflix_df['date_added'].dt.month"
      ],
      "metadata": {
        "id": "uXQ-iKH5EpR5"
      },
      "execution_count": 16,
      "outputs": []
    },
    {
      "cell_type": "code",
      "source": [
        "netflix_df.head()"
      ],
      "metadata": {
        "colab": {
          "base_uri": "https://localhost:8080/",
          "height": 354
        },
        "id": "EDjX2D8NEyhM",
        "outputId": "807d1e48-76e6-475b-922b-c839cab736fa"
      },
      "execution_count": 17,
      "outputs": [
        {
          "output_type": "execute_result",
          "data": {
            "text/plain": [
              "  show_id     type  title                                               cast  \\\n",
              "0      s1  TV Show     3%  João Miguel, Bianca Comparato, Michel Gomes, R...   \n",
              "1      s2    Movie   7:19  Demián Bichir, Héctor Bonilla, Oscar Serrano, ...   \n",
              "2      s3    Movie  23:59  Tedd Chan, Stella Chung, Henley Hii, Lawrence ...   \n",
              "3      s4    Movie      9  Elijah Wood, John C. Reilly, Jennifer Connelly...   \n",
              "4      s5    Movie     21  Jim Sturgess, Kevin Spacey, Kate Bosworth, Aar...   \n",
              "\n",
              "         country date_added  release_year rating   duration  \\\n",
              "0         Brazil 2020-08-14          2020  TV-MA  4 Seasons   \n",
              "1         Mexico 2016-12-23          2016  TV-MA     93 min   \n",
              "2      Singapore 2018-12-20          2011      R     78 min   \n",
              "3  United States 2017-11-16          2009  PG-13     80 min   \n",
              "4  United States 2020-01-01          2008  PG-13    123 min   \n",
              "\n",
              "                                           listed_in  \\\n",
              "0  International TV Shows, TV Dramas, TV Sci-Fi &...   \n",
              "1                       Dramas, International Movies   \n",
              "2                Horror Movies, International Movies   \n",
              "3  Action & Adventure, Independent Movies, Sci-Fi...   \n",
              "4                                             Dramas   \n",
              "\n",
              "                                         description  year_added  month_added  \n",
              "0  In a future where the elite inhabit an island ...        2020            8  \n",
              "1  After a devastating earthquake hits Mexico Cit...        2016           12  \n",
              "2  When an army recruit is found dead, his fellow...        2018           12  \n",
              "3  In a postapocalyptic world, rag-doll robots hi...        2017           11  \n",
              "4  A brilliant group of students become card-coun...        2020            1  "
            ],
            "text/html": [
              "\n",
              "  <div id=\"df-2d1edb44-15d3-469a-b2fc-6873fe5dadf6\">\n",
              "    <div class=\"colab-df-container\">\n",
              "      <div>\n",
              "<style scoped>\n",
              "    .dataframe tbody tr th:only-of-type {\n",
              "        vertical-align: middle;\n",
              "    }\n",
              "\n",
              "    .dataframe tbody tr th {\n",
              "        vertical-align: top;\n",
              "    }\n",
              "\n",
              "    .dataframe thead th {\n",
              "        text-align: right;\n",
              "    }\n",
              "</style>\n",
              "<table border=\"1\" class=\"dataframe\">\n",
              "  <thead>\n",
              "    <tr style=\"text-align: right;\">\n",
              "      <th></th>\n",
              "      <th>show_id</th>\n",
              "      <th>type</th>\n",
              "      <th>title</th>\n",
              "      <th>cast</th>\n",
              "      <th>country</th>\n",
              "      <th>date_added</th>\n",
              "      <th>release_year</th>\n",
              "      <th>rating</th>\n",
              "      <th>duration</th>\n",
              "      <th>listed_in</th>\n",
              "      <th>description</th>\n",
              "      <th>year_added</th>\n",
              "      <th>month_added</th>\n",
              "    </tr>\n",
              "  </thead>\n",
              "  <tbody>\n",
              "    <tr>\n",
              "      <th>0</th>\n",
              "      <td>s1</td>\n",
              "      <td>TV Show</td>\n",
              "      <td>3%</td>\n",
              "      <td>João Miguel, Bianca Comparato, Michel Gomes, R...</td>\n",
              "      <td>Brazil</td>\n",
              "      <td>2020-08-14</td>\n",
              "      <td>2020</td>\n",
              "      <td>TV-MA</td>\n",
              "      <td>4 Seasons</td>\n",
              "      <td>International TV Shows, TV Dramas, TV Sci-Fi &amp;...</td>\n",
              "      <td>In a future where the elite inhabit an island ...</td>\n",
              "      <td>2020</td>\n",
              "      <td>8</td>\n",
              "    </tr>\n",
              "    <tr>\n",
              "      <th>1</th>\n",
              "      <td>s2</td>\n",
              "      <td>Movie</td>\n",
              "      <td>7:19</td>\n",
              "      <td>Demián Bichir, Héctor Bonilla, Oscar Serrano, ...</td>\n",
              "      <td>Mexico</td>\n",
              "      <td>2016-12-23</td>\n",
              "      <td>2016</td>\n",
              "      <td>TV-MA</td>\n",
              "      <td>93 min</td>\n",
              "      <td>Dramas, International Movies</td>\n",
              "      <td>After a devastating earthquake hits Mexico Cit...</td>\n",
              "      <td>2016</td>\n",
              "      <td>12</td>\n",
              "    </tr>\n",
              "    <tr>\n",
              "      <th>2</th>\n",
              "      <td>s3</td>\n",
              "      <td>Movie</td>\n",
              "      <td>23:59</td>\n",
              "      <td>Tedd Chan, Stella Chung, Henley Hii, Lawrence ...</td>\n",
              "      <td>Singapore</td>\n",
              "      <td>2018-12-20</td>\n",
              "      <td>2011</td>\n",
              "      <td>R</td>\n",
              "      <td>78 min</td>\n",
              "      <td>Horror Movies, International Movies</td>\n",
              "      <td>When an army recruit is found dead, his fellow...</td>\n",
              "      <td>2018</td>\n",
              "      <td>12</td>\n",
              "    </tr>\n",
              "    <tr>\n",
              "      <th>3</th>\n",
              "      <td>s4</td>\n",
              "      <td>Movie</td>\n",
              "      <td>9</td>\n",
              "      <td>Elijah Wood, John C. Reilly, Jennifer Connelly...</td>\n",
              "      <td>United States</td>\n",
              "      <td>2017-11-16</td>\n",
              "      <td>2009</td>\n",
              "      <td>PG-13</td>\n",
              "      <td>80 min</td>\n",
              "      <td>Action &amp; Adventure, Independent Movies, Sci-Fi...</td>\n",
              "      <td>In a postapocalyptic world, rag-doll robots hi...</td>\n",
              "      <td>2017</td>\n",
              "      <td>11</td>\n",
              "    </tr>\n",
              "    <tr>\n",
              "      <th>4</th>\n",
              "      <td>s5</td>\n",
              "      <td>Movie</td>\n",
              "      <td>21</td>\n",
              "      <td>Jim Sturgess, Kevin Spacey, Kate Bosworth, Aar...</td>\n",
              "      <td>United States</td>\n",
              "      <td>2020-01-01</td>\n",
              "      <td>2008</td>\n",
              "      <td>PG-13</td>\n",
              "      <td>123 min</td>\n",
              "      <td>Dramas</td>\n",
              "      <td>A brilliant group of students become card-coun...</td>\n",
              "      <td>2020</td>\n",
              "      <td>1</td>\n",
              "    </tr>\n",
              "  </tbody>\n",
              "</table>\n",
              "</div>\n",
              "      <button class=\"colab-df-convert\" onclick=\"convertToInteractive('df-2d1edb44-15d3-469a-b2fc-6873fe5dadf6')\"\n",
              "              title=\"Convert this dataframe to an interactive table.\"\n",
              "              style=\"display:none;\">\n",
              "        \n",
              "  <svg xmlns=\"http://www.w3.org/2000/svg\" height=\"24px\"viewBox=\"0 0 24 24\"\n",
              "       width=\"24px\">\n",
              "    <path d=\"M0 0h24v24H0V0z\" fill=\"none\"/>\n",
              "    <path d=\"M18.56 5.44l.94 2.06.94-2.06 2.06-.94-2.06-.94-.94-2.06-.94 2.06-2.06.94zm-11 1L8.5 8.5l.94-2.06 2.06-.94-2.06-.94L8.5 2.5l-.94 2.06-2.06.94zm10 10l.94 2.06.94-2.06 2.06-.94-2.06-.94-.94-2.06-.94 2.06-2.06.94z\"/><path d=\"M17.41 7.96l-1.37-1.37c-.4-.4-.92-.59-1.43-.59-.52 0-1.04.2-1.43.59L10.3 9.45l-7.72 7.72c-.78.78-.78 2.05 0 2.83L4 21.41c.39.39.9.59 1.41.59.51 0 1.02-.2 1.41-.59l7.78-7.78 2.81-2.81c.8-.78.8-2.07 0-2.86zM5.41 20L4 18.59l7.72-7.72 1.47 1.35L5.41 20z\"/>\n",
              "  </svg>\n",
              "      </button>\n",
              "      \n",
              "  <style>\n",
              "    .colab-df-container {\n",
              "      display:flex;\n",
              "      flex-wrap:wrap;\n",
              "      gap: 12px;\n",
              "    }\n",
              "\n",
              "    .colab-df-convert {\n",
              "      background-color: #E8F0FE;\n",
              "      border: none;\n",
              "      border-radius: 50%;\n",
              "      cursor: pointer;\n",
              "      display: none;\n",
              "      fill: #1967D2;\n",
              "      height: 32px;\n",
              "      padding: 0 0 0 0;\n",
              "      width: 32px;\n",
              "    }\n",
              "\n",
              "    .colab-df-convert:hover {\n",
              "      background-color: #E2EBFA;\n",
              "      box-shadow: 0px 1px 2px rgba(60, 64, 67, 0.3), 0px 1px 3px 1px rgba(60, 64, 67, 0.15);\n",
              "      fill: #174EA6;\n",
              "    }\n",
              "\n",
              "    [theme=dark] .colab-df-convert {\n",
              "      background-color: #3B4455;\n",
              "      fill: #D2E3FC;\n",
              "    }\n",
              "\n",
              "    [theme=dark] .colab-df-convert:hover {\n",
              "      background-color: #434B5C;\n",
              "      box-shadow: 0px 1px 3px 1px rgba(0, 0, 0, 0.15);\n",
              "      filter: drop-shadow(0px 1px 2px rgba(0, 0, 0, 0.3));\n",
              "      fill: #FFFFFF;\n",
              "    }\n",
              "  </style>\n",
              "\n",
              "      <script>\n",
              "        const buttonEl =\n",
              "          document.querySelector('#df-2d1edb44-15d3-469a-b2fc-6873fe5dadf6 button.colab-df-convert');\n",
              "        buttonEl.style.display =\n",
              "          google.colab.kernel.accessAllowed ? 'block' : 'none';\n",
              "\n",
              "        async function convertToInteractive(key) {\n",
              "          const element = document.querySelector('#df-2d1edb44-15d3-469a-b2fc-6873fe5dadf6');\n",
              "          const dataTable =\n",
              "            await google.colab.kernel.invokeFunction('convertToInteractive',\n",
              "                                                     [key], {});\n",
              "          if (!dataTable) return;\n",
              "\n",
              "          const docLinkHtml = 'Like what you see? Visit the ' +\n",
              "            '<a target=\"_blank\" href=https://colab.research.google.com/notebooks/data_table.ipynb>data table notebook</a>'\n",
              "            + ' to learn more about interactive tables.';\n",
              "          element.innerHTML = '';\n",
              "          dataTable['output_type'] = 'display_data';\n",
              "          await google.colab.output.renderOutput(dataTable, element);\n",
              "          const docLink = document.createElement('div');\n",
              "          docLink.innerHTML = docLinkHtml;\n",
              "          element.appendChild(docLink);\n",
              "        }\n",
              "      </script>\n",
              "    </div>\n",
              "  </div>\n",
              "  "
            ]
          },
          "metadata": {},
          "execution_count": 17
        }
      ]
    },
    {
      "cell_type": "markdown",
      "source": [
        "# **Exploratory Data Analysis**"
      ],
      "metadata": {
        "id": "dYmFZC2F3QDY"
      }
    },
    {
      "cell_type": "markdown",
      "source": [
        "## **1. Type**"
      ],
      "metadata": {
        "id": "8WoqoTSf5Yl7"
      }
    },
    {
      "cell_type": "code",
      "source": [
        "netflix_df['type'].value_counts()"
      ],
      "metadata": {
        "colab": {
          "base_uri": "https://localhost:8080/"
        },
        "id": "jrhPiCAA5pUY",
        "outputId": "37744a1f-3ea3-49d0-8bd7-c841785f2bb5"
      },
      "execution_count": 18,
      "outputs": [
        {
          "output_type": "execute_result",
          "data": {
            "text/plain": [
              "Movie      5377\n",
              "TV Show    2400\n",
              "Name: type, dtype: int64"
            ]
          },
          "metadata": {},
          "execution_count": 18
        }
      ]
    },
    {
      "cell_type": "markdown",
      "source": [
        "Netflix dataset consisting of both movies and shows. Let’s compare the total number of movies and shows in this dataset to know which one is the majority.\n"
      ],
      "metadata": {
        "id": "NmmV1TSP8Ud6"
      }
    },
    {
      "cell_type": "code",
      "source": [
        "# ploting for pie chart on type feature\n",
        "# import plotly.express as px\n",
        "x = netflix_df['type'].value_counts().reset_index()\n",
        "colors=['DodgerBlue','PaleTurquoise']\n",
        "fig = px.pie(x,title='Type of Netflix Content',values='type',names='index',color_discrete_sequence=px.colors.sequential.RdBu)\n",
        "fig.update_traces(textposition='inside', textinfo='percent+label', textfont_size=20,\n",
        "              marker=dict(colors=colors, line=dict(color='#000000', width=2)))"
      ],
      "metadata": {
        "colab": {
          "base_uri": "https://localhost:8080/",
          "height": 542
        },
        "id": "lZGO01Jf8gcT",
        "outputId": "8b8a11db-3934-45ac-fd48-5d16c8ba16be"
      },
      "execution_count": 19,
      "outputs": [
        {
          "output_type": "display_data",
          "data": {
            "text/html": [
              "<html>\n",
              "<head><meta charset=\"utf-8\" /></head>\n",
              "<body>\n",
              "    <div>            <script src=\"https://cdnjs.cloudflare.com/ajax/libs/mathjax/2.7.5/MathJax.js?config=TeX-AMS-MML_SVG\"></script><script type=\"text/javascript\">if (window.MathJax) {MathJax.Hub.Config({SVG: {font: \"STIX-Web\"}});}</script>                <script type=\"text/javascript\">window.PlotlyConfig = {MathJaxConfig: 'local'};</script>\n",
              "        <script src=\"https://cdn.plot.ly/plotly-2.8.3.min.js\"></script>                <div id=\"ce648058-79fc-44dc-a3f0-f519dab96fad\" class=\"plotly-graph-div\" style=\"height:525px; width:100%;\"></div>            <script type=\"text/javascript\">                                    window.PLOTLYENV=window.PLOTLYENV || {};                                    if (document.getElementById(\"ce648058-79fc-44dc-a3f0-f519dab96fad\")) {                    Plotly.newPlot(                        \"ce648058-79fc-44dc-a3f0-f519dab96fad\",                        [{\"domain\":{\"x\":[0.0,1.0],\"y\":[0.0,1.0]},\"hovertemplate\":\"index=%{label}<br>type=%{value}<extra></extra>\",\"labels\":[\"Movie\",\"TV Show\"],\"legendgroup\":\"\",\"name\":\"\",\"showlegend\":true,\"values\":[5377,2400],\"type\":\"pie\",\"textfont\":{\"size\":20},\"marker\":{\"line\":{\"color\":\"#000000\",\"width\":2},\"colors\":[\"DodgerBlue\",\"PaleTurquoise\"]},\"textinfo\":\"percent+label\",\"textposition\":\"inside\"}],                        {\"template\":{\"data\":{\"bar\":[{\"error_x\":{\"color\":\"#2a3f5f\"},\"error_y\":{\"color\":\"#2a3f5f\"},\"marker\":{\"line\":{\"color\":\"#E5ECF6\",\"width\":0.5},\"pattern\":{\"fillmode\":\"overlay\",\"size\":10,\"solidity\":0.2}},\"type\":\"bar\"}],\"barpolar\":[{\"marker\":{\"line\":{\"color\":\"#E5ECF6\",\"width\":0.5},\"pattern\":{\"fillmode\":\"overlay\",\"size\":10,\"solidity\":0.2}},\"type\":\"barpolar\"}],\"carpet\":[{\"aaxis\":{\"endlinecolor\":\"#2a3f5f\",\"gridcolor\":\"white\",\"linecolor\":\"white\",\"minorgridcolor\":\"white\",\"startlinecolor\":\"#2a3f5f\"},\"baxis\":{\"endlinecolor\":\"#2a3f5f\",\"gridcolor\":\"white\",\"linecolor\":\"white\",\"minorgridcolor\":\"white\",\"startlinecolor\":\"#2a3f5f\"},\"type\":\"carpet\"}],\"choropleth\":[{\"colorbar\":{\"outlinewidth\":0,\"ticks\":\"\"},\"type\":\"choropleth\"}],\"contour\":[{\"colorbar\":{\"outlinewidth\":0,\"ticks\":\"\"},\"colorscale\":[[0.0,\"#0d0887\"],[0.1111111111111111,\"#46039f\"],[0.2222222222222222,\"#7201a8\"],[0.3333333333333333,\"#9c179e\"],[0.4444444444444444,\"#bd3786\"],[0.5555555555555556,\"#d8576b\"],[0.6666666666666666,\"#ed7953\"],[0.7777777777777778,\"#fb9f3a\"],[0.8888888888888888,\"#fdca26\"],[1.0,\"#f0f921\"]],\"type\":\"contour\"}],\"contourcarpet\":[{\"colorbar\":{\"outlinewidth\":0,\"ticks\":\"\"},\"type\":\"contourcarpet\"}],\"heatmap\":[{\"colorbar\":{\"outlinewidth\":0,\"ticks\":\"\"},\"colorscale\":[[0.0,\"#0d0887\"],[0.1111111111111111,\"#46039f\"],[0.2222222222222222,\"#7201a8\"],[0.3333333333333333,\"#9c179e\"],[0.4444444444444444,\"#bd3786\"],[0.5555555555555556,\"#d8576b\"],[0.6666666666666666,\"#ed7953\"],[0.7777777777777778,\"#fb9f3a\"],[0.8888888888888888,\"#fdca26\"],[1.0,\"#f0f921\"]],\"type\":\"heatmap\"}],\"heatmapgl\":[{\"colorbar\":{\"outlinewidth\":0,\"ticks\":\"\"},\"colorscale\":[[0.0,\"#0d0887\"],[0.1111111111111111,\"#46039f\"],[0.2222222222222222,\"#7201a8\"],[0.3333333333333333,\"#9c179e\"],[0.4444444444444444,\"#bd3786\"],[0.5555555555555556,\"#d8576b\"],[0.6666666666666666,\"#ed7953\"],[0.7777777777777778,\"#fb9f3a\"],[0.8888888888888888,\"#fdca26\"],[1.0,\"#f0f921\"]],\"type\":\"heatmapgl\"}],\"histogram\":[{\"marker\":{\"pattern\":{\"fillmode\":\"overlay\",\"size\":10,\"solidity\":0.2}},\"type\":\"histogram\"}],\"histogram2d\":[{\"colorbar\":{\"outlinewidth\":0,\"ticks\":\"\"},\"colorscale\":[[0.0,\"#0d0887\"],[0.1111111111111111,\"#46039f\"],[0.2222222222222222,\"#7201a8\"],[0.3333333333333333,\"#9c179e\"],[0.4444444444444444,\"#bd3786\"],[0.5555555555555556,\"#d8576b\"],[0.6666666666666666,\"#ed7953\"],[0.7777777777777778,\"#fb9f3a\"],[0.8888888888888888,\"#fdca26\"],[1.0,\"#f0f921\"]],\"type\":\"histogram2d\"}],\"histogram2dcontour\":[{\"colorbar\":{\"outlinewidth\":0,\"ticks\":\"\"},\"colorscale\":[[0.0,\"#0d0887\"],[0.1111111111111111,\"#46039f\"],[0.2222222222222222,\"#7201a8\"],[0.3333333333333333,\"#9c179e\"],[0.4444444444444444,\"#bd3786\"],[0.5555555555555556,\"#d8576b\"],[0.6666666666666666,\"#ed7953\"],[0.7777777777777778,\"#fb9f3a\"],[0.8888888888888888,\"#fdca26\"],[1.0,\"#f0f921\"]],\"type\":\"histogram2dcontour\"}],\"mesh3d\":[{\"colorbar\":{\"outlinewidth\":0,\"ticks\":\"\"},\"type\":\"mesh3d\"}],\"parcoords\":[{\"line\":{\"colorbar\":{\"outlinewidth\":0,\"ticks\":\"\"}},\"type\":\"parcoords\"}],\"pie\":[{\"automargin\":true,\"type\":\"pie\"}],\"scatter\":[{\"marker\":{\"colorbar\":{\"outlinewidth\":0,\"ticks\":\"\"}},\"type\":\"scatter\"}],\"scatter3d\":[{\"line\":{\"colorbar\":{\"outlinewidth\":0,\"ticks\":\"\"}},\"marker\":{\"colorbar\":{\"outlinewidth\":0,\"ticks\":\"\"}},\"type\":\"scatter3d\"}],\"scattercarpet\":[{\"marker\":{\"colorbar\":{\"outlinewidth\":0,\"ticks\":\"\"}},\"type\":\"scattercarpet\"}],\"scattergeo\":[{\"marker\":{\"colorbar\":{\"outlinewidth\":0,\"ticks\":\"\"}},\"type\":\"scattergeo\"}],\"scattergl\":[{\"marker\":{\"colorbar\":{\"outlinewidth\":0,\"ticks\":\"\"}},\"type\":\"scattergl\"}],\"scattermapbox\":[{\"marker\":{\"colorbar\":{\"outlinewidth\":0,\"ticks\":\"\"}},\"type\":\"scattermapbox\"}],\"scatterpolar\":[{\"marker\":{\"colorbar\":{\"outlinewidth\":0,\"ticks\":\"\"}},\"type\":\"scatterpolar\"}],\"scatterpolargl\":[{\"marker\":{\"colorbar\":{\"outlinewidth\":0,\"ticks\":\"\"}},\"type\":\"scatterpolargl\"}],\"scatterternary\":[{\"marker\":{\"colorbar\":{\"outlinewidth\":0,\"ticks\":\"\"}},\"type\":\"scatterternary\"}],\"surface\":[{\"colorbar\":{\"outlinewidth\":0,\"ticks\":\"\"},\"colorscale\":[[0.0,\"#0d0887\"],[0.1111111111111111,\"#46039f\"],[0.2222222222222222,\"#7201a8\"],[0.3333333333333333,\"#9c179e\"],[0.4444444444444444,\"#bd3786\"],[0.5555555555555556,\"#d8576b\"],[0.6666666666666666,\"#ed7953\"],[0.7777777777777778,\"#fb9f3a\"],[0.8888888888888888,\"#fdca26\"],[1.0,\"#f0f921\"]],\"type\":\"surface\"}],\"table\":[{\"cells\":{\"fill\":{\"color\":\"#EBF0F8\"},\"line\":{\"color\":\"white\"}},\"header\":{\"fill\":{\"color\":\"#C8D4E3\"},\"line\":{\"color\":\"white\"}},\"type\":\"table\"}]},\"layout\":{\"annotationdefaults\":{\"arrowcolor\":\"#2a3f5f\",\"arrowhead\":0,\"arrowwidth\":1},\"autotypenumbers\":\"strict\",\"coloraxis\":{\"colorbar\":{\"outlinewidth\":0,\"ticks\":\"\"}},\"colorscale\":{\"diverging\":[[0,\"#8e0152\"],[0.1,\"#c51b7d\"],[0.2,\"#de77ae\"],[0.3,\"#f1b6da\"],[0.4,\"#fde0ef\"],[0.5,\"#f7f7f7\"],[0.6,\"#e6f5d0\"],[0.7,\"#b8e186\"],[0.8,\"#7fbc41\"],[0.9,\"#4d9221\"],[1,\"#276419\"]],\"sequential\":[[0.0,\"#0d0887\"],[0.1111111111111111,\"#46039f\"],[0.2222222222222222,\"#7201a8\"],[0.3333333333333333,\"#9c179e\"],[0.4444444444444444,\"#bd3786\"],[0.5555555555555556,\"#d8576b\"],[0.6666666666666666,\"#ed7953\"],[0.7777777777777778,\"#fb9f3a\"],[0.8888888888888888,\"#fdca26\"],[1.0,\"#f0f921\"]],\"sequentialminus\":[[0.0,\"#0d0887\"],[0.1111111111111111,\"#46039f\"],[0.2222222222222222,\"#7201a8\"],[0.3333333333333333,\"#9c179e\"],[0.4444444444444444,\"#bd3786\"],[0.5555555555555556,\"#d8576b\"],[0.6666666666666666,\"#ed7953\"],[0.7777777777777778,\"#fb9f3a\"],[0.8888888888888888,\"#fdca26\"],[1.0,\"#f0f921\"]]},\"colorway\":[\"#636efa\",\"#EF553B\",\"#00cc96\",\"#ab63fa\",\"#FFA15A\",\"#19d3f3\",\"#FF6692\",\"#B6E880\",\"#FF97FF\",\"#FECB52\"],\"font\":{\"color\":\"#2a3f5f\"},\"geo\":{\"bgcolor\":\"white\",\"lakecolor\":\"white\",\"landcolor\":\"#E5ECF6\",\"showlakes\":true,\"showland\":true,\"subunitcolor\":\"white\"},\"hoverlabel\":{\"align\":\"left\"},\"hovermode\":\"closest\",\"mapbox\":{\"style\":\"light\"},\"paper_bgcolor\":\"white\",\"plot_bgcolor\":\"#E5ECF6\",\"polar\":{\"angularaxis\":{\"gridcolor\":\"white\",\"linecolor\":\"white\",\"ticks\":\"\"},\"bgcolor\":\"#E5ECF6\",\"radialaxis\":{\"gridcolor\":\"white\",\"linecolor\":\"white\",\"ticks\":\"\"}},\"scene\":{\"xaxis\":{\"backgroundcolor\":\"#E5ECF6\",\"gridcolor\":\"white\",\"gridwidth\":2,\"linecolor\":\"white\",\"showbackground\":true,\"ticks\":\"\",\"zerolinecolor\":\"white\"},\"yaxis\":{\"backgroundcolor\":\"#E5ECF6\",\"gridcolor\":\"white\",\"gridwidth\":2,\"linecolor\":\"white\",\"showbackground\":true,\"ticks\":\"\",\"zerolinecolor\":\"white\"},\"zaxis\":{\"backgroundcolor\":\"#E5ECF6\",\"gridcolor\":\"white\",\"gridwidth\":2,\"linecolor\":\"white\",\"showbackground\":true,\"ticks\":\"\",\"zerolinecolor\":\"white\"}},\"shapedefaults\":{\"line\":{\"color\":\"#2a3f5f\"}},\"ternary\":{\"aaxis\":{\"gridcolor\":\"white\",\"linecolor\":\"white\",\"ticks\":\"\"},\"baxis\":{\"gridcolor\":\"white\",\"linecolor\":\"white\",\"ticks\":\"\"},\"bgcolor\":\"#E5ECF6\",\"caxis\":{\"gridcolor\":\"white\",\"linecolor\":\"white\",\"ticks\":\"\"}},\"title\":{\"x\":0.05},\"xaxis\":{\"automargin\":true,\"gridcolor\":\"white\",\"linecolor\":\"white\",\"ticks\":\"\",\"title\":{\"standoff\":15},\"zerolinecolor\":\"white\",\"zerolinewidth\":2},\"yaxis\":{\"automargin\":true,\"gridcolor\":\"white\",\"linecolor\":\"white\",\"ticks\":\"\",\"title\":{\"standoff\":15},\"zerolinecolor\":\"white\",\"zerolinewidth\":2}}},\"legend\":{\"tracegroupgap\":0},\"title\":{\"text\":\"Type of Netflix Content\"},\"piecolorway\":[\"rgb(103,0,31)\",\"rgb(178,24,43)\",\"rgb(214,96,77)\",\"rgb(244,165,130)\",\"rgb(253,219,199)\",\"rgb(247,247,247)\",\"rgb(209,229,240)\",\"rgb(146,197,222)\",\"rgb(67,147,195)\",\"rgb(33,102,172)\",\"rgb(5,48,97)\"]},                        {\"responsive\": true}                    ).then(function(){\n",
              "                            \n",
              "var gd = document.getElementById('ce648058-79fc-44dc-a3f0-f519dab96fad');\n",
              "var x = new MutationObserver(function (mutations, observer) {{\n",
              "        var display = window.getComputedStyle(gd).display;\n",
              "        if (!display || display === 'none') {{\n",
              "            console.log([gd, 'removed!']);\n",
              "            Plotly.purge(gd);\n",
              "            observer.disconnect();\n",
              "        }}\n",
              "}});\n",
              "\n",
              "// Listen for the removal of the full notebook cells\n",
              "var notebookContainer = gd.closest('#notebook-container');\n",
              "if (notebookContainer) {{\n",
              "    x.observe(notebookContainer, {childList: true});\n",
              "}}\n",
              "\n",
              "// Listen for the clearing of the current output cell\n",
              "var outputEl = gd.closest('.output');\n",
              "if (outputEl) {{\n",
              "    x.observe(outputEl, {childList: true});\n",
              "}}\n",
              "\n",
              "                        })                };                            </script>        </div>\n",
              "</body>\n",
              "</html>"
            ]
          },
          "metadata": {}
        }
      ]
    },
    {
      "cell_type": "markdown",
      "source": [
        "**Conclusion :**\n",
        "\n",
        "* **It is evident that there are more movies on Netflix than TV shows so we can say that Netflix is more focusing on Movies than TV shows.**\n",
        "* **Netflix has 5377 movies, which is more than double the quantity of TV shows.**\n",
        "* **There are about 70% movies and 30% TV shows on Netflix.**\n",
        "\n"
      ],
      "metadata": {
        "id": "QnowMMdg94Pm"
      }
    },
    {
      "cell_type": "markdown",
      "source": [
        "## **2. Release Year**"
      ],
      "metadata": {
        "id": "ycJ_oIVK-XaL"
      }
    },
    {
      "cell_type": "code",
      "source": [
        "# Total release for last 10 years\n",
        "sns.set(rc={'figure.figsize':(15,7)})\n",
        "sns.countplot(x='year_added',data=netflix_df,palette=\"Set1\")\n",
        "\n",
        "plt.title('Total Releases for Last 10 Years ',size='15',fontweight=\"bold\")    \n",
        "plt.show()"
      ],
      "metadata": {
        "colab": {
          "base_uri": "https://localhost:8080/",
          "height": 466
        },
        "id": "ZywkTDO3_MEA",
        "outputId": "d90d6fe7-8e24-4bc6-e34f-0ac3e6ae2794"
      },
      "execution_count": 20,
      "outputs": [
        {
          "output_type": "display_data",
          "data": {
            "text/plain": [
              "<Figure size 1080x504 with 1 Axes>"
            ],
            "image/png": "[encoded data removed]"
          },
          "metadata": {}
        }
      ]
    },
    {
      "cell_type": "markdown",
      "source": [
        "**Conclusion : The number of release have significantly increased after 2015 and have dropped in 2021**"
      ],
      "metadata": {
        "id": "aeCwETG0_gzO"
      }
    },
    {
      "cell_type": "code",
      "source": [
        "# Release of movies month-wise\n",
        "sns.set(rc={'figure.figsize':(13,7)})\n",
        "sns.countplot(x='month_added',data=netflix_df,palette=\"viridis\")\n",
        "\n",
        "plt.title(' Releases of Movies month-wise',size='16',fontweight=\"bold\")    \n",
        "plt.show()"
      ],
      "metadata": {
        "colab": {
          "base_uri": "https://localhost:8080/",
          "height": 466
        },
        "id": "G7a2N7b3_pBR",
        "outputId": "5da6df12-f3f7-44a2-e51c-a9d8e1ed56f2"
      },
      "execution_count": 21,
      "outputs": [
        {
          "output_type": "display_data",
          "data": {
            "text/plain": [
              "<Figure size 936x504 with 1 Axes>"
            ],
            "image/png": "[encoded data removed]"
          },
          "metadata": {}
        }
      ]
    },
    {
      "cell_type": "markdown",
      "source": [
        "**More of the content is released in holiday season - October, November, December and January**"
      ],
      "metadata": {
        "id": "3Xih1U-tAyBf"
      }
    },
    {
      "cell_type": "markdown",
      "source": [
        "## **3. Rating**"
      ],
      "metadata": {
        "id": "2fW8RlotBAD3"
      }
    },
    {
      "cell_type": "code",
      "source": [
        "netflix_df['rating']"
      ],
      "metadata": {
        "colab": {
          "base_uri": "https://localhost:8080/"
        },
        "id": "gszvjlLHVk0c",
        "outputId": "aae5de19-c1e6-4952-f4ce-7138b65bf49c"
      },
      "execution_count": 22,
      "outputs": [
        {
          "output_type": "execute_result",
          "data": {
            "text/plain": [
              "0       TV-MA\n",
              "1       TV-MA\n",
              "2           R\n",
              "3       PG-13\n",
              "4       PG-13\n",
              "        ...  \n",
              "7782    TV-MA\n",
              "7783    TV-14\n",
              "7784    TV-MA\n",
              "7785    TV-PG\n",
              "7786    TV-MA\n",
              "Name: rating, Length: 7777, dtype: object"
            ]
          },
          "metadata": {},
          "execution_count": 22
        }
      ]
    },
    {
      "cell_type": "code",
      "source": [
        "#Assigning the Ratings into grouped categories\n",
        "ratings = {\n",
        "    'TV-PG': 'Older Kids',\n",
        "    'TV-MA': 'Adults',\n",
        "    'TV-Y7-FV': 'Older Kids',\n",
        "    'TV-Y7': 'Older Kids',\n",
        "    'TV-14': 'Teens',\n",
        "    'R': 'Adults',\n",
        "    'TV-Y': 'Kids',\n",
        "    'NR': 'Adults',\n",
        "    'PG-13': 'Teens',\n",
        "    'TV-G': 'Kids',\n",
        "    'PG': 'Older Kids',\n",
        "    'G': 'Kids',\n",
        "    'UR': 'Adults',\n",
        "    'NC-17': 'Adults'\n",
        "}\n",
        "netflix_df['target_ages'] = netflix_df['rating'].replace(ratings)"
      ],
      "metadata": {
        "id": "pBmexdEBVrEZ"
      },
      "execution_count": 23,
      "outputs": []
    },
    {
      "cell_type": "code",
      "source": [
        "# type should be a catego\n",
        "netflix_df['type'] = pd.Categorical(netflix_df['type'])\n",
        "netflix_df['target_ages'] = pd.Categorical(netflix_df['target_ages'], categories=['Kids', 'Older Kids', 'Teens', 'Adults'])"
      ],
      "metadata": {
        "id": "A6C6oyO6Vyhd"
      },
      "execution_count": 24,
      "outputs": []
    },
    {
      "cell_type": "code",
      "source": [
        "netflix_df.head()"
      ],
      "metadata": {
        "colab": {
          "base_uri": "https://localhost:8080/",
          "height": 424
        },
        "id": "1P-o4NzJV0tQ",
        "outputId": "4f38b5fc-6d71-4206-8dd4-5ef4d5bef09b"
      },
      "execution_count": 25,
      "outputs": [
        {
          "output_type": "execute_result",
          "data": {
            "text/plain": [
              "  show_id     type  title                                               cast  \\\n",
              "0      s1  TV Show     3%  João Miguel, Bianca Comparato, Michel Gomes, R...   \n",
              "1      s2    Movie   7:19  Demián Bichir, Héctor Bonilla, Oscar Serrano, ...   \n",
              "2      s3    Movie  23:59  Tedd Chan, Stella Chung, Henley Hii, Lawrence ...   \n",
              "3      s4    Movie      9  Elijah Wood, John C. Reilly, Jennifer Connelly...   \n",
              "4      s5    Movie     21  Jim Sturgess, Kevin Spacey, Kate Bosworth, Aar...   \n",
              "\n",
              "         country date_added  release_year rating   duration  \\\n",
              "0         Brazil 2020-08-14          2020  TV-MA  4 Seasons   \n",
              "1         Mexico 2016-12-23          2016  TV-MA     93 min   \n",
              "2      Singapore 2018-12-20          2011      R     78 min   \n",
              "3  United States 2017-11-16          2009  PG-13     80 min   \n",
              "4  United States 2020-01-01          2008  PG-13    123 min   \n",
              "\n",
              "                                           listed_in  \\\n",
              "0  International TV Shows, TV Dramas, TV Sci-Fi &...   \n",
              "1                       Dramas, International Movies   \n",
              "2                Horror Movies, International Movies   \n",
              "3  Action & Adventure, Independent Movies, Sci-Fi...   \n",
              "4                                             Dramas   \n",
              "\n",
              "                                         description  year_added  month_added  \\\n",
              "0  In a future where the elite inhabit an island ...        2020            8   \n",
              "1  After a devastating earthquake hits Mexico Cit...        2016           12   \n",
              "2  When an army recruit is found dead, his fellow...        2018           12   \n",
              "3  In a postapocalyptic world, rag-doll robots hi...        2017           11   \n",
              "4  A brilliant group of students become card-coun...        2020            1   \n",
              "\n",
              "  target_ages  \n",
              "0      Adults  \n",
              "1      Adults  \n",
              "2      Adults  \n",
              "3       Teens  \n",
              "4       Teens  "
            ],
            "text/html": [
              "\n",
              "  <div id=\"df-f4822ac4-ea8f-4099-bd53-2ed6e8001962\">\n",
              "    <div class=\"colab-df-container\">\n",
              "      <div>\n",
              "<style scoped>\n",
              "    .dataframe tbody tr th:only-of-type {\n",
              "        vertical-align: middle;\n",
              "    }\n",
              "\n",
              "    .dataframe tbody tr th {\n",
              "        vertical-align: top;\n",
              "    }\n",
              "\n",
              "    .dataframe thead th {\n",
              "        text-align: right;\n",
              "    }\n",
              "</style>\n",
              "<table border=\"1\" class=\"dataframe\">\n",
              "  <thead>\n",
              "    <tr style=\"text-align: right;\">\n",
              "      <th></th>\n",
              "      <th>show_id</th>\n",
              "      <th>type</th>\n",
              "      <th>title</th>\n",
              "      <th>cast</th>\n",
              "      <th>country</th>\n",
              "      <th>date_added</th>\n",
              "      <th>release_year</th>\n",
              "      <th>rating</th>\n",
              "      <th>duration</th>\n",
              "      <th>listed_in</th>\n",
              "      <th>description</th>\n",
              "      <th>year_added</th>\n",
              "      <th>month_added</th>\n",
              "      <th>target_ages</th>\n",
              "    </tr>\n",
              "  </thead>\n",
              "  <tbody>\n",
              "    <tr>\n",
              "      <th>0</th>\n",
              "      <td>s1</td>\n",
              "      <td>TV Show</td>\n",
              "      <td>3%</td>\n",
              "      <td>João Miguel, Bianca Comparato, Michel Gomes, R...</td>\n",
              "      <td>Brazil</td>\n",
              "      <td>2020-08-14</td>\n",
              "      <td>2020</td>\n",
              "      <td>TV-MA</td>\n",
              "      <td>4 Seasons</td>\n",
              "      <td>International TV Shows, TV Dramas, TV Sci-Fi &amp;...</td>\n",
              "      <td>In a future where the elite inhabit an island ...</td>\n",
              "      <td>2020</td>\n",
              "      <td>8</td>\n",
              "      <td>Adults</td>\n",
              "    </tr>\n",
              "    <tr>\n",
              "      <th>1</th>\n",
              "      <td>s2</td>\n",
              "      <td>Movie</td>\n",
              "      <td>7:19</td>\n",
              "      <td>Demián Bichir, Héctor Bonilla, Oscar Serrano, ...</td>\n",
              "      <td>Mexico</td>\n",
              "      <td>2016-12-23</td>\n",
              "      <td>2016</td>\n",
              "      <td>TV-MA</td>\n",
              "      <td>93 min</td>\n",
              "      <td>Dramas, International Movies</td>\n",
              "      <td>After a devastating earthquake hits Mexico Cit...</td>\n",
              "      <td>2016</td>\n",
              "      <td>12</td>\n",
              "      <td>Adults</td>\n",
              "    </tr>\n",
              "    <tr>\n",
              "      <th>2</th>\n",
              "      <td>s3</td>\n",
              "      <td>Movie</td>\n",
              "      <td>23:59</td>\n",
              "      <td>Tedd Chan, Stella Chung, Henley Hii, Lawrence ...</td>\n",
              "      <td>Singapore</td>\n",
              "      <td>2018-12-20</td>\n",
              "      <td>2011</td>\n",
              "      <td>R</td>\n",
              "      <td>78 min</td>\n",
              "      <td>Horror Movies, International Movies</td>\n",
              "      <td>When an army recruit is found dead, his fellow...</td>\n",
              "      <td>2018</td>\n",
              "      <td>12</td>\n",
              "      <td>Adults</td>\n",
              "    </tr>\n",
              "    <tr>\n",
              "      <th>3</th>\n",
              "      <td>s4</td>\n",
              "      <td>Movie</td>\n",
              "      <td>9</td>\n",
              "      <td>Elijah Wood, John C. Reilly, Jennifer Connelly...</td>\n",
              "      <td>United States</td>\n",
              "      <td>2017-11-16</td>\n",
              "      <td>2009</td>\n",
              "      <td>PG-13</td>\n",
              "      <td>80 min</td>\n",
              "      <td>Action &amp; Adventure, Independent Movies, Sci-Fi...</td>\n",
              "      <td>In a postapocalyptic world, rag-doll robots hi...</td>\n",
              "      <td>2017</td>\n",
              "      <td>11</td>\n",
              "      <td>Teens</td>\n",
              "    </tr>\n",
              "    <tr>\n",
              "      <th>4</th>\n",
              "      <td>s5</td>\n",
              "      <td>Movie</td>\n",
              "      <td>21</td>\n",
              "      <td>Jim Sturgess, Kevin Spacey, Kate Bosworth, Aar...</td>\n",
              "      <td>United States</td>\n",
              "      <td>2020-01-01</td>\n",
              "      <td>2008</td>\n",
              "      <td>PG-13</td>\n",
              "      <td>123 min</td>\n",
              "      <td>Dramas</td>\n",
              "      <td>A brilliant group of students become card-coun...</td>\n",
              "      <td>2020</td>\n",
              "      <td>1</td>\n",
              "      <td>Teens</td>\n",
              "    </tr>\n",
              "  </tbody>\n",
              "</table>\n",
              "</div>\n",
              "      <button class=\"colab-df-convert\" onclick=\"convertToInteractive('df-f4822ac4-ea8f-4099-bd53-2ed6e8001962')\"\n",
              "              title=\"Convert this dataframe to an interactive table.\"\n",
              "              style=\"display:none;\">\n",
              "        \n",
              "  <svg xmlns=\"http://www.w3.org/2000/svg\" height=\"24px\"viewBox=\"0 0 24 24\"\n",
              "       width=\"24px\">\n",
              "    <path d=\"M0 0h24v24H0V0z\" fill=\"none\"/>\n",
              "    <path d=\"M18.56 5.44l.94 2.06.94-2.06 2.06-.94-2.06-.94-.94-2.06-.94 2.06-2.06.94zm-11 1L8.5 8.5l.94-2.06 2.06-.94-2.06-.94L8.5 2.5l-.94 2.06-2.06.94zm10 10l.94 2.06.94-2.06 2.06-.94-2.06-.94-.94-2.06-.94 2.06-2.06.94z\"/><path d=\"M17.41 7.96l-1.37-1.37c-.4-.4-.92-.59-1.43-.59-.52 0-1.04.2-1.43.59L10.3 9.45l-7.72 7.72c-.78.78-.78 2.05 0 2.83L4 21.41c.39.39.9.59 1.41.59.51 0 1.02-.2 1.41-.59l7.78-7.78 2.81-2.81c.8-.78.8-2.07 0-2.86zM5.41 20L4 18.59l7.72-7.72 1.47 1.35L5.41 20z\"/>\n",
              "  </svg>\n",
              "      </button>\n",
              "      \n",
              "  <style>\n",
              "    .colab-df-container {\n",
              "      display:flex;\n",
              "      flex-wrap:wrap;\n",
              "      gap: 12px;\n",
              "    }\n",
              "\n",
              "    .colab-df-convert {\n",
              "      background-color: #E8F0FE;\n",
              "      border: none;\n",
              "      border-radius: 50%;\n",
              "      cursor: pointer;\n",
              "      display: none;\n",
              "      fill: #1967D2;\n",
              "      height: 32px;\n",
              "      padding: 0 0 0 0;\n",
              "      width: 32px;\n",
              "    }\n",
              "\n",
              "    .colab-df-convert:hover {\n",
              "      background-color: #E2EBFA;\n",
              "      box-shadow: 0px 1px 2px rgba(60, 64, 67, 0.3), 0px 1px 3px 1px rgba(60, 64, 67, 0.15);\n",
              "      fill: #174EA6;\n",
              "    }\n",
              "\n",
              "    [theme=dark] .colab-df-convert {\n",
              "      background-color: #3B4455;\n",
              "      fill: #D2E3FC;\n",
              "    }\n",
              "\n",
              "    [theme=dark] .colab-df-convert:hover {\n",
              "      background-color: #434B5C;\n",
              "      box-shadow: 0px 1px 3px 1px rgba(0, 0, 0, 0.15);\n",
              "      filter: drop-shadow(0px 1px 2px rgba(0, 0, 0, 0.3));\n",
              "      fill: #FFFFFF;\n",
              "    }\n",
              "  </style>\n",
              "\n",
              "      <script>\n",
              "        const buttonEl =\n",
              "          document.querySelector('#df-f4822ac4-ea8f-4099-bd53-2ed6e8001962 button.colab-df-convert');\n",
              "        buttonEl.style.display =\n",
              "          google.colab.kernel.accessAllowed ? 'block' : 'none';\n",
              "\n",
              "        async function convertToInteractive(key) {\n",
              "          const element = document.querySelector('#df-f4822ac4-ea8f-4099-bd53-2ed6e8001962');\n",
              "          const dataTable =\n",
              "            await google.colab.kernel.invokeFunction('convertToInteractive',\n",
              "                                                     [key], {});\n",
              "          if (!dataTable) return;\n",
              "\n",
              "          const docLinkHtml = 'Like what you see? Visit the ' +\n",
              "            '<a target=\"_blank\" href=https://colab.research.google.com/notebooks/data_table.ipynb>data table notebook</a>'\n",
              "            + ' to learn more about interactive tables.';\n",
              "          element.innerHTML = '';\n",
              "          dataTable['output_type'] = 'display_data';\n",
              "          await google.colab.output.renderOutput(dataTable, element);\n",
              "          const docLink = document.createElement('div');\n",
              "          docLink.innerHTML = docLinkHtml;\n",
              "          element.appendChild(docLink);\n",
              "        }\n",
              "      </script>\n",
              "    </div>\n",
              "  </div>\n",
              "  "
            ]
          },
          "metadata": {},
          "execution_count": 25
        }
      ]
    },
    {
      "cell_type": "code",
      "source": [
        "#creating two extra columns\n",
        "tv_shows=netflix_df[netflix_df['type']=='TV Show']\n",
        "movies=netflix_df[netflix_df['type']=='Movie']"
      ],
      "metadata": {
        "id": "A32LBahRX6GE"
      },
      "execution_count": 26,
      "outputs": []
    },
    {
      "cell_type": "code",
      "source": [
        "#Rating based on rating system of all TV Shows\n",
        "tv_ratings = tv_shows.groupby(['rating'])['show_id'].count().reset_index(name='count').sort_values(by='count',ascending=False)\n",
        "fig_dims = (14,7)\n",
        "fig, ax = plt.subplots(figsize=fig_dims)  \n",
        "sns.pointplot(x='rating',y='count',data=tv_ratings)\n",
        "plt.title('TV Show Ratings',size='20')\n",
        "plt.show()"
      ],
      "metadata": {
        "colab": {
          "base_uri": "https://localhost:8080/",
          "height": 469
        },
        "id": "YeU8wHj9YBeP",
        "outputId": "936565dd-6c4e-4c67-a47b-38ad0d270851"
      },
      "execution_count": 27,
      "outputs": [
        {
          "output_type": "display_data",
          "data": {
            "text/plain": [
              "<Figure size 1008x504 with 1 Axes>"
            ],
            "image/png": "[encoded data removed]"
          },
          "metadata": {}
        }
      ]
    },
    {
      "cell_type": "markdown",
      "source": [
        "**Conclusion : TV-MA has the highest number of ratings for tv shows i,e adult ratings**"
      ],
      "metadata": {
        "id": "bIk8uoWlYKje"
      }
    },
    {
      "cell_type": "code",
      "source": [
        "#Movie Ratings based on Target Age Groups\n",
        "plt.figure(figsize=(14,6))\n",
        "plt.title('movie ratings')\n",
        "sns.countplot(x=movies['rating'],hue=movies['target_ages'],data=movies,order=movies['rating'].value_counts().index)"
      ],
      "metadata": {
        "colab": {
          "base_uri": "https://localhost:8080/",
          "height": 427
        },
        "id": "OL59VIHyYVH2",
        "outputId": "fd04b4c7-2fa2-4813-f01e-8f52e3c3257f"
      },
      "execution_count": 28,
      "outputs": [
        {
          "output_type": "execute_result",
          "data": {
            "text/plain": [
              "<matplotlib.axes._subplots.AxesSubplot at 0x7f7d2d16d490>"
            ]
          },
          "metadata": {},
          "execution_count": 28
        },
        {
          "output_type": "display_data",
          "data": {
            "text/plain": [
              "<Figure size 1008x432 with 1 Axes>"
            ],
            "image/png": "[encoded data removed]"
          },
          "metadata": {}
        }
      ]
    },
    {
      "cell_type": "markdown",
      "source": [
        "**Conclusion : TV-MA has the highest number of ratings. For both tv shows and adult ratings in both the cases TV-MA has the highest number of ratings.**"
      ],
      "metadata": {
        "id": "xjqaOYLmYct4"
      }
    },
    {
      "cell_type": "markdown",
      "source": [
        "## **4. Country**"
      ],
      "metadata": {
        "id": "SNdAtTzGKxpV"
      }
    },
    {
      "cell_type": "code",
      "source": [
        "#Countries having highest number of contents\n",
        "country = netflix_df['country'].value_counts().reset_index()\n",
        "country = country[country['country'] /  country['country'].sum() > 0.01]\n",
        "\n",
        "fig = px.pie(country, values='country', names='index',color_discrete_sequence=px.colors.sequential.Plasma_r)\n",
        "fig.update_traces(textposition='inside', textinfo='percent+label',\n",
        "                  marker = dict(line = dict(color = 'darkred', width = 2)))\n",
        "fig.show()"
      ],
      "metadata": {
        "colab": {
          "base_uri": "https://localhost:8080/",
          "height": 542
        },
        "id": "D-Ef417HK88_",
        "outputId": "2afe6b6e-f27e-42bb-fcd2-a2ea1fbc132d"
      },
      "execution_count": 29,
      "outputs": [
        {
          "output_type": "display_data",
          "data": {
            "text/html": [
              "<html>\n",
              "<head><meta charset=\"utf-8\" /></head>\n",
              "<body>\n",
              "    <div>            <script src=\"https://cdnjs.cloudflare.com/ajax/libs/mathjax/2.7.5/MathJax.js?config=TeX-AMS-MML_SVG\"></script><script type=\"text/javascript\">if (window.MathJax) {MathJax.Hub.Config({SVG: {font: \"STIX-Web\"}});}</script>                <script type=\"text/javascript\">window.PlotlyConfig = {MathJaxConfig: 'local'};</script>\n",
              "        <script src=\"https://cdn.plot.ly/plotly-2.8.3.min.js\"></script>                <div id=\"40f8102d-6228-477c-94f9-f1718c9e3fea\" class=\"plotly-graph-div\" style=\"height:525px; width:100%;\"></div>            <script type=\"text/javascript\">                                    window.PLOTLYENV=window.PLOTLYENV || {};                                    if (document.getElementById(\"40f8102d-6228-477c-94f9-f1718c9e3fea\")) {                    Plotly.newPlot(                        \"40f8102d-6228-477c-94f9-f1718c9e3fea\",                        [{\"domain\":{\"x\":[0.0,1.0],\"y\":[0.0,1.0]},\"hovertemplate\":\"index=%{label}<br>country=%{value}<extra></extra>\",\"labels\":[\"United States\",\"India\",\"United Kingdom\",\"Japan\",\"South Korea\",\"Canada\",\"Spain\",\"France\",\"Egypt\",\"Turkey\",\"Mexico\",\"Australia\",\"Taiwan\"],\"legendgroup\":\"\",\"name\":\"\",\"showlegend\":true,\"values\":[3055,923,396,225,183,177,134,115,101,100,100,82,78],\"type\":\"pie\",\"marker\":{\"line\":{\"color\":\"darkred\",\"width\":2}},\"textinfo\":\"percent+label\",\"textposition\":\"inside\"}],                        {\"template\":{\"data\":{\"bar\":[{\"error_x\":{\"color\":\"#2a3f5f\"},\"error_y\":{\"color\":\"#2a3f5f\"},\"marker\":{\"line\":{\"color\":\"#E5ECF6\",\"width\":0.5},\"pattern\":{\"fillmode\":\"overlay\",\"size\":10,\"solidity\":0.2}},\"type\":\"bar\"}],\"barpolar\":[{\"marker\":{\"line\":{\"color\":\"#E5ECF6\",\"width\":0.5},\"pattern\":{\"fillmode\":\"overlay\",\"size\":10,\"solidity\":0.2}},\"type\":\"barpolar\"}],\"carpet\":[{\"aaxis\":{\"endlinecolor\":\"#2a3f5f\",\"gridcolor\":\"white\",\"linecolor\":\"white\",\"minorgridcolor\":\"white\",\"startlinecolor\":\"#2a3f5f\"},\"baxis\":{\"endlinecolor\":\"#2a3f5f\",\"gridcolor\":\"white\",\"linecolor\":\"white\",\"minorgridcolor\":\"white\",\"startlinecolor\":\"#2a3f5f\"},\"type\":\"carpet\"}],\"choropleth\":[{\"colorbar\":{\"outlinewidth\":0,\"ticks\":\"\"},\"type\":\"choropleth\"}],\"contour\":[{\"colorbar\":{\"outlinewidth\":0,\"ticks\":\"\"},\"colorscale\":[[0.0,\"#0d0887\"],[0.1111111111111111,\"#46039f\"],[0.2222222222222222,\"#7201a8\"],[0.3333333333333333,\"#9c179e\"],[0.4444444444444444,\"#bd3786\"],[0.5555555555555556,\"#d8576b\"],[0.6666666666666666,\"#ed7953\"],[0.7777777777777778,\"#fb9f3a\"],[0.8888888888888888,\"#fdca26\"],[1.0,\"#f0f921\"]],\"type\":\"contour\"}],\"contourcarpet\":[{\"colorbar\":{\"outlinewidth\":0,\"ticks\":\"\"},\"type\":\"contourcarpet\"}],\"heatmap\":[{\"colorbar\":{\"outlinewidth\":0,\"ticks\":\"\"},\"colorscale\":[[0.0,\"#0d0887\"],[0.1111111111111111,\"#46039f\"],[0.2222222222222222,\"#7201a8\"],[0.3333333333333333,\"#9c179e\"],[0.4444444444444444,\"#bd3786\"],[0.5555555555555556,\"#d8576b\"],[0.6666666666666666,\"#ed7953\"],[0.7777777777777778,\"#fb9f3a\"],[0.8888888888888888,\"#fdca26\"],[1.0,\"#f0f921\"]],\"type\":\"heatmap\"}],\"heatmapgl\":[{\"colorbar\":{\"outlinewidth\":0,\"ticks\":\"\"},\"colorscale\":[[0.0,\"#0d0887\"],[0.1111111111111111,\"#46039f\"],[0.2222222222222222,\"#7201a8\"],[0.3333333333333333,\"#9c179e\"],[0.4444444444444444,\"#bd3786\"],[0.5555555555555556,\"#d8576b\"],[0.6666666666666666,\"#ed7953\"],[0.7777777777777778,\"#fb9f3a\"],[0.8888888888888888,\"#fdca26\"],[1.0,\"#f0f921\"]],\"type\":\"heatmapgl\"}],\"histogram\":[{\"marker\":{\"pattern\":{\"fillmode\":\"overlay\",\"size\":10,\"solidity\":0.2}},\"type\":\"histogram\"}],\"histogram2d\":[{\"colorbar\":{\"outlinewidth\":0,\"ticks\":\"\"},\"colorscale\":[[0.0,\"#0d0887\"],[0.1111111111111111,\"#46039f\"],[0.2222222222222222,\"#7201a8\"],[0.3333333333333333,\"#9c179e\"],[0.4444444444444444,\"#bd3786\"],[0.5555555555555556,\"#d8576b\"],[0.6666666666666666,\"#ed7953\"],[0.7777777777777778,\"#fb9f3a\"],[0.8888888888888888,\"#fdca26\"],[1.0,\"#f0f921\"]],\"type\":\"histogram2d\"}],\"histogram2dcontour\":[{\"colorbar\":{\"outlinewidth\":0,\"ticks\":\"\"},\"colorscale\":[[0.0,\"#0d0887\"],[0.1111111111111111,\"#46039f\"],[0.2222222222222222,\"#7201a8\"],[0.3333333333333333,\"#9c179e\"],[0.4444444444444444,\"#bd3786\"],[0.5555555555555556,\"#d8576b\"],[0.6666666666666666,\"#ed7953\"],[0.7777777777777778,\"#fb9f3a\"],[0.8888888888888888,\"#fdca26\"],[1.0,\"#f0f921\"]],\"type\":\"histogram2dcontour\"}],\"mesh3d\":[{\"colorbar\":{\"outlinewidth\":0,\"ticks\":\"\"},\"type\":\"mesh3d\"}],\"parcoords\":[{\"line\":{\"colorbar\":{\"outlinewidth\":0,\"ticks\":\"\"}},\"type\":\"parcoords\"}],\"pie\":[{\"automargin\":true,\"type\":\"pie\"}],\"scatter\":[{\"marker\":{\"colorbar\":{\"outlinewidth\":0,\"ticks\":\"\"}},\"type\":\"scatter\"}],\"scatter3d\":[{\"line\":{\"colorbar\":{\"outlinewidth\":0,\"ticks\":\"\"}},\"marker\":{\"colorbar\":{\"outlinewidth\":0,\"ticks\":\"\"}},\"type\":\"scatter3d\"}],\"scattercarpet\":[{\"marker\":{\"colorbar\":{\"outlinewidth\":0,\"ticks\":\"\"}},\"type\":\"scattercarpet\"}],\"scattergeo\":[{\"marker\":{\"colorbar\":{\"outlinewidth\":0,\"ticks\":\"\"}},\"type\":\"scattergeo\"}],\"scattergl\":[{\"marker\":{\"colorbar\":{\"outlinewidth\":0,\"ticks\":\"\"}},\"type\":\"scattergl\"}],\"scattermapbox\":[{\"marker\":{\"colorbar\":{\"outlinewidth\":0,\"ticks\":\"\"}},\"type\":\"scattermapbox\"}],\"scatterpolar\":[{\"marker\":{\"colorbar\":{\"outlinewidth\":0,\"ticks\":\"\"}},\"type\":\"scatterpolar\"}],\"scatterpolargl\":[{\"marker\":{\"colorbar\":{\"outlinewidth\":0,\"ticks\":\"\"}},\"type\":\"scatterpolargl\"}],\"scatterternary\":[{\"marker\":{\"colorbar\":{\"outlinewidth\":0,\"ticks\":\"\"}},\"type\":\"scatterternary\"}],\"surface\":[{\"colorbar\":{\"outlinewidth\":0,\"ticks\":\"\"},\"colorscale\":[[0.0,\"#0d0887\"],[0.1111111111111111,\"#46039f\"],[0.2222222222222222,\"#7201a8\"],[0.3333333333333333,\"#9c179e\"],[0.4444444444444444,\"#bd3786\"],[0.5555555555555556,\"#d8576b\"],[0.6666666666666666,\"#ed7953\"],[0.7777777777777778,\"#fb9f3a\"],[0.8888888888888888,\"#fdca26\"],[1.0,\"#f0f921\"]],\"type\":\"surface\"}],\"table\":[{\"cells\":{\"fill\":{\"color\":\"#EBF0F8\"},\"line\":{\"color\":\"white\"}},\"header\":{\"fill\":{\"color\":\"#C8D4E3\"},\"line\":{\"color\":\"white\"}},\"type\":\"table\"}]},\"layout\":{\"annotationdefaults\":{\"arrowcolor\":\"#2a3f5f\",\"arrowhead\":0,\"arrowwidth\":1},\"autotypenumbers\":\"strict\",\"coloraxis\":{\"colorbar\":{\"outlinewidth\":0,\"ticks\":\"\"}},\"colorscale\":{\"diverging\":[[0,\"#8e0152\"],[0.1,\"#c51b7d\"],[0.2,\"#de77ae\"],[0.3,\"#f1b6da\"],[0.4,\"#fde0ef\"],[0.5,\"#f7f7f7\"],[0.6,\"#e6f5d0\"],[0.7,\"#b8e186\"],[0.8,\"#7fbc41\"],[0.9,\"#4d9221\"],[1,\"#276419\"]],\"sequential\":[[0.0,\"#0d0887\"],[0.1111111111111111,\"#46039f\"],[0.2222222222222222,\"#7201a8\"],[0.3333333333333333,\"#9c179e\"],[0.4444444444444444,\"#bd3786\"],[0.5555555555555556,\"#d8576b\"],[0.6666666666666666,\"#ed7953\"],[0.7777777777777778,\"#fb9f3a\"],[0.8888888888888888,\"#fdca26\"],[1.0,\"#f0f921\"]],\"sequentialminus\":[[0.0,\"#0d0887\"],[0.1111111111111111,\"#46039f\"],[0.2222222222222222,\"#7201a8\"],[0.3333333333333333,\"#9c179e\"],[0.4444444444444444,\"#bd3786\"],[0.5555555555555556,\"#d8576b\"],[0.6666666666666666,\"#ed7953\"],[0.7777777777777778,\"#fb9f3a\"],[0.8888888888888888,\"#fdca26\"],[1.0,\"#f0f921\"]]},\"colorway\":[\"#636efa\",\"#EF553B\",\"#00cc96\",\"#ab63fa\",\"#FFA15A\",\"#19d3f3\",\"#FF6692\",\"#B6E880\",\"#FF97FF\",\"#FECB52\"],\"font\":{\"color\":\"#2a3f5f\"},\"geo\":{\"bgcolor\":\"white\",\"lakecolor\":\"white\",\"landcolor\":\"#E5ECF6\",\"showlakes\":true,\"showland\":true,\"subunitcolor\":\"white\"},\"hoverlabel\":{\"align\":\"left\"},\"hovermode\":\"closest\",\"mapbox\":{\"style\":\"light\"},\"paper_bgcolor\":\"white\",\"plot_bgcolor\":\"#E5ECF6\",\"polar\":{\"angularaxis\":{\"gridcolor\":\"white\",\"linecolor\":\"white\",\"ticks\":\"\"},\"bgcolor\":\"#E5ECF6\",\"radialaxis\":{\"gridcolor\":\"white\",\"linecolor\":\"white\",\"ticks\":\"\"}},\"scene\":{\"xaxis\":{\"backgroundcolor\":\"#E5ECF6\",\"gridcolor\":\"white\",\"gridwidth\":2,\"linecolor\":\"white\",\"showbackground\":true,\"ticks\":\"\",\"zerolinecolor\":\"white\"},\"yaxis\":{\"backgroundcolor\":\"#E5ECF6\",\"gridcolor\":\"white\",\"gridwidth\":2,\"linecolor\":\"white\",\"showbackground\":true,\"ticks\":\"\",\"zerolinecolor\":\"white\"},\"zaxis\":{\"backgroundcolor\":\"#E5ECF6\",\"gridcolor\":\"white\",\"gridwidth\":2,\"linecolor\":\"white\",\"showbackground\":true,\"ticks\":\"\",\"zerolinecolor\":\"white\"}},\"shapedefaults\":{\"line\":{\"color\":\"#2a3f5f\"}},\"ternary\":{\"aaxis\":{\"gridcolor\":\"white\",\"linecolor\":\"white\",\"ticks\":\"\"},\"baxis\":{\"gridcolor\":\"white\",\"linecolor\":\"white\",\"ticks\":\"\"},\"bgcolor\":\"#E5ECF6\",\"caxis\":{\"gridcolor\":\"white\",\"linecolor\":\"white\",\"ticks\":\"\"}},\"title\":{\"x\":0.05},\"xaxis\":{\"automargin\":true,\"gridcolor\":\"white\",\"linecolor\":\"white\",\"ticks\":\"\",\"title\":{\"standoff\":15},\"zerolinecolor\":\"white\",\"zerolinewidth\":2},\"yaxis\":{\"automargin\":true,\"gridcolor\":\"white\",\"linecolor\":\"white\",\"ticks\":\"\",\"title\":{\"standoff\":15},\"zerolinecolor\":\"white\",\"zerolinewidth\":2}}},\"legend\":{\"tracegroupgap\":0},\"margin\":{\"t\":60},\"piecolorway\":[\"#f0f921\",\"#fdca26\",\"#fb9f3a\",\"#ed7953\",\"#d8576b\",\"#bd3786\",\"#9c179e\",\"#7201a8\",\"#46039f\",\"#0d0887\"]},                        {\"responsive\": true}                    ).then(function(){\n",
              "                            \n",
              "var gd = document.getElementById('40f8102d-6228-477c-94f9-f1718c9e3fea');\n",
              "var x = new MutationObserver(function (mutations, observer) {{\n",
              "        var display = window.getComputedStyle(gd).display;\n",
              "        if (!display || display === 'none') {{\n",
              "            console.log([gd, 'removed!']);\n",
              "            Plotly.purge(gd);\n",
              "            observer.disconnect();\n",
              "        }}\n",
              "}});\n",
              "\n",
              "// Listen for the removal of the full notebook cells\n",
              "var notebookContainer = gd.closest('#notebook-container');\n",
              "if (notebookContainer) {{\n",
              "    x.observe(notebookContainer, {childList: true});\n",
              "}}\n",
              "\n",
              "// Listen for the clearing of the current output cell\n",
              "var outputEl = gd.closest('.output');\n",
              "if (outputEl) {{\n",
              "    x.observe(outputEl, {childList: true});\n",
              "}}\n",
              "\n",
              "                        })                };                            </script>        </div>\n",
              "</body>\n",
              "</html>"
            ]
          },
          "metadata": {}
        }
      ]
    },
    {
      "cell_type": "markdown",
      "source": [
        "**Conclusion : USA has the highest number of content on the netflix ,followed by india**"
      ],
      "metadata": {
        "id": "MSl7mEvvPZ3T"
      }
    },
    {
      "cell_type": "code",
      "source": [
        "#Analysing top15 countries with most content \n",
        "plt.figure(figsize=(18,5))\n",
        "sns.countplot(x=netflix_df['country'],order=netflix_df['country'].value_counts().index[0:15],hue=netflix_df['type'])\n",
        "plt.xticks(rotation=50)\n",
        "plt.title('Top 15 countries with most contents', fontsize=15, fontweight='bold')\n",
        "plt.show()"
      ],
      "metadata": {
        "colab": {
          "base_uri": "https://localhost:8080/",
          "height": 422
        },
        "id": "CRgWHZv8ElsF",
        "outputId": "f9982623-4025-4f26-da5d-7f6d7bebcbdc"
      },
      "execution_count": 30,
      "outputs": [
        {
          "output_type": "display_data",
          "data": {
            "text/plain": [
              "<Figure size 1296x360 with 1 Axes>"
            ],
            "image/png": "[encoded data removed]"
          },
          "metadata": {}
        }
      ]
    },
    {
      "cell_type": "markdown",
      "source": [
        "**Conclusion : USA has highest number of content with high number of movies than TV shows.**"
      ],
      "metadata": {
        "id": "OfipvltBFJG0"
      }
    },
    {
      "cell_type": "markdown",
      "source": [
        "## **5. Genre**"
      ],
      "metadata": {
        "id": "Roc-Ue0mPiNW"
      }
    },
    {
      "cell_type": "code",
      "source": [
        "#Analysing top10 genre of the movies\n",
        "plt.figure(figsize=(14,6))\n",
        "plt.title('Top10 Genre of Movies',fontweight=\"bold\")\n",
        "sns.countplot(y=movies['listed_in'],data=movies,order=movies['listed_in'].value_counts().index[0:10])"
      ],
      "metadata": {
        "colab": {
          "base_uri": "https://localhost:8080/",
          "height": 427
        },
        "id": "uMIu0lHiDZP_",
        "outputId": "3c4f6633-3110-48ed-9cff-660abb3f1bdf"
      },
      "execution_count": 31,
      "outputs": [
        {
          "output_type": "execute_result",
          "data": {
            "text/plain": [
              "<matplotlib.axes._subplots.AxesSubplot at 0x7f7d2d063750>"
            ]
          },
          "metadata": {},
          "execution_count": 31
        },
        {
          "output_type": "display_data",
          "data": {
            "text/plain": [
              "<Figure size 1008x432 with 1 Axes>"
            ],
            "image/png": "[encoded data removed]"
          },
          "metadata": {}
        }
      ]
    },
    {
      "cell_type": "markdown",
      "source": [
        "**Conclusion : Documentaries are the top most genre in netflix followed by standup comedy and Drams and international movies**"
      ],
      "metadata": {
        "id": "Ub3NGz0ZDoAU"
      }
    },
    {
      "cell_type": "code",
      "source": [
        "#Analysing top10 genres of TVSHOWS\n",
        "plt.figure(figsize=(14,6))\n",
        "plt.title('Top10 Genre of TV Shows',fontweight=\"bold\")\n",
        "sns.countplot(y=tv_shows['listed_in'],data=tv_shows,order=tv_shows['listed_in'].value_counts().index[0:10])"
      ],
      "metadata": {
        "colab": {
          "base_uri": "https://localhost:8080/",
          "height": 427
        },
        "id": "_DKW-8e4D1nf",
        "outputId": "33bdc34b-d730-4964-d378-ead88c7eda76"
      },
      "execution_count": 32,
      "outputs": [
        {
          "output_type": "execute_result",
          "data": {
            "text/plain": [
              "<matplotlib.axes._subplots.AxesSubplot at 0x7f7d2e35ae10>"
            ]
          },
          "metadata": {},
          "execution_count": 32
        },
        {
          "output_type": "display_data",
          "data": {
            "text/plain": [
              "<Figure size 1008x432 with 1 Axes>"
            ],
            "image/png": "[encoded data removed]"
          },
          "metadata": {}
        }
      ]
    },
    {
      "cell_type": "markdown",
      "source": [
        "**Conclusion : kids tv is the top most  TV show genre in netflix.**"
      ],
      "metadata": {
        "id": "P_AtS9vJEEMb"
      }
    },
    {
      "cell_type": "markdown",
      "source": [
        "## **6. Cast**"
      ],
      "metadata": {
        "id": "D3D9gJPlTFsK"
      }
    },
    {
      "cell_type": "code",
      "source": [
        "# Top 20 actors netflix\n",
        "netflix_df['cast_name'] = netflix_df['cast'].apply(lambda x :  x.split(',')) \n",
        "cast_count = []\n",
        "for i in netflix_df['cast_name']: cast_count += i\n",
        "cast_dict = dict((i, cast_count.count(i)) for i in cast_count)\n",
        "df_cast_count = pd.DataFrame(cast_dict.values(),cast_dict.keys()).reset_index().sort_values(0,ascending=False).rename(\n",
        "    columns = {'index' : 'cast_name', 0 : 'count'}).iloc[1:21]\n",
        "plt.figure(figsize=(15,5))\n",
        "sns.barplot(x='cast_name',y='count',data=df_cast_count,palette=\"Dark2\")\n",
        "plt.title(\"Top-20 ACTORS on Netflix\",size='16',fontweight=\"bold\")\n",
        "plt.xticks(rotation=90)\n",
        "plt.show()"
      ],
      "metadata": {
        "colab": {
          "base_uri": "https://localhost:8080/",
          "height": 458
        },
        "id": "d_S7SWkITanX",
        "outputId": "c190d5c7-e864-4472-a68f-a1dd297b194e"
      },
      "execution_count": 33,
      "outputs": [
        {
          "output_type": "display_data",
          "data": {
            "text/plain": [
              "<Figure size 1080x360 with 1 Axes>"
            ],
            "image/png": "[encoded data removed]"
          },
          "metadata": {}
        }
      ]
    },
    {
      "cell_type": "markdown",
      "source": [
        "**Conclusion : The top actor on Netflix Movies, based on the number of titles, is Anupam Kher.**"
      ],
      "metadata": {
        "id": "r_uc_X5mUTE7"
      }
    },
    {
      "cell_type": "markdown",
      "source": [
        "## **7. Duration**"
      ],
      "metadata": {
        "id": "Fbwb7MG-MyGl"
      }
    },
    {
      "cell_type": "code",
      "source": [
        "#Checking the distribution of Movie Durations\n",
        "plt.figure(figsize=(10,7))\n",
        "#Regular Expression pattern \\d is a regex pattern for digit + is a regex pattern for at leas\n",
        "sns.distplot(movies['duration'].str.extract('(\\d+)'),kde=False, color=['red'])\n",
        "plt.title('Distplot with Normal distribution for Movies',fontweight=\"bold\")\n",
        "plt.show()"
      ],
      "metadata": {
        "colab": {
          "base_uri": "https://localhost:8080/",
          "height": 447
        },
        "id": "gFy1XnKFM3g9",
        "outputId": "77497034-e678-463e-c2df-204ea51d9bb7"
      },
      "execution_count": 34,
      "outputs": [
        {
          "output_type": "display_data",
          "data": {
            "text/plain": [
              "<Figure size 720x504 with 1 Axes>"
            ],
            "image/png": "[encoded data removed]"
          },
          "metadata": {}
        }
      ]
    },
    {
      "cell_type": "markdown",
      "source": [
        "**Conclusion : Most of the movies have duration of between 50 to 150.**"
      ],
      "metadata": {
        "id": "ipnWvu0aNMa9"
      }
    },
    {
      "cell_type": "markdown",
      "source": [
        "## **Understanding what type content is available in different countries**"
      ],
      "metadata": {
        "id": "Kxo2z0fEGU30"
      }
    },
    {
      "cell_type": "code",
      "source": [
        "# Preparing data for heatmap\n",
        "netflix_df['count'] = 1\n",
        "data = netflix_df.groupby('country')[['country','count']].sum().sort_values(by='count',ascending=False).reset_index()[:10]\n",
        "data = data['country']\n",
        "\n",
        "\n",
        "df_heatmap = netflix_df.loc[netflix_df['country'].isin(data)]\n",
        "df_heatmap = pd.crosstab(df_heatmap['country'],df_heatmap['target_ages'],normalize = \"index\").T\n",
        "df_heatmap"
      ],
      "metadata": {
        "colab": {
          "base_uri": "https://localhost:8080/",
          "height": 206
        },
        "id": "iRmhSMpUGZMd",
        "outputId": "a106ae8a-a19a-4f60-f0c1-b3236dff8ce7"
      },
      "execution_count": 35,
      "outputs": [
        {
          "output_type": "execute_result",
          "data": {
            "text/plain": [
              "country        Canada     Egypt    France     India     Japan  Mexico  \\\n",
              "target_ages                                                             \n",
              "Kids         0.180791  0.000000  0.095652  0.016251  0.008889    0.02   \n",
              "Older Kids   0.225989  0.039604  0.060870  0.160347  0.271111    0.07   \n",
              "Teens        0.146893  0.683168  0.165217  0.567714  0.351111    0.14   \n",
              "Adults       0.446328  0.277228  0.678261  0.255688  0.368889    0.77   \n",
              "\n",
              "country      South Korea     Spain  United Kingdom  United States  \n",
              "target_ages                                                        \n",
              "Kids            0.027322  0.022388        0.093434       0.089362  \n",
              "Older Kids      0.120219  0.044776        0.204545       0.195090  \n",
              "Teens           0.382514  0.097015        0.189394       0.242881  \n",
              "Adults          0.469945  0.835821        0.512626       0.472668  "
            ],
            "text/html": [
              "\n",
              "  <div id=\"df-e5db7ad9-d6a6-4868-b4f6-0a6147b87177\">\n",
              "    <div class=\"colab-df-container\">\n",
              "      <div>\n",
              "<style scoped>\n",
              "    .dataframe tbody tr th:only-of-type {\n",
              "        vertical-align: middle;\n",
              "    }\n",
              "\n",
              "    .dataframe tbody tr th {\n",
              "        vertical-align: top;\n",
              "    }\n",
              "\n",
              "    .dataframe thead th {\n",
              "        text-align: right;\n",
              "    }\n",
              "</style>\n",
              "<table border=\"1\" class=\"dataframe\">\n",
              "  <thead>\n",
              "    <tr style=\"text-align: right;\">\n",
              "      <th>country</th>\n",
              "      <th>Canada</th>\n",
              "      <th>Egypt</th>\n",
              "      <th>France</th>\n",
              "      <th>India</th>\n",
              "      <th>Japan</th>\n",
              "      <th>Mexico</th>\n",
              "      <th>South Korea</th>\n",
              "      <th>Spain</th>\n",
              "      <th>United Kingdom</th>\n",
              "      <th>United States</th>\n",
              "    </tr>\n",
              "    <tr>\n",
              "      <th>target_ages</th>\n",
              "      <th></th>\n",
              "      <th></th>\n",
              "      <th></th>\n",
              "      <th></th>\n",
              "      <th></th>\n",
              "      <th></th>\n",
              "      <th></th>\n",
              "      <th></th>\n",
              "      <th></th>\n",
              "      <th></th>\n",
              "    </tr>\n",
              "  </thead>\n",
              "  <tbody>\n",
              "    <tr>\n",
              "      <th>Kids</th>\n",
              "      <td>0.180791</td>\n",
              "      <td>0.000000</td>\n",
              "      <td>0.095652</td>\n",
              "      <td>0.016251</td>\n",
              "      <td>0.008889</td>\n",
              "      <td>0.02</td>\n",
              "      <td>0.027322</td>\n",
              "      <td>0.022388</td>\n",
              "      <td>0.093434</td>\n",
              "      <td>0.089362</td>\n",
              "    </tr>\n",
              "    <tr>\n",
              "      <th>Older Kids</th>\n",
              "      <td>0.225989</td>\n",
              "      <td>0.039604</td>\n",
              "      <td>0.060870</td>\n",
              "      <td>0.160347</td>\n",
              "      <td>0.271111</td>\n",
              "      <td>0.07</td>\n",
              "      <td>0.120219</td>\n",
              "      <td>0.044776</td>\n",
              "      <td>0.204545</td>\n",
              "      <td>0.195090</td>\n",
              "    </tr>\n",
              "    <tr>\n",
              "      <th>Teens</th>\n",
              "      <td>0.146893</td>\n",
              "      <td>0.683168</td>\n",
              "      <td>0.165217</td>\n",
              "      <td>0.567714</td>\n",
              "      <td>0.351111</td>\n",
              "      <td>0.14</td>\n",
              "      <td>0.382514</td>\n",
              "      <td>0.097015</td>\n",
              "      <td>0.189394</td>\n",
              "      <td>0.242881</td>\n",
              "    </tr>\n",
              "    <tr>\n",
              "      <th>Adults</th>\n",
              "      <td>0.446328</td>\n",
              "      <td>0.277228</td>\n",
              "      <td>0.678261</td>\n",
              "      <td>0.255688</td>\n",
              "      <td>0.368889</td>\n",
              "      <td>0.77</td>\n",
              "      <td>0.469945</td>\n",
              "      <td>0.835821</td>\n",
              "      <td>0.512626</td>\n",
              "      <td>0.472668</td>\n",
              "    </tr>\n",
              "  </tbody>\n",
              "</table>\n",
              "</div>\n",
              "      <button class=\"colab-df-convert\" onclick=\"convertToInteractive('df-e5db7ad9-d6a6-4868-b4f6-0a6147b87177')\"\n",
              "              title=\"Convert this dataframe to an interactive table.\"\n",
              "              style=\"display:none;\">\n",
              "        \n",
              "  <svg xmlns=\"http://www.w3.org/2000/svg\" height=\"24px\"viewBox=\"0 0 24 24\"\n",
              "       width=\"24px\">\n",
              "    <path d=\"M0 0h24v24H0V0z\" fill=\"none\"/>\n",
              "    <path d=\"M18.56 5.44l.94 2.06.94-2.06 2.06-.94-2.06-.94-.94-2.06-.94 2.06-2.06.94zm-11 1L8.5 8.5l.94-2.06 2.06-.94-2.06-.94L8.5 2.5l-.94 2.06-2.06.94zm10 10l.94 2.06.94-2.06 2.06-.94-2.06-.94-.94-2.06-.94 2.06-2.06.94z\"/><path d=\"M17.41 7.96l-1.37-1.37c-.4-.4-.92-.59-1.43-.59-.52 0-1.04.2-1.43.59L10.3 9.45l-7.72 7.72c-.78.78-.78 2.05 0 2.83L4 21.41c.39.39.9.59 1.41.59.51 0 1.02-.2 1.41-.59l7.78-7.78 2.81-2.81c.8-.78.8-2.07 0-2.86zM5.41 20L4 18.59l7.72-7.72 1.47 1.35L5.41 20z\"/>\n",
              "  </svg>\n",
              "      </button>\n",
              "      \n",
              "  <style>\n",
              "    .colab-df-container {\n",
              "      display:flex;\n",
              "      flex-wrap:wrap;\n",
              "      gap: 12px;\n",
              "    }\n",
              "\n",
              "    .colab-df-convert {\n",
              "      background-color: #E8F0FE;\n",
              "      border: none;\n",
              "      border-radius: 50%;\n",
              "      cursor: pointer;\n",
              "      display: none;\n",
              "      fill: #1967D2;\n",
              "      height: 32px;\n",
              "      padding: 0 0 0 0;\n",
              "      width: 32px;\n",
              "    }\n",
              "\n",
              "    .colab-df-convert:hover {\n",
              "      background-color: #E2EBFA;\n",
              "      box-shadow: 0px 1px 2px rgba(60, 64, 67, 0.3), 0px 1px 3px 1px rgba(60, 64, 67, 0.15);\n",
              "      fill: #174EA6;\n",
              "    }\n",
              "\n",
              "    [theme=dark] .colab-df-convert {\n",
              "      background-color: #3B4455;\n",
              "      fill: #D2E3FC;\n",
              "    }\n",
              "\n",
              "    [theme=dark] .colab-df-convert:hover {\n",
              "      background-color: #434B5C;\n",
              "      box-shadow: 0px 1px 3px 1px rgba(0, 0, 0, 0.15);\n",
              "      filter: drop-shadow(0px 1px 2px rgba(0, 0, 0, 0.3));\n",
              "      fill: #FFFFFF;\n",
              "    }\n",
              "  </style>\n",
              "\n",
              "      <script>\n",
              "        const buttonEl =\n",
              "          document.querySelector('#df-e5db7ad9-d6a6-4868-b4f6-0a6147b87177 button.colab-df-convert');\n",
              "        buttonEl.style.display =\n",
              "          google.colab.kernel.accessAllowed ? 'block' : 'none';\n",
              "\n",
              "        async function convertToInteractive(key) {\n",
              "          const element = document.querySelector('#df-e5db7ad9-d6a6-4868-b4f6-0a6147b87177');\n",
              "          const dataTable =\n",
              "            await google.colab.kernel.invokeFunction('convertToInteractive',\n",
              "                                                     [key], {});\n",
              "          if (!dataTable) return;\n",
              "\n",
              "          const docLinkHtml = 'Like what you see? Visit the ' +\n",
              "            '<a target=\"_blank\" href=https://colab.research.google.com/notebooks/data_table.ipynb>data table notebook</a>'\n",
              "            + ' to learn more about interactive tables.';\n",
              "          element.innerHTML = '';\n",
              "          dataTable['output_type'] = 'display_data';\n",
              "          await google.colab.output.renderOutput(dataTable, element);\n",
              "          const docLink = document.createElement('div');\n",
              "          docLink.innerHTML = docLinkHtml;\n",
              "          element.appendChild(docLink);\n",
              "        }\n",
              "      </script>\n",
              "    </div>\n",
              "  </div>\n",
              "  "
            ]
          },
          "metadata": {},
          "execution_count": 35
        }
      ]
    },
    {
      "cell_type": "code",
      "source": [
        "# Plotting the heatmap\n",
        "fig, ax = plt.subplots(1, 1, figsize=(12, 12))\n",
        "\n",
        "country_order2 = ['United States', 'India', 'United Kingdom', 'Canada', 'Japan', 'France', 'South Korea', 'Spain',\n",
        "       'Mexico']\n",
        "\n",
        "age_order = ['Adults', 'Teens', 'Older Kids', 'Kids']\n",
        "\n",
        "sns.heatmap(df_heatmap.loc[age_order,country_order2],cmap=\"YlGnBu\",square=True, linewidth=2.5,cbar=False,\n",
        "            annot=True,fmt='1.0%',vmax=.6,vmin=0.05,ax=ax,annot_kws={\"fontsize\":12})\n",
        "plt.show()"
      ],
      "metadata": {
        "colab": {
          "base_uri": "https://localhost:8080/",
          "height": 365
        },
        "id": "-S23667XGlxC",
        "outputId": "139be4c7-3f96-4517-8a5f-33eab9e3cf78"
      },
      "execution_count": 36,
      "outputs": [
        {
          "output_type": "display_data",
          "data": {
            "text/plain": [
              "<Figure size 864x864 with 1 Axes>"
            ],
            "image/png": "[encoded data removed]"
          },
          "metadata": {}
        }
      ]
    },
    {
      "cell_type": "markdown",
      "source": [
        "**Conclusion:**\n",
        "\n",
        "*   **USA and UK are closely aligned with their Netflix target ages, but radically different from, example, India or Japan!**\n",
        "\n",
        "*   **Mexico and Spain have similar content on Netflix for different age groups.** \n",
        "\n"
      ],
      "metadata": {
        "id": "h-FIv7PxHbO4"
      }
    },
    {
      "cell_type": "markdown",
      "source": [
        "# **Data Cleaning and Feature Engineering**"
      ],
      "metadata": {
        "id": "r9HTQM1nRhtq"
      }
    },
    {
      "cell_type": "markdown",
      "source": [
        "## **1. Description**"
      ],
      "metadata": {
        "id": "rOmM3SM5R3z6"
      }
    },
    {
      "cell_type": "code",
      "source": [
        "netflix_df.columns"
      ],
      "metadata": {
        "colab": {
          "base_uri": "https://localhost:8080/"
        },
        "id": "N_LK8yvBSMkQ",
        "outputId": "945863b5-7851-48fb-b6db-30fe431f37f5"
      },
      "execution_count": 37,
      "outputs": [
        {
          "output_type": "execute_result",
          "data": {
            "text/plain": [
              "Index(['show_id', 'type', 'title', 'cast', 'country', 'date_added',\n",
              "       'release_year', 'rating', 'duration', 'listed_in', 'description',\n",
              "       'year_added', 'month_added', 'target_ages', 'cast_name', 'count'],\n",
              "      dtype='object')"
            ]
          },
          "metadata": {},
          "execution_count": 37
        }
      ]
    },
    {
      "cell_type": "code",
      "source": [
        "netflix_df.drop(['target_ages', 'cast_name', 'count','cast'],axis=1, inplace=True)\n",
        "netflix_df.head(3)"
      ],
      "metadata": {
        "colab": {
          "base_uri": "https://localhost:8080/",
          "height": 239
        },
        "id": "WgSuQAbVTj0Y",
        "outputId": "7822c42b-9501-4b78-f9b2-281b83fa5ece"
      },
      "execution_count": 38,
      "outputs": [
        {
          "output_type": "execute_result",
          "data": {
            "text/plain": [
              "  show_id     type  title    country date_added  release_year rating  \\\n",
              "0      s1  TV Show     3%     Brazil 2020-08-14          2020  TV-MA   \n",
              "1      s2    Movie   7:19     Mexico 2016-12-23          2016  TV-MA   \n",
              "2      s3    Movie  23:59  Singapore 2018-12-20          2011      R   \n",
              "\n",
              "    duration                                          listed_in  \\\n",
              "0  4 Seasons  International TV Shows, TV Dramas, TV Sci-Fi &...   \n",
              "1     93 min                       Dramas, International Movies   \n",
              "2     78 min                Horror Movies, International Movies   \n",
              "\n",
              "                                         description  year_added  month_added  \n",
              "0  In a future where the elite inhabit an island ...        2020            8  \n",
              "1  After a devastating earthquake hits Mexico Cit...        2016           12  \n",
              "2  When an army recruit is found dead, his fellow...        2018           12  "
            ],
            "text/html": [
              "\n",
              "  <div id=\"df-c42d79c4-2b50-4b40-9a15-c69ef3065733\">\n",
              "    <div class=\"colab-df-container\">\n",
              "      <div>\n",
              "<style scoped>\n",
              "    .dataframe tbody tr th:only-of-type {\n",
              "        vertical-align: middle;\n",
              "    }\n",
              "\n",
              "    .dataframe tbody tr th {\n",
              "        vertical-align: top;\n",
              "    }\n",
              "\n",
              "    .dataframe thead th {\n",
              "        text-align: right;\n",
              "    }\n",
              "</style>\n",
              "<table border=\"1\" class=\"dataframe\">\n",
              "  <thead>\n",
              "    <tr style=\"text-align: right;\">\n",
              "      <th></th>\n",
              "      <th>show_id</th>\n",
              "      <th>type</th>\n",
              "      <th>title</th>\n",
              "      <th>country</th>\n",
              "      <th>date_added</th>\n",
              "      <th>release_year</th>\n",
              "      <th>rating</th>\n",
              "      <th>duration</th>\n",
              "      <th>listed_in</th>\n",
              "      <th>description</th>\n",
              "      <th>year_added</th>\n",
              "      <th>month_added</th>\n",
              "    </tr>\n",
              "  </thead>\n",
              "  <tbody>\n",
              "    <tr>\n",
              "      <th>0</th>\n",
              "      <td>s1</td>\n",
              "      <td>TV Show</td>\n",
              "      <td>3%</td>\n",
              "      <td>Brazil</td>\n",
              "      <td>2020-08-14</td>\n",
              "      <td>2020</td>\n",
              "      <td>TV-MA</td>\n",
              "      <td>4 Seasons</td>\n",
              "      <td>International TV Shows, TV Dramas, TV Sci-Fi &amp;...</td>\n",
              "      <td>In a future where the elite inhabit an island ...</td>\n",
              "      <td>2020</td>\n",
              "      <td>8</td>\n",
              "    </tr>\n",
              "    <tr>\n",
              "      <th>1</th>\n",
              "      <td>s2</td>\n",
              "      <td>Movie</td>\n",
              "      <td>7:19</td>\n",
              "      <td>Mexico</td>\n",
              "      <td>2016-12-23</td>\n",
              "      <td>2016</td>\n",
              "      <td>TV-MA</td>\n",
              "      <td>93 min</td>\n",
              "      <td>Dramas, International Movies</td>\n",
              "      <td>After a devastating earthquake hits Mexico Cit...</td>\n",
              "      <td>2016</td>\n",
              "      <td>12</td>\n",
              "    </tr>\n",
              "    <tr>\n",
              "      <th>2</th>\n",
              "      <td>s3</td>\n",
              "      <td>Movie</td>\n",
              "      <td>23:59</td>\n",
              "      <td>Singapore</td>\n",
              "      <td>2018-12-20</td>\n",
              "      <td>2011</td>\n",
              "      <td>R</td>\n",
              "      <td>78 min</td>\n",
              "      <td>Horror Movies, International Movies</td>\n",
              "      <td>When an army recruit is found dead, his fellow...</td>\n",
              "      <td>2018</td>\n",
              "      <td>12</td>\n",
              "    </tr>\n",
              "  </tbody>\n",
              "</table>\n",
              "</div>\n",
              "      <button class=\"colab-df-convert\" onclick=\"convertToInteractive('df-c42d79c4-2b50-4b40-9a15-c69ef3065733')\"\n",
              "              title=\"Convert this dataframe to an interactive table.\"\n",
              "              style=\"display:none;\">\n",
              "        \n",
              "  <svg xmlns=\"http://www.w3.org/2000/svg\" height=\"24px\"viewBox=\"0 0 24 24\"\n",
              "       width=\"24px\">\n",
              "    <path d=\"M0 0h24v24H0V0z\" fill=\"none\"/>\n",
              "    <path d=\"M18.56 5.44l.94 2.06.94-2.06 2.06-.94-2.06-.94-.94-2.06-.94 2.06-2.06.94zm-11 1L8.5 8.5l.94-2.06 2.06-.94-2.06-.94L8.5 2.5l-.94 2.06-2.06.94zm10 10l.94 2.06.94-2.06 2.06-.94-2.06-.94-.94-2.06-.94 2.06-2.06.94z\"/><path d=\"M17.41 7.96l-1.37-1.37c-.4-.4-.92-.59-1.43-.59-.52 0-1.04.2-1.43.59L10.3 9.45l-7.72 7.72c-.78.78-.78 2.05 0 2.83L4 21.41c.39.39.9.59 1.41.59.51 0 1.02-.2 1.41-.59l7.78-7.78 2.81-2.81c.8-.78.8-2.07 0-2.86zM5.41 20L4 18.59l7.72-7.72 1.47 1.35L5.41 20z\"/>\n",
              "  </svg>\n",
              "      </button>\n",
              "      \n",
              "  <style>\n",
              "    .colab-df-container {\n",
              "      display:flex;\n",
              "      flex-wrap:wrap;\n",
              "      gap: 12px;\n",
              "    }\n",
              "\n",
              "    .colab-df-convert {\n",
              "      background-color: #E8F0FE;\n",
              "      border: none;\n",
              "      border-radius: 50%;\n",
              "      cursor: pointer;\n",
              "      display: none;\n",
              "      fill: #1967D2;\n",
              "      height: 32px;\n",
              "      padding: 0 0 0 0;\n",
              "      width: 32px;\n",
              "    }\n",
              "\n",
              "    .colab-df-convert:hover {\n",
              "      background-color: #E2EBFA;\n",
              "      box-shadow: 0px 1px 2px rgba(60, 64, 67, 0.3), 0px 1px 3px 1px rgba(60, 64, 67, 0.15);\n",
              "      fill: #174EA6;\n",
              "    }\n",
              "\n",
              "    [theme=dark] .colab-df-convert {\n",
              "      background-color: #3B4455;\n",
              "      fill: #D2E3FC;\n",
              "    }\n",
              "\n",
              "    [theme=dark] .colab-df-convert:hover {\n",
              "      background-color: #434B5C;\n",
              "      box-shadow: 0px 1px 3px 1px rgba(0, 0, 0, 0.15);\n",
              "      filter: drop-shadow(0px 1px 2px rgba(0, 0, 0, 0.3));\n",
              "      fill: #FFFFFF;\n",
              "    }\n",
              "  </style>\n",
              "\n",
              "      <script>\n",
              "        const buttonEl =\n",
              "          document.querySelector('#df-c42d79c4-2b50-4b40-9a15-c69ef3065733 button.colab-df-convert');\n",
              "        buttonEl.style.display =\n",
              "          google.colab.kernel.accessAllowed ? 'block' : 'none';\n",
              "\n",
              "        async function convertToInteractive(key) {\n",
              "          const element = document.querySelector('#df-c42d79c4-2b50-4b40-9a15-c69ef3065733');\n",
              "          const dataTable =\n",
              "            await google.colab.kernel.invokeFunction('convertToInteractive',\n",
              "                                                     [key], {});\n",
              "          if (!dataTable) return;\n",
              "\n",
              "          const docLinkHtml = 'Like what you see? Visit the ' +\n",
              "            '<a target=\"_blank\" href=https://colab.research.google.com/notebooks/data_table.ipynb>data table notebook</a>'\n",
              "            + ' to learn more about interactive tables.';\n",
              "          element.innerHTML = '';\n",
              "          dataTable['output_type'] = 'display_data';\n",
              "          await google.colab.output.renderOutput(dataTable, element);\n",
              "          const docLink = document.createElement('div');\n",
              "          docLink.innerHTML = docLinkHtml;\n",
              "          element.appendChild(docLink);\n",
              "        }\n",
              "      </script>\n",
              "    </div>\n",
              "  </div>\n",
              "  "
            ]
          },
          "metadata": {},
          "execution_count": 38
        }
      ]
    },
    {
      "cell_type": "code",
      "source": [
        "netflix_df.description.iloc[0]"
      ],
      "metadata": {
        "colab": {
          "base_uri": "https://localhost:8080/",
          "height": 36
        },
        "id": "K4EpjIYDVNAY",
        "outputId": "f750cb22-dd3e-44c2-dfaa-8f618486e2a3"
      },
      "execution_count": 39,
      "outputs": [
        {
          "output_type": "execute_result",
          "data": {
            "text/plain": [
              "'In a future where the elite inhabit an island paradise far from the crowded slums, you get one chance to join the 3% saved from squalor.'"
            ],
            "application/vnd.google.colaboratory.intrinsic+json": {
              "type": "string"
            }
          },
          "metadata": {},
          "execution_count": 39
        }
      ]
    },
    {
      "cell_type": "code",
      "source": [
        "First_des = netflix_df.description.iloc[0]\n",
        "First_des"
      ],
      "metadata": {
        "colab": {
          "base_uri": "https://localhost:8080/",
          "height": 36
        },
        "id": "pl8GOqlwVywn",
        "outputId": "ba81ddc4-66b7-4e3a-ee3b-9843a8b4d5ad"
      },
      "execution_count": 40,
      "outputs": [
        {
          "output_type": "execute_result",
          "data": {
            "text/plain": [
              "'In a future where the elite inhabit an island paradise far from the crowded slums, you get one chance to join the 3% saved from squalor.'"
            ],
            "application/vnd.google.colaboratory.intrinsic+json": {
              "type": "string"
            }
          },
          "metadata": {},
          "execution_count": 40
        }
      ]
    },
    {
      "cell_type": "markdown",
      "source": [
        "###  **Importing necessary libraries**"
      ],
      "metadata": {
        "id": "virculq8V-Cg"
      }
    },
    {
      "cell_type": "code",
      "source": [
        "from sklearn import preprocessing\n",
        "from sklearn.feature_extraction.text import CountVectorizer, TfidfVectorizer\n",
        "from sklearn.model_selection import train_test_split, KFold\n",
        "from nltk.corpus import stopwords\n",
        "from nltk.stem.snowball import SnowballStemmer"
      ],
      "metadata": {
        "id": "WR6iAaraWNTm"
      },
      "execution_count": 41,
      "outputs": []
    },
    {
      "cell_type": "markdown",
      "source": [
        "* **Download nltk**"
      ],
      "metadata": {
        "id": "QDhBF1HyWTU2"
      }
    },
    {
      "cell_type": "code",
      "source": [
        "import nltk \n",
        "nltk.download()"
      ],
      "metadata": {
        "colab": {
          "base_uri": "https://localhost:8080/"
        },
        "id": "VomJqGRZXjaT",
        "outputId": "88efbf0c-8455-4c65-eab9-88793964d7af"
      },
      "execution_count": 42,
      "outputs": [
        {
          "name": "stdout",
          "output_type": "stream",
          "text": [
            "NLTK Downloader\n",
            "---------------------------------------------------------------------------\n",
            "    d) Download   l) List    u) Update   c) Config   h) Help   q) Quit\n",
            "---------------------------------------------------------------------------\n",
            "Downloader> d\n",
            "\n",
            "Download which package (l=list; x=cancel)?\n",
            "  Identifier> l\n",
            "Packages:\n",
            "  [ ] abc................. Australian Broadcasting Commission 2006\n",
            "  [ ] alpino.............. Alpino Dutch Treebank\n",
            "  [ ] averaged_perceptron_tagger Averaged Perceptron Tagger\n",
            "  [ ] averaged_perceptron_tagger_ru Averaged Perceptron Tagger (Russian)\n",
            "  [ ] basque_grammars..... Grammars for Basque\n",
            "  [ ] biocreative_ppi..... BioCreAtIvE (Critical Assessment of Information\n",
            "                           Extraction Systems in Biology)\n",
            "  [ ] bllip_wsj_no_aux.... BLLIP Parser: WSJ Model\n",
            "  [ ] book_grammars....... Grammars from NLTK Book\n",
            "  [ ] brown............... Brown Corpus\n",
            "  [ ] brown_tei........... Brown Corpus (TEI XML Version)\n",
            "  [ ] cess_cat............ CESS-CAT Treebank\n",
            "  [ ] cess_esp............ CESS-ESP Treebank\n",
            "  [ ] chat80.............. Chat-80 Data Files\n",
            "  [ ] city_database....... City Database\n",
            "  [ ] cmudict............. The Carnegie Mellon Pronouncing Dictionary (0.6)\n",
            "  [ ] comparative_sentences Comparative Sentence Dataset\n",
            "  [ ] comtrans............ ComTrans Corpus Sample\n",
            "  [ ] conll2000........... CONLL 2000 Chunking Corpus\n",
            "  [ ] conll2002........... CONLL 2002 Named Entity Recognition Corpus\n",
            "Hit Enter to continue: \n",
            "  [ ] conll2007........... Dependency Treebanks from CoNLL 2007 (Catalan\n",
            "                           and Basque Subset)\n",
            "  [ ] crubadan............ Crubadan Corpus\n",
            "  [ ] dependency_treebank. Dependency Parsed Treebank\n",
            "  [ ] dolch............... Dolch Word List\n",
            "  [ ] europarl_raw........ Sample European Parliament Proceedings Parallel\n",
            "                           Corpus\n",
            "  [ ] extended_omw........ Extended Open Multilingual WordNet\n",
            "  [ ] floresta............ Portuguese Treebank\n",
            "  [ ] framenet_v15........ FrameNet 1.5\n",
            "  [ ] framenet_v17........ FrameNet 1.7\n",
            "  [ ] gazetteers.......... Gazeteer Lists\n",
            "  [ ] genesis............. Genesis Corpus\n",
            "  [ ] gutenberg........... Project Gutenberg Selections\n",
            "  [ ] ieer................ NIST IE-ER DATA SAMPLE\n",
            "  [ ] inaugural........... C-Span Inaugural Address Corpus\n",
            "  [ ] indian.............. Indian Language POS-Tagged Corpus\n",
            "  [ ] jeita............... JEITA Public Morphologically Tagged Corpus (in\n",
            "                           ChaSen format)\n",
            "  [ ] kimmo............... PC-KIMMO Data Files\n",
            "  [ ] knbc................ KNB Corpus (Annotated blog corpus)\n",
            "Hit Enter to continue: \n",
            "  [ ] large_grammars...... Large context-free and feature-based grammars\n",
            "                           for parser comparison\n",
            "  [ ] lin_thesaurus....... Lin's Dependency Thesaurus\n",
            "  [ ] mac_morpho.......... MAC-MORPHO: Brazilian Portuguese news text with\n",
            "                           part-of-speech tags\n",
            "  [ ] machado............. Machado de Assis -- Obra Completa\n",
            "  [ ] masc_tagged......... MASC Tagged Corpus\n",
            "  [ ] maxent_ne_chunker... ACE Named Entity Chunker (Maximum entropy)\n",
            "  [ ] maxent_treebank_pos_tagger Treebank Part of Speech Tagger (Maximum entropy)\n",
            "  [ ] moses_sample........ Moses Sample Models\n",
            "  [ ] movie_reviews....... Sentiment Polarity Dataset Version 2.0\n",
            "  [ ] mte_teip5........... MULTEXT-East 1984 annotated corpus 4.0\n",
            "  [ ] mwa_ppdb............ The monolingual word aligner (Sultan et al.\n",
            "                           2015) subset of the Paraphrase Database.\n",
            "  [ ] names............... Names Corpus, Version 1.3 (1994-03-29)\n",
            "  [ ] nombank.1.0......... NomBank Corpus 1.0\n",
            "  [ ] nonbreaking_prefixes Non-Breaking Prefixes (Moses Decoder)\n",
            "  [ ] nps_chat............ NPS Chat\n",
            "  [ ] omw-1.4............. Open Multilingual Wordnet\n",
            "  [ ] omw................. Open Multilingual Wordnet\n",
            "  [ ] opinion_lexicon..... Opinion Lexicon\n",
            "Hit Enter to continue: \n",
            "  [ ] panlex_swadesh...... PanLex Swadesh Corpora\n",
            "  [ ] paradigms........... Paradigm Corpus\n",
            "  [ ] pe08................ Cross-Framework and Cross-Domain Parser\n",
            "                           Evaluation Shared Task\n",
            "  [ ] perluniprops........ perluniprops: Index of Unicode Version 7.0.0\n",
            "                           character properties in Perl\n",
            "  [ ] pil................. The Patient Information Leaflet (PIL) Corpus\n",
            "  [ ] pl196x.............. Polish language of the XX century sixties\n",
            "  [ ] porter_test......... Porter Stemmer Test Files\n",
            "  [ ] ppattach............ Prepositional Phrase Attachment Corpus\n",
            "  [ ] problem_reports..... Problem Report Corpus\n",
            "  [ ] product_reviews_1... Product Reviews (5 Products)\n",
            "  [ ] product_reviews_2... Product Reviews (9 Products)\n",
            "  [ ] propbank............ Proposition Bank Corpus 1.0\n",
            "  [ ] pros_cons........... Pros and Cons\n",
            "  [ ] ptb................. Penn Treebank\n",
            "  [ ] punkt............... Punkt Tokenizer Models\n",
            "  [ ] qc.................. Experimental Data for Question Classification\n",
            "  [ ] reuters............. The Reuters-21578 benchmark corpus, ApteMod\n",
            "                           version\n",
            "  [ ] rslp................ RSLP Stemmer (Removedor de Sufixos da Lingua\n",
            "                           Portuguesa)\n",
            "Hit Enter to continue: \n",
            "  [ ] rte................. PASCAL RTE Challenges 1, 2, and 3\n",
            "  [ ] sample_grammars..... Sample Grammars\n",
            "  [ ] semcor.............. SemCor 3.0\n",
            "  [ ] senseval............ SENSEVAL 2 Corpus: Sense Tagged Text\n",
            "  [ ] sentence_polarity... Sentence Polarity Dataset v1.0\n",
            "  [ ] sentiwordnet........ SentiWordNet\n",
            "  [ ] shakespeare......... Shakespeare XML Corpus Sample\n",
            "  [ ] sinica_treebank..... Sinica Treebank Corpus Sample\n",
            "  [ ] smultron............ SMULTRON Corpus Sample\n",
            "  [ ] snowball_data....... Snowball Data\n",
            "  [ ] spanish_grammars.... Grammars for Spanish\n",
            "  [ ] state_union......... C-Span State of the Union Address Corpus\n",
            "  [ ] stopwords........... Stopwords Corpus\n",
            "  [ ] subjectivity........ Subjectivity Dataset v1.0\n",
            "  [ ] swadesh............. Swadesh Wordlists\n",
            "  [ ] switchboard......... Switchboard Corpus Sample\n",
            "  [ ] tagsets............. Help on Tagsets\n",
            "  [ ] timit............... TIMIT Corpus Sample\n",
            "  [ ] toolbox............. Toolbox Sample Files\n",
            "  [ ] treebank............ Penn Treebank Sample\n",
            "  [ ] twitter_samples..... Twitter Samples\n",
            "Hit Enter to continue: \n",
            "  [ ] udhr2............... Universal Declaration of Human Rights Corpus\n",
            "                           (Unicode Version)\n",
            "  [ ] udhr................ Universal Declaration of Human Rights Corpus\n",
            "  [ ] unicode_samples..... Unicode Samples\n",
            "  [ ] universal_tagset.... Mappings to the Universal Part-of-Speech Tagset\n",
            "  [ ] universal_treebanks_v20 Universal Treebanks Version 2.0\n",
            "  [ ] vader_lexicon....... VADER Sentiment Lexicon\n",
            "  [ ] verbnet3............ VerbNet Lexicon, Version 3.3\n",
            "  [ ] verbnet............. VerbNet Lexicon, Version 2.1\n",
            "  [ ] webtext............. Web Text Corpus\n",
            "  [ ] wmt15_eval.......... Evaluation data from WMT15\n",
            "  [ ] word2vec_sample..... Word2Vec Sample\n",
            "  [ ] wordnet2021......... Open English Wordnet 2021\n",
            "  [ ] wordnet31........... Wordnet 3.1\n",
            "  [ ] wordnet............. WordNet\n",
            "  [ ] wordnet_ic.......... WordNet-InfoContent\n",
            "  [ ] words............... Word Lists\n",
            "  [ ] ycoe................ York-Toronto-Helsinki Parsed Corpus of Old\n",
            "                           English Prose\n",
            "\n",
            "Collections:\n",
            "  [ ] all-corpora......... All the corpora\n",
            "Hit Enter to continue: \n",
            "  [ ] all-nltk............ All packages available on nltk_data gh-pages\n",
            "                           branch\n",
            "  [ ] all................. All packages\n",
            "  [ ] book................ Everything used in the NLTK Book\n",
            "  [ ] popular............. Popular packages\n",
            "  [ ] tests............... Packages for running tests\n",
            "  [ ] third-party......... Third-party data packages\n",
            "\n",
            "([*] marks installed packages)\n",
            "\n",
            "Download which package (l=list; x=cancel)?\n",
            "  Identifier> x\n",
            "\n",
            "---------------------------------------------------------------------------\n",
            "    d) Download   l) List    u) Update   c) Config   h) Help   q) Quit\n",
            "---------------------------------------------------------------------------\n",
            "Downloader> q\n"
          ]
        },
        {
          "output_type": "execute_result",
          "data": {
            "text/plain": [
              "True"
            ]
          },
          "metadata": {},
          "execution_count": 42
        }
      ]
    },
    {
      "cell_type": "markdown",
      "source": [
        "\n",
        "###   **Removing stopwords**\n",
        "\n"
      ],
      "metadata": {
        "id": "L5k9hn6UYGS8"
      }
    },
    {
      "cell_type": "code",
      "source": [
        "import nltk\n",
        "nltk.download('stopwords')"
      ],
      "metadata": {
        "colab": {
          "base_uri": "https://localhost:8080/"
        },
        "id": "vme1zM5LYYoF",
        "outputId": "8d2db302-8f0c-4441-80ed-490448e0f0e7"
      },
      "execution_count": 43,
      "outputs": [
        {
          "output_type": "stream",
          "name": "stderr",
          "text": [
            "[nltk_data] Downloading package stopwords to /root/nltk_data...\n",
            "[nltk_data]   Unzipping corpora/stopwords.zip.\n"
          ]
        },
        {
          "output_type": "execute_result",
          "data": {
            "text/plain": [
              "True"
            ]
          },
          "metadata": {},
          "execution_count": 43
        }
      ]
    },
    {
      "cell_type": "code",
      "source": [
        "# extracting the stopwords from nltk library\n",
        "sw = nltk.corpus.stopwords.words('english')\n",
        "# displaying the stopwords\n",
        "for i in sw:\n",
        "  print(i , end=',  ')"
      ],
      "metadata": {
        "colab": {
          "base_uri": "https://localhost:8080/"
        },
        "id": "vM5xcwSEYdDh",
        "outputId": "9f06f330-1ade-43ae-fea0-98f95af17f34"
      },
      "execution_count": 44,
      "outputs": [
        {
          "output_type": "stream",
          "name": "stdout",
          "text": [
            "i,  me,  my,  myself,  we,  our,  ours,  ourselves,  you,  you're,  you've,  you'll,  you'd,  your,  yours,  yourself,  yourselves,  he,  him,  his,  himself,  she,  she's,  her,  hers,  herself,  it,  it's,  its,  itself,  they,  them,  their,  theirs,  themselves,  what,  which,  who,  whom,  this,  that,  that'll,  these,  those,  am,  is,  are,  was,  were,  be,  been,  being,  have,  has,  had,  having,  do,  does,  did,  doing,  a,  an,  the,  and,  but,  if,  or,  because,  as,  until,  while,  of,  at,  by,  for,  with,  about,  against,  between,  into,  through,  during,  before,  after,  above,  below,  to,  from,  up,  down,  in,  out,  on,  off,  over,  under,  again,  further,  then,  once,  here,  there,  when,  where,  why,  how,  all,  any,  both,  each,  few,  more,  most,  other,  some,  such,  no,  nor,  not,  only,  own,  same,  so,  than,  too,  very,  s,  t,  can,  will,  just,  don,  don't,  should,  should've,  now,  d,  ll,  m,  o,  re,  ve,  y,  ain,  aren,  aren't,  couldn,  couldn't,  didn,  didn't,  doesn,  doesn't,  hadn,  hadn't,  hasn,  hasn't,  haven,  haven't,  isn,  isn't,  ma,  mightn,  mightn't,  mustn,  mustn't,  needn,  needn't,  shan,  shan't,  shouldn,  shouldn't,  wasn,  wasn't,  weren,  weren't,  won,  won't,  wouldn,  wouldn't,  "
          ]
        }
      ]
    },
    {
      "cell_type": "code",
      "source": [
        "print(\"Number of stopwords in english : \", len(sw))"
      ],
      "metadata": {
        "colab": {
          "base_uri": "https://localhost:8080/"
        },
        "id": "b6UJjHP3sdjA",
        "outputId": "07a2d790-4fbc-49eb-d47f-0561119c9172"
      },
      "execution_count": 45,
      "outputs": [
        {
          "output_type": "stream",
          "name": "stdout",
          "text": [
            "Number of stopwords in english :  179\n"
          ]
        }
      ]
    },
    {
      "cell_type": "code",
      "source": [
        "def remove_stopwords(text):\n",
        "    '''a function for removing the stopword'''\n",
        "    # removing the stop words and lowercasing the selected words\n",
        "    #Method 1\n",
        "    text1 = [word.lower() for word in text.split() if word.lower() not in sw]\n",
        "    # joining the list of words with space separator\n",
        "    return \" \".join(text1)"
      ],
      "metadata": {
        "id": "6_cUAivBsj_2"
      },
      "execution_count": 46,
      "outputs": []
    },
    {
      "cell_type": "code",
      "source": [
        "netflix_df['description'] = netflix_df['description'].apply( remove_stopwords )\n",
        "netflix_df.head()"
      ],
      "metadata": {
        "colab": {
          "base_uri": "https://localhost:8080/",
          "height": 337
        },
        "id": "buQjMz60srq_",
        "outputId": "725cd959-4baf-425c-bfea-0c84d645db37"
      },
      "execution_count": 47,
      "outputs": [
        {
          "output_type": "execute_result",
          "data": {
            "text/plain": [
              "  show_id     type  title        country date_added  release_year rating  \\\n",
              "0      s1  TV Show     3%         Brazil 2020-08-14          2020  TV-MA   \n",
              "1      s2    Movie   7:19         Mexico 2016-12-23          2016  TV-MA   \n",
              "2      s3    Movie  23:59      Singapore 2018-12-20          2011      R   \n",
              "3      s4    Movie      9  United States 2017-11-16          2009  PG-13   \n",
              "4      s5    Movie     21  United States 2020-01-01          2008  PG-13   \n",
              "\n",
              "    duration                                          listed_in  \\\n",
              "0  4 Seasons  International TV Shows, TV Dramas, TV Sci-Fi &...   \n",
              "1     93 min                       Dramas, International Movies   \n",
              "2     78 min                Horror Movies, International Movies   \n",
              "3     80 min  Action & Adventure, Independent Movies, Sci-Fi...   \n",
              "4    123 min                                             Dramas   \n",
              "\n",
              "                                         description  year_added  month_added  \n",
              "0  future elite inhabit island paradise far crowd...        2020            8  \n",
              "1  devastating earthquake hits mexico city, trapp...        2016           12  \n",
              "2  army recruit found dead, fellow soldiers force...        2018           12  \n",
              "3  postapocalyptic world, rag-doll robots hide fe...        2017           11  \n",
              "4  brilliant group students become card-counting ...        2020            1  "
            ],
            "text/html": [
              "\n",
              "  <div id=\"df-5db3e6fb-bba9-4b7e-b81a-ecdd2423db41\">\n",
              "    <div class=\"colab-df-container\">\n",
              "      <div>\n",
              "<style scoped>\n",
              "    .dataframe tbody tr th:only-of-type {\n",
              "        vertical-align: middle;\n",
              "    }\n",
              "\n",
              "    .dataframe tbody tr th {\n",
              "        vertical-align: top;\n",
              "    }\n",
              "\n",
              "    .dataframe thead th {\n",
              "        text-align: right;\n",
              "    }\n",
              "</style>\n",
              "<table border=\"1\" class=\"dataframe\">\n",
              "  <thead>\n",
              "    <tr style=\"text-align: right;\">\n",
              "      <th></th>\n",
              "      <th>show_id</th>\n",
              "      <th>type</th>\n",
              "      <th>title</th>\n",
              "      <th>country</th>\n",
              "      <th>date_added</th>\n",
              "      <th>release_year</th>\n",
              "      <th>rating</th>\n",
              "      <th>duration</th>\n",
              "      <th>listed_in</th>\n",
              "      <th>description</th>\n",
              "      <th>year_added</th>\n",
              "      <th>month_added</th>\n",
              "    </tr>\n",
              "  </thead>\n",
              "  <tbody>\n",
              "    <tr>\n",
              "      <th>0</th>\n",
              "      <td>s1</td>\n",
              "      <td>TV Show</td>\n",
              "      <td>3%</td>\n",
              "      <td>Brazil</td>\n",
              "      <td>2020-08-14</td>\n",
              "      <td>2020</td>\n",
              "      <td>TV-MA</td>\n",
              "      <td>4 Seasons</td>\n",
              "      <td>International TV Shows, TV Dramas, TV Sci-Fi &amp;...</td>\n",
              "      <td>future elite inhabit island paradise far crowd...</td>\n",
              "      <td>2020</td>\n",
              "      <td>8</td>\n",
              "    </tr>\n",
              "    <tr>\n",
              "      <th>1</th>\n",
              "      <td>s2</td>\n",
              "      <td>Movie</td>\n",
              "      <td>7:19</td>\n",
              "      <td>Mexico</td>\n",
              "      <td>2016-12-23</td>\n",
              "      <td>2016</td>\n",
              "      <td>TV-MA</td>\n",
              "      <td>93 min</td>\n",
              "      <td>Dramas, International Movies</td>\n",
              "      <td>devastating earthquake hits mexico city, trapp...</td>\n",
              "      <td>2016</td>\n",
              "      <td>12</td>\n",
              "    </tr>\n",
              "    <tr>\n",
              "      <th>2</th>\n",
              "      <td>s3</td>\n",
              "      <td>Movie</td>\n",
              "      <td>23:59</td>\n",
              "      <td>Singapore</td>\n",
              "      <td>2018-12-20</td>\n",
              "      <td>2011</td>\n",
              "      <td>R</td>\n",
              "      <td>78 min</td>\n",
              "      <td>Horror Movies, International Movies</td>\n",
              "      <td>army recruit found dead, fellow soldiers force...</td>\n",
              "      <td>2018</td>\n",
              "      <td>12</td>\n",
              "    </tr>\n",
              "    <tr>\n",
              "      <th>3</th>\n",
              "      <td>s4</td>\n",
              "      <td>Movie</td>\n",
              "      <td>9</td>\n",
              "      <td>United States</td>\n",
              "      <td>2017-11-16</td>\n",
              "      <td>2009</td>\n",
              "      <td>PG-13</td>\n",
              "      <td>80 min</td>\n",
              "      <td>Action &amp; Adventure, Independent Movies, Sci-Fi...</td>\n",
              "      <td>postapocalyptic world, rag-doll robots hide fe...</td>\n",
              "      <td>2017</td>\n",
              "      <td>11</td>\n",
              "    </tr>\n",
              "    <tr>\n",
              "      <th>4</th>\n",
              "      <td>s5</td>\n",
              "      <td>Movie</td>\n",
              "      <td>21</td>\n",
              "      <td>United States</td>\n",
              "      <td>2020-01-01</td>\n",
              "      <td>2008</td>\n",
              "      <td>PG-13</td>\n",
              "      <td>123 min</td>\n",
              "      <td>Dramas</td>\n",
              "      <td>brilliant group students become card-counting ...</td>\n",
              "      <td>2020</td>\n",
              "      <td>1</td>\n",
              "    </tr>\n",
              "  </tbody>\n",
              "</table>\n",
              "</div>\n",
              "      <button class=\"colab-df-convert\" onclick=\"convertToInteractive('df-5db3e6fb-bba9-4b7e-b81a-ecdd2423db41')\"\n",
              "              title=\"Convert this dataframe to an interactive table.\"\n",
              "              style=\"display:none;\">\n",
              "        \n",
              "  <svg xmlns=\"http://www.w3.org/2000/svg\" height=\"24px\"viewBox=\"0 0 24 24\"\n",
              "       width=\"24px\">\n",
              "    <path d=\"M0 0h24v24H0V0z\" fill=\"none\"/>\n",
              "    <path d=\"M18.56 5.44l.94 2.06.94-2.06 2.06-.94-2.06-.94-.94-2.06-.94 2.06-2.06.94zm-11 1L8.5 8.5l.94-2.06 2.06-.94-2.06-.94L8.5 2.5l-.94 2.06-2.06.94zm10 10l.94 2.06.94-2.06 2.06-.94-2.06-.94-.94-2.06-.94 2.06-2.06.94z\"/><path d=\"M17.41 7.96l-1.37-1.37c-.4-.4-.92-.59-1.43-.59-.52 0-1.04.2-1.43.59L10.3 9.45l-7.72 7.72c-.78.78-.78 2.05 0 2.83L4 21.41c.39.39.9.59 1.41.59.51 0 1.02-.2 1.41-.59l7.78-7.78 2.81-2.81c.8-.78.8-2.07 0-2.86zM5.41 20L4 18.59l7.72-7.72 1.47 1.35L5.41 20z\"/>\n",
              "  </svg>\n",
              "      </button>\n",
              "      \n",
              "  <style>\n",
              "    .colab-df-container {\n",
              "      display:flex;\n",
              "      flex-wrap:wrap;\n",
              "      gap: 12px;\n",
              "    }\n",
              "\n",
              "    .colab-df-convert {\n",
              "      background-color: #E8F0FE;\n",
              "      border: none;\n",
              "      border-radius: 50%;\n",
              "      cursor: pointer;\n",
              "      display: none;\n",
              "      fill: #1967D2;\n",
              "      height: 32px;\n",
              "      padding: 0 0 0 0;\n",
              "      width: 32px;\n",
              "    }\n",
              "\n",
              "    .colab-df-convert:hover {\n",
              "      background-color: #E2EBFA;\n",
              "      box-shadow: 0px 1px 2px rgba(60, 64, 67, 0.3), 0px 1px 3px 1px rgba(60, 64, 67, 0.15);\n",
              "      fill: #174EA6;\n",
              "    }\n",
              "\n",
              "    [theme=dark] .colab-df-convert {\n",
              "      background-color: #3B4455;\n",
              "      fill: #D2E3FC;\n",
              "    }\n",
              "\n",
              "    [theme=dark] .colab-df-convert:hover {\n",
              "      background-color: #434B5C;\n",
              "      box-shadow: 0px 1px 3px 1px rgba(0, 0, 0, 0.15);\n",
              "      filter: drop-shadow(0px 1px 2px rgba(0, 0, 0, 0.3));\n",
              "      fill: #FFFFFF;\n",
              "    }\n",
              "  </style>\n",
              "\n",
              "      <script>\n",
              "        const buttonEl =\n",
              "          document.querySelector('#df-5db3e6fb-bba9-4b7e-b81a-ecdd2423db41 button.colab-df-convert');\n",
              "        buttonEl.style.display =\n",
              "          google.colab.kernel.accessAllowed ? 'block' : 'none';\n",
              "\n",
              "        async function convertToInteractive(key) {\n",
              "          const element = document.querySelector('#df-5db3e6fb-bba9-4b7e-b81a-ecdd2423db41');\n",
              "          const dataTable =\n",
              "            await google.colab.kernel.invokeFunction('convertToInteractive',\n",
              "                                                     [key], {});\n",
              "          if (!dataTable) return;\n",
              "\n",
              "          const docLinkHtml = 'Like what you see? Visit the ' +\n",
              "            '<a target=\"_blank\" href=https://colab.research.google.com/notebooks/data_table.ipynb>data table notebook</a>'\n",
              "            + ' to learn more about interactive tables.';\n",
              "          element.innerHTML = '';\n",
              "          dataTable['output_type'] = 'display_data';\n",
              "          await google.colab.output.renderOutput(dataTable, element);\n",
              "          const docLink = document.createElement('div');\n",
              "          docLink.innerHTML = docLinkHtml;\n",
              "          element.appendChild(docLink);\n",
              "        }\n",
              "      </script>\n",
              "    </div>\n",
              "  </div>\n",
              "  "
            ]
          },
          "metadata": {},
          "execution_count": 47
        }
      ]
    },
    {
      "cell_type": "markdown",
      "source": [
        "**Now all the values of description are punctutation and stopword free.**"
      ],
      "metadata": {
        "id": "0-XQyBT6tzNc"
      }
    },
    {
      "cell_type": "markdown",
      "source": [
        "### **CountVectorizer() to count vocabulary items**"
      ],
      "metadata": {
        "id": "g9Lkrku3uYAp"
      }
    },
    {
      "cell_type": "code",
      "source": [
        "# Create a count vectorizer object\n",
        "count_vectorizer = CountVectorizer()\n",
        "# fit the count vectorizer using the text data\n",
        "count_vectorizer.fit(netflix_df['description'])\n",
        "# Collect the vocabulary items used in the vectorizer\n",
        "dictionary = count_vectorizer.vocabulary_.items()"
      ],
      "metadata": {
        "id": "OmInS8eXufG1"
      },
      "execution_count": 48,
      "outputs": []
    },
    {
      "cell_type": "code",
      "source": [
        "dictionary"
      ],
      "metadata": {
        "colab": {
          "base_uri": "https://localhost:8080/"
        },
        "id": "TrB29wQMusX2",
        "outputId": "b4c2c382-b0de-4eb7-df8f-0e984972441a"
      },
      "execution_count": 51,
      "outputs": [
        {
          "output_type": "execute_result",
          "data": {
            "text/plain": [
              "dict_items([('future', 6579), ('elite', 5220), ('inhabit', 8198), ('island', 8464), ('paradise', 11629), ('far', 5902), ('crowded', 3877), ('slums', 14843), ('get', 6769), ('one', 11277), ('chance', 2786), ('join', 8656), ('saved', 14029), ('squalor', 15231), ('devastating', 4450), ('earthquake', 5078), ('hits', 7603), ('mexico', 10201), ('city', 3037), ('trapped', 16558), ('survivors', 15745), ('walks', 17461), ('life', 9350), ('wait', 17440), ('rescued', 13377), ('trying', 16691), ('desperately', 4403), ('stay', 15335), ('alive', 665), ('army', 1058), ('recruit', 13104), ('found', 6392), ('dead', 4127), ('fellow', 6005), ('soldiers', 14962), ('forced', 6333), ('confront', 3455), ('terrifying', 16110), ('secret', 14212), ('that', 16161), ('haunting', 7358), ('jungle', 8744), ('training', 16516), ('camp', 2495), ('postapocalyptic', 12275), ('world', 17854), ('rag', 12841), ('doll', 4793), ('robots', 13697), ('hide', 7522), ('fear', 5961), ('dangerous', 4058), ('machines', 9660), ('exterminate', 5779), ('them', 16176), ('brave', 2160), ('newcomer', 10907), ('joins', 8659), ('group', 7092), ('brilliant', 2227), ('students', 15525), ('become', 1629), ('card', 2566), ('counting', 3706), ('experts', 5730), ('intent', 8301), ('swindling', 15804), ('millions', 10287), ('las', 9146), ('vegas', 17196), ('casinos', 2649), ('playing', 12109), ('blackjack', 1884), ('genetics', 6731), ('professor', 12510), ('experiments', 5727), ('treatment', 16590), ('comatose', 3265), ('sister', 14717), ('blends', 1915), ('medical', 10045), ('shamanic', 14426), ('cures', 3963), ('unlocks', 16974), ('shocking', 14541), ('side', 14621), ('effect', 5144), ('awful', 1354), ('accident', 321), ('couple', 3714), ('admitted', 434), ('grisly', 7069), ('hospital', 7732), ('separated', 14323), ('must', 10683), ('find', 6118), ('escape', 5533), ('death', 4143), ('finds', 6120), ('high', 7528), ('school', 14097), ('attacks', 1228), ('him', 7562), ('dedicated', 4204), ('teacher', 15991), ('trevor', 16609), ('garfield', 6668), ('grows', 7100), ('weary', 17560), ('gang', 6653), ('warfare', 17495), ('new', 10904), ('york', 17999), ('system', 15845), ('moves', 10611), ('california', 2465), ('teach', 15990), ('there', 16191), ('thinking', 16210), ('less', 9303), ('hostile', 7740), ('environment', 5466), ('doctor', 4763), ('goes', 6892), ('missing', 10383), ('psychiatrist', 12630), ('wife', 17696), ('treats', 16592), ('bizarre', 1880), ('condition', 3418), ('psychic', 12631), ('patient', 11740), ('knows', 8978), ('much', 10625), ('he', 7382), ('leading', 9216), ('on', 11274), ('architect', 1007), ('move', 10607), ('castle', 2661), ('slated', 14787), ('luxury', 9634), ('hotel', 7747), ('something', 14985), ('inside', 8248), ('determined', 4434), ('stop', 15421), ('renovation', 13313), ('farmer', 5910), ('pens', 11830), ('confession', 3436), ('admitting', 435), ('murder', 10656), ('beginning', 1655), ('macabre', 9651), ('tale', 15906), ('based', 1545), ('stephen', 15364), ('king', 8927), ('novella', 11077), ('dark', 4083), ('alt', 715), ('history', 7595), ('thriller', 16249), ('naïve', 10816), ('law', 9186), ('student', 15524), ('detective', 4428), ('uncover', 16848), ('conspiracy', 3514), ('tyrannized', 16779), ('poland', 12170), ('decades', 4164), ('archival', 1010), ('video', 17274), ('interviews', 8355), ('examine', 5640), ('mexican', 10200), ('politics', 12192), ('1994', 122), ('year', 17962), ('marked', 9864), ('rise', 13630), ('ezln', 5810), ('assassination', 1146), ('luis', 9604), ('donaldo', 4819), ('colosio', 3256), ('intimate', 8358), ('documentary', 4772), ('follows', 6304), ('rock', 13703), ('star', 15289), ('artiwara', 1106), ('kongmalai', 8993), ('historic', 7591), ('215', 160), ('kilometer', 8911), ('charity', 2823), ('run', 13848), ('across', 370), ('thailand', 16152), ('2017', 147), ('stranded', 15450), ('earth', 5077), ('suddenly', 15601), ('destroyed', 4417), ('mysterious', 10696), ('cataclysm', 2666), ('astronauts', 1190), ('aboard', 273), ('marooned', 9872), ('space', 15057), ('station', 15323), ('slowly', 14840), ('lose', 9532), ('minds', 10300), ('backdrop', 1387), ('nigeria', 10946), ('looming', 9509), ('independence', 8101), ('britain', 2237), ('danladi', 4066), ('waziri', 17549), ('races', 12812), ('capture', 2558), ('killer', 8904), ('terrorizing', 16120), ('local', 9454), ('women', 17816), ('psychology', 12636), ('faces', 5824), ('alzheimer', 734), ('daughter', 4105), ('three', 16246), ('close', 3130), ('female', 6010), ('friends', 6488), ('experience', 5721), ('romance', 13743), ('marriage', 9876), ('heartbreak', 7414), ('tragedy', 16501), ('terror', 16113), ('norway', 11040), ('young', 18008), ('survivor', 15744), ('grieving', 7051), ('families', 5878), ('country', 3709), ('rally', 12883), ('justice', 8758), ('healing', 7400), ('true', 16678), ('story', 15434), ('india', 8105), ('day', 4117), ('zany', 18045), ('mishap', 10371), ('mumbai', 10648), ('chawl', 2865), ('disrupts', 4698), ('love', 9559), ('compelling', 3348), ('residents', 13404), ('unite', 16949), ('aid', 563), ('little', 9424), ('boy', 2126), ('mixing', 10417), ('old', 11252), ('footage', 6318), ('arsenal', 1079), ('improbable', 8045), ('win', 17732), ('versus', 17242), ('liverpool', 9432), ('final', 6108), ('moments', 10474), ('1989', 116), ('championship', 2782), ('game', 6643), ('accidentally', 323), ('connecting', 3478), ('internet', 8326), ('two', 16768), ('strangers', 15455), ('form', 6366), ('tight', 16303), ('friendship', 6489), ('knowing', 8975), ('already', 712), ('share', 14446), ('bond', 2031), ('taxi', 15985), ('driver', 4952), ('gangster', 6656), ('athlete', 1209), ('struggle', 15515), ('better', 1769), ('lives', 9433), ('despite', 4405), ('obstacles', 11166), ('like', 9371), ('crooked', 3859), ('politicians', 12191), ('evil', 5622), ('dons', 4830), ('caste', 2655), ('barriers', 1533), ('successful', 15590), ('writer', 17903), ('returns', 13498), ('town', 16463), ('launched', 9171), ('career', 2578), ('encountering', 5337), ('people', 11835), ('spark', 15074), ('nostalgic', 11050), ('often', 11235), ('painfully', 11561), ('illuminating', 7953), ('flashbacks', 6192), ('middle', 10227), ('aged', 537), ('divorcee', 4747), ('kolkata', 8988), ('visit', 17357), ('ailing', 570), ('father', 5938), ('long', 9495), ('buried', 2370), ('memories', 10112), ('resurface', 13454), ('bringing', 2232), ('discoveries', 4624), ('seiya', 14259), ('knights', 8965), ('zodiac', 18092), ('protect', 12583), ('reincarnation', 13204), ('goddess', 6886), ('athena', 1207), ('prophecy', 12563), ('hangs', 7265), ('all', 666), ('real', 12995), ('look', 9504), ('fbi', 5958), ('counterterrorism', 3705), ('operations', 11306), ('features', 5976), ('access', 320), ('sides', 14627), ('sting', 15394), ('government', 6946), ('informant', 8188), ('radicalized', 12826), ('target', 15958), ('docuseries', 4775), ('takes', 15902), ('deep', 4213), ('dive', 4730), ('lucrative', 9600), ('wellness', 17610), ('industry', 8134), ('touts', 16454), ('health', 7401), ('products', 12500), ('live', 9427), ('promises', 12541), ('virus', 17348), ('rampages', 12897), ('lone', 9488), ('man', 9771), ('stays', 15337), ('locked', 9463), ('apartment', 924), ('digitally', 4539), ('cut', 3990), ('seeking', 14238), ('help', 7470), ('desperate', 4402), ('way', 17543), ('out', 11420), ('diary', 4499), ('anne', 868), ('frank', 6427), ('retold', 13481), ('alongside', 701), ('five', 6168), ('holocaust', 7641), ('poignant', 12158), ('oscar', 11398), ('winner', 17748), ('helen', 7460), ('mirren', 10345), ('kenya', 8868), ('barris', 1534), ('family', 5879), ('navigate', 10805), ('relationships', 13229), ('race', 12808), ('culture', 3946), ('grappling', 7002), ('newfound', 10910), ('success', 15588), ('comedy', 3283), ('series', 14344), ('pawesome', 11767), ('explores', 5751), ('feline', 5999), ('became', 1627), ('online', 11281), ('icons', 7894), ('earliest', 5068), ('text', 16143), ('memes', 10108), ('celebrity', 2722), ('cat', 2665), ('influencers', 8178), ('pining', 12028), ('crush', 3899), ('years', 17969), ('puts', 12722), ('best', 1752), ('efforts', 5150), ('friend', 6485), ('zone', 18099), ('reveals', 13511), ('getting', 6773), ('married', 9878), ('ayu', 1368), ('ditto', 4726), ('finally', 6110), ('transition', 16545), ('newlyweds', 10914), ('quick', 12778), ('pregnancy', 12350), ('creates', 3792), ('uncertainty', 16835), ('nerdy', 10874), ('schooler', 14100), ('dani', 4061), ('attracts', 1254), ('interest', 8310), ('longtime', 9503), ('lands', 9125), ('cross', 3863), ('hairs', 7217), ('ex', 5633), ('social', 14929), ('media', 10043), ('teenage', 16023), ('hacker', 7198), ('huge', 7786), ('nose', 11042), ('helps', 7477), ('cool', 3622), ('kid', 8891), ('woo', 17828), ('girl', 6814), ('secretly', 14215), ('with', 17784), ('celebrates', 2717), ('50th', 205), ('anniversary', 871), ('harlem', 7306), ('sports', 15189), ('program', 12523), ('inspired', 8263), ('countless', 3707), ('kids', 8898), ('pro', 12468), ('basketball', 1552), ('players', 12104), ('days', 4120), ('exams', 5646), ('teen', 16022), ('girls', 6818), ('make', 9734), ('seaside', 14199), ('getaway', 6770), ('end', 5344), ('adolescence', 436), ('bang', 1484), ('painful', 11560), ('breakup', 2184), ('trio', 16639), ('party', 11699), ('loving', 9570), ('makes', 9738), ('bet', 1756), ('brothers', 2270), ('fall', 5865), ('sisters', 14719), ('quickly', 12779), ('realize', 13000), ('age', 536), ('differences', 4527), ('big', 1805), ('ignore', 7929), ('estranged', 5563), ('mother', 10568), ('dies', 4521), ('woman', 17810), ('follow', 6299), ('quirky', 12793), ('instructions', 8277), ('laid', 9085), ('order', 11356), ('collect', 3222), ('important', 8026), ('inheritance', 8204), ('slacker', 14778), ('owner', 11515), ('public', 12647), ('bath', 1568), ('house', 7757), ('rallies', 12882), ('community', 3334), ('save', 14028), ('developer', 4454), ('comes', 3286), ('open', 11295), ('mall', 9764), ('urbanites', 17095), ('renovating', 13312), ('rundown', 13851), ('son', 14992), ('disappearance', 4588), ('connected', 3476), ('supernatural', 15673), ('vignettes', 17294), ('summer', 15633), ('holidays', 7633), ('vacationers', 17132), ('battle', 1577), ('mosquitoes', 10561), ('suffer', 15605), ('ruined', 13830), ('plans', 12088), ('otherwise', 11409), ('hit', 7596), ('snags', 14878), ('precious', 12333), ('time', 16313), ('off', 11211), ('lagos', 9083), ('journalist', 8697), ('undercover', 16857), ('prostitute', 12579), ('expose', 5760), ('human', 7797), ('trafficking', 16499), ('exploited', 5742), ('ruthless', 13871), ('violence', 17327), ('aiming', 575), ('hasten', 7338), ('uprising', 17082), ('leader', 9213), ('underground', 16865), ('rebellion', 13025), ('dispatches', 4680), ('acrobatic', 369), ('assassin', 1143), ('aeon', 496), ('flux', 6273), ('eliminate', 5215), ('top', 16398), ('orphan', 11387), ('subjected', 15564), ('tests', 16134), ('gave', 6691), ('superpowers', 15675), ('raised', 12868), ('istanbul', 8478), ('streets', 15477), ('falls', 5870), ('reporter', 13349), ('linked', 9393), ('past', 11718), ('aspiring', 1138), ('dancer', 4054), ('uprooted', 17085), ('senior', 14300), ('torn', 16416), ('boys', 2133), ('shot', 14571), ('dream', 4927), ('escaping', 5536), ('bus', 2383), ('killed', 8903), ('girlfriend', 6815), ('channels', 2798), ('grief', 7047), ('running', 13853), ('coach', 3155), ('wins', 17753), ('miss', 10379), ('pageant', 11554), ('unexpected', 16905), ('competition', 3352), ('campaign', 2496), ('south', 15044), ('africa', 525), ('carefree', 2581), ('bachelor', 1381), ('unexpectedly', 16906), ('left', 9252), ('charge', 2815), ('embark', 5258), ('road', 13661), ('trip', 16640), ('change', 2792), ('fierce', 6067), ('mammoth', 9770), ('hunter', 7831), ('leh', 9270), ('sets', 14368), ('impossible', 8030), ('journey', 8699), ('rescue', 13376), ('loves', 9567), ('vicious', 17263), ('warlord', 17496), ('village', 17306), ('upon', 17075), ('losing', 9536), ('memory', 10115), ('crown', 3881), ('prince', 12440), ('encounters', 5338), ('commoner', 3322), ('experiences', 5723), ('unforgettable', 16922), ('husband', 7842), ('joseon', 8686), ('oldest', 11254), ('bachelorette', 1382), ('spanish', 15068), ('photographer', 11961), ('josé', 8694), ('díaz', 5060), ('spends', 15123), ('100', 4), ('living', 9435), ('alone', 699), ('remote', 13293), ('mountain', 10595), ('nature', 10797), ('documenting', 4773), ('beauty', 1623), ('surroundings', 15734), ('hundred', 7819), ('hardy', 7301), ('souls', 15033), ('diverse', 4735), ('backgrounds', 1393), ('participate', 11687), ('playful', 12105), ('exploring', 5752), ('sex', 14389), ('happiness', 7283), ('aspects', 1134), ('diagnosed', 4489), ('multiple', 10646), ('sclerosis', 14126), ('responds', 13432), ('ironman', 8443), ('triathlon', 16617), ('cranky', 3774), ('in', 8056), ('led', 9248), ('seventh', 14382), ('grader', 6963), ('warned', 17503), ('dangers', 4060), ('decide', 4176), ('chronicles', 3002), ('elouise', 5235), ('cobell', 3170), ('fight', 6075), ('gross', 7086), ('mismanagement', 10375), ('mineral', 10306), ('rich', 13569), ('native', 10790), ('american', 766), ('land', 9112), ('marries', 9879), ('choice', 2969), ('soon', 15008), ('possibility', 12271), ('religion', 13253), ('considers', 3510), ('union', 16945), ('invalid', 8386), ('stylist', 15555), ('hair', 7210), ('designer', 4390), ('makeup', 9740), ('artist', 1101), ('team', 15996), ('give', 6820), ('biggest', 1810), ('fashion', 5926), ('disasters', 4602), ('needed', 10834), ('makeunders', 9739), ('randomly', 12911), ('receiving', 13050), ('handsome', 7257), ('political', 12188), ('bribe', 2206), ('sweet', 15789), ('poor', 12216), ('elderly', 5181), ('decides', 4179), ('treat', 16587), ('shopping', 14560), ('spree', 15208), ('go', 6875), ('smoothly', 14866), ('dealing', 4137), ('personal', 11894), ('demons', 4314), ('prizefighter', 12466), ('attempts', 1233), ('return', 13494), ('ring', 13614), ('challenging', 2773), ('rival', 13645), ('12', 11), ('round', 13796), ('rematch', 13277), ('pregnant', 12351), ('leave', 9239), ('boyfriend', 2128), ('assume', 1174), ('identity', 7911), ('america', 765), ('later', 9154), ('reunites', 13503), ('korea', 9003), ('parents', 11659), ('to', 16350), ('be', 1592), ('claire', 3052), ('ryan', 13878), ('suburban', 15582), ('rental', 13317), ('home', 7645), ('unaware', 16823), ('someone', 14984), ('watching', 17532), ('every', 5612), ('via', 17254), ('hidden', 7521), ('cameras', 2491), ('perplexing', 11882), ('suicide', 15618), ('classmate', 3073), ('receives', 13049), ('tapes', 15951), ('unravel', 16993), ('mystery', 10698), ('tragic', 16502), ('cast', 2653), ('members', 10105), ('writers', 17904), ('producers', 12496), ('mental', 10130), ('professionals', 12508), ('discuss', 4629), ('difficult', 4531), ('issues', 8477), ('themes', 16179), ('explored', 5748), ('13', 13), ('reasons', 13015), ('why', 17678), ('agrees', 553), ('appear', 942), ('show', 14574), ('million', 10284), ('prize', 12464), ('challenges', 2772), ('extreme', 5794), ('realizes', 13002), ('made', 9671), ('grave', 7008), ('mistake', 10391), ('thought', 16233), ('provoking', 12618), ('scholars', 14094), ('activists', 379), ('analyze', 800), ('criminalization', 3828), ('african', 526), ('americans', 768), ('prison', 12454), ('boom', 2055), ('oprah', 11328), ('winfrey', 17743), ('sits', 14725), ('director', 4575), ('ava', 1306), ('duvernay', 5039), ('nominated', 11004), ('film', 6097), ('historical', 7592), ('cycles', 4006), ('oppression', 11326), ('broken', 2251), ('ming', 10309), ('dynasty', 5053), ('quinglong', 12788), ('jinyiwei', 8625), ('squad', 15229), ('highly', 7537), ('trained', 16511), ('former', 6370), ('street', 15475), ('urchins', 17097), ('eunuch', 5579), ('jia', 8607), ('unseats', 17014), ('emperor', 5302), ('called', 2468), ('action', 373), ('betrayed', 1763), ('upping', 17080), ('ante', 890), ('sequel', 14330), ('renting', 13319), ('vacation', 17131), ('customized', 3988), ('violate', 17324), ('privacy', 12459), ('google', 6919), ('executive', 5674), ('boldly', 2014), ('defying', 4252), ('mission', 10384), ('travel', 16570), ('free', 6450), ('back', 1384), ('without', 17789), ('rocket', 13707), ('tasked', 15966), ('escorting', 5540), ('prosecution', 12571), ('witness', 17791), ('court', 3723), ('aging', 547), ('cop', 3630), ('gears', 6700), ('16', 22), ('block', 1936), ('trek', 16597), ('they', 16196), ('ll', 9439), ('lucky', 9599), ('nearing', 10826), ('midlife', 10231), ('crisis', 3839), ('thirty', 16218), ('mike', 10255), ('wishes', 17775), ('do', 4760), ('over', 11463), ('exactly', 5635), ('gets', 6771), ('wakes', 17448), ('17', 25), ('again', 532), ('terminal', 16098), ('cancer', 2512), ('leaves', 9240), ('behind', 1666), ('18', 28), ('sentimental', 14317), ('gifts', 6793), ('unborn', 16828), ('receive', 13047), ('birthday', 1859), ('reaches', 12981), ('womanhood', 17811), ('spain', 15065), ('relinquishes', 13255), ('last', 9149), ('colonies', 3244), ('fatigued', 5943), ('outpost', 11446), ('engages', 5374), ('brutal', 2281), ('sometimes', 14987), ('clash', 3062), ('filipino', 6090), ('insurgents', 8287), ('los', 9531), ('angeles', 840), ('settles', 14374), ('cozy', 3751), ('complex', 3363), ('disturbing', 4720), ('sense', 14305), ('filmmakers', 6101), ('occult', 11175), ('rituals', 13643), ('tied', 16296), ('abandoned', 243), ('warehouse', 17494), ('gradually', 6966), ('horror', 7721), ('closer', 3132), ('think', 16208), ('bumbling', 2338), ('paris', 11663), ('policeman', 12176), ('doggedly', 4787), ('master', 9917), ('thief', 16202), ('repeatedly', 13334), ('eludes', 5242), ('even', 5599), ('re', 12979), ('men', 10117), ('graduate', 6967), ('krish', 9019), ('ananya', 803), ('hope', 7696), ('approval', 969), ('marry', 9881), ('cultural', 3944), ('2014', 144), ('academy', 309), ('award', 1345), ('feature', 5974), ('backup', 1401), ('vocalists', 17383), ('legends', 9262), ('support', 15693), ('convicted', 3604), ('horrified', 7718), ('prove', 12601), ('innocence', 8227), ('dogged', 4786), ('investigator', 8405), ('truth', 16688), ('pop', 12219), ('festival', 6041), ('21st', 161), ('2015', 145), ('groups', 7093), ('exo', 5693), ('4minute', 200), ('shinee', 14513), ('electrifying', 5193), ('seoul', 14321), ('cup', 3954), ('stadium', 15256), ('working', 17849), ('artificial', 1096), ('intelligence', 8293), ('investigate', 8398), ('failure', 5844), ('deadly', 4130), ('mars', 9883), ('landing', 9114), ('controller', 3586), ('astonishing', 1182), ('discovery', 4627), ('1979', 105), ('single', 14697), ('bohemian', 2006), ('mom', 10471), ('dorothea', 4849), ('hoping', 7702), ('place', 12073), ('asks', 1131), ('jeff', 8564), ('straight', 15442), ('and', 813), ('narrow', 10766), ('changes', 2794), ('abruptly', 285), ('buddies', 2307), ('take', 15897), ('bash', 1548), ('night', 10949), ('crucial', 3884), ('med', 10036), ('interview', 8352), ('experiment', 5725), ('daughters', 4106), ('sends', 14296), ('mothers', 10572), ('disguised', 4644), ('21', 158), ('olds', 11256), ('member', 10104), ('gen', 6712), ('greatest', 7019), ('stands', 15283), ('battalion', 1575), ('sikh', 14651), ('fights', 6079), ('defend', 4227), ('attack', 1224), ('10', 3), ('000', 0), ('afghans', 519), ('coaches', 3157), ('montreal', 10506), ('soccer', 14928), ('chase', 2842), ('dreams', 4933), ('stardom', 15292), ('erupt', 5523), ('passion', 11712), ('frozen', 6514), ('tundra', 16715), ('futuristic', 6581), ('arizona', 1042), ('humans', 7805), ('soldier', 14961), ('hunts', 7834), ('bioengineered', 1839), ('revived', 13532), ('experimental', 5726), ('procedure', 12478), ('extra', 5785), ('24', 166), ('hours', 7756), ('uses', 17114), ('avenge', 1316), ('child', 2930), ('redeem', 13113), ('himself', 7565), ('four', 6400), ('learn', 9231), ('inherited', 8205), ('ancestral', 810), ('claim', 3048), ('greedy', 7024), ('feudal', 6046), ('lord', 9522), ('threatens', 16244), ('twenty', 16752), ('six', 14732), ('1980', 106), ('massacre', 9912), ('gwangju', 7176), ('relatives', 13231), ('victims', 17266), ('come', 3277), ('together', 16363), ('infamous', 8146), ('orchestrator', 11352), ('musician', 10678), ('suspicious', 15758), ('circumstances', 3031), ('hard', 7291), ('drinking', 4948), ('music', 10674), ('fan', 5883), ('stars', 15304), ('die', 4518), ('27', 171), ('explore', 5747), ('surrounding', 15733), ('deaths', 4145), ('jimi', 8616), ('hendrix', 7482), ('jim', 8615), ('morrison', 10547), ('brian', 2205), ('jones', 8675), ('janis', 8535), ('joplin', 8680), ('kurt', 9043), ('cobain', 3169), ('amy', 794), ('winehouse', 17740), ('drunken', 4982), ('antics', 900), ('result', 13451), ('property', 12561), ('damage', 4046), ('alcoholic', 629), ('enters', 5436), ('rehab', 13188), ('meets', 10067), ('resident', 13401), ('outlook', 11442), ('fiancé', 6054), ('acts', 385), ('strangely', 15453), ('invitation', 8415), ('florist', 6257), ('tiny', 16329), ('scrap', 14156), ('paper', 11619), ('terminally', 16099), ('ill', 7942), ('agent', 541), ('accepts', 319), ('risky', 13638), ('exchange', 5656), ('drug', 4973), ('might', 10241), ('survive', 15740), ('effects', 5146), ('convicts', 3607), ('row', 13806), ('stories', 15429), ('emerge', 5278), ('motivations', 10578), ('soliciting', 14965), ('ray', 12974), ('begins', 1657), ('transitioning', 16547), ('male', 9755), ('grandmother', 6986), ('cope', 3632), ('tracking', 16480), ('indonesian', 8121), ('break', 2175), ('records', 13090), ('becoming', 1631), ('first', 6147), ('nation', 10781), ('medal', 10037), ('archery', 1003), ('olympics', 11269), ('1988', 115), ('attending', 1239), ('premier', 12358), ('colleges', 3233), ('miserable', 10362), ('engineering', 5380), ('beat', 1614), ('draconian', 4890), ('muslim', 10681), ('activist', 378), ('protests', 12594), ('oral', 11340), ('divorces', 4748), ('starting', 15309), ('movement', 10609), ('reclaim', 13066), ('religious', 13254), ('constitutional', 3524), ('rights', 13604), ('dissatisfied', 4699), ('bridal', 2210), ('shop', 14552), ('turn', 16732), ('topsy', 16405), ('turvy', 16740), ('care', 2574), ('baby', 1376), ('breaks', 2181), ('hopes', 7701), ('restoring', 13447), ('lively', 9430), ('nightclub', 10950), ('crooks', 3860), ('planning', 12087), ('bank', 1490), ('heist', 7457), ('wind', 17733), ('abducting', 255), ('pizza', 12070), ('delivery', 4289), ('force', 6332), ('commit', 3312), ('robbery', 13680), ('strict', 15490), ('limit', 9380), ('dissident', 4703), ('sneak', 14891), ('refugees', 13157), ('denmark', 4324), ('prevented', 12413), ('returning', 13497), ('fiery', 6070), ('spiritless', 15153), ('relationship', 13228), ('victim', 17264), ('dominant', 4804), ('mafia', 9685), ('boss', 2085), ('imprisons', 8044), ('gives', 6822), ('society', 14935), ('familial', 5876), ('obligations', 11143), ('manga', 9785), ('unconventional', 16844), ('sexual', 14396), ('freedom', 6452), ('liberation', 9335), ('crash', 3775), ('royal', 13813), ('aliens', 661), ('blend', 1912), ('evade', 5587), ('intergalactic', 8317), ('bounty', 2113), ('hunters', 7832), ('crashes', 3776), ('forest', 6350), ('rainy', 12866), ('criminals', 3829), ('battling', 1583), ('wild', 17700), ('animals', 855), ('launching', 9173), ('restaurant', 13439), ('ambitious', 758), ('chef', 2887), ('consuming', 3535), ('upscale', 17087), ('eatery', 5091), ('paw', 11766), ('esome', 5542), ('tales', 15911), ('abound', 278), ('singing', 14696), ('furry', 6572), ('lampo', 9106), ('milady', 10261), ('pilou', 12023), ('meatball', 10027), ('band', 1473), ('1960s', 87), ('madrid', 9681), ('producer', 12495), ('guillermo', 7138), ('rojas', 13731), ('launches', 9172), ('roll', 13736), ('label', 9058), ('singer', 14692), ('robert', 13684), ('clever', 3102), ('maribel', 9850), ('small', 14846), ('letters', 9312), ('santa', 13989), ('smoke', 14860), ('elves', 5247), ('venture', 17222), ('north', 11035), ('pole', 12173), ('retrieve', 13489), ('wish', 17774), ('reunite', 13501), ('dying', 5048), ('pals', 11594), ('create', 3790), ('desert', 4379), ('mali', 9759), ('along', 700), ('mechanic', 10032), ('extremely', 5795), ('used', 17110), ('idea', 7899), ('right', 13601), ('guy', 7173), ('election', 5188), ('manager', 9774), ('polling', 12194), ('site', 14723), ('gubernatorial', 7123), ('candidate', 2514), ('corrupt', 3671), ('incumbent', 8091), ('victory', 17272), ('yanto', 17954), ('kidnapped', 8893), ('mobster', 10430), ('silly', 14655), ('slapstick', 14784), ('campy', 2505), ('crimefighting', 3824), ('ensues', 5420), ('drama', 4906), ('when', 17644), ('40', 188), ('brooklyn', 2259), ('walk', 17455), ('up', 17057), ('attempt', 1230), ('sell', 14276), ('buy', 2410), ('italian', 8480), ('prime', 12436), ('minister', 10322), ('lover', 9565), ('official', 11228), ('budapest', 2302), ('christmas', 2996), ('week', 17582), ('things', 16207), ('novelist', 11076), ('turned', 16734), ('upside', 17090), ('encounter', 5335), ('outside', 11453), ('leads', 9217), ('intense', 8298), ('affair', 501), ('diplomat', 4568), ('falling', 5867), ('pretty', 12410), ('art', 1085), ('short', 14563), ('term', 16097), ('marine', 9856), ('veterinarian', 17249), ('healthy', 7404), ('twentysomething', 16753), ('comically', 3293), ('early', 5069), ('slapped', 14783), ('diagnosis', 4491), ('50', 202), ('survival', 15737), ('climb', 3110), ('highest', 7531), ('peak', 11790), ('java', 8549), ('overcoming', 11470), ('discovering', 4625), ('meaning', 10017), ('keep', 8852), ('selly', 14281), ('tries', 16631), ('earn', 5070), ('money', 10481), ('making', 9741), ('appearance', 943), ('loyal', 9577), ('struggles', 15516), ('afloat', 520), ('driving', 4956), ('heroin', 7504), ('addicted', 403), ('brother', 2267), ('detox', 4443), ('center', 2738), ('looking', 9507), ('armed', 1048), ('gunmen', 7157), ('seize', 14260), ('iranian', 8431), ('embassy', 5264), ('tense', 16085), ('standoff', 15281), ('british', 2239), ('prepare', 12365), ('raid', 12852), ('faking', 5861), ('tech', 16009), ('billionaire', 1829), ('recruits', 13107), ('international', 8324), ('operatives', 11308), ('bold', 2010), ('bloody', 1952), ('dictator', 4508), ('volatile', 17391), ('approach', 964), ('college', 3232), ('graduation', 6970), ('opportunities', 11317), ('threaten', 16241), ('undertake', 16878), ('grueling', 7104), ('difficulties', 4532), ('store', 15425), ('merely', 10151), ('physical', 11969), ('recruited', 13105), ('sheriff', 14493), ('volunteers', 17401), ('infiltrate', 8167), ('county', 3712), ('prisons', 12457), ('corruption', 3673), ('crime', 3823), ('within', 17788), ('hapless', 7275), ('stunning', 15542), ('psychotic', 12643), ('rob', 13675), ('loathsome', 9449), ('sugar', 15612), ('daddy', 4026), ('scheme', 14085), ('conceived', 3397), ('violent', 17328), ('report', 13347), ('husbands', 7843), ('appears', 947), ('police', 12175), ('officer', 11225), ('traces', 16474), ('cryptic', 3909), ('connection', 3479), ('loyalties', 9579), ('tested', 16127), ('cruelties', 3887), ('revealed', 13509), ('business', 2389), ('partners', 11696), ('spend', 15121), ('evening', 5600), ('debating', 4150), ('pay', 11772), ('committed', 3316), ('excitement', 5660), ('scenes', 14081), ('seven', 14380), ('major', 9728), ('events', 5603), ('worlds', 17856), ('food', 6310), ('given', 6821), ('genie', 6733), ('embarks', 5261), ('madcap', 9667), ('messy', 10178), ('search', 14194), ('would', 17874), ('spiced', 15128), ('liberally', 9331), ('black', 1883), ('bollywood', 2016), ('lethal', 9308), ('numerous', 11099), ('flawed', 6205), ('examines', 5642), ('cuteness', 3992), ('adorability', 447), ('animal', 854), ('species', 15101), ('thrive', 16253), ('variety', 17176), ('environments', 5469), ('fangs', 5891), ('claws', 3083), ('venomous', 17219), ('stings', 15396), ('wield', 17690), ('weapons', 17557), ('creature', 3802), ('crowned', 3882), ('fiercest', 6069), ('powerful', 12300), ('cats', 2692), ('indestructible', 8104), ('arachnids', 984), ('flesh', 6217), ('melting', 10102), ('pit', 12053), ('vipers', 17334), ('latin', 9158), ('deadliest', 4129), ('creatures', 3803), ('avalanches', 1312), ('volcanoes', 17393), ('natural', 10794), ('cataclysms', 2668), ('choose', 2973), ('destructive', 4421), ('paths', 11737), ('shy', 14611), ('natsu', 10793), ('awakens', 1343), ('part', 11683), ('chosen', 2983), ('ensure', 5422), ('humanity', 7800), ('changed', 2793), ('wonders', 17823), ('gestation', 6768), ('cutting', 3997), ('edge', 5115), ('cgi', 2753), ('nine', 10969), ('months', 10505), ('womb', 17814), ('affect', 503), ('shake', 14414), ('meet', 10063), ('encourages', 5341), ('embrace', 5272), ('heroic', 7502), ('workers', 17847), ('contain', 3541), ('ebola', 5096), ('outbreak', 11422), ('arrives', 1074), ('symptoms', 15837), ('gymnast', 7182), ('lacks', 9070), ('confidence', 3440), ('needs', 10837), ('reach', 12980), ('spot', 15192), ('national', 10782), ('captures', 2560), ('joy', 8703), ('border', 2073), ('sharing', 14450), ('bittersweet', 1875), ('reunion', 13500), ('2018', 148), ('babysitters', 1379), ('battles', 1582), ('boogeyman', 2046), ('monsters', 10498), ('nab', 10717), ('halloween', 7228), ('stressed', 15484), ('moms', 10476), ('carla', 2594), ('kiki', 8899), ('holiday', 7632), ('daunting', 4107), ('meeting', 10065), ('awkward', 1356), ('glamorous', 6828), ('businesswoman', 2393), ('tradition', 16490), ('bound', 2109), ('begin', 1654), ('curious', 3966), ('idealistic', 7903), ('interfaith', 8314), ('observes', 11156), ('increasingly', 8088), ('intolerant', 8363), ('financial', 6113), ('strain', 15444), ('overworked', 11507), ('engineer', 5378), ('autism', 1292), ('regresses', 13181), ('fantasy', 5900), ('bullying', 2334), ('28', 172), ('layabout', 9202), ('dysfunctional', 5056), ('assembles', 1153), ('respects', 13429), ('won', 17817), ('pass', 11704), ('wartime', 17517), ('details', 4425), ('pivotal', 12066), ('1944', 74), ('allied', 682), ('task', 15965), ('tried', 16629), ('war', 17489), ('ii', 7935), ('seizing', 14263), ('control', 3584), ('key', 8877), ('bridges', 2215), ('holland', 7635), ('lifestyle', 9356), ('line', 9387), ('wealthy', 17553), ('charmer', 2833), ('poses', 12257), ('ranch', 12906), ('hand', 7245), ('hardworking', 7300), ('work', 17843), ('debt', 4157), ('cares', 2585), ('wounded', 17876), ('horse', 7723), ('teaches', 15993), ('expected', 5713), ('wed', 17572), ('childhood', 2932), ('obsessed', 11159), ('football', 6319), ('rid', 13581), ('truly', 16680), ('heart', 7411), ('orphanage', 11388), ('ej', 5174), ('becomes', 1630), ('boxer', 2123), ('confronts', 3459), ('formidable', 6372), ('villain', 17310), ('trail', 16505), ('possible', 12272), ('diamond', 4495), ('caught', 2694), ('tricky', 16628), ('clues', 3148), ('feelings', 5990), ('suspect', 15749), ('sent', 14312), ('abroad', 283), ('scoop', 14128), ('dashing', 4098), ('who', 17669), ('poised', 12163), ('brings', 2233), ('ultimate', 16800), ('gift', 6791), ('aldovia', 633), ('queen', 12764), ('amber', 755), ('kingdom', 8928), ('unwrapping', 17054), ('monarchy', 10478), ('helping', 7475), ('richard', 13570), ('secure', 14219), ('plan', 12080), ('wedding', 17574), ('simple', 14670), ('tastes', 15970), ('protocol', 12595), ('parisian', 11665), ('marinette', 9859), ('transforms', 16542), ('superhero', 15663), ('ladybug', 9079), ('lonely', 9491), ('adrien', 458), ('runs', 13854), ('away', 1349), ('sam', 13950), ('dance', 4053), ('toil', 16365), ('stepmother', 15366), ('diner', 4558), ('lost', 9539), ('cell', 2726), ('phone', 11955), ('bring', 2231), ('vain', 17139), ('mean', 10016), ('stepsisters', 15369), ('works', 17852), ('elf', 5210), ('tree', 16594), ('lot', 9540), ('miracle', 10334), ('satire', 14008), ('stanley', 15287), ('kubrick', 9029), ('sociopath', 14939), ('dystopian', 5058), ('england', 5383), ('undergoes', 16861), ('rehabilitation', 13190), ('therapy', 16190), ('engrossing', 5387), ('melodrama', 10099), ('golden', 6897), ('globe', 6856), ('debra', 4156), ('winger', 17746), ('plays', 12112), ('sheltered', 14487), ('slow', 14838), ('witted', 17796), ('widowed', 17688), ('aunt', 1274), ('frances', 6419), ('dry', 4984), ('cleaners', 3087), ('adventure', 473), ('heads', 7393), ('hawaii', 7365), ('timmy', 16322), ('learns', 9235), ('source', 15040), ('fairy', 5852), ('magic', 9692), ('hands', 7256), ('gentle', 6739), ('abiding', 266), ('grace', 6958), ('confesses', 3434), ('killing', 8906), ('skeptical', 14743), ('lawyer', 9198), ('tyler', 16772), ('perry', 11883), ('filmmaker', 6100), ('puzzle', 12724), ('pieces', 11996), ('controversial', 3589), ('figure', 6081), ('corporate', 3658), ('headhunter', 7386), ('promotion', 12546), ('derail', 4359), ('dear', 4141), ('act', 371), ('church', 3012), ('grandpa', 6987), ('valuable', 17153), ('lesson', 9305), ('timid', 16320), ('sacred', 13892), ('tycoon', 16770), ('gifted', 6792), ('flees', 6214), ('austere', 1279), ('roots', 13778), ('pursue', 12705), ('wealth', 17552), ('among', 779), ('copenhagen', 3633), ('pride', 12427), ('propelling', 12557), ('ruin', 13829), ('brief', 2217), ('full', 6540), ('triumph', 16646), ('lampoon', 9107), ('co', 3154), ('founder', 6397), ('doug', 4862), ('kenney', 8865), ('built', 2325), ('empire', 5305), ('molding', 10467), ('1970s', 96), ('following', 6303), ('fatal', 5933), ('car', 2563), ('spirit', 15150), ('remains', 13270), ('stuck', 15521), ('shared', 14448), ('doors', 4836), ('wreck', 17889), ('graphic', 6996), ('seemed', 14243), ('discover', 4622), ('went', 17618), ('wrong', 17910), ('familiar', 5877), ('stranger', 15454), ('cory', 3675), ('remember', 13278), ('everyone', 5615), ('chrissy', 2987), ('freddie', 6447), ('hunt', 7829), ('sized', 14735), ('candy', 2515), ('bars', 1539), ('worth', 17871), ('spooky', 15186), ('spending', 15122), ('jealousy', 8561), ('flares', 6191), ('cousin', 3730), ('rosie', 13786), ('ride', 13584), ('seemingly', 14244), ('idyllic', 7916), ('crumble', 3891), ('restrictive', 13449), ('starts', 15311), ('bookstore', 2052), ('aardman', 237), ('animations', 859), ('wallace', 17463), ('gromit', 7078), ('morph', 10541), ('fans', 5894), ('collaborators', 3215), ('retrospective', 13491), ('celebrating', 2718), ('studio', 15528), ('40th', 191), ('dissects', 4701), ('case', 2642), ('whose', 17676), ('sparked', 15075), ('theories', 16185), ('spoof', 15180), ('scary', 14071), ('movies', 10613), ('settling', 14375), ('horrifyingly', 7720), ('hilarious', 7553), ('await', 1335), ('ghost', 6775), ('serial', 14343), ('resurfaces', 13456), ('jordan', 8681), ('silver', 14658), ('putting', 12723), ('torment', 16411), ('heyday', 7513), ('still', 15390), ('virile', 17342), ('reconnect', 13077), ('onset', 11284), ('degenerative', 4255), ('neural', 10893), ('disorder', 4670), ('hilary', 7556), ('hire', 7578), ('good', 6912), ('backfires', 1391), ('try', 16690), ('fool', 6313), ('neighbor', 10855), ('blocks', 1939), ('view', 17289), ('commercial', 3307), ('billboard', 1825), ('hong', 7673), ('kong', 8992), ('resorts', 13421), ('drastic', 4914), ('imaginative', 7969), ('measures', 10024), ('down', 4869), ('yijuan', 17984), ('mentally', 10132), ('kaiqi', 8779), ('happy', 7284), ('face', 5819), ('misfortune', 10368), ('criminal', 3826), ('intrigue', 8367), ('marital', 9861), ('strife', 15493), ('exorcism', 5697), ('professional', 12505), ('nba', 10817), ('hooper', 7694), ('coney', 3426), ('stephon', 15365), ('marbury', 9835), ('navigates', 10806), ('pressures', 12400), ('pitfalls', 12058), ('peaks', 11791), ('unsolved', 17020), ('unhappy', 16931), ('fantasizes', 5896), ('turns', 16737), ('self', 14271), ('serving', 14359), ('mythical', 10706), ('bid', 1801), ('invincibility', 8412), ('mercy', 10148), ('see', 14231), ('otherworldly', 11410), ('beings', 1670), ('singapore', 14690), ('investigates', 8400), ('chinese', 2952), ('migrant', 10245), ('construction', 3527), ('worker', 17846), ('spent', 15125), ('sleepless', 14805), ('nights', 10957), ('benefits', 1717), ('lingering', 9391), ('questions', 12774), ('around', 1060), ('kratom', 9016), ('leaf', 9218), ('alternative', 724), ('opioid', 11313), ('painkillers', 11562), ('juan', 8710), ('manuel', 9818), ('fangio', 5890), ('formula', 6375), ('winning', 17751), ('championships', 2783), ('1950s', 81), ('protective', 12587), ('gear', 6697), ('safety', 13908), ('resilient', 13409), ('treatments', 16591), ('traumas', 16565), ('pediatric', 11804), ('filmed', 6098), ('course', 3721), ('willful', 17716), ('hired', 7579), ('design', 4388), ('garden', 6665), ('versailles', 17238), ('louis', 9552), ('xiv', 17936), ('ensnared', 5418), ('romantic', 13751), ('complications', 3370), ('icon', 7891), ('carol', 2607), ('burnett', 2376), ('tv', 16747), ('panel', 11608), ('adults', 466), ('guests', 7129), ('solve', 14974), ('problems', 12476), ('honesty', 7669), ('knack', 8961), ('drawing', 4918), ('develops', 4459), ('musically', 10676), ('tough', 16441), ('lovestruck', 9569), ('teenager', 16025), ('next', 10923), ('door', 4835), ('grow', 7095), ('adulthood', 464), ('latasha', 9151), ('harlins', 7307), ('flashpoint', 6194), ('1992', 120), ('la', 9055), ('evocatively', 5626), ('15', 18), ('millionaire', 10285), ('ian', 7877), ('thinks', 16211), ('caring', 2592), ('joanna', 8631), ('put', 12720), ('test', 16125), ('stewardess', 15382), ('karyn', 8826), ('choi', 2968), ('kang', 8796), ('ta', 15856), ('skills', 14757), ('thirst', 16213), ('revenge', 13519), ('killers', 8905), ('fit', 6164), ('anger', 845), ('serious', 14345), ('injury', 8216), ('sidelined', 14625), ('hometown', 7660), ('reluctantly', 13265), ('train', 16510), ('youth', 18016), ('overbearing', 11466), ('kick', 8887), ('start', 15307), ('overwhelmed', 11504), ('illness', 7949), ('understand', 16874), ('complexity', 3366), ('fantastic', 5897), ('consoling', 3513), ('monster', 10497), ('abel', 264), ('morales', 10527), ('avoid', 1331), ('easy', 5087), ('path', 11731), ('pursues', 12708), ('amid', 772), ('1981', 108), ('excoriates', 5663), ('noted', 11058), ('anti', 896), ('penalty', 11816), ('questionable', 12772), ('methods', 10192), ('got', 6939), ('freed', 6451), ('1999', 127), ('entrepreneurs', 5459), ('worldwide', 17859), ('alternatives', 725), ('current', 3969), ('capitalist', 2539), ('structures', 15514), ('advocating', 494), ('profitable', 12519), ('businesses', 2390), ('also', 714), ('tackle', 15865), ('inequality', 8139), ('nears', 10828), ('bride', 2211), ('visited', 17358), ('angel', 838), ('could', 3689), ('she', 14471), ('followed', 6300), ('grieco', 7046), ('dimwits', 4556), ('steve', 15380), ('gain', 6610), ('entry', 5463), ('swanky', 15771), ('saturday', 14015), ('sketch', 14745), ('1888', 43), ('amsterdam', 790), ('headstrong', 7395), ('violin', 17331), ('maker', 9737), ('immersed', 7981), ('peril', 11868), ('businessmen', 2392), ('guard', 7116), ('catches', 2682), ('television', 16045), ('host', 7735), ('shoplifting', 14556), ('instead', 8270), ('turning', 16736), ('rule', 13836), ('1991', 119), ('politician', 12190), ('detlev', 4440), ('rohwedder', 13729), ('germany', 6762), ('tumultuous', 16713), ('reunification', 13499), ('confessing', 3435), ('unusual', 17040), ('repressed', 13358), ('prompted', 12548), ('sexuality', 14397), ('priced', 12422), ('call', 2467), ('nina', 10968), ('james', 8526), ('cheating', 2871), ('her', 7487), ('calling', 2471), ('pretending', 12407), ('another', 883), ('discovers', 4626), ('oceans', 11190), ('brimming', 2229), ('plastic', 12093), ('waste', 17525), ('pollution', 12195), ('environmental', 5467), ('impacts', 7999), ('relative', 13230), ('jules', 8727), ('daly', 4045), ('travels', 16576), ('niece', 10941), ('nephew', 10871), ('europe', 5581), ('gloria', 6863), ('groove', 7084), ('alexia', 646), ('twister', 16763), ('drag', 4897), ('artists', 1105), ('stage', 15258), ('makeover', 9735), ('isolated', 8472), ('revive', 13531), ('foreigners', 6344), ('arrive', 1073), ('shock', 14539), ('shows', 14585), ('russell', 13864), ('peters', 11914), ('funny', 6562), ('special', 15097), ('interested', 8311), ('movie', 10612), ('uncle', 16838), ('claims', 3051), ('storybook', 15436), ('popoy', 12222), ('basha', 1549), ('ever', 5606), ('imagined', 7971), ('shifting', 14504), ('times', 16318), ('kept', 8870), ('coming', 3295), ('set', 14364), ('impasse', 8003), ('tehran', 16032), ('beset', 1748), ('bitter', 1873), ('feud', 6045), ('involving', 8424), ('pious', 12042), ('caretaker', 2586), ('dad', 4025), ('extraordinary', 5788), ('baudelaire', 1584), ('orphans', 11390), ('trials', 16613), ('tribulations', 16620), ('count', 3697), ('olaf', 11249), ('fateful', 5936), ('quest', 12770), ('unlock', 16972), ('held', 7459), ('secrets', 14216), ('aspect', 1133), ('unraveling', 16995), ('jewish', 8603), ('physics', 11974), ('seeks', 14239), ('rabbis', 12802), ('spiritual', 15155), ('guidance', 7131), ('shaun', 14467), ('flock', 6244), ('adorable', 448), ('alien', 659), ('ship', 14520), ('near', 10824), ('mossy', 10563), ('bottom', 2103), ('farm', 5909), ('sparks', 15078), ('ufo', 16791), ('frenzy', 6471), ('class', 3066), ('bully', 2333), ('deaf', 4132), ('tormented', 16412), ('grade', 6962), ('feels', 5991), ('unworthy', 17052), ('redemption', 13118), ('stream', 15472), ('of', 11209), ('consciousness', 3497), ('centers', 2740), ('gay', 6695), ('reeling', 13129), ('recent', 13051), ('argentine', 1026), ('legal', 9258), ('ethical', 5570), ('countryside', 3711), ('pick', 11982), ('infant', 8150), ('waiting', 17442), ('adopt', 440), ('ace', 346), ('news', 10917), ('louisiana', 9554), ('flooding', 6248), ('reckless', 13060), ('teens', 16028), ('kill', 8902), ('amish', 774), ('prosecutor', 12572), ('youths', 18018), ('condemnation', 3415), ('bo', 1981), ('giving', 6823), ('enough', 5408), ('study', 15531), ('claus', 3079), ('reckons', 13065), ('aftermath', 529), ('younger', 18010), ('incarceration', 8064), ('greater', 7018), ('taipei', 15893), ('san', 13963), ('francisco', 6425), ('swap', 15772), ('homes', 7656), ('daring', 4082), ('pact', 11546), ('embarking', 5260), ('journeys', 8701), ('filled', 6094), ('memoirs', 10110), ('author', 1285), ('amos', 780), ('oz', 11524), ('poetic', 12155), ('shares', 14449), ('suffering', 15607), ('independent', 8102), ('israel', 8474), ('gabriela', 6596), ('cámara', 4019), ('opens', 11299), ('cala', 2454), ('similar', 14663), ('menu', 10137), ('unusually', 17041), ('welcoming', 17605), ('kitchen', 8948), ('philandering', 11940), ('club', 3143), ('promoter', 12544), ('clue', 3145), ('mayhem', 9978), ('unleash', 16962), ('carry', 2624), ('dai', 4032), ('tian', 16281), ('qing', 12740), ('taiwan', 15894), ('karma', 8820), ('permit', 11878), ('speak', 15090), ('thousand', 16236), ('words', 17842), ('fast', 5930), ('talking', 15919), ('jack', 8502), ('syllable', 15827), ('turmoil', 16731), ('china', 2950), ('civil', 3040), ('kuomintang', 9040), ('pilots', 12022), ('pain', 11559), ('leaving', 9241), ('strength', 15480), ('bonds', 2034), ('junkyard', 8752), ('eve', 5598), ('hank', 7267), ('trash', 16563), ('truck', 16675), ('rescuing', 13381), ('newly', 10912), ('engaged', 5372), ('jamaica', 8524), ('mischievous', 10354), ('ways', 17547), ('facing', 5829), ('drought', 4967), ('hungry', 7826), ('tiger', 16301), ('noble', 10989), ('cow', 3744), ('fable', 5813), ('children', 2936), ('book', 2047), ('kannada', 8798), ('folk', 6293), ('song', 14994), ('uruguayan', 17103), ('president', 12390), ('mujica', 10633), ('tupamaro', 16721), ('prisoners', 12456), ('solitary', 14968), ('confinement', 3445), ('torture', 16422), ('unfulfilled', 16926), ('hides', 7525), ('budding', 2308), ('interior', 8319), ('bill', 1824), ('murray', 10668), ('rounds', 13797), ('mischief', 10353), ('barroom', 1536), ('camaraderie', 2481), ('irreverent', 8451), ('twist', 16761), ('height', 7448), ('cold', 3207), ('1960', 86), ('andré', 829), ('merlaux', 10157), ('french', 6465), ('service', 14356), ('contends', 3551), ('enemies', 5363), ('foreign', 6342), ('bureaucratic', 2361), ('job', 8633), ('optimistic', 11332), ('envisioned', 5471), ('bad', 1407), ('landon', 9121), ('opposite', 11322), ('campus', 2504), ('bookworm', 2054), ('jamie', 8527), ('play', 12100), ('blooms', 1954), ('tear', 16002), ('apart', 922), ('anonymous', 880), ('tip', 16330), ('bomb', 2021), ('commissioner', 3310), ('negotiate', 10850), ('terrorist', 16115), ('demands', 4300), ('release', 13236), ('militants', 10271), ('officers', 11226), ('innovative', 8232), ('mentoring', 10135), ('promising', 12542), ('harsh', 7322), ('infested', 8164), ('watts', 17538), ('neighborhood', 10856), ('peculiar', 11799), ('catch', 2681), ('attention', 1241), ('it', 8479), ('blur', 1975), ('beatrix', 1618), ('can', 2506), ('inducted', 8126), ('witch', 17780), ('unfortunate', 16924), ('incident', 8070), ('pending', 11818), ('title', 16343), ('disappears', 4592), ('meg', 10068), ('charles', 2826), ('galaxies', 6617), ('darkness', 4087), ('orbit', 11342), ('record', 13086), ('setting', 14369), ('endurance', 5358), ('flight', 6225), ('homeless', 7650), ('convict', 3603), ('forms', 6374), ('bodyguard', 2000), ('wake', 17447), ('jesus', 8593), ('christ', 2988), ('crucifixion', 3885), ('apostles', 938), ('dedicate', 4203), ('spreading', 15206), ('message', 10169), ('risking', 13636), ('everything', 5616), ('aiko', 569), ('knew', 8962), ('lie', 9345), ('joining', 8658), ('divers', 4734), ('burst', 2380), ('began', 1652), ('app', 939), ('motocross', 10583), ('racer', 12810), ('miles', 10268), ('hill', 7558), ('robotic', 13693), ('combat', 3267), ('dog', 4784), ('creator', 3800), ('military', 10273), ('hot', 7746), ('pursuit', 12710), ('coincidences', 3205), ('crossed', 3865), ('lovers', 9566), ('fate', 5934), ('pulls', 12669), ('shaji', 14412), ('pappan', 11623), ('goofy', 6918), ('outlaws', 11437), ('low', 9571), ('funds', 6556), ('hefty', 7445), ('tug', 16703), ('doubt', 4858), ('loses', 9535), ('gun', 7152), ('due', 4995), ('hero', 7500), ('conscientious', 3495), ('overcome', 11468), ('placed', 12074), ('bureaucracy', 2359), ('intrepid', 8365), ('inspector', 8259), ('desk', 4396), ('matters', 9951), ('released', 13237), ('technicality', 16011), ('ago', 548), ('surprising', 15727), ('truths', 16689), ('tension', 16086), ('caller', 2469), ('harm', 7309), ('balcony', 1445), ('darker', 4084), ('alleged', 668), ('decision', 4187), ('supreme', 15703), ('establish', 5555), ('reservations', 13393), ('jobs', 8636), ('education', 5135), ('causes', 2698), ('conflict', 3450), ('mentor', 10133), ('cynical', 4011), ('gambler', 6639), ('chronic', 2999), ('smoker', 14861), ('ditches', 4724), ('fiancée', 6055), ('snubs', 14917), ('doctors', 4765), ('checks', 2876), ('nursing', 11110), ('kindly', 8922), ('orphaned', 11389), ('jimmy', 8617), ('goons', 6921), ('jyoti', 8767), ('indirectly', 8112), ('caused', 2697), ('municipal', 10652), ('clerk', 3100), ('literary', 9420), ('ambitions', 757), ('stalks', 15271), ('loan', 9445), ('recovery', 13099), ('decided', 4177), ('base', 1543), ('central', 2741), ('character', 2810), ('palatial', 11586), ('spell', 15115), ('eerie', 5142), ('hearted', 7417), ('fuzzly', 6584), ('fixing', 6175), ('mishaps', 10372), ('embracing', 5275), ('quirks', 12792), ('sci', 14115), ('fi', 6052), ('buff', 2316), ('employment', 5311), ('prospects', 12575), ('improve', 8048), ('accused', 344), ('reality', 12997), ('troupe', 16672), ('hip', 7573), ('hop', 7695), ('thrown', 16261), ('founded', 6396), ('vishnu', 17352), ('spirits', 15154), ('rebound', 13031), ('sees', 14247), ('dancers', 4055), ('prepping', 12368), ('annual', 878), ('contest', 3555), ('enmeshed', 5404), ('drugs', 4976), ('prey', 12418), ('manipulative', 9800), ('charms', 2835), ('abducts', 259), ('adolescent', 437), ('twice', 16754), ('trucker', 16676), ('jailed', 8515), ('fated', 5935), ('travelers', 16573), ('quetta', 12776), ('taking', 15904), ('pressure', 12398), ('assumes', 1176), ('different', 4528), ('persona', 11893), ('korean', 9004), ('celebs', 2723), ('multinational', 10645), ('engage', 5371), ('usually', 17121), ('lighthearted', 9366), ('debates', 4149), ('surround', 15731), ('beyond', 1777), ('abominable', 275), ('snowmen', 14912), ('flee', 6212), ('scientist', 14119), ('irresponsible', 8449), ('londoner', 9486), ('invents', 8396), ('imaginary', 7966), ('parent', 11655), ('meetings', 10066), ('available', 1309), ('tim', 16312), ('step', 15359), ('designers', 4391), ('disciplines', 4613), ('critters', 3852), ('narrate', 10759), ('science', 14116), ('peeks', 11810), ('incredible', 8089), ('untimely', 17033), ('demise', 4305), ('separate', 14322), ('incidents', 8071), ('cha', 2754), ('min', 10292), ('se', 14184), ('yeon', 17975), ('ve', 17187), ('bodies', 1995), ('don', 4816), ('recognize', 13069), ('disenfranchised', 4638), ('connects', 3481), ('older', 11253), ('sided', 14622), ('descends', 4374), ('obsession', 11160), ('anorexia', 882), ('lifelong', 9355), ('acapulco', 310), ('ostensibly', 11402), ('reason', 13014), ('holds', 7627), ('surprises', 15726), ('contract', 3573), ('skilled', 14755), ('staging', 15262), ('accidents', 324), ('fears', 5967), ('may', 9971), ('strategy', 15464), ('accomplice', 330), ('rejecting', 13218), ('ordinary', 11361), ('crosses', 3866), ('stoic', 15407), ('upset', 17088), ('divorce', 4745), ('infatuated', 8155), ('entrancing', 5454), ('watches', 17530), ('window', 17736), ('sights', 14639), ('hockey', 7616), ('league', 9220), ('rising', 13633), ('racial', 12815), ('tensions', 16087), ('jeopardize', 8579), ('goals', 6880), ('lad', 9072), ('upheaval', 17068), ('musical', 10675), ('featuring', 5977), ('songs', 14997), ('beatles', 1617), ('navy', 10808), ('seals', 14189), ('cia', 3015), ('turkish', 16730), ('agents', 542), ('notorious', 11068), ('known', 8977), ('dejjal', 4265), ('arabic', 983), ('antichrist', 897), ('sick', 14616), ('constant', 3520), ('squabbling', 15228), ('bliss', 1930), ('devastated', 4448), ('formerly', 6371), ('vow', 17408), ('silence', 14652), ('trains', 16517), ('traffickers', 16498), ('veteran', 17247), ('forces', 6334), ('regeneration', 13169), ('technology', 16017), ('lets', 9309), ('indefinitely', 8099), ('troubled', 16666), ('strange', 15452), ('wave', 17540), ('suicides', 15619), ('northern', 11038), ('reconnects', 13080), ('coast', 3161), ('guilt', 7139), ('stricken', 15489), ('frenetic', 6469), ('comic', 3291), ('adam', 392), ('devine', 4466), ('talks', 15920), ('awkwardness', 1357), ('pitch', 12054), ('perfect', 11855), ('audition', 1265), ('omaha', 11270), ('fun', 6548), ('comedian', 3279), ('conover', 3487), ('bursts', 2381), ('misconceptions', 10356), ('deconstructs', 4196), ('topics', 16400), ('positive', 12262), ('takeaways', 15898), ('heroes', 7501), ('ice', 7884), ('cream', 3789), ('ladies', 9075), ('sandler', 13975), ('jokes', 8664), ('groundbreaking', 7089), ('abducted', 254), ('murdered', 10657), ('john', 8650), ('reve', 13507), ('walsh', 17471), ('fought', 6389), ('raise', 12867), ('awareness', 1348), ('problem', 12474), ('chasing', 2845), ('athletic', 1211), ('daredevils', 4078), ('limits', 9382), ('various', 17177), ('giant', 6785), ('waves', 17541), ('snowy', 14916), ('slopes', 14835), ('casino', 2648), ('du', 4985), ('liban', 9329), ('lebanese', 9242), ('actor', 382), ('adel', 415), ('karam', 8807), ('delivers', 4288), ('earthy', 5080), ('punchlines', 12677), ('kissing', 8946), ('norms', 11030), ('colonoscopies', 3247), ('porn', 12235), ('named', 10738), ('rocco', 13702), ('footed', 6322), ('piglet', 12007), ('bunty', 2354), ('object', 11139), ('desire', 4394), ('want', 17485), ('swift', 15795), ('swine', 15805), ('racing', 12817), ('schemes', 14086), ('trailblazing', 16506), ('aditi', 419), ('mittal', 10412), ('mixes', 10416), ('topical', 16399), ('stand', 15277), ('talk', 15914), ('wearing', 17559), ('thongs', 16226), ('indian', 8106), ('ratings', 12958), ('roz', 13816), ('lil', 9374), ('other', 11407), ('sons', 15006), ('affairs', 502), ('secrecy', 14211), ('sailing', 13918), ('yacht', 17944), ('catastrophic', 2680), ('hurricane', 7837), ('harmonious', 7310), ('existence', 5689), ('interrupted', 8338), ('showing', 14583), ('anxiety', 911), ('seem', 14241), ('biomedical', 1845), ('firm', 6144), ('prizes', 12467), ('submit', 15570), ('schooling', 14103), ('wants', 17488), ('let', 9307), ('dubai', 4987), ('fleet', 6215), ('spaceships', 15062), ('hovering', 7770), ('contact', 3537), ('baffling', 1420), ('diagnoses', 4490), ('costly', 3684), ('illnesses', 7950), ('answers', 887), ('relief', 13250), ('brazilian', 2172), ('afonso', 521), ('padilha', 11550), ('dives', 4737), ('humble', 7806), ('beginnings', 1656), ('digs', 4541), ('fascinating', 5922), ('continent', 3561), ('planet', 12083), ('spotlights', 15195), ('afro', 527), ('thinkers', 16209), ('individual', 8114), ('discussing', 4631), ('representation', 13355), ('entrepreneurship', 5460), ('wholesome', 17673), ('freshman', 6477), ('tessa', 16124), ('complicated', 3368), ('hardin', 7294), ('scott', 14145), ('struggling', 15517), ('terms', 16101), ('newspaper', 10919), ('adopts', 445), ('gruff', 7106), ('effort', 5149), ('push', 12713), ('displaced', 4686), ('maria', 9847), ('puerto', 12658), ('rican', 13565), ('uncertain', 16833), ('futures', 6580), ('federal', 5980), ('housing', 7767), ('expires', 5731), ('careers', 2580), ('adjustment', 424), ('normal', 11025), ('adult', 461), ('entertainment', 5441), ('third', 16212), ('installment', 8267), ('genre', 6737), ('ended', 5350), ('large', 9138), ('immigration', 7987), ('emotional', 5297), ('fallout', 5868), ('churchgoers', 3013), ('means', 10020), ('thy', 16278), ('fell', 6003), ('betrayal', 1761), ('tears', 16003), ('whether', 17649), ('trust', 16683), ('second', 14210), ('air', 581), ('traffic', 16495), ('results', 13453), ('responsible', 13436), ('prep', 12362), ('loner', 9492), ('films', 6103), ('classmates', 3074), ('overdosing', 11473), ('cocaine', 3172), ('role', 13734), ('tourist', 16448), ('partying', 11701), ('chile', 2938), ('devastates', 4449), ('area', 1021), ('scramble', 14152), ('psychologist', 12635), ('investigating', 8401), ('string', 15497), ('murders', 10663), ('solving', 14977), ('killings', 8907), ('dramatized', 4911), ('depiction', 4344), ('11', 8), ('agatha', 535), ('christie', 2993), ('writing', 17906), ('backlash', 1394), ('intergenerational', 8318), ('couples', 3715), ('stick', 15384), ('thick', 16200), ('thin', 16205), ('thriving', 16254), ('nightlife', 10952), ('kuala', 9027), ('lumpur', 9611), ('showgirl', 14582), ('housekeeper', 7761), ('chanteuse', 2799), ('unruly', 17006), ('wreak', 17886), ('havoc', 7364), ('bullies', 2330), ('turbulent', 16726), ('grounds', 7091), ('tanks', 15943), ('unfolds', 16920), ('geopolitics', 6750), ('century', 2744), ('footballer', 6320), ('player', 12103), ('destroy', 4416), ('mix', 10414), ('brilliance', 2226), ('erudition', 5522), ('skill', 14754), ('enables', 5323), ('modern', 10445), ('sherlock', 14494), ('holmes', 7640), ('cases', 2643), ('heal', 7396), ('wounds', 17877), ('frustrated', 6518), ('thankless', 16157), ('office', 11224), ('retsuko', 13493), ('red', 13111), ('panda', 11601), ('copes', 3634), ('daily', 4033), ('belting', 1701), ('metal', 10181), ('karaoke', 8809), ('validation', 17148), ('spirals', 15149), ('innocent', 8228), ('reparation', 13329), ('great', 7017), ('costs', 3685), ('agustín', 556), ('radagast', 12822), ('aristarán', 1036), ('adds', 413), ('doses', 4852), ('acting', 372), ('energy', 5367), ('routine', 13802), ('crew', 3817), ('shooting', 14549), ('forested', 6351), ('location', 9459), ('entity', 5451), ('cannot', 2526), ('hear', 7406), ('stood', 15419), ('groom', 7080), ('altar', 718), ('ai', 562), ('weiwei', 17602), ('inspire', 8262), ('suffers', 15608), ('persecution', 11884), ('actions', 375), ('japan', 8539), ('board', 1982), ('pink', 12029), ('asia', 1124), ('goal', 6877), ('ainsley', 579), ('harriott', 7317), ('foods', 6312), ('sensitive', 14309), ('ainu', 580), ('searches', 14195), ('recently', 13052), ('deceased', 4167), ('navigating', 10807), ('indigenous', 8110), ('changing', 2795), ('ana', 795), ('influencer', 8177), ('shipped', 14524), ('grumpy', 7108), ('grandfather', 6982), ('digital', 4538), ('concrete', 3413), ('urban', 17094), ('appreciate', 961), ('joys', 8707), ('happily', 7282), ('deal', 4133), ('episode', 5482), ('protégé', 12597), ('rogue', 13724), ('threat', 16240), ('serves', 14355), ('outspoken', 11458), ('conservative', 3504), ('fending', 6020), ('prospect', 12573), ('arranged', 1064), ('traveling', 16574), ('rv', 13875), ('ruby', 13821), ('unlikely', 16969), ('sidekick', 14623), ('aj', 595), ('stowaway', 15441), ('others', 11408), ('drives', 4955), ('else', 5238), ('studies', 15527), ('grad', 6961), ('akif', 603), ('involved', 8421), ('continuation', 3566), ('uoolss', 17056), ('ajin', 597), ('authorities', 1289), ('granddaughter', 6979), ('sexually', 14398), ('assaulted', 1150), ('served', 14353), ('frail', 6412), ('plots', 12130), ('spat', 15084), ('disgraced', 4641), ('retaliates', 13466), ('kidnapping', 8896), ('filming', 6099), ('tatsumi', 15975), ('assassins', 1148), ('wit', 17779), ('akbar', 601), ('trusty', 16687), ('advisor', 489), ('birbal', 1851), ('display', 4688), ('unique', 16946), ('adventures', 476), ('mughal', 10631), ('era', 5497), ('enter', 5430), ('arrested', 1068), ('dramatic', 4908), ('escapes', 5535), ('model', 10441), ('fresh', 6474), ('park', 11666), ('ranger', 12915), ('assignment', 1161), ('network', 10890), ('poachers', 12144), ('depends', 4341), ('instincts', 8272), ('lebanon', 9243), ('syria', 15843), ('head', 7383), ('arms', 1056), ('smuggling', 14871), ('clan', 3055), ('conflicts', 3453), ('power', 12298), ('growing', 7096), ('enduring', 5362), ('criticism', 3849), ('shaken', 14415), ('learning', 9233), ('switched', 15814), ('birth', 1858), ('inferiority', 8159), ('impoverished', 8033), ('tells', 16049), ('tall', 15921), ('influence', 8175), ('upgrade', 17067), ('status', 15330), ('alan', 612), ('saldaña', 13934), ('sitting', 14728), ('exit', 5692), ('maxing', 9969), ('credit', 3806), ('vacationing', 17133), ('resort', 13420), ('ornery', 11385), ('captive', 2553), ('organization', 11369), ('alaskan', 616), ('cannery', 2520), ('fighter', 6076), ('tapped', 15952), ('boxing', 2125), ('goa', 6876), ('vengeance', 17215), ('fueled', 6526), ('pent', 11832), ('toward', 16457), ('magical', 9693), ('transports', 16555), ('ruled', 13837), ('general', 6718), ('colombian', 3240), ('alejandro', 637), ('riaño', 13561), ('discusses', 4630), ('perks', 11874), ('dating', 4104), ('wolf', 17805), ('styles', 15551), ('dancing', 4056), ('bogotá', 2003), ('announcers', 874), ('grammy', 6974), ('sanz', 13991), ('mourning', 10602), ('siblings', 14615), ('selling', 14279), ('beloved', 1698), ('beach', 1594), ('alex', 642), ('fernández', 6028), ('performs', 11865), ('autobiographical', 1295), ('deeper', 4215), ('tender', 16076), ('truelove', 16679), ('virginity', 17341), ('lovable', 9558), ('awry', 1358), ('equally', 5489), ('elliot', 5227), ('alexa', 643), ('katie', 8838), ('ready', 12994), ('whatever', 17636), ('alexandria', 645), ('egyptian', 5163), ('enamored', 5330), ('hollywood', 7639), ('yehia', 17970), ('hunger', 7823), ('strike', 15494), ('smitten', 14859), ('creative', 3796), ('muse', 10671), ('colombia', 3239), ('sensation', 14303), ('legs', 9268), ('alexis', 647), ('viera', 17284), ('purpose', 12704), ('addiction', 404), ('endanger', 5345), ('sweethearts', 15792), ('perils', 11870), ('precarious', 12331), ('gnome', 6873), ('vendor', 17211), ('attend', 1235), ('trade', 16484), ('fair', 5848), ('sofia', 14948), ('stumble', 15536), ('shenanigans', 14489), ('ali', 653), ('wong', 17825), ('delves', 4296), ('hoarding', 7613), ('rocky', 13712), ('feminism', 6014), ('terrible', 16106), ('cobra', 3171), ('bump', 2339), ('torrent', 16419), ('motherhood', 10569), ('telling', 16048), ('white', 17662), ('spins', 15145), ('iraqi', 8433), ('born', 2080), ('cleric', 3098), ('melbourne', 10092), ('duty', 5038), ('19th', 128), ('canada', 2507), ('weighs', 17592), ('murderess', 10660), ('pardoned', 11654), ('insanity', 8238), ('margaret', 9844), ('atwood', 1255), ('novel', 11075), ('witnesses', 17793), ('figures', 6082), ('respond', 13430), ('pablo', 11528), ('escobar', 5538), ('medellín', 10041), ('cartel', 2629), ('sole', 14963), ('jairo', 8519), ('velásquez', 17208), ('web', 17565), ('bandits', 1478), ('waitress', 17443), ('befriending', 1650), ('coworkers', 3748), ('romancing', 13745), ('ruggedly', 13827), ('rancher', 12907), ('aimless', 576), ('gamer', 6645), ('parallel', 11635), ('tokyo', 16369), ('compete', 3350), ('sadistic', 13901), ('games', 6646), ('trans', 16523), ('vibrant', 17257), ('personality', 11896), ('shakes', 14417), ('kiss', 8945), ('fact', 5830), ('account', 335), ('humankind', 7801), ('gather', 6685), ('signals', 14643), ('intelligent', 8294), ('solar', 14959), ('reporters', 13350), ('ixbee', 8492), ('pixbee', 12068), ('squee', 15238), ('lovely', 9564), ('odd', 11197), ('hobbies', 7614), ('seal', 14187), ('tackles', 15867), ('research', 13382), ('scientists', 14120), ('mysteriously', 10697), ('disappeared', 4590), ('awaits', 1338), ('applying', 954), ('laws', 9195), ('rest', 13437), ('galaxy', 6618), ('fiction', 6059), ('imagine', 7970), ('planets', 12084), ('mistakes', 10394), ('plaything', 12113), ('gravity', 7013), ('steal', 15339), ('presents', 12381), ('lawmen', 9191), ('fly', 6274), ('rod', 13713), ('bedroom', 1636), ('swing', 15806), ('continued', 3568), ('prosperity', 12576), ('joyous', 8706), ('personalities', 11895), ('inseparable', 8246), ('fearless', 5964), ('provocation', 12614), ('geld', 6707), ('levels', 9317), ('mc', 9988), ('joe', 8642), ('speed', 15112), ('retires', 13479), ('showbiz', 14576), ('rhythm', 13557), ('balancing', 1442), ('everyday', 5614), ('chaos', 2801), ('clashes', 3064), ('brewing', 2203), ('rivalries', 13646), ('beverly', 1773), ('hills', 7559), ('guest', 7128), ('unsuspecting', 17027), ('staff', 15257), ('embroiled', 5276), ('hostage', 7736), ('looks', 9508), ('canine', 2518), ('con', 3390), ('sneaks', 14893), ('penniless', 11826), ('runaway', 13849), ('tangled', 15937), ('organized', 11370), ('blackmails', 1889), ('adulterous', 462), ('emmy', 5292), ('outstanding', 11459), ('animated', 856), ('madagascar', 9664), ('booty', 2068), ('shaker', 14416), ('julien', 8731), ('craziest', 3786), ('dethroned', 4439), ('allies', 683), ('propel', 12556), ('lemur', 9278), ('colorful', 3252), ('summoning', 15638), ('dearly', 4142), ('departed', 4337), ('charming', 2834), ('vengeful', 17216), ('documents', 4774), ('traditional', 16491), ('process', 12481), ('acceptance', 316), ('traumatic', 16566), ('revisits', 13528), ('terrors', 16121), ('sight', 14636), ('instant', 8268), ('chemistry', 2892), ('unravels', 16996), ('jarring', 8542), ('weekend', 17583), ('excursion', 5665), ('secluded', 14208), ('unwelcome', 17046), ('visitor', 17360), ('picking', 11984), ('randy', 12912), ('admirers', 431), ('temptress', 16067), ('mandy', 9781), ('lane', 9128), ('cathartic', 2687), ('chronicling', 3003), ('indiana', 8107), ('scarred', 14069), ('ops', 11329), ('vet', 17246), ('funded', 6553), ('russian', 13866), ('trigger', 16632), ('comrades', 3388), ('thirteen', 16216), ('miguel', 10250), ('immune', 7993), ('fever', 6049), ('myriad', 10694), ('surprised', 15725), ('anticipated', 898), ('talented', 15908), ('clings', 3114), ('strikes', 15495), ('accept', 315), ('forbids', 6331), ('marrying', 9882), ('stubborn', 15520), ('hitched', 7598), ('enlists', 5403), ('guru', 7166), ('nothing', 11061), ('happened', 7277), ('heavily', 7432), ('mind', 10295), ('body', 1996), ('birthdays', 1860), ('commitment', 3313), ('averse', 1322), ('strives', 15503), ('bit', 1867), ('calm', 2474), ('chaotic', 2803), ('sebastián', 14207), ('radio', 12828), ('modest', 10448), ('fame', 5874), ('deals', 4139), ('whom', 17674), ('striving', 15504), ('yorkers', 18002), ('heartache', 7412), ('equipped', 5495), ('limited', 9381), ('resources', 13423), ('individuals', 8116), ('conditions', 3419), ('wilderness', 17702), ('tap', 15947), ('battlefield', 1579), ('berlin', 1740), ('quietly', 12783), ('resistance', 13411), ('adolf', 438), ('hitler', 7601), ('eight', 5169), ('christine', 2995), ('raf', 12835), ('points', 12162), ('prestigious', 12401), ('homicide', 7662), ('teaming', 15998), ('security', 14221), ('outdoor', 11427), ('humphrey', 7817), ('kate', 8835), ('cubs', 3923), ('explanation', 5736), ('pup', 12688), ('runt', 13855), ('cave', 2705), ('befriends', 1651), ('driven', 4951), ('pack', 11536), ('blind', 1922), ('alphabet', 707), ('alphaland', 708), ('read', 12988), ('write', 17902), ('exciting', 5661), ('phonic', 11958), ('deceptively', 4175), ('antifa', 901), ('charlottesville', 2830), ('riots', 13621), ('trump', 16682), ('presidency', 12389), ('250', 168), ('prisoner', 12455), ('bending', 1710), ('latimer', 9157), ('takeshi', 15903), ('kovacs', 9011), ('tattooist', 15979), ('yakuza', 17946), ('no', 10985), ('nonsense', 11011), ('ctac', 3915), ('never', 10900), ('always', 732), ('weddings', 17575), ('copy', 3638), ('editor', 5126), ('pool', 12215), ('involves', 8423), ('staying', 15336), ('forever', 6354), ('17th', 27), ('adjust', 421), ('present', 12377), ('cartagena', 2628), ('defeat', 4222), ('dumped', 5008), ('respective', 13428), ('acquitted', 367), ('amanda', 741), ('knox', 8979), ('closest', 3133), ('recounts', 13093), ('played', 12102), ('eradicate', 5498), ('apartheid', 923), ('laura', 9176), ('carlos', 2598), ('intensity', 8300), ('fragility', 6411), ('realities', 12996), ('tarnish', 15962), ('idealized', 7904), ('notions', 11067), ('brotherly', 2269), ('catholic', 2689), ('absurdities', 294), ('amar', 744), ('anthony', 894), ('independently', 8103), ('knowledge', 8976), ('reunited', 13502), ('coincidence', 3204), ('blood', 1944), ('fulfill', 6536), ('build', 2321), ('widow', 17687), ('cairo', 2449), ('poverty', 12296), ('14', 16), ('phenom', 11933), ('confronted', 3457), ('greed', 7023), ('amateur', 747), ('eccentric', 5097), ('homeowners', 7654), ('spaces', 15060), ('backyard', 1404), ('roller', 13737), ('coaster', 3163), ('indoor', 8122), ('aquarium', 978), ('amelia', 762), ('earhart', 5064), ('accomplishments', 333), ('celebrated', 2716), ('thanks', 16158), ('muriel', 10665), ('engaging', 5375), ('backstories', 1399), ('institutions', 8276), ('pentagon', 11833), ('west', 17625), ('point', 12160), ('playboy', 12101), ('mansion', 9814), ('supermodel', 15670), ('tyra', 16777), ('banks', 1495), ('created', 3791), ('produced', 12494), ('transformation', 16535), ('potential', 12286), ('supermodels', 15671), ('profiles', 12516), ('william', 17717), ('powell', 12297), ('wrote', 17916), ('the', 16164), ('anarchist', 804), ('cookbook', 3616), ('regretting', 13185), ('mitch', 10407), ('rapp', 12937), ('loss', 9537), ('minded', 10296), ('endure', 5359), ('tightly', 16305), ('wound', 17875), ('unfulfilling', 16927), ('surly', 15722), ('debate', 4148), ('practice', 12309), ('non', 11006), ('circumcision', 3029), ('anthology', 893), ('arc', 992), ('season', 14200), ('dramas', 4907), ('focusing', 6282), ('dramatizes', 4912), ('including', 8077), ('simpson', 14673), ('trial', 16612), ('andrew', 824), ('cunanan', 3952), ('1997', 125), ('botched', 2095), ('arrest', 1067), ('supremacist', 15701), ('idaho', 7898), ('galvanize', 6632), ('opinion', 11311), ('exploration', 5745), ('circus', 3032), ('spectacle', 15103), ('evolved', 5630), ('event', 5601), ('eventually', 5605), ('breed', 2191), ('1931', 66), ('tore', 16407), ('lines', 9389), ('claiming', 3050), ('raped', 12931), ('nonwhite', 11017), ('islanders', 8465), ('soar', 14922), ('company', 3340), ('reopens', 13324), ('shuttered', 14608), ('factory', 5834), ('ohio', 11240), ('shatter', 14463), ('barack', 1502), ('michelle', 10216), ('obama', 11133), ('directors', 4576), ('steven', 15381), ('bognar', 2002), ('julia', 8728), ('reichert', 13194), ('importance', 8025), ('storytelling', 15440), ('judge', 8716), ('streamed', 15473), ('supposedly', 15698), ('sending', 14295), ('track', 16479), ('drags', 4902), ('underworld', 16882), ('neo', 10868), ('nazi', 10813), ('prevent', 12412), ('footsteps', 6326), ('dull', 5005), ('oklahoma', 11246), ('raucous', 12965), ('travelling', 16575), ('magazine', 9686), ('sellers', 14278), ('alcohol', 628), ('twisted', 16762), ('horrors', 7722), ('unsettling', 17018), ('capacity', 2535), ('baseball', 1544), ('legend', 9260), ('ted', 16018), ('williams', 17718), ('hitter', 7604), ('teammates', 15999), ('press', 12395), ('using', 17119), ('raw', 12973), ('firsthand', 6148), ('shanann', 14429), ('linking', 9394), ('terrorists', 16116), ('corporation', 3659), ('knit', 8966), ('seniors', 14301), ('homecoming', 7647), ('arrival', 1071), ('muddles', 10628), ('chiseled', 2959), ('belie', 1677), ('businessman', 2391), ('pathological', 11734), ('yuppie', 18033), ('pursuits', 12711), ('indulges', 8128), ('sudden', 15600), ('homicidal', 7661), ('urges', 17100), ('passes', 11710), ('mounts', 10599), ('florida', 6255), ('interracial', 8334), ('rocked', 13704), ('vandalism', 17162), ('pleads', 12117), ('ally', 695), ('satirical', 14009), ('haunted', 7357), ('rebuild', 13035), ('injustices', 8218), ('parenting', 11658), ('amit', 775), ('tandon', 15934), ('wisdom', 17768), ('wisecracks', 17771), ('philippine', 11943), ('crackdown', 3754), ('narcotics', 10757), ('joseph', 8687), ('expands', 5704), ('profits', 12520), ('fikret', 6086), ('songstress', 14998), ('solmaz', 14969), ('wacky', 17427), ('fill', 6092), ('buddha', 2304), ('philosophy', 11950), ('nonviolence', 11015), ('warmonger', 17500), ('destruction', 4420), ('enemy', 5364), ('rare', 12943), ('videos', 17276), ('inner', 8225), ('circle', 3026), ('offer', 11218), ('charismatic', 2821), ('schumer', 14112), ('spills', 15136), ('growth', 7101), ('misguided', 10370), ('advice', 484), ('raunchy', 12967), ('sincere', 14687), ('riffs', 13595), ('uncensored', 16832), ('denver', 4330), ('bellco', 1687), ('theater', 16165), ('extensive', 5776), ('clips', 3120), ('tell', 16046), ('ellis', 5229), ('dungan', 5013), ('helped', 7471), ('define', 4238), ('tamil', 15928), ('cinema', 3022), ('fievel', 6071), ('mouse', 10603), ('immigrates', 7986), ('perilous', 11869), ('cowboy', 3745), ('nasty', 10774), ('napping', 10753), ('hunting', 7833), ('treasure', 16584), ('beneath', 1711), ('ruins', 13832), ('subway', 15586), ('tunnel', 16719), ('onto', 11288), ('drawn', 4920), ('hedonistic', 7439), ('cannes', 2521), ('values', 17156), ('undergoing', 16862), ('surgery', 15718), ('london', 9485), ('reflects', 13146), ('chamber', 2774), ('courtroom', 3727), ('unhappily', 16930), ('production', 12499), ('anything', 916), ('2002', 133), ('el', 5176), ('ayyat', 1371), ('90', 225), ('minutes', 10332), ('explosion', 5753), ('riders', 13586), ('cars', 2626), ('nightmare', 10954), ('abusive', 303), ('actress', 384), ('question', 12771), ('took', 16393), ('assured', 1178), ('had', 7202), ('drive', 4950), ('granted', 6993), ('god', 6885), ('hiding', 7526), ('maid', 9715), ('confidant', 3439), ('herself', 7509), ('accountant', 336), ('magician', 9696), ('invites', 8418), ('most', 10564), ('wanted', 17486), ('eager', 5061), ('settle', 14370), ('abdullah', 260), ('longs', 9501), ('feel', 5988), ('musicians', 10679), ('differing', 4530), ('views', 17292), ('album', 623), ('drastically', 4915), ('alters', 726), ('scours', 14148), ('hyderabad', 7856), ('entangled', 5425), ('suggests', 15615), ('eye', 5802), ('harassed', 7285), ('performing', 11864), ('clear', 3091), ('name', 10737), ('kat', 8832), ('eva', 5585), ('rough', 13794), ('patch', 11728), ('visiting', 17359), ('roger', 13723), ('complete', 3360), ('nigerian', 10947), ('agonizing', 550), ('defy', 4251), ('deportation', 4346), ('orders', 11360), ('citizenship', 3036), ('ancient', 811), ('really', 13004), ('technological', 16015), ('advances', 470), ('civilized', 3046), ('extraterrestrial', 5790), ('icelandic', 7886), ('guinea', 7141), ('bissauan', 1865), ('asylum', 1201), ('seeker', 14236), ('intertwined', 8347), ('twin', 16756), ('secretary', 14213), ('plot', 12128), ('brews', 2204), ('fortune', 6382), ('broke', 2250), ('heiress', 7453), ('nearby', 10825), ('charm', 2831), ('visually', 17365), ('impaired', 8000), ('pianist', 11978), ('careens', 2577), ('twists', 16765), ('unintentionally', 16942), ('scene', 14080), ('librarian', 9340), ('dispirited', 4684), ('cricketer', 3822), ('desolate', 4397), ('seek', 14235), ('retribution', 13488), ('overlap', 11481), ('influences', 8179), ('prepares', 12366), ('michelin', 10215), ('starred', 15301), ('chiang', 2911), ('reflection', 13143), ('inscrutable', 8240), ('incomparable', 8080), ('both', 2096), ('famed', 5875), ('nicolas', 10939), ('anelka', 833), ('legacy', 9257), ('depth', 4356), ('popular', 12230), ('attacked', 1225), ('altering', 721), ('assault', 1149), ('amidst', 773), ('wars', 17515), ('vincent', 17316), ('entrepreneurial', 5458), ('ends', 5357), ('copper', 3636), ('dimension', 4553), ('afterlife', 528), ('purgatorial', 12700), ('vulnerable', 17423), ('streetwise', 15478), ('chicago', 2915), ('own', 11513), ('banning', 1497), ('crossfire', 3867), ('framed', 6414), ('angela', 839), ('heartwarming', 7425), ('mccourt', 9995), ('australia', 1281), ('heartfelt', 7418), ('harvard', 7331), ('symbologist', 15834), ('vatican', 17184), ('retaliate', 13465), ('persecutions', 11885), ('management', 9773), ('counseling', 3694), ('therapist', 16189), ('birds', 1854), ('chuck', 3007), ('feathered', 5971), ('lots', 9544), ('guarding', 7119), ('eggs', 5156), ('nest', 10881), ('pesky', 11907), ('pigs', 12008), ('announce', 872), ('engagement', 5373), ('stirs', 15402), ('riot', 13618), ('emotion', 5296), ('singular', 14704), ('biopic', 1846), ('yet', 17978), ('prolific', 12534), ('marathi', 9831), ('dentist', 4329), ('superstar', 15678), ('directed', 4571), ('paul', 11756), ('thomas', 16223), ('anderson', 817), ('thom', 16222), ('yorke', 18000), ('radiohead', 12830), ('visual', 17364), ('piece', 11995), ('loud', 9547), ('enchanted', 5331), ('crackers', 3757), ('owen', 11509), ('shape', 14440), ('eats', 5093), ('unlucky', 16975), ('ridden', 13582), ('math', 9938), ('tournament', 16450), ('scissors', 14125), ('diabolical', 4488), ('visions', 17356), ('frequent', 6473), ('anitta', 862), ('ethic', 5569), ('revealing', 13510), ('mild', 10263), ('mannered', 9808), ('krishna', 9021), ('spine', 15140), ('chilling', 2944), ('malevolent', 9756), ('unfold', 16917), ('villages', 17309), ('jungles', 8745), ('buildings', 2323), ('cops', 3637), ('vikrant', 17301), ('mysteries', 10695), ('realm', 13005), ('paranormal', 11646), ('youtube', 18019), ('nail', 10728), ('salons', 13946), ('gypsies', 7187), ('super', 15656), ('sleuthing', 14815), ('liam', 9326), ('neeson', 10840), ('distressing', 4715), ('delhi', 4274), ('vows', 17411), ('believe', 1680), ('ideals', 7905), ('directions', 4573), ('intern', 8322), ('negligence', 10848), ('surgeon', 15716), ('looked', 9506), ('picturesque', 11992), ('nantucket', 10745), ('crafty', 3768), ('thieves', 16204), ('ghostly', 6776), ('conundrum', 3592), ('plucky', 12136), ('passions', 11715), ('spinster', 15146), ('soft', 14949), ('spoken', 15174), ('green', 7026), ('gables', 6594), ('summons', 15639), ('rendered', 13298), ('obsolete', 11164), ('deleted', 4273), ('overtaken', 11498), ('spontaneous', 15178), ('massive', 9916), ('artifact', 1094), ('niko', 10962), ('breckinridge', 2190), ('interstellar', 8345), ('sound', 15034), ('mired', 10343), ('happen', 7276), ('fewer', 6051), ('deeds', 4211), ('charging', 2819), ('lang', 9130), ('aka', 598), ('ant', 888), ('drafted', 4894), ('dr', 4887), ('pym', 12727), ('van', 17160), ('dyne', 5054), ('wasp', 17524), ('urgent', 17099), ('grandson', 6989), ('famous', 5881), ('knight', 8964), ('hilariously', 7554), ('beautiful', 1622), ('tribe', 16619), ('villains', 17312), ('superheroes', 15664), ('bheem', 1787), ('forging', 6361), ('comedic', 3281), ('boundaries', 2110), ('jeselnik', 8589), ('revels', 13517), ('saying', 14045), ('subject', 15563), ('skewers', 14750), ('taboos', 15863), ('tragedies', 16500), ('pulling', 12668), ('curtain', 3977), ('provocative', 12615), ('style', 15549), ('forger', 6356), ('fake', 5859), ('stolen', 15410), ('diamonds', 4496), ('penitentiary', 11824), ('mob', 10424), ('phony', 11959), ('alias', 655), ('as', 1110), ('nails', 10731), ('protects', 12589), ('humanitarian', 7799), ('cure', 3961), ('disease', 4634), ('determination', 4432), ('antoine', 907), ('griezmann', 7053), ('overcame', 11467), ('stature', 15329), ('champion', 2780), ('refuge', 13155), ('hindu', 7571), ('temple', 16058), ('loved', 9561), ('hailing', 7209), ('mountains', 10596), ('iga', 7920), ('kanzo', 8802), ('hattori', 7352), ('elementary', 5200), ('kenichi', 8862), ('mitsuba', 10410), ('hone', 7666), ('ninja', 10970), ('recovered', 13096), ('cockpit', 3175), ('reveal', 13508), ('us', 17105), ('largest', 9141), ('gritty', 7071), ('dramatization', 4910), ('tevez', 16140), ('harrowing', 7320), ('argentina', 1025), ('fuerte', 6529), ('apache', 920), ('sáez', 15850), ('carral', 2616), ('condescending', 3417), ('underachieving', 16855), ('loafer', 9444), ('lured', 9618), ('kingpin', 8930), ('visionary', 17355), ('carmaker', 2602), ('introduces', 8372), ('fuel', 6525), ('efficient', 5147), ('performance', 11860), ('hypercar', 7863), ('market', 9865), ('competitors', 3356), ('ferrari', 6030), ('porsche', 12237), ('apollo', 935), ('statements', 15318), ('contrary', 3579), ('nasa', 10769), ('manned', 9806), ('moon', 10515), ('1905', 56), ('drifter', 4943), ('tangles', 15938), ('sinister', 14706), ('cult', 3941), ('disappear', 4587), ('april', 974), ('forges', 6358), ('ahead', 558), ('vast', 17182), ('prominent', 12537), ('manson', 9815), ('france', 6418), ('despair', 4399), ('crippling', 3835), ('aram', 986), ('beirut', 1671), ('armenian', 1049), ('comedians', 3280), ('antonio', 909), ('sanint', 13979), ('julián', 8734), ('arango', 989), ('impersonate', 8011), ('cabbie', 2427), ('pair', 11573), ('dirty', 4580), ('opera', 11300), ('debut', 4160), ('arashi', 990), ('showcase', 14577), ('talents', 15910), ('chicken', 2920), ('archibald', 1004), ('chores', 2982), ('forgets', 6360), ('stumbles', 15537), ('otto', 11414), ('von', 17402), ('walrus', 17470), ('melt', 10101), ('arctic', 1017), ('fox', 6404), ('swifty', 15796), ('ragtag', 12848), ('madly', 9676), ('studying', 15532), ('immunizing', 7995), ('protein', 12590), ('penguins', 11822), ('offers', 11222), ('convince', 3608), ('courts', 3728), ('rabid', 12805), ('algorithm', 651), ('contestants', 3557), ('identify', 7909), ('matches', 9926), ('cash', 2645), ('exclusive', 5662), ('horrifying', 7719), ('misleading', 10374), ('passionate', 11713), ('investigative', 8404), ('light', 9364), ('english', 5384), ('language', 9131), ('ari', 1030), ('eldjárn', 5184), ('pokes', 12167), ('nordic', 11021), ('thor', 16227), ('whims', 17652), ('toddlers', 16357), ('more', 10533), ('wry', 17918), ('thoughtful', 16234), ('shaffir', 14406), ('edgy', 5117), ('humor', 7814), ('paced', 11531), ('specials', 15100), ('ariana', 1031), ('grande', 6980), ('sweetener', 15790), ('tour', 16445), ('rehearsal', 13191), ('laugh', 9166), ('retelling', 13469), ('classic', 3068), ('arjun', 1043), ('sanskrit', 13988), ('epic', 5475), ('mahabharata', 9706), ('lab', 9057), ('loop', 9512), ('disoriented', 4672), ('fends', 6021), ('masked', 9907), ('raiders', 12854), ('harboring', 7288), ('dc', 4123), ('comics', 3294), ('arrow', 1077), ('affluent', 514), ('saving', 14033), ('bow', 2117), ('arrows', 1078), ('arsenio', 1080), ('hall', 7226), ('bothersome', 2098), ('toes', 16361), ('arth', 1089), ('inhabitants', 8199), ('arthdal', 1090), ('regions', 13180), ('vie', 17280), ('brand', 2151), ('remake', 13271), ('philanderer', 11938), ('sake', 13927), ('toy', 16467), ('facility', 5828), ('mr', 10618), ('entrusts', 5462), ('arthur', 1092), ('ultra', 16803), ('grim', 7058), ('discrimination', 4628), ('entitled', 5450), ('upright', 17081), ('ventures', 17223), ('heartland', 7420), ('epidemiologist', 5480), ('nationwide', 10789), ('bird', 1853), ('flu', 6268), ('investigation', 8402), ('sample', 13959), ('delicacies', 4275), ('en', 5321), ('route', 13800), ('tomb', 16377), ('raider', 12853), ('catacombs', 2669), ('hellish', 7468), ('structured', 15513), ('sour', 15039), ('obsessive', 11162), ('compulsive', 3383), ('crumbles', 3892), ('entangling', 5428), ('chauffeur', 2859), ('pimp', 12024), ('ugly', 16793), ('glitzy', 6852), ('veneer', 17212), ('dispute', 4693), ('devoted', 4473), ('lengths', 9283), ('ash', 1114), ('demon', 4311), ('par', 11627), ('excellence', 5651), ('deadite', 4128), ('plague', 12076), ('touch', 16436), ('floral', 6252), ('jinmi', 8622), ('xufeng', 17939), ('heavenly', 7431), ('conspire', 3515), ('allergies', 674), ('diet', 4523), ('sleep', 14801), ('friendly', 6487), ('expert', 5728), ('bust', 2395), ('myths', 10710), ('latest', 9155), ('happens', 7280), ('need', 10833), ('brush', 2279), ('teeth', 16029), ('elaborate', 5177), ('cunning', 3953), ('warrior', 17513), ('legendary', 9261), ('buddhism', 2305), ('spectrum', 15109), ('brakes', 2148), ('slam', 14781), ('roy', 13812), ('challenge', 2768), ('foe', 6283), ('iconic', 7892), ('nürburgring', 11126), ('isn', 8469), ('boring', 2079), ('neighbors', 10858), ('behaving', 1662), ('perspectives', 11901), ('converge', 3598), ('unified', 16938), ('voice', 17387), ('astronomy', 1194), ('smart', 14849), ('absurd', 293), ('embarrassing', 5262), ('savvy', 14037), ('robberies', 13678), ('evading', 5589), ('private', 12460), ('mayor', 9981), ('exposing', 5763), ('depravity', 4350), ('stakes', 15265), ('professionalized', 12506), ('lights', 9368), ('imbue', 7974), ('powers', 12306), ('harbors', 7289), ('separation', 14326), ('odds', 11201), ('promise', 12539), ('fabric', 5815), ('geek', 6702), ('japanese', 8540), ('lingerie', 9390), ('focuses', 6281), ('gymnasts', 7184), ('survived', 15741), ('usa', 17106), ('gymnastics', 7183), ('larry', 9143), ('nassar', 10772), ('abuse', 298), ('exposed', 5761), ('usag', 17107), ('toxic', 16466), ('ada', 389), ('crushed', 3900), ('sea', 14185), ('migration', 10248), ('economy', 5109), ('dire', 4569), ('straits', 15448), ('protagonist', 12582), ('dagny', 4030), ('taggart', 15880), ('solution', 14972), ('rubble', 13818), ('atm', 1216), ('dishes', 4651), ('vies', 17285), ('recover', 13095), ('loser', 9533), ('captain', 2549), ('atomic', 1218), ('sock', 14942), ('puppet', 12691), ('activate', 376), ('joey', 8645), ('partner', 11695), ('eren', 5503), ('yeager', 17960), ('titans', 16340), ('harold', 7314), ('evans', 5595), ('wages', 17435), ('ongoing', 11280), ('obtain', 11168), ('compensation', 3349), ('entrance', 5453), ('exam', 5638), ('whole', 17672), ('wrenching', 17894), ('considered', 3509), ('humiliated', 7811), ('communities', 3333), ('aunty', 1275), ('donna', 4826), ('uniquely', 16947), ('offbeat', 11212), ('array', 1066), ('sketches', 14746), ('eclectic', 5101), ('characters', 2812), ('42', 192), ('viorel', 17333), ('distraught', 4713), ('kgb', 8881), ('files', 6088), ('evidence', 5620), ('proving', 12612), ('architects', 1008), ('engineers', 5381), ('conspired', 3516), ('nazis', 10814), ('designed', 4389), ('genocide', 6736), ('teams', 16000), ('gold', 6895), ('manner', 9807), ('pursuing', 12709), ('australian', 1282), ('outback', 11421), ('shagadelic', 14407), ('spy', 15224), ('continues', 3569), ('teamed', 15997), ('goldmember', 6900), ('swingin', 15807), ('groovy', 7085), ('superspy', 15677), ('austin', 1280), ('foil', 6289), ('genius', 6735), ('mojo', 10464), ('60s', 212), ('rickshaw', 13578), ('unmasks', 16978), ('insurance', 8285), ('adjuster', 423), ('robot', 13691), ('violating', 17325), ('global', 6853), ('rural', 13858), ('wrestling', 17899), ('doubts', 4861), ('scrambles', 14154), ('dangerously', 4059), ('katara', 8833), ('sokka', 14956), ('aang', 236), ('hibernation', 7517), ('avatar', 1314), ('fire', 6132), ('nun', 11100), ('elder', 5180), ('upholding', 17072), ('forbidden', 6329), ('pastor', 11722), ('shark', 14451), ('hardened', 7292), ('furlough', 6569), ('exact', 5634), ('amass', 745), ('thanos', 16160), ('acquiring', 365), ('infinity', 8173), ('stones', 15416), ('wiping', 17764), ('half', 7223), ('universe', 16954), ('meteoric', 10186), ('bergling', 1737), ('avicii', 1328), ('swedish', 15785), ('you', 18007), ('me', 10011), ('unknown', 16960), ('commands', 3301), ('appearing', 946), ('recollection', 13072), ('is', 8454), ('targeting', 15960), ('commander', 3297), ('emma', 5290), ('lead', 9212), ('achieving', 354), ('grapples', 7001), ('disparate', 4676), ('traveler', 16572), ('several', 14383), ('northeast', 11036), ('pungent', 12679), ('delicacy', 4276), ('sparking', 15076), ('unaccustomed', 16812), ('entrepreneur', 5457), ('decisions', 4188), ('delving', 4297), ('43', 193), ('accra', 339), ('cricket', 3821), ('mohammad', 10458), ('azharuddin', 1372), ('1990s', 118), ('aziz', 1373), ('ansari', 884), ('parks', 11670), ('recreation', 13103), ('sharp', 14457), ('immigrants', 7985), ('unfiltered', 16911), ('babies', 1375), ('spike', 15134), ('jonze', 8678), ('insights', 8254), ('wokeness', 17804), ('climate', 3108), ('keith', 8856), ('flick', 6222), ('rejoins', 13221), ('emerges', 5282), ('koku', 8987), ('loose', 9515), ('mukesh', 10634), ('seductive', 14229), ('sarika', 14000), ('1975', 101), ('declared', 4191), ('emergency', 5281), ('bhawani', 1786), ('seized', 14261), ('treasures', 16585), ('martial', 9889), ('bangkok', 1485), ('clutches', 3150), ('cruel', 3886), ('tyrant', 16781), ('hindi', 7570), ('conclusion', 3409), ('saga', 13909), ('malayalam', 9751), ('villagers', 17308), ('mahismati', 9711), ('destined', 4413), ('version', 17240), ('rajamouli', 12874), ('wide', 17682), ('eyed', 5805), ('ambition', 756), ('dubious', 4988), ('practices', 12310), ('idol', 7915), ('stock', 15403), ('turkey', 16729), ('coup', 3713), ('aegean', 495), ('immediately', 7979), ('unemployed', 16899), ('necessary', 10830), ('morocco', 10540), ('random', 12910), ('countries', 3708), ('nurture', 11111), ('infants', 8154), ('fed', 5979), ('rome', 13755), ('double', 4856), ('cutthroat', 3996), ('ballroom', 1459), ('instructors', 8279), ('proud', 12599), ('pint', 12037), ('performers', 11863), ('waltz', 17474), ('punjab', 12685), ('maternal', 9935), ('opportunity', 11318), ('mend', 10122), ('surprise', 15724), ('blues', 1966), ('stages', 15260), ('soviet', 15053), ('freight', 6464), ('hijacking', 7546), ('typist', 16776), ('vice', 17258), ('glamour', 6829), ('1929', 64), ('stigma', 15388), ('são', 15852), ('paulo', 11758), ('telemarketers', 16037), ('headed', 7384), ('locals', 9456), ('blunder', 1970), ('alter', 719), ('learned', 9232), ('freak', 6445), ('flaunt', 6201), ('front', 6507), ('crushes', 3901), ('transported', 16554), ('baggage', 1422), ('singles', 14700), ('reignite', 13197), ('hike', 7550), ('jenn', 8573), ('territory', 16112), ('menacing', 10120), ('bear', 1604), ('imprisoned', 8043), ('arsonist', 1083), ('untangle', 17029), ('robbers', 13679), ('philly', 11945), ('peter', 11913), ('trauma', 16564), ('exorcise', 5696), ('embolden', 5270), ('ghosts', 6777), ('sprawling', 15203), ('rizzuto', 13658), ('associates', 1171), ('presided', 12387), ('fraud', 6439), ('ultimately', 16801), ('brought', 2271), ('tycoons', 16771), ('actioner', 374), ('miami', 10209), ('crook', 3858), ('snatched', 14888), ('hyperkinetic', 7866), ('cuban', 3920), ('influx', 8183), ('ecstasy', 5110), ('irish', 8438), ('invasion', 8387), ('posh', 12258), ('abbey', 248), ('grove', 7094), ('alfie', 648), ('wickers', 17681), ('worst', 17870), ('educator', 5137), ('pulled', 12667), ('racket', 12820), ('higher', 7530), ('risks', 13637), ('rewards', 13543), ('gains', 6612), ('geriatric', 6759), ('irving', 8453), ('zisman', 18090), ('continue', 3567), ('jackass', 8503), ('franchise', 6422), ('unused', 17039), ('reinstated', 13208), ('crimes', 3825), ('requests', 13372), ('enlist', 5400), ('catching', 2683), ('felons', 6008), ('ordered', 11357), ('villainous', 17311), ('controls', 3588), ('gathers', 6688), ('clean', 3086), ('themselves', 16180), ('facilitate', 5825), ('womanizing', 17813), ('spurns', 15220), ('persistent', 11889), ('answer', 886), ('asian', 1125), ('rappers', 12940), ('strive', 15502), ('achieve', 349), ('outsiders', 11455), ('scam', 14049), ('petty', 11923), ('adoptive', 444), ('thumb', 16268), ('dictatorial', 4509), ('suspected', 15750), ('practicing', 12311), ('witchcraft', 17781), ('demonized', 4313), ('renowned', 13315), ('convoluted', 3613), ('license', 9342), ('roams', 13670), ('wrangle', 17881), ('confederate', 3430), ('pioneer', 12038), ('throws', 16262), ('shots', 14572), ('cringing', 3832), ('arts', 1107), ('baki', 1436), ('hanma', 7270), ('surpass', 15723), ('inmates', 8222), ('descend', 4370), ('dan', 4051), ('kouzo', 9010), ('brawlers', 2165), ('challengers', 2771), ('bakugan', 1438), ('fighting', 6078), ('watch', 17527), ('ganesh', 6651), ('disarm', 4598), ('invaders', 8383), ('dacoits', 4024), ('mythological', 10707), ('elephant', 5203), ('suspiciously', 15759), ('balto', 1466), ('endures', 5361), ('taunts', 15981), ('disapproving', 4597), ('guides', 7134), ('cargo', 2589), ('medicine', 10050), ('winter', 17755), ('voiced', 17388), ('maurice', 9959), ('lamarche', 9096), ('proudly', 12600), ('pups', 12696), ('adoption', 443), ('nobody', 10993), ('aleu', 640), ('pilot', 12021), ('kodi', 8984), ('sled', 14798), ('deliver', 4284), ('mail', 9717), ('faster', 5931), ('dogs', 4789), ('plane', 12081), ('vanishes', 17169), ('minibus', 10315), ('riza', 13657), ('steady', 15338), ('presence', 12376), ('dreamy', 4935), ('searching', 14196), ('soul', 15029), ('mate', 9929), ('negotiates', 10851), ('heartsick', 7422), ('kindred', 8924), ('though', 16232), ('disintegrating', 4659), ('oddball', 11198), ('recast', 13044), ('tom', 16373), ('sawyer', 14039), ('huck', 7784), ('finn', 6129), ('draft', 4893), ('misfit', 10366), ('cronies', 3856), ('sought', 15028), ('since', 14686), ('boyhood', 2130), ('heirless', 7454), ('maharaj', 9707), ('brajbhan', 2147), ('throne', 16256), ('vikram', 17300), ('badi', 1413), ('rani', 12920), ('conceives', 3398), ('fighters', 6077), ('burmese', 2373), ('factions', 5832), ('bachelors', 1383), ('roof', 13763), ('unabashed', 16809), ('wrestle', 17896), ('woes', 17802), ('quarters', 12758), ('misfires', 10365), ('offered', 11219), ('snitch', 14899), ('inmate', 8221), ('dilemma', 4546), ('rivals', 13648), ('belle', 1688), ('fusion', 6577), ('bistro', 1866), ('kram', 9014), ('chic', 2914), ('district', 4716), ('parkour', 11669), ('enthusiast', 5444), ('bawdy', 1586), ('restaurateur', 13441), ('glittering', 6849), ('silom', 14656), ('kind', 8918), ('computer', 3384), ('repairman', 13328), ('graffiti', 6971), ('worsens', 17869), ('chinatown', 2951), ('spirited', 15151), ('marketing', 9866), ('teller', 16047), ('predestined', 12339), ('disaster', 4601), ('shift', 14503), ('30', 174), ('philosophies', 11949), ('franchises', 6423), ('fc', 5959), ('barcelona', 1513), ('futile', 6578), ('honest', 7668), ('opt', 11330), ('ransom', 12927), ('servant', 14349), ('blogger', 1941), ('saudi', 14019), ('conventions', 3597), ('mighty', 10242), ('tribal', 16618), ('roman', 13742), ('conflicted', 3451), ('allegiances', 670), ('nuance', 11087), ('mesmerizing', 10166), ('techniques', 16014), ('flavor', 6202), ('hopping', 7703), ('celebration', 2719), ('cooking', 3620), ('barbie', 1510), ('swiss', 15812), ('majestic', 9726), ('alps', 711), ('excited', 5659), ('riding', 13590), ('ken', 8861), ('coral', 3642), ('reef', 13127), ('amazing', 750), ('know', 8974), ('bffs', 1779), ('vlog', 17379), ('dreamhouse', 4930), ('roberts', 13686), ('costa', 3683), ('rica', 13564), ('mermaid', 10160), ('water', 17533), ('devious', 4467), ('surf', 15709), ('champ', 2778), ('merliah', 10158), ('actually', 387), ('dolphin', 4797), ('oceana', 11187), ('princess', 12442), ('predictable', 12343), ('transformed', 16539), ('butterfly', 2406), ('sparkle', 15077), ('courtney', 3726), ('trades', 16488), ('places', 12075), ('erika', 5508), ('collide', 3234), ('blond', 1943), ('fabulous', 5817), ('lookalike', 9505), ('hoverboard', 7769), ('cosmos', 3681), ('winking', 17747), ('devilish', 4463), ('fairies', 5850), ('raquelle', 12942), ('gloss', 6865), ('blair', 1899), ('willows', 17723), ('princesses', 12443), ('delancy', 4268), ('hadley', 7205), ('agency', 538), ('burglar', 2366), ('rather', 12956), ('sing', 14689), ('visits', 17362), ('switch', 15813), ('favorite', 5951), ('skating', 14740), ('heroine', 7505), ('emoji', 5294), ('barbra', 1511), ('streisand', 15479), ('culminates', 3937), ('dazzling', 4122), ('ballads', 1449), ('broadway', 2247), ('standards', 15279), ('degree', 4258), ('architecture', 1009), ('expatriate', 5707), ('disastrous', 4603), ('balochistan', 1462), ('unsanctioned', 17007), ('adores', 452), ('bitti', 1876), ('printer', 12448), ('affection', 506), ('pretends', 12408), ('barfii', 1518), ('hearing', 7408), ('speech', 15111), ('appropriate', 967), ('suitor', 15623), ('shruti', 14597), ('technical', 16010), ('university', 16956), ('building', 2322), ('divergent', 4733), ('cultures', 3947), ('stepfather', 15362), ('however', 7773), ('approve', 970), ('match', 9924), ('split', 15165), ('slackers', 14779), ('sport', 15187), ('baseketball', 1546), ('craze', 3783), ('hybrid', 7854), ('popularity', 12231), ('mirrors', 10349), ('chinle', 2954), ('navajo', 10801), ('state', 15317), ('talkative', 15915), ('bat', 1563), ('fogville', 6287), ('quiet', 12782), ('seems', 14245), ('norman', 11027), ('bates', 1566), ('endeavors', 5349), ('floundering', 6260), ('negative', 10843), ('david', 4110), ('letterman', 9311), ('unearths', 16893), ('musicals', 10677), ('toe', 16359), ('tapping', 15953), ('joker', 8663), ('hell', 7465), ('gordon', 6927), ('monstrous', 10499), ('batman', 1571), ('madness', 9678), ('amalie', 739), ('bankrupt', 1493), ('collapses', 3218), ('mikael', 10252), ('polished', 12185), ('dispatched', 4678), ('creek', 3810), ('michigan', 10218), ('precinct', 12332), ('mercenaries', 10143), ('books', 2050), ('chernobyl', 2900), ('controlled', 3585), ('droids', 4958), ('ambush', 760), ('latvia', 9163), ('unearth', 16890), ('artifacts', 1095), ('shed', 14473), ('eastern', 5086), ('fishing', 6156), ('albacore', 617), ('tuna', 16714), ('competitive', 3354), ('waters', 17536), ('oregon', 11364), ('attentions', 1242), ('jewels', 8602), ('concerned', 3403), ('rhino', 13551), ('poaching', 12145), ('directly', 4574), ('impact', 7996), ('finland', 6128), ('retired', 13475), ('desolation', 4398), ('weight', 17593), ('customs', 3989), ('standing', 15280), ('promised', 12540), ('cooly', 3623), ('confident', 3441), ('exile', 5685), ('revisit', 13526), ('perform', 11859), ('trace', 16473), ('andy', 831), ('whitfield', 17666), ('received', 13048), ('starring', 15302), ('spartacus', 15082), ('sand', 13968), ('stress', 15483), ('incognito', 8078), ('emily', 5288), ('ten', 16070), ('reconnecting', 13078), ('girlhood', 6817), ('revelations', 13513), ('bucky', 2300), ('bjorn', 1882), ('wondrous', 17824), ('whoever', 17671), ('came', 2486), ('brain', 2140), ('met', 10179), ('use', 17109), ('beaks', 1600), ('puzzles', 12725), ('tools', 16395), ('prone', 12551), ('bean', 1601), ('painting', 11570), ('unfit', 16913), ('well', 17607), ('wildlife', 17707), ('mama', 9768), ('origin', 11375), ('replicas', 13344), ('3d', 187), ('beasts', 1613), ('kinds', 8925), ('coexist', 3191), ('predatory', 12338), ('midst', 10233), ('unit', 16948), ('mercenary', 10144), ('transform', 16534), ('bugs', 2320), ('lessons', 9306), ('talent', 15907), ('bug', 2319), ('factor', 5833), ('televised', 16044), ('faraway', 5903), ('upheavals', 17069), ('investment', 8408), ('transplant', 16550), ('prodigy', 12492), ('august', 1271), ('monroe', 10495), ('frontiers', 6509), ('disco', 4615), ('casts', 2662), ('queens', 12765), ('burlesque', 2371), ('beast', 1609), ('gone', 6907), ('finding', 6119), ('situation', 14730), ('emman', 5291), ('contend', 3549), ('realizing', 13003), ('boob', 2044), ('tube', 16696), ('beavis', 1625), ('butt', 2404), ('expedition', 5716), ('capital', 2538), ('robin', 13687), ('jamika', 8528), ('heels', 7443), ('greets', 7035), ('bebe', 1626), ('wits', 17795), ('jakarta', 8520), ('bookie', 2049), ('packed', 11540), ('housemates', 7763), ('convenience', 3593), ('demanding', 4299), ('trouble', 16665), ('jinks', 8620), ('ensue', 5419), ('bag', 1421), ('lady', 9078), ('tours', 16453), ('athletes', 1210), ('achieved', 350), ('roguish', 13726), ('barrister', 1535), ('lefroy', 9251), ('inspiration', 8260), ('jane', 8531), ('austen', 1278), ('skeeter', 14741), ('fantastical', 5898), ('entertain', 5437), ('inexplicably', 8144), ('barry', 1538), ('bee', 1638), ('honey', 7670), ('sues', 15604), ('stealing', 15340), ('bees', 1644), ('nectar', 10832), ('camden', 2485), ('hears', 7410), ('sure', 15707), ('aisle', 593), ('continually', 3565), ('relive', 13256), ('privileged', 12462), ('cosmic', 3679), ('looping', 9513), ('mark', 9863), ('jessie', 8592), ('welcome', 17603), ('foster', 6388), ('cody', 3186), ('ability', 270), ('leonardo', 9292), ('dicaprio', 4503), ('crisscrosses', 3842), ('consequences', 3501), ('warming', 17499), ('taken', 15899), ('reverse', 13522), ('interactions', 8306), ('peaceful', 11786), ('whaling', 17634), ('garnered', 6672), ('setbacks', 14366), ('1940', 70), ('winston', 17754), ('churchill', 3014), ('commissions', 3311), ('commandos', 3300), ('stealth', 15342), ('audacious', 1259), ('tactics', 15873), ('todrick', 16358), ('original', 11376), ('texas', 16142), ('theorists', 16186), ('belief', 1678), ('flat', 6196), ('vehemently', 17201), ('rejects', 13220), ('presenter', 12379), ('punchalee', 12675), ('conniving', 3483), ('dao', 4072), ('ankara', 863), ('disdain', 4633), ('rules', 13840), ('correctness', 3666), ('solves', 14976), ('seduced', 14225), ('concocts', 3412), ('retirement', 13478), ('staring', 15297), ('jump', 8739), ('jockey', 8638), ('20th', 157), ('consecutive', 3499), ('unrelenting', 16999), ('glory', 6864), ('whoopi', 17675), ('goldberg', 6896), ('narrates', 10761), ('elmo', 5231), ('kevin', 8875), ('remarkable', 13273), ('baltimore', 1465), ('henson', 7485), ('sesame', 14360), ('mary', 9897), ('balance', 1440), ('scorned', 14136), ('cab', 2424), ('villager', 17307), ('200th', 139), ('waterloo', 17535), ('thousands', 16237), ('enthusiasts', 5445), ('reenact', 13131), ('napoleon', 10752), ('1967', 92), ('arab', 980), ('israeli', 8475), ('rapidly', 12933), ('transforming', 16541), ('hottest', 7752), ('exhilarating', 5683), ('price', 12421), ('reconstruct', 13083), ('cheerleader', 2882), ('bella', 1685), ('dawson', 4116), ('quarterback', 12755), ('dimming', 4555), ('yearning', 17967), ('torrid', 16420), ('roofer', 13764), ('ben', 1707), ('holly', 7638), ('teamwork', 16001), ('types', 16774), ('em', 5251), ('adventuring', 477), ('gwen', 7177), ('max', 9968), ('backed', 1389), ('platt', 12099), ('songbook', 14996), ('onstage', 11286), ('numbers', 11097), ('lp', 9581), ('rookie', 13766), ('emasculating', 5256), ('manages', 9776), ('softball', 14950), ('advocates', 493), ('haiti', 7219), ('escaped', 5534), ('psychopathic', 12638), ('nosed', 11043), ('danger', 4057), ('benji', 1724), ('told', 16370), ('pooch', 12212), ('workshop', 17853), ('medically', 10046), ('discharged', 4609), ('motorcycle', 10587), ('dj', 4754), ('ickarus', 7888), ('touring', 16446), ('loony', 9511), ('bin', 1834), ('many', 9824), ('streak', 15471), ('euros', 5584), ('sponsors', 15177), ('german', 6761), ('clare', 3057), ('andi', 820), ('cinematic', 3023), ('lolle', 9484), ('moved', 10608), ('sven', 15766), ('hart', 7326), ('grey', 7043), ('cities', 3033), ('studded', 15523), ('collection', 3226), ('redemptive', 13119), ('crushing', 3902), ('romances', 13744), ('guts', 7171), ('griffith', 7055), ('ensuing', 5421), ('fledged', 6210), ('horrible', 7714), ('believed', 1681), ('equal', 5487), ('hawk', 7367), ('vanquish', 17171), ('bert', 1746), ('kreischer', 9018), ('pet', 11910), ('pot', 12282), ('shirtless', 14533), ('relays', 13234), ('grizzly', 7074), ('decadent', 4163), ('pasta', 11719), ('fries', 6491), ('skillful', 14756), ('cooks', 3621), ('tired', 16336), ('leftovers', 9254), ('tantalizing', 15945), ('wildly', 17708), ('culinary', 3933), ('agendas', 540), ('advance', 467), ('just', 8757), ('jerry', 8586), ('seinfeld', 14254), ('leslie', 9302), ('hannah', 7271), ('gadsby', 6602), ('funniest', 6561), ('bits', 1871), ('netflix', 10885), ('2020', 150), ('unseen', 17016), ('table', 15858), ('acclaimed', 325), ('schitt', 14089), ('merrily', 10163), ('recall', 13039), ('surefire', 15708), ('wasn', 17523), ('predicament', 12340), ('displace', 4685), ('highway', 7539), ('officials', 11230), ('curse', 3973), ('zombies', 18098), ('tide', 16292), ('bethany', 1759), ('hamilton', 7237), ('arm', 1046), ('surfing', 15714), ('prequel', 12370), ('breaking', 2178), ('attorney', 1246), ('mcgill', 9999), ('morally', 10529), ('challenged', 2769), ('saul', 14020), ('goodman', 6914), ('brink', 2234), ('splitting', 15168), ('owners', 11516), ('investigators', 8406), ('herbalife', 7489), ('nutritional', 11117), ('pyramid', 12728), ('betty', 1771), ('ground', 7088), ('kills', 8909), ('22', 162), ('fend', 6019), ('quarantines', 12752), ('provides', 12607), ('consider', 3506), ('zero', 18069), ('zach', 18040), ('galifianakis', 6622), ('subjects', 15565), ('budget', 2311), ('plunges', 12140), ('amnesia', 776), ('tricks', 16627), ('valt', 17151), ('aoi', 918), ('beyblade', 1775), ('valtryek', 17152), ('number', 11094), ('blader', 1893), ('scouted', 14150), ('european', 5582), ('dante', 4069), ('dragon', 4899), ('generation', 6722), ('bladers', 1894), ('birthplace', 1861), ('blading', 1897), ('novice', 11079), ('competitor', 3355), ('harness', 7312), ('untamed', 17028), ('tournaments', 16451), ('anime', 860), ('blade', 1892), ('spinning', 15143), ('tops', 16404), ('honor', 7676), ('wing', 17744), ('subversive', 15585), ('2011', 141), ('indians', 8108), ('demonstrate', 4315), ('sacrifices', 13894), ('suspended', 15753), ('onslaught', 11285), ('captives', 2554), ('episodes', 5483), ('rash', 12949), ('caution', 2702), ('spoilers', 15172), ('highlights', 7535), ('tourney', 16452), ('icc', 7883), ('t20', 15855), ('youthful', 18017), ('dealer', 4134), ('defending', 4230), ('temporarily', 16060), ('shoulder', 14573), ('knotty', 8973), ('critic', 3846), ('cushy', 3981), ('unsatisfying', 17009), ('impulsive', 8053), ('defied', 4236), ('convention', 3595), ('flirting', 6239), ('depicts', 4345), ('lay', 9201), ('foundation', 6393), ('deshpande', 4387), ('humorist', 7815), ('philanthropic', 11941), ('threatened', 16242), ('not', 11052), ('so', 14918), ('bhangra', 1783), ('preps', 12369), ('arduous', 1019), ('donkey', 4825), ('uncovering', 16849), ('diwali', 4750), ('celebrate', 2715), ('chhota', 2909), ('ramayana', 12888), ('enacting', 5327), ('aleck', 636), ('meme', 10107), ('appointed', 955), ('ceo', 2745), ('workplace', 17851), ('siddharth', 14619), ('dismisses', 4667), ('warnings', 17506), ('palace', 11583), ('occurrences', 11182), ('reconsider', 13081), ('beliefs', 1679), ('behavior', 1663), ('23', 163), ('dominated', 4806), ('bibi', 1792), ('tina', 16324), ('flirts', 6240), ('eyes', 5806), ('foal', 6277), ('falkenstein', 5864), ('pal', 11582), ('devise', 4468), ('failing', 5842), ('pitted', 12063), ('what', 17635), ('screen', 14166), ('reconcile', 13075), ('busy', 2399), ('maids', 9716), ('humorous', 7816), ('grant', 6992), ('haywire', 7372), ('abduct', 253), ('refuses', 13159), ('responsibility', 13435), ('overgrown', 11477), ('sonny', 15003), ('koufax', 9009), ('grownup', 7098), ('monty', 10508), ('horticulturists', 7728), ('plant', 12089), ('gardens', 6667), ('junior', 8747), ('jason', 8545), ('kaylee', 8846), ('essay', 5551), ('tenderfoot', 16077), ('gamblers', 6640), ('fortunes', 6383), ('gunslinging', 7162), ('preacher', 12330), ('writes', 17905), ('whales', 17633), ('upended', 17064), ('puberty', 12646), ('nick', 10934), ('kroll', 9024), ('lived', 9428), ('virginia', 17340), ('mining', 10318), ('uncovers', 16850), ('profoundly', 12522), ('bjarke', 1881), ('ingels', 8192), ('vision', 17353), ('aims', 578), ('restore', 13444), ('manhattan', 9788), ('skyline', 14775), ('rush', 13860), ('bags', 1424), ('mixed', 10415), ('backstage', 1398), ('rap', 12929), ('duo', 5019), ('bigflo', 1807), ('oli', 11257), ('concept', 3400), ('dishonest', 4653), ('liar', 9328), ('once', 11276), ('documentarian', 4770), ('broomfield', 2262), ('tupac', 16720), ('shakur', 14420), ('biggie', 1811), ('smalls', 14848), ('digging', 4537), ('charts', 2841), ('yoga', 17991), ('bikram', 1821), ('choudhury', 2985), ('burr', 2379), ('zombie', 18097), ('apocalypse', 932), ('rom', 13740), ('coms', 3389), ('explains', 5735), ('hugs', 7793), ('downfall', 4872), ('musings', 10680), ('fillmore', 6095), ('auditorium', 1267), ('unloads', 16971), ('outrage', 11449), ('appropriation', 968), ('blistering', 1932), ('nashville', 10771), ('overpopulation', 11488), ('dictators', 4510), ('gorilla', 6931), ('sign', 14641), ('funnyman', 6563), ('uncork', 16847), ('profanity', 12502), ('laced', 9067), ('incisive', 8072), ('diggers', 4536), ('hicks', 7520), ('remembers', 13279), ('puffing', 12660), ('cigarettes', 3019), ('smoking', 14863), ('weed', 17580), ('commercials', 3308), ('insight', 8252), ('performances', 11861), ('late', 9153), ('demonstrates', 4316), ('reckoned', 13063), ('recorded', 13087), ('iconoclastic', 7893), ('goat', 6882), ('priesthood', 12430), ('spouting', 15201), ('nye', 11121), ('scientific', 14117), ('dynamic', 5050), ('skeptics', 14744), ('abuzz', 304), ('barber', 1509), ('approaches', 966), ('worry', 17867), ('recognized', 13070), ('ballet', 1453), ('evangelist', 5594), ('billy', 1833), ('graham', 6972), ('presidents', 12392), ('eichner', 5167), ('sprints', 15213), ('celebrities', 2721), ('stun', 15540), ('pedestrians', 11803), ('unapologetic', 16816), ('check', 2873), ('biology', 1844), ('contemporary', 3547), ('literature', 9421), ('instructor', 8278), ('abduction', 256), ('ominous', 11273), ('watchers', 17529), ('enthusiasm', 5443), ('protecting', 12585), ('preserving', 12384), ('inadvertently', 8059), ('shoots', 14551), ('endangered', 5346), ('eagle', 5062), ('exposes', 5762), ('vs', 17419), ('raises', 12869), ('genetic', 6728), ('dispositions', 4692), ('cracking', 3758), ('ferocious', 6029), ('interpol', 8331), ('shadowy', 14404), ('elena', 5202), ('michaels', 10213), ('stray', 15470), ('werewolves', 17621), ('thwarted', 16275), ('galician', 6621), ('20', 129), ('egypt', 5162), ('identification', 7908), ('unfamiliar', 16910), ('videographer', 17275), ('sexy', 14399), ('famine', 5880), ('ravages', 12971), ('irishman', 8439), ('deserts', 4383), ('exacts', 5636), ('tyrants', 16782), ('income', 8079), ('maintain', 9723), ('victorian', 17269), ('magnate', 9700), ('ciel', 3016), ('phantomhive', 11926), ('thwarts', 16277), ('watched', 17528), ('butler', 2403), ('sebastian', 14206), ('portrays', 12252), ('islamic', 8463), ('yazidi', 17958), ('slave', 14791), ('snipers', 14898), ('adopted', 441), ('rwandan', 13877), ('ashby', 1116), ('docudrama', 4767), ('same', 13953), ('titled', 16344), ('tracks', 16481), ('1993', 121), ('bombing', 2025), ('bombay', 2023), ('covering', 3738), ('underlings', 16866), ('somali', 14979), ('helicopters', 7463), ('heavy', 7433), ('casualties', 2664), ('blaming', 1904), ('mogul', 10456), ('owned', 11514), ('operated', 11302), ('hotspot', 7751), ('ink', 8219), ('tattoo', 15977), ('ceaser', 2711), ('expand', 5702), ('rambunctious', 12890), ('principal', 12444), ('jefferson', 8566), ('pierce', 11998), ('leaps', 9230), ('lightning', 9367), ('albinos', 622), ('waged', 17433), ('behalf', 1661), ('advocacy', 491), ('innovations', 8231), ('darkest', 4085), ('1984', 111), ('programmer', 12524), ('adapts', 399), ('endings', 5353), ('jewelry', 8601), ('bereaved', 1734), ('ones', 11279), ('theft', 16170), ('challa', 2767), ('superpowered', 15674), ('advanced', 468), ('wakanda', 17446), ('brutally', 2284), ('moscow', 10557), ('submarine', 15568), ('sunken', 15650), ('sub', 15558), ('underwater', 16880), ('neutralize', 10897), ('lazarus', 9207), ('rae', 12833), ('beaten', 1615), ('anyone', 915), ('animosity', 861), ('patagonia', 11727), ('chief', 2924), ('phenomena', 11934), ('whale', 17632), ('tilikum', 16309), ('captivity', 2555), ('shattering', 14465), ('blackpink', 1890), ('detail', 4423), ('menaced', 10119), ('psychopath', 12637), ('scared', 14061), ('lillian', 9375), ('logger', 9475), ('tables', 15860), ('stalker', 15269), ('replicating', 13345), ('bent', 1729), ('eliminating', 5216), ('killy', 8910), ('guide', 7132), ('remnant', 13289), ('influential', 8181), ('unsung', 17026), ('songwriter', 14999), ('drove', 4968), ('johnny', 8652), ('transfer', 16530), ('ordained', 11353), ('ichigo', 7887), ('kurosaki', 9042), ('acquires', 364), ('reaper', 13008), ('rukia', 13835), ('kuchiki', 9030), ('fogged', 6286), ('scimitar', 14122), ('weilding', 17595), ('mayuri', 9983), ('destroys', 4419), ('laboratory', 9061), ('unleashing', 16965), ('cloud', 3138), ('reishi', 13216), ('lays', 9205), ('seiretei', 14255), ('sinners', 14710), ('eternal', 5566), ('substitute', 15579), ('launch', 9170), ('kidnap', 8892), ('derails', 4360), ('scrappy', 14160), ('vinny', 17321), ('pazienza', 11781), ('determines', 4435), ('against', 533), ('comeback', 3278), ('wrongfully', 17913), ('measure', 10022), ('unavailable', 16822), ('soulful', 15030), ('interesting', 8312), ('date', 4101), ('detecting', 4426), ('luckily', 9597), ('recognizes', 13071), ('deduction', 4207), ('seekers', 14237), ('parties', 11692), ('koala', 8982), ('blinky', 1929), ('spunky', 15217), ('amuse', 792), ('jérémy', 8768), ('hatches', 7344), ('lola', 9483), ('condemned', 3416), ('centuries', 2742), ('embittered', 5269), ('wronged', 17911), ('crossing', 3870), ('cape', 2536), ('swimming', 15799), ('shaking', 14419), ('dealers', 4135), ('kunal', 9038), ('seedy', 14233), ('greece', 7022), ('heron', 7507), ('heritage', 7496), ('zeus', 18071), ('demonic', 4312), ('ethically', 5571), ('amazon', 752), ('port', 12238), ('belém', 1704), ('brazil', 2171), ('patriarch', 11745), ('elías', 5249), ('sheep', 14476), ('respected', 13426), ('sibling', 14614), ('doomed', 4833), ('passengers', 11708), ('spectral', 15108), ('gruesome', 7105), ('destination', 4411), ('deliciously', 4279), ('smuggler', 14868), ('george', 6751), ('rises', 13632), ('eventual', 5604), ('heat', 7426), ('glassblowing', 6834), ('sculpture', 14181), ('60', 210), ('throw', 16259), ('satan', 14005), ('illegitimate', 7946), ('rin', 13612), ('exorcist', 5699), ('adele', 416), ('focused', 6280), ('blue', 1964), ('haired', 7213), ('piques', 12046), ('fashionable', 5927), ('homemaker', 7653), ('rediscover', 13121), ('regret', 13183), ('nfl', 10925), ('thad', 16149), ('buys', 2413), ('frat', 6436), ('renames', 13297), ('thadland', 16150), ('raunchiest', 12966), ('debauched', 4151), ('vistas', 17363), ('unhinges', 16934), ('vagabond', 17136), ('dwight', 5046), ('jewel', 8598), ('stint', 15398), ('jail', 8514), ('constructed', 3526), ('cindy', 3021), ('dean', 4140), ('muddle', 10627), ('languishing', 9133), ('hearken', 7409), ('murky', 10666), ('choices', 2970), ('root', 13777), ('insiders', 8250), ('shrouds', 14595), ('morphed', 10542), ('raccoon', 12807), ('beastman', 1612), ('michiru', 10219), ('shirou', 14531), ('anima', 853), ('thai', 16151), ('bnk48', 1980), ('spotlight', 15193), ('combining', 3274), ('trademark', 16486), ('deprecating', 4351), ('burnham', 2377), ('duke', 5004), ('belt', 1700), ('melody', 10100), ('energetic', 5366), ('dezzy', 4481), ('bob', 1988), ('lazar', 9206), ('blew', 1920), ('whistle', 17660), ('51', 206), ('explain', 5732), ('worked', 17845), ('shut', 14605), ('ross', 13787), ('signature', 14644), ('wet', 17630), ('bevy', 1774), ('bucolic', 2301), ('landscape', 9126), ('paintings', 11571), ('overly', 11485), ('improves', 8049), ('sleigh', 14812), ('send', 14294), ('candid', 2513), ('profile', 12512), ('bobbi', 1989), ('jene', 8572), ('smith', 14857), ('choreographer', 2979), ('ohad', 11239), ('naharin', 10727), ('forge', 6355), ('artistic', 1102), ('bobbleheads', 1990), ('collector', 3228), ('uninvited', 16944), ('barge', 1522), ('prized', 12465), ('raj', 12872), ('bobby', 1991), ('christian', 2989), ('fisherman', 6154), ('oppose', 11319), ('unlimited', 16970), ('field', 6064), ('voices', 17389), ('phenomenon', 11935), ('redefine', 13114), ('robson', 13699), ('keen', 8851), ('matched', 9925), ('devotion', 4476), ('republican', 13367), ('galvanized', 6633), ('powerhouse', 12302), ('boca', 1992), ('juniors', 8748), ('provide', 12604), ('irked', 8440), ('admirer', 430), ('duties', 5034), ('backfire', 1390), ('accompanies', 328), ('alternately', 723), ('strains', 15446), ('strengthens', 15482), ('crossroads', 3873), ('escorts', 5541), ('clients', 3106), ('sitcom', 14721), ('90s', 226), ('curmudgeon', 3967), ('quite', 12795), ('but', 2400), ('bojack', 2009), ('todd', 16355), ('cane', 2517), ('horsin', 7725), ('iceland', 7885), ('ponder', 12202), ('venezuelan', 17214), ('simón', 14681), ('bolívar', 2020), ('liberate', 9332), ('utterly', 17128), ('unprepared', 16990), ('eccentricities', 5098), ('shepherd', 14491), ('bolt', 2018), ('mistakenly', 10393), ('wannabe', 17484), ('basque', 1554), ('word', 17840), ('pr', 12307), ('fading', 5838), ('intertwining', 8349), ('epiphany', 5481), ('1985', 112), ('vessel', 17245), ('protesting', 12593), ('nuclear', 11092), ('testing', 16133), ('sunk', 15649), ('zealand', 18053), ('unearthed', 16891), ('audio', 1263), ('hedy', 7440), ('lamarr', 9097), ('brains', 2143), ('patent', 11730), ('frequency', 6472), ('curaçao', 3960), ('amiable', 770), ('angers', 847), ('gangsters', 6657), ('conscience', 3494), ('buddy', 2310), ('chapter', 2808), ('bargained', 1519), ('for', 6328), ('speaking', 15092), ('toronto', 16418), ('lifeguards', 9352), ('sydney', 15824), ('bondi', 2032), ('moonlighting', 10518), ('dominatrix', 4810), ('bff', 1778), ('assistant', 1166), ('bonnie', 2042), ('parker', 11667), ('clyde', 3152), ('barrow', 1537), ('bullet', 2328), ('riddled', 13583), ('depression', 4354), ('ravaged', 12969), ('exes', 5677), ('logistics', 9478), ('blended', 1913), ('dramedy', 4913), ('booba', 2045), ('curiosities', 3964), ('wonder', 17818), ('readers', 12989), ('authors', 1291), ('conversations', 3601), ('empathy', 5301), ('equality', 5488), ('antiracism', 904), ('patrol', 11748), ('safe', 13904), ('protection', 12586), ('safeguard', 13906), ('crossings', 3871), ('ports', 12253), ('inept', 8138), ('fictional', 6060), ('northend', 11037), ('airport', 587), ('improvised', 8050), ('mockumentary', 10438), ('covers', 3739), ('suspects', 15752), ('foul', 6390), ('birgitte', 1856), ('nyborg', 11119), ('danish', 4065), ('seat', 14204), ('landmark', 9119), ('deeply', 4218), ('import', 8024), ('employees', 5308), ('producing', 12497), ('content', 3552), ('barbs', 1512), ('palestine', 11589), ('gaza', 6696), ('syrian', 15844), ('narrowly', 10767), ('integrate', 8290), ('indycar', 8136), ('dixon', 4751), ('400', 189), ('pound', 12292), ('giants', 6786), ('arnold', 1059), ('strongman', 15509), ('glimpse', 6846), ('casting', 2660), ('mistreatment', 10399), ('mammals', 9769), ('plight', 12127), ('beluga', 1703), ('disowned', 4673), ('surya', 15746), ('shiv', 14534), ('wrongly', 17914), ('kamal', 8785), ('reassembles', 13017), ('modernize', 10447), ('dabke', 4023), ('routines', 13803), ('lifting', 9362), ('saggy', 13911), ('skin', 14758), ('repairing', 13327), ('shoddy', 14543), ('breast', 2186), ('enhancements', 5392), ('surgeons', 15717), ('fixer', 6174), ('uppers', 17079), ('gumbles', 7149), ('bounce', 2107), ('smelling', 14855), ('bottersnikes', 2101), ('scarlett', 14067), ('sleepy', 14809), ('southwestern', 15049), ('loosens', 9517), ('grip', 7062), ('mortal', 10549), ('celestial', 2724), ('impregnates', 8035), ('reincarnated', 13203), ('goalkeeper', 6879), ('scout', 14149), ('clubs', 3144), ('cuca', 3924), ('grand', 6976), ('traveled', 16571), ('veronica', 17236), ('lance', 9110), ('traumatized', 16567), ('causing', 2699), ('spiral', 15147), ('fourth', 6402), ('boyka', 2132), ('unassuming', 16819), ('jan', 8529), ('di', 4485), ('spoiled', 15170), ('belongs', 1697), ('clique', 3121), ('brad', 2137), ('paisley', 11577), ('hosts', 7745), ('laughs', 9168), ('nate', 10779), ('bargatze', 1521), ('heffron', 7444), ('jon', 8670), ('reep', 13136), ('sarah', 13993), ('tiana', 16282), ('winfield', 17742), ('homage', 7644), ('1980s', 107), ('comedies', 3282), ('quiz', 12798), ('bowl', 2118), ('almost', 697), ('except', 5652), ('interactive', 8307), ('illusions', 7956), ('illustrate', 7957), ('manufacture', 9820), ('seizures', 14264), ('psychosis', 12641), ('post', 12274), ('elusive', 5244), ('germs', 6764), ('emotions', 5300), ('explained', 5733), ('refreshingly', 13152), ('relatable', 13224), ('minors', 10327), ('person', 11892), ('struck', 15510), ('hierarchy', 7527), ('divides', 4740), ('cliques', 3122), ('expectations', 5712), ('reuse', 13505), ('continents', 3563), ('sustainable', 15760), ('weeks', 17587), ('linor', 9397), ('abargil', 247), ('inspiring', 8265), ('orson', 11393), ('welles', 17608), ('broadcast', 2243), ('emboldened', 5271), ('defends', 4231), ('murderous', 10662), ('stash', 15314), ('cabin', 2430), ('toni', 16387), ('traci', 16477), ('towanda', 16456), ('trina', 16638), ('tamar', 15923), ('braxton', 2169), ('bread', 2173), ('cake', 2451), ('decorator', 4199), ('makeovers', 9736), ('customer', 3986), ('mood', 10512), ('lucie', 9594), ('insecurities', 8243), ('soda', 14944), ('stereo', 15371), ('café', 2442), ('tacvba', 15875), ('aterciopelados', 1204), ('dictatorships', 4512), ('dissent', 4702), ('abhay', 265), ('aaliya', 234), ('plenty', 12126), ('99th', 233), ('cafe', 2440), ('customers', 3987), ('souvenirs', 15050), ('chang', 2791), ('insatiable', 8239), ('curiosity', 3965), ('convivial', 3612), ('manufacturing', 9822), ('crystal', 3912), ('meth', 10189), ('violations', 17326), ('faced', 5821), ('lgbtq', 9324), ('project', 12531), ('chairman', 2762), ('bunbury', 2344), ('banking', 1492), ('coma', 3264), ('mid', 10226), ('befriend', 1649), ('enigmatic', 5393), ('surfer', 15712), ('thrill', 16247), ('brené', 2199), ('brown', 2273), ('courage', 3717), ('comfort', 3289), ('defined', 4239), ('scarcity', 14059), ('brewery', 2202), ('foaming', 6278), ('regan', 13165), ('heights', 7449), ('underwear', 16881), ('elastic', 5178), ('brendan', 2196), ('fry', 6522), ('fund', 6550), ('planner', 12086), ('bridgerton', 2214), ('quinn', 12789), ('bestselling', 1755), ('novels', 11078), ('hoxton', 7778), ('bridget', 2216), ('gender', 6713), ('rife', 13592), ('interspecies', 8343), ('orc', 11344), ('prophesied', 12564), ('turf', 16728), ('bright', 2222), ('machine', 9659), ('kelly', 8858), ('bastille', 1560), ('logic', 9477), ('migos', 10244), ('uneventful', 16903), ('brij', 2225), ('mohan', 10460), ('sentenced', 14314), ('abilities', 269), ('amnesiac', 777), ('roommate', 13771), ('cheerleading', 2883), ('champs', 2784), ('rebels', 13027), ('virtual', 17343), ('cheer', 2880), ('healthier', 7403), ('lifestyles', 9357), ('broadchurch', 2246), ('detectives', 4429), ('ellie', 5226), ('miller', 10283), ('alec', 635), ('assigned', 1160), ('deceit', 4168), ('consumer', 3534), ('items', 8484), ('outcomes', 11426), ('ya', 17942), ('nuo', 11103), ('25', 167), ('triad', 16610), ('hurtling', 7840), ('your', 18014), ('thrust', 16264), ('custody', 3984), ('alliances', 680), ('proprietor', 12569), ('shoes', 14545), ('moral', 10526), ('inform', 8187), ('incarcerated', 8063), ('faction', 5831), ('seditious', 14223), ('painter', 11568), ('imperial', 8007), ('contentious', 3553), ('handle', 7251), ('household', 7760), ('foundering', 6398), ('boots', 2067), ('athletics', 1212), ('prankster', 12322), ('bruno', 2278), ('macdonald', 9653), ('weird', 17597), ('dress', 4938), ('codes', 3185), ('punishments', 12684), ('neighboring', 10857), ('schools', 14106), ('authoritarians', 1288), ('troublemakers', 16667), ('unthinkable', 17032), ('punishment', 12683), ('dorms', 4848), ('pune', 12678), ('bucket', 2297), ('list', 9411), ('donor', 4829), ('marriages', 9877), ('hosting', 7744), ('outrageous', 11450), ('hungary', 7822), ('siddhartha', 14620), ('buddis', 2309), ('spin', 15137), ('glide', 6843), ('giggle', 6797), ('thelma', 16174), ('louise', 9553), ('syndrome', 15841), ('institution', 8274), ('octane', 11192), ('thunderstruck', 16273), ('greasepit', 7015), ('ferret', 6033), ('darnell', 4090), ('maybe', 9974), ('pile', 12013), ('bunch', 2345), ('crazy', 3788), ('stunts', 15546), ('judo', 8721), ('trainer', 16514), ('grooms', 7083), ('youngest', 18011), ('marathon', 9832), ('runner', 13852), ('willing', 17720), ('chefs', 2888), ('researchers', 13384), ('gastronomic', 6680), ('weigh', 17589), ('presiding', 12394), ('identities', 7910), ('patriarchal', 11746), ('assamese', 1141), ('fugitives', 6531), ('lock', 9461), ('worse', 17868), ('said', 13914), ('kentucky', 8867), ('backwoods', 1403), ('bloodshed', 1948), ('opening', 11296), ('dave', 4109), ('attell', 1229), ('packing', 11542), ('disney', 4668), ('maine', 9720), ('kikiwaka', 8900), ('citizens', 3035), ('going', 6894), ('iowa', 8426), ('lounge', 9555), ('soaring', 14924), ('probes', 12472), ('personas', 11898), ('portland', 12244), ('afoul', 523), ('superbike', 15657), ('courier', 3720), ('unites', 16951), ('resulting', 13452), ('disheartened', 4650), ('parishioners', 11664), ('alcoholism', 631), ('faith', 5855), ('zurich', 18112), ('fraternity', 6438), ('hazing', 7377), ('escalates', 5529), ('scottish', 14146), ('disgruntled', 4642), ('besieged', 1750), ('militia', 10274), ('tackling', 15868), ('sleuths', 14816), ('recalls', 13042), ('elizabeth', 5223), ('taylor', 15986), ('wandrous', 17480), ('stylish', 15554), ('yearns', 17968), ('especially', 5544), ('mazelike', 9986), ('manila', 9794), ('slum', 14842), ('incensed', 8067), ('civilians', 3042), ('manigan', 9793), ('retiree', 13476), ('rene', 13303), ('soften', 14951), ('homosexuality', 7664), ('vanessa', 17167), ('roland', 13733), ('kuwaiti', 9048), ('pleasure', 12121), ('raising', 12870), ('blow', 1958), ('steam', 15344), ('akshay', 606), ('joshi', 8689), ('lambodar', 9100), ('posing', 12259), ('kkompany', 8955), ('extortion', 5784), ('demand', 4298), ('apathetic', 925), ('shocked', 14540), ('prank', 12319), ('cézanne', 4020), ('émile', 18117), ('zola', 18096), ('schoolboys', 14099), ('eating', 5092), ('rips', 13628), ('woodland', 17833), ('terrified', 16109), ('dick', 4505), ('strawbridge', 15469), ('craftsman', 3766), ('hardie', 7293), ('cabins', 2432), ('wales', 17454), ('construct', 3525), ('1920s', 61), ('telephone', 16042), ('revolution', 13535), ('manage', 9772), ('dinner', 4561), ('draws', 4921), ('crowds', 3878), ('admission', 432), ('infected', 8157), ('carnivorous', 2606), ('insects', 8241), ('emerged', 5279), ('exterminator', 5781), ('witnessing', 17794), ('literally', 9419), ('above', 280), ('jolt', 8667), ('nudge', 11093), ('loners', 9493), ('cho', 2964), ('charmed', 2832), ('seon', 14320), ('seethes', 14248), ('biblical', 1795), ('newsstand', 10920), ('fantasies', 5895), ('fixation', 6172), ('lemonade', 9277), ('seller', 14277), ('arise', 1034), ('surface', 15710), ('calendar', 2461), ('models', 10444), ('scotland', 14143), ('nerves', 10878), ('morals', 10530), ('ruthlessly', 13872), ('sylvanian', 15828), ('throwing', 16260), ('hopscotch', 7705), ('rabbit', 12803), ('leap', 9227), ('freya', 6479), ('occasion', 11172), ('stella', 15356), ('hazelnut', 7376), ('chipmunk', 2957), ('dominic', 4813), ('moment', 10472), ('grown', 7097), ('memorable', 10111), ('fete', 6043), ('loveliest', 9563), ('thing', 16206), ('impending', 8004), ('isis', 8458), ('sweden', 15784), ('entangles', 5427), ('bind', 1835), ('pope', 12220), ('francis', 6424), ('jorge', 8682), ('bergoglio', 1738), ('vocation', 17385), ('dictatorship', 4511), ('period', 11871), ('east', 5084), ('qualified', 12747), ('midwife', 10236), ('colleagues', 3221), ('convent', 3594), ('bodybuilder', 1997), ('calum', 2476), ('moger', 10455), ('debilitating', 4154), ('alike', 662), ('cam', 2479), ('culprit', 3939), ('flamenco', 6184), ('camarón', 2482), ('de', 4125), ('isla', 8461), ('covered', 3737), ('sweeping', 15787), ('biography', 1841), ('contrabando', 3572), ('traición', 16504), ('camelia', 2487), ('corner', 3650), ('bibideaux', 1793), ('camera', 2490), ('relevant', 13244), ('unstoppable', 17024), ('attends', 1240), ('overcomes', 11469), ('established', 5556), ('paved', 11764), ('espionage', 5546), ('cole', 3210), ('guantanamo', 7114), ('bay', 1587), ('cusp', 3982), ('meddling', 10040), ('grapple', 6998), ('boyfriends', 2129), ('dublin', 4989), ('aisling', 594), ('danielle', 4063), ('millennial', 10280), ('hijinks', 7548), ('hangovers', 7264), ('wear', 17558), ('preston', 12402), ('declare', 4190), ('jock', 8637), ('gab', 6589), ('tie', 16295), ('knot', 8972), ('doozy', 4838), ('total', 16429), ('fraudulently', 6441), ('identical', 7907), ('triplet', 16642), ('psychiatric', 12629), ('dueling', 4996), ('wardrobe', 17492), ('malfunction', 9757), ('viral', 17336), ('bubbly', 2292), ('streamer', 15474), ('judgment', 8719), ('incandescent', 8061), ('shores', 14562), ('tumbles', 16708), ('trips', 16644), ('hallucinatory', 7230), ('lyle', 9638), ('candyman', 2516), ('hook', 7684), ('handed', 7249), ('marijuana', 9853), ('shipment', 14523), ('touches', 16438), ('ranks', 12925), ('immortal', 7990), ('renegade', 13304), ('cadillac', 2437), ('relentlessly', 13242), ('upbeat', 17058), ('droid', 4957), ('heartbreaking', 7415), ('economist', 5108), ('piketty', 12010), ('accumulation', 341), ('repercussions', 13337), ('richi', 13574), ('sneha', 14895), ('krupp', 9026), ('blowing', 1959), ('treehouse', 16595), ('smithereens', 14858), ('traditions', 16494), ('reconstructs', 13085), ('negotiations', 10852), ('recount', 13091), ('ordeals', 11355), ('gotham', 6941), ('garage', 6660), ('overhauls', 11478), ('trucks', 16677), ('trading', 16489), ('showstopper', 14586), ('bucks', 2299), ('verge', 17233), ('carbon', 2565), ('tax', 15983), ('thrusts', 16265), ('level', 9315), ('illegal', 7944), ('darndale', 4089), ('releasing', 13239), ('cards', 2572), ('cardcaptor', 2567), ('huggable', 7787), ('cousins', 3731), ('nestled', 10883), ('rainbow', 12863), ('colored', 3251), ('bears', 1608), ('schoolboy', 14098), ('spanning', 15069), ('philippines', 11944), ('personally', 11897), ('professionally', 12507), ('spaceship', 15061), ('readied', 12990), ('rigid', 13605), ('disrupted', 4697), ('spry', 15216), ('painters', 11569), ('chicano', 2917), ('ballarta', 1450), ('mocks', 10437), ('transit', 16544), ('corn', 3649), ('betrays', 1764), ('parenthood', 11657), ('pregnancies', 12349), ('commitments', 3314), ('bathtub', 1570), ('puddle', 12657), ('theorizes', 16187), ('autopsy', 1303), ('carmen', 2603), ('sandiego', 13974), ('foiling', 6291), ('sidekicks', 14624), ('ivy', 8491), ('zack', 18041), ('shanghai', 14434), ('timer', 16317), ('carole', 2608), ('tuesday', 16702), ('outcast', 11423), ('telekinetic', 16036), ('lashes', 9148), ('crowd', 3876), ('torments', 16415), ('joke', 8662), ('prom', 12536), ('socially', 14933), ('19', 51), ('shell', 14483), ('spreads', 15207), ('globally', 6855), ('reputed', 13371), ('haven', 7362), ('avoiding', 1333), ('ferrell', 6032), ('creditors', 3807), ('smash', 14851), ('modeling', 10443), ('casablancas', 2640), ('chronicled', 3001), ('invented', 8389), ('recklessness', 13061), ('apparent', 941), ('potion', 12288), ('sleuth', 14814), ('conan', 3391), ('nefarious', 10841), ('poisoned', 12164), ('daniel', 4062), ('craig', 3769), ('minted', 10330), ('007', 1), ('financier', 6115), ('terrorism', 16114), ('poker', 12166), ('troops', 16658), ('invade', 8380), ('benny', 1727), ('ho', 7611), ('macau', 9652), ('pluck', 12133), ('diligence', 4548), ('wields', 17694), ('enormous', 5407), ('actors', 383), ('jonbenet', 8674), ('ramsey', 12901), ('1996', 124), ('roles', 13735), ('powered', 12299), ('lawyers', 9199), ('interests', 8313), ('ebbs', 5095), ('flows', 6267), ('sorrow', 15023), ('vampire', 17158), ('dracula', 4891), ('southern', 15047), ('curry', 3972), ('favor', 5949), ('adaptation', 395), ('tennessee', 16081), ('sizzling', 14736), ('abagnale', 240), ('jr', 8708), ('johannesburg', 8648), ('economics', 5107), ('burgeoning', 2363), ('hopeful', 7698), ('united', 16950), ('states', 15320), ('frenemies', 6467), ('hoped', 7697), ('escalate', 5528), ('resentments', 13391), ('verbal', 17228), ('jabs', 8497), ('brawls', 2167), ('14th', 17), ('serf', 14338), ('incurs', 8093), ('suspicion', 15756), ('inquisition', 8235), ('aside', 1127), ('merge', 10152), ('kitty', 8954), ('galore', 6629), ('claw', 3080), ('domination', 4809), ('exploits', 5744), ('folks', 6295), ('kitties', 8953), ('wallis', 17466), ('cctv', 2709), ('phones', 11956), ('devices', 4461), ('recordings', 13089), ('donning', 4828), ('suit', 15620), ('fedora', 5983), ('dapper', 4074), ('presidential', 12391), ('honky', 7674), ('tonk', 16389), ('badonkadonk', 1417), ('confides', 3443), ('troubling', 16671), ('bacteria', 1406), ('incursions', 8095), ('certain', 2751), ('archivist', 1012), ('nair', 10732), ('bankruptcy', 1494), ('abah', 241), ('emak', 5253), ('adapt', 394), ('vying', 17424), ('developed', 4453), ('unhealthy', 16932), ('horde', 7707), ('bearing', 1607), ('illustrious', 7961), ('valiant', 17146), ('reaching', 12982), ('egotistical', 5161), ('kicks', 8890), ('deciding', 4180), ('mistress', 10400), ('pickle', 11985), ('fat', 5932), ('shaming', 14428), ('maharashtra', 9708), ('kabaddi', 8771), ('saves', 14031), ('bells', 1691), ('adventurous', 478), ('resham', 13396), ('backpacker', 1396), ('perspective', 11900), ('1986', 113), ('shuttle', 14609), ('challenger', 2770), ('priya', 12463), ('polar', 12171), ('opposites', 11323), ('brash', 2156), ('pirya', 12050), ('sophisticated', 15013), ('perfectionist', 11857), ('does', 4781), ('oil', 11244), ('nonetheless', 11009), ('dare', 4076), ('hub', 7781), ('booms', 2058), ('storeowner', 15426), ('heartbroken', 7416), ('schoolteacher', 14107), ('impulses', 8052), ('unmask', 16977), ('shelter', 14486), ('monsoon', 10496), ('banker', 1491), ('washed', 17519), ('vince', 17315), ('michael', 10212), ('fatherhood', 5939), ('tune', 16716), ('risen', 13631), ('catapult', 2676), ('calf', 2462), ('secretive', 14214), ('breezes', 2193), ('subdued', 15561), ('swept', 15794), ('ethereal', 5568), ('80s', 222), ('lyrical', 9642), ('evolving', 5632), ('indonesia', 8120), ('senator', 14292), ('kennedy', 8863), ('reputation', 13369), ('keeps', 8855), ('charité', 2824), ('ida', 7897), ('tuberculosis', 16697), ('diphtheria', 4567), ('1943', 73), ('regime', 13173), ('eugenic', 5577), ('willy', 17725), ('wonka', 17827), ('confections', 3428), ('beauties', 1621), ('software', 14953), ('reboot', 13029), ('angels', 843), ('rings', 13615), ('encoded', 5334), ('information', 8189), ('charlie', 2828), ('shapes', 14442), ('outer', 11428), ('wilbur', 17699), ('pig', 12005), ('templeton', 16059), ('rat', 12952), ('charlotte', 2829), ('spider', 15129), ('timeless', 16314), ('adored', 451), ('soulmate', 15031), ('seema', 14242), ('sid', 14618), ('jealous', 8559), ('womanizers', 17812), ('omi', 11272), ('jai', 8513), ('lovebirds', 9560), ('holden', 7624), ('lesbian', 9300), ('cameron', 2492), ('dallas', 4042), ('photographers', 11962), ('mount', 10594), ('document', 4769), ('reefs', 13128), ('adventurer', 474), ('cyril', 4016), ('chauquet', 2860), ('colossal', 3257), ('adrenaline', 454), ('colonized', 3246), ('mainland', 9721), ('immigrant', 7984), ('shaped', 14441), ('coltrane', 3259), ('romanticized', 13753), ('assis', 1163), ('chateaubriand', 2851), ('achievements', 352), ('judged', 8717), ('related', 13225), ('amritsar', 788), ('evoke', 5627), ('dreadful', 4926), ('unease', 16894), ('dreamed', 4928), ('bored', 2076), ('fish', 6151), ('pond', 12201), ('gripping', 7064), ('ups', 17086), ('downs', 4876), ('navarro', 10804), ('coveted', 3741), ('sharks', 14454), ('juggle', 8723), ('malone', 9767), ('bar', 1501), ('operates', 11303), ('saloon', 13947), ('webtoon', 17570), ('upperclassman', 17077), ('igniting', 7927), ('twitter', 16767), ('packs', 11543), ('knives', 8967), ('impromptu', 8046), ('ingredients', 8197), ('refrigerators', 13154), ('kitchens', 8949), ('redefining', 13117), ('gourmet', 6944), ('juicy', 8726), ('smoky', 14864), ('barbecue', 1507), ('pitmasters', 12059), ('flavors', 6204), ('pushing', 12718), ('fine', 6122), ('dining', 4560), ('reinventing', 13213), ('ideas', 7906), ('fascinate', 5920), ('chelsea', 2889), ('handler', 7252), ('hang', 7260), ('photographic', 11963), ('peretti', 11854), ('showcases', 14579), ('reimagining', 13201), ('sad', 13895), ('joyful', 8704), ('rahul', 12850), ('submerging', 15569), ('ashes', 1117), ('humanoid', 7803), ('haunt', 7356), ('steps', 15368), ('cheuk', 2905), ('wan', 17475), ('chi', 2910), ('cracks', 3761), ('wise', 17769), ('follies', 6298), ('flair', 6181), ('dodgy', 4779), ('decorators', 4200), ('bore', 2075), ('glaswegians', 6835), ('presenters', 12380), ('parodies', 11674), ('virginal', 17339), ('tracey', 16475), ('strictly', 15491), ('tower', 16460), ('hamlets', 7239), ('superhuman', 15665), ('dholakpur', 4484), ('traded', 16485), ('immortality', 7991), ('lures', 9619), ('sonapur', 14993), ('wicked', 17679), ('conquer', 3488), ('indraverma', 8124), ('wile', 17710), ('trolls', 16655), ('overtake', 11497), ('messina', 10177), ('kung', 9039), ('fu', 6524), ('ins', 8237), ('endless', 5354), ('zuhu', 18109), ('colonial', 3243), ('supporting', 15696), ('easier', 5082), ('done', 4822), ('believes', 1682), ('warn', 17502), ('dads', 4028), ('fix', 6170), ('delivering', 4287), ('blunderberry', 1971), ('cakes', 2452), ('awakes', 1344), ('smarts', 14850), ('monkey', 10489), ('chico', 2922), ('bon', 2029), ('blunderburg', 1972), ('drops', 4966), ('crazed', 3784), ('assembly', 1154), ('jang', 8533), ('tae', 15877), ('jun', 8742), ('chucky', 3008), ('neither', 10861), ('intertwine', 8346), ('tainted', 15892), ('pasts', 11725), ('include', 8075), ('ruka', 13833), ('aquatic', 979), ('ocean', 11186), ('wielder', 17691), ('chakuro', 2764), ('relaxation', 13233), ('creating', 3793), ('wintry', 17757), ('feisty', 5996), ('fatka', 5944), ('sabrina', 13889), ('telecommunications', 16035), ('explosive', 5755), ('larger', 9140), ('rapper', 12939), ('chingo', 2953), ('bling', 1928), ('tex', 16141), ('mex', 10199), ('pug', 12663), ('chip', 2956), ('kindergarten', 8920), ('potato', 12283), ('midnight', 10232), ('10th', 7), ('lesser', 9304), ('carrying', 2625), ('letter', 9310), ('1930s', 65), ('overthrow', 11499), ('conquerors', 3490), ('inventor', 8394), ('caractacus', 2564), ('potts', 12290), ('flying', 6275), ('vulgaria', 17421), ('devoid', 4470), ('suspecting', 15751), ('infidelity', 8166), ('catherine', 2688), ('hires', 7580), ('chloe', 2963), ('faithfulness', 5857), ('intensify', 8299), ('meaningful', 10018), ('meals', 10015), ('reacquainted', 12983), ('hospice', 7731), ('ward', 17490), ('exotic', 5701), ('chocolate', 2967), ('500', 203), ('employee', 5307), ('weighed', 17590), ('jobless', 8634), ('debts', 4158), ('insecure', 8242), ('transformative', 16538), ('thug', 16266), ('box', 2121), ('risk', 13634), ('concert', 3406), ('chris', 2986), ('elia', 5212), ('unbridled', 16830), ('reconsiders', 13082), ('buying', 2412), ('pants', 11616), ('minneapolis', 10325), ('thoughts', 16235), ('censorship', 2736), ('problematic', 12475), ('dolphins', 4798), ('lame', 9101), ('mutant', 10684), ('extended', 5773), ('searing', 14197), ('observations', 11154), ('atlanta', 1213), ('tucker', 16699), ('chops', 2978), ('matchmaking', 9928), ('contextual', 3560), ('acculturated', 340), ('accentuate', 314), ('cnn', 3153), ('christiane', 2990), ('amanpour', 743), ('reports', 13352), ('christina', 2994), ('pazsitzky', 11782), ('seattle', 14205), ('biting', 1870), ('dose', 4851), ('focus', 6279), ('salacious', 13930), ('precocious', 12335), ('trespass', 16607), ('hold', 7623), ('janitor', 8536), ('foils', 6292), ('attempted', 1231), ('intended', 8296), ('georgia', 6753), ('pines', 12027), ('thrilled', 16248), ('grandparents', 6988), ('berry', 1745), ('inherit', 8203), ('socialite', 14931), ('ellen', 5225), ('value', 17155), ('miranda', 10339), ('lyla', 9637), ('disrupt', 4696), ('pediatrician', 11805), ('recovers', 13098), ('ski', 14751), ('patients', 11742), ('jolted', 8668), ('luther', 9628), ('krank', 9015), ('skip', 14761), ('rooftop', 13765), ('frosty', 6512), ('careworn', 2587), ('christopher', 2998), ('winnie', 17750), ('pooh', 12214), ('acre', 368), ('wood', 17829), ('inspires', 8264), ('goalie', 6878), ('claudio', 3078), ('tamburrini', 15924), ('educational', 5136), ('tots', 16433), ('nursery', 11108), ('rhymes', 13555), ('tunes', 16717), ('chuchu', 3006), ('cussly', 3983), ('chacha', 2755), ('playtime', 12114), ('chiku', 2929), ('habit', 7192), ('colors', 3255), ('egg', 5154), ('harlo', 7308), ('perch', 11846), ('adoodledoo', 439), ('mistaking', 10395), ('hustler', 7846), ('fishermen', 6155), ('hatch', 7343), ('careen', 2576), ('disarray', 4600), ('horribly', 7715), ('regard', 13166), ('botany', 2093), ('score', 14132), ('steeped', 15349), ('undergo', 16860), ('rigorous', 13606), ('selection', 14267), ('spies', 15133), ('kerala', 8871), ('fixed', 6173), ('papers', 11621), ('matriarch', 9943), ('picnics', 11990), ('gentleman', 6740), ('ha', 7189), ('immature', 7978), ('grandsons', 6990), ('whip', 17655), ('iris', 8437), ('succumbs', 15595), ('triumphs', 16648), ('parking', 11668), ('realizations', 12999), ('execution', 5671), ('choosing', 2976), ('worthy', 17873), ('spared', 15072), ('nice', 10931), ('ran', 12905), ('epicenter', 5477), ('darren', 4093), ('chock', 2965), ('sideshow', 14628), ('oddities', 11200), ('bite', 1868), ('neck', 10831), ('academic', 307), ('establishment', 5558), ('rape', 12930), ('unfolding', 16919), ('chronology', 3004), ('magnitude', 9702), ('scale', 14047), ('smooth', 14865), ('functioning', 6549), ('rio', 13617), ('janeiro', 8532), ('able', 271), ('photography', 11965), ('decade', 4162), ('seminal', 14286), ('brutalized', 2283), ('congo', 3466), ('regain', 13161), ('empowerment', 5314), ('moody', 10513), ('burned', 2375), ('sinks', 14709), ('expanding', 5703), ('kenneth', 8864), ('clark', 3061), ('1969', 94), ('civilisation', 3043), ('throughout', 16258), ('examining', 5643), ('reflect', 13141), ('maladjusted', 9747), ('tomoya', 16385), ('nagisa', 10726), ('saxophonist', 14042), ('clarence', 3058), ('clemons', 3095), ('awakening', 1341), ('andromeda', 828), ('perseus', 11886), ('beastly', 1611), ('looms', 9510), ('cadets', 2436), ('shattered', 14464), ('demoted', 4320), ('foolhardy', 6314), ('rank', 12922), ('convinces', 3610), ('peer', 11812), ('abolish', 274), ('ranking', 12924), ('illuminated', 7952), ('screens', 14168), ('cleo', 3096), ('cuquín', 3957), ('professions', 12509), ('enjoy', 5395), ('stylin', 15552), ('chases', 2844), ('lords', 9524), ('physically', 11970), ('hairies', 7214), ('segregated', 14250), ('newman', 10915), ('universal', 16953), ('pause', 11761), ('forward', 6386), ('donal', 4817), ('macintyre', 9662), ('heinous', 7451), ('plagued', 12077), ('disfigured', 4639), ('clive', 3124), ('davis', 4114), ('moguls', 10457), ('attackers', 1227), ('client', 3104), ('driss', 4949), ('culprits', 3940), ('scandal', 14053), ('martin', 9891), ('claudia', 3077), ('targets', 15961), ('links', 9395), ('generations', 6724), ('earlier', 5067), ('flint', 6233), ('lockwood', 9468), ('clouds', 3139), ('rain', 12862), ('chewandswallow', 2906), ('feed', 5985), ('overflow', 11476), ('shrimpanzees', 14592), ('tacodiles', 15870), ('jellyfish', 8569), ('sandwiches', 13976), ('proportions', 12565), ('cuervos', 3930), ('potro', 12289), ('chava', 2863), ('iglesias', 7922), ('doting', 4854), ('hugo', 7792), ('sánchez', 15851), ('nicaragua', 10929), ('callers', 2470), ('triangles', 16615), ('confessional', 3437), ('eighth', 5170), ('triangle', 16614), ('wreaking', 17887), ('complicates', 3369), ('meen', 10061), ('remain', 13268), ('allows', 689), ('inheriting', 8206), ('creators', 3801), ('nosotros', 11047), ('nobles', 10991), ('carter', 2631), ('benches', 1709), ('undefeated', 16852), ('upbringing', 17059), ('snoop', 14902), ('dogg', 4785), ('at', 1203), ('rivalry', 13647), ('reignites', 13199), ('karate', 8810), ('chronicle', 3000), ('peru', 11904), ('farmers', 5911), ('galicia', 6620), ('prosperous', 12577), ('providing', 12608), ('suppliers', 15690), ('contrasts', 3580), ('coco', 3179), ('celis', 2725), ('raúl', 12978), ('meneses', 10125), ('alternate', 722), ('sounds', 15036), ('edutaining', 5139), ('fridge', 6480), ('sunny', 15652), ('refrigerator', 13153), ('ostracized', 11404), ('earnest', 5072), ('laborer', 9062), ('outlawed', 11436), ('instantly', 8269), ('obedient', 11134), ('mask', 9906), ('invading', 8385), ('britannia', 2238), ('supercomputer', 15660), ('destroying', 4418), ('duped', 5020), ('believing', 1683), ('detroit', 4444), ('mouthed', 10605), ('crack', 3753), ('bonding', 2033), ('naples', 10751), ('buenos', 2314), ('aires', 584), ('neapolitan', 10823), ('coffee', 3193), ('concoct', 3410), ('mint', 10329), ('masterful', 9918), ('utilize', 17125), ('forensic', 6347), ('reexamine', 13139), ('collides', 3235), ('flame', 6183), ('hesitates', 7511), ('propose', 12567), ('competing', 3351), ('gangs', 6655), ('smugglers', 14869), ('pressured', 12399), ('colin', 3212), ('calls', 2473), ('hypocrisies', 7872), ('politically', 12189), ('charged', 2816), ('snl', 14900), ('columbus', 3260), ('chilean', 2939), ('commune', 3325), ('voluntarily', 17398), ('invaded', 8381), ('walled', 17465), ('settlement', 14372), ('cosmetics', 3678), ('fundamentalist', 6552), ('carlton', 2601), ('pearson', 11795), ('jeopardizes', 8580), ('roving', 13805), ('combines', 3273), ('vintage', 17322), ('caffeine', 2441), ('sharpest', 14458), ('aukerman', 1273), ('podcast', 12151), ('bandleader', 1479), ('reggie', 13172), ('appearances', 944), ('assortment', 1173), ('titan', 16339), ('missile', 10381), ('sobering', 14926), ('mass', 9911), ('bogus', 2004), ('teachers', 15992), ('credentials', 3805), ('his', 7585), ('heaven', 7430), ('pedro', 11807), ('infante', 8151), ('impersonator', 8014), ('misunderstanding', 10403), ('villa', 17305), ('erotic', 5513), ('descending', 4373), ('abyss', 306), ('brien', 2219), ('flung', 6270), ('destinations', 4412), ('development', 4457), ('owes', 11510), ('housewife', 7766), ('feeling', 5989), ('stale', 15266), ('prostitutes', 12580), ('latif', 9156), ('nasser', 10773), ('intricate', 8366), ('lavish', 9185), ('rides', 13587), ('fur', 6565), ('coats', 3166), ('mma', 10421), ('grants', 6995), ('highs', 7538), ('lows', 9576), ('ascent', 1112), ('bubble', 2290), ('sensual', 14310), ('unforeseen', 16921), ('entangle', 5424), ('widely', 17683), ('cover', 3736), ('assassinations', 1147), ('intrigues', 8368), ('contagion', 3539), ('sweeps', 15788), ('impose', 8027), ('quarantine', 12751), ('scrambling', 14155), ('commando', 3299), ('entire', 5448), ('observant', 11152), ('sofía', 14954), ('portrait', 12247), ('bundy', 2347), ('committing', 3318), ('greatness', 7020), ('baking', 1437), ('braising', 2146), ('pollan', 12193), ('elevated', 5206), ('cannabis', 2519), ('cuisine', 3931), ('artful', 1087), ('leafy', 9219), ('herb', 7488), ('thc', 16163), ('infusions', 8191), ('cbd', 2708), ('sauces', 14018), ('mouthwatering', 10606), ('infused', 8190), ('chill', 2941), ('celeb', 2714), ('judges', 8718), ('luke', 9607), ('jackson', 8505), ('likes', 9373), ('hurt', 7839), ('warden', 17491), ('baffled', 1419), ('cruiser', 3890), ('deter', 4431), ('brutality', 2282), ('observing', 11157), ('videotaping', 17279), ('arrests', 1070), ('department', 4338), ('animation', 858), ('activism', 377), ('multimedia', 10644), ('response', 13433), ('injustice', 8217), ('coraline', 3643), ('resembles', 13388), ('coronavirus', 3655), ('pandemic', 11603), ('toll', 16371), ('despondent', 4406), ('suicidal', 15617), ('lifeline', 9354), ('salesman', 13938), ('lifetime', 9358), ('images', 7965), ('wiretap', 17766), ('teenagers', 16026), ('print', 12447), ('counterfeit', 3700), ('room', 13767), ('terribly', 16107), ('wanes', 17481), ('champions', 2781), ('coffey', 3194), ('criscilla', 3837), ('phases', 11932), ('ibadan', 7878), ('frisky', 6499), ('spill', 15135), ('seasoned', 14202), ('bustling', 2398), ('magistrates', 9699), ('preside', 12386), ('offenses', 11216), ('verdicts', 17231), ('houghton', 7753), ('newest', 10909), ('multicultural', 10640), ('farming', 5913), ('decimating', 4184), ('largely', 9139), ('ignored', 7930), ('cheap', 2868), ('recession', 13054), ('panic', 11610), ('racism', 12818), ('darrell', 4092), ('hammond', 7241), ('suffered', 15606), ('nearly', 10827), ('cheeky', 2878), ('ferguson', 6026), ('casual', 2663), ('70s', 216), ('toilets', 16367), ('mildly', 10264), ('sept', 14327), ('36', 182), ('hour', 7754), ('paragliding', 11632), ('rent', 13316), ('hodgepodge', 7617), ('tenants', 16074), ('residence', 13399), ('guards', 7121), ('disused', 4722), ('hilarity', 7555), ('salaries', 13933), ('reluctant', 13264), ('recoup', 13094), ('teaching', 15994), ('rebellious', 13026), ('chaperone', 2805), ('tempt', 16062), ('gods', 6888), ('reinvented', 13212), ('classics', 3071), ('fanciful', 5887), ('feasts', 5970), ('apple', 950), ('josh', 8688), ('ages', 543), ('rebecca', 13023), ('jettisons', 8596), ('nollywood', 11001), ('nouah', 11072), ('impersonating', 8012), ('imposter', 8031), ('undergraduates', 16864), ('jolting', 8669), ('blog', 1940), ('surviving', 15743), ('matter', 9950), ('bowling', 2120), ('alley', 677), ('nonconformist', 11007), ('raquel', 12941), ('20s', 156), ('radical', 12825), ('exquisite', 5772), ('wig', 17697), ('chess', 2902), ('creápolis', 3820), ('strapped', 15458), ('sensational', 14304), ('insidious', 8251), ('collects', 3230), ('insider', 8249), ('andrés', 830), ('colmenares', 3238), ('favelas', 5948), ('procedural', 12477), ('profilers', 12515), ('psychological', 12633), ('interrogation', 8336), ('cost', 3682), ('walls', 17467), ('grievous', 7052), ('galvanizes', 6634), ('disabilities', 4581), ('irrepressible', 8447), ('alonzo', 702), ('latino', 9160), ('stereotypes', 15373), ('pricey', 12425), ('luxuries', 9632), ('sly', 14845), ('infectious', 8158), ('37', 184), ('cristina', 3844), ('valiantly', 17147), ('encourage', 5339), ('abused', 299), ('domestic', 4801), ('insists', 8256), ('ang', 837), ('lee', 9250), ('yu', 18021), ('shu', 14598), ('lien', 9347), ('destiny', 4415), ('sword', 15818), ('hades', 7204), ('alpert', 705), ('rachel', 12814), ('shocks', 14542), ('proper', 12559), ('hippie', 7574), ('sleeps', 14808), ('completely', 3361), ('satisfy', 14011), ('confined', 3444), ('nica', 10928), ('cycle', 4005), ('breeding', 2192), ('bluefin', 1965), ('kindai', 8919), ('pioneered', 12039), ('kinki', 8934), ('aqua', 977), ('institute', 8273), ('enterprising', 5435), ('cupcake', 3956), ('cheerful', 2881), ('dinosaur', 4563), ('sorts', 15026), ('twins', 16759), ('reckon', 13062), ('rebel', 13024), ('nimue', 10966), ('arrogant', 1076), ('curtiz', 3980), ('casablanca', 2639), ('1942', 72), ('dreamer', 4929), ('landed', 9113), ('mine', 10303), ('sucked', 15597), ('deception', 4172), ('nominee', 11005), ('symbiotic', 15831), ('ushio', 17118), ('noriko', 11022), ('shinohara', 14519), ('eleven', 5209), ('fascinated', 5921), ('releases', 13238), ('modified', 10450), ('cyborgs', 4004), ('devilman', 4464), ('cyborg', 4003), ('009', 2), ('blessed', 1916), ('bicycle', 1799), ('astrologer', 1187), ('realization', 12998), ('standup', 15284), ('hughley', 7791), ('entertains', 5442), ('button', 2408), ('scandals', 14055), ('rapid', 12932), ('philadelphia', 11937), ('prima', 12432), ('ballerina', 1451), ('dial', 4492), ('experiencing', 5724), ('resist', 13410), ('ramadan', 12887), ('ismail', 8468), ('mosque', 10560), ('chagrin', 2758), ('hasty', 7341), ('screwball', 14171), ('evolves', 5631), ('buzz', 2414), ('citywide', 3038), ('veterans', 17248), ('vietnam', 17287), ('kath', 8836), ('kel', 8857), ('bublé', 2293), ('kim', 8913), ('sharon', 14456), ('lurks', 9622), ('yuletide', 18026), ('dilek', 4545), ('cardiologist', 2570), ('pinpoint', 12035), ('cause', 2696), ('witnessed', 17792), ('kübra', 9054), ('possessed', 12266), ('examination', 5639), ('dutiful', 5035), ('jake', 8521), ('complaint', 3359), ('tween', 16749), ('bmx', 1979), ('approving', 971), ('volunteer', 17400), ('dot', 4853), ('com', 3263), ('economic', 5106), ('maya', 9972), ('hooks', 7688), ('intersect', 8339), ('shifty', 14507), ('cigar', 3018), ('wizard', 17799), ('principled', 12445), ('extravagant', 5792), ('extremist', 5798), ('scholar', 14093), ('refusing', 13160), ('sentence', 14313), ('aids', 568), ('ron', 13759), ('woodroof', 17834), ('smuggles', 14870), ('medications', 10048), ('dana', 4052), ('carvey', 2638), ('hurts', 7841), ('millennials', 10281), ('goose', 6923), ('beats', 1619), ('totally', 16431), ('fifteen', 6072), ('tara', 15955), ('webster', 17569), ('rejection', 13219), ('debbie', 4153), ('allen', 672), ('nutcracker', 11116), ('yearn', 17966), ('snatching', 14890), ('trophies', 16659), ('gorgeous', 6929), ('alyssa', 733), ('edwards', 5141), ('ruffling', 13824), ('feathers', 5972), ('nailing', 10730), ('im', 7962), ('peck', 11797), ('courtship', 3729), ('enlisted', 5401), ('infiltrating', 8170), ('wrestler', 17897), ('commonwealth', 3323), ('hamster', 7243), ('penfold', 11820), ('gadgetry', 6601), ('jet', 8595), ('caregiver', 2583), ('inherits', 8207), ('estate', 5559), ('swirl', 15810), ('tangling', 15939), ('4x4', 201), ('vehicles', 17203), ('steer', 15350), ('roads', 13664), ('trickiest', 16625), ('terrains', 16104), ('sloss', 14836), ('sosa', 15027), ('reminisces', 13286), ('ponders', 12204), ('inhabits', 8202), ('tupperware', 16722), ('thirsty', 16215), ('priest', 12428), ('trojan', 16652), ('publicist', 12648), ('danny', 4067), ('fields', 6065), ('volcanologist', 17394), ('rumblings', 13843), ('dormant', 4846), ('volcano', 17392), ('eruption', 5525), ('adapted', 397), ('risa', 13629), ('dany', 4071), ('boon', 2060), ('homeland', 7649), ('gig', 6795), ('topple', 16402), ('flip', 6236), ('icy', 7896), ('beth', 1758), ('addy', 414), ('reynolds', 13549), ('esteemed', 5561), ('flower', 6265), ('frantic', 6433), ('spans', 15070), ('bangla', 1486), ('charred', 2837), ('corpse', 3662), ('woods', 17835), ('contains', 3543), ('chillingly', 2945), ('alma', 696), ('ignites', 7926), ('sordid', 15020), ('implicated', 8021), ('unwanted', 17044), ('waking', 17450), ('derelict', 4363), ('raza', 12976), ('libby', 9330), ('testified', 16128), ('convincing', 3611), ('entering', 5432), ('terrorize', 16117), ('lake', 9088), ('farrier', 5914), ('tourism', 16447), ('spots', 15196), ('absence', 287), ('drifting', 4944), ('sailors', 13920), ('feuding', 6048), ('exchanging', 5657), ('bipasha', 1849), ('basu', 1562), ('disconcerting', 4616), ('arouse', 1061), ('resentment', 13390), ('attract', 1248), ('dash', 4096), ('lily', 9376), ('messages', 10170), ('dares', 4080), ('notebook', 11057), ('forth', 6377), ('flirtations', 6238), ('fails', 5843), ('dates', 4103), ('trendy', 16605), ('outing', 11432), ('boarding', 1983), ('brighter', 2223), ('gullah', 7147), ('coastal', 3162), ('1902', 55), ('chappelle', 2807), ('triumphant', 16647), ('caps', 2544), ('scorching', 14131), ('material', 9931), ('tidal', 16290), ('defiant', 4235), ('awarded', 1346), ('twain', 16748), ('ceremony', 2747), ('washington', 17522), ('broadcaster', 2244), ('evolutionary', 5629), ('grieve', 7049), ('batra', 1573), ('playfully', 12106), ('resigned', 13408), ('middling', 10230), ('brent', 2198), ('stab', 15248), ('donald', 4818), ('swagger', 15767), ('paramount', 11642), ('theatre', 16167), ('biological', 1842), ('sleepovers', 14807), ('nighttime', 10958), ('soap', 14921), ('frankly', 6431), ('obsess', 11158), ('assists', 1169), ('apocalyptic', 933), ('outwitting', 11461), ('mindless', 10299), ('ghouls', 6781), ('cliquish', 3123), ('depressed', 4352), ('arkansas', 1045), ('metropolis', 10195), ('supergirl', 15662), ('bumblebee', 2336), ('batgirl', 1567), ('zatanna', 18050), ('lantern', 9135), ('classwork', 3076), ('youtuber', 18020), ('figuring', 6084), ('copycat', 3639), ('archnemesis', 1013), ('depalma', 4335), ('carrie', 2618), ('scarface', 14064), ('untouchables', 17036), ('failed', 5841), ('misfits', 10367), ('oblivious', 11147), ('moving', 10614), ('hordes', 7708), ('undead', 16851), ('decimate', 4181), ('compound', 3376), ('hotheaded', 7749), ('mowed', 10616), ('optimist', 11331), ('uber', 16787), ('lure', 9617), ('rattled', 12962), ('pin', 12025), ('eligible', 5214), ('scholarship', 14095), ('indie', 8109), ('grieves', 7050), ('karppi', 8823), ('ties', 16298), ('helsinki', 7478), ('gallaudet', 6625), ('yorker', 18001), ('possibilities', 12270), ('funk', 6559), ('confessions', 3438), ('escapade', 5531), ('beneficiary', 1714), ('delightful', 4280), ('twilight', 16755), ('mailed', 9718), ('asking', 1130), ('color', 3249), ('slights', 14823), ('slippery', 14828), ('cinematographer', 3024), ('lack', 9068), ('eldest', 5183), ('funeral', 6557), ('fiasco', 6056), ('attendees', 1238), ('drummond', 4980), ('coutts', 3733), ('craft', 3763), ('attempting', 1232), ('feats', 5973), ('proved', 12602), ('magicians', 9697), ('shady', 14405), ('or', 11339), ('rioting', 13619), ('modeled', 10442), ('inferno', 8161), ('turner', 16735), ('mete', 10185), ('attracting', 1250), ('previous', 12416), ('racecar', 12809), ('barbaric', 1505), ('where', 17646), ('frankenstein', 6428), ('mad', 9663), ('mirror', 10346), ('bikers', 1819), ('fairclough', 5849), ('vivid', 17378), ('backdrops', 1388), ('aristocrat', 1038), ('trapping', 16561), ('octopus', 11196), ('dwelling', 5045), ('pistone', 12052), ('donnie', 4827), ('brasco', 2155), ('grew', 7042), ('tori', 16409), ('lustigman', 9627), ('link', 9392), ('attraction', 1251), ('commits', 3315), ('represents', 13357), ('commemorate', 3302), ('25th', 169), ('simmons', 14667), ('def', 4220), ('jam', 8523), ('waitstill', 17445), ('martha', 9888), ('risked', 13635), ('fleeing', 6213), ('degrassi', 4257), ('newbies', 10905), ('bills', 1831), ('piling', 12018), ('deidra', 4260), ('laney', 9129), ('flatmates', 6199), ('belonging', 1695), ('roomie', 13768), ('syndicate', 15839), ('gunning', 7158), ('reels', 13130), ('dcp', 4124), ('vartika', 17178), ('chaturvedi', 2858), ('painstaking', 11564), ('2012', 142), ('nirbhaya', 10974), ('dotty', 4855), ('deliha', 4282), ('hunky', 7828), ('zeliha', 18061), ('kooky', 8998), ('rascal', 12947), ('flatts', 6200), ('bassist', 1556), ('jay', 8555), ('demarcus', 4301), ('allison', 685), ('juggling', 8725), ('demetri', 4304), ('kilter', 8912), ('acoustic', 357), ('guitar', 7143), ('hairless', 7215), ('nope', 11020), ('liners', 9388), ('drawings', 4919), ('muses', 10672), ('doughnut', 4864), ('holes', 7630), ('aggressive', 545), ('zimbabwe', 18081), ('disputed', 4694), ('2008', 137), ('asked', 1129), ('constitution', 3523), ('bleak', 1910), ('masterminds', 9921), ('pathologist', 11736), ('plotting', 12131), ('impenetrable', 8005), ('reserve', 13394), ('denis', 4323), ('leary', 9236), ('caustically', 2701), ('nonsmokers', 11012), ('vegetarians', 17198), ('undesirables', 16884), ('dennis', 4325), ('gnasher', 6872), ('rubi', 13819), ('jj', 8628), ('pieface', 11997), ('quench', 12768), ('beanotown', 1602), ('expression', 5769), ('deon', 4334), ('thank', 16156), ('say', 14043), ('welp', 17612), ('deray', 4362), ('ball', 1448), ('finer', 6123), ('handling', 7254), ('ricky', 13579), ('gervais', 6767), ('illusionist', 7955), ('derren', 4366), ('reinvents', 13215), ('debunk', 4159), ('confines', 3446), ('disbelief', 4605), ('manipulate', 9795), ('mentalist', 10131), ('demonstrating', 4317), ('manipulation', 9799), ('appalling', 940), ('ireland', 8436), ('square', 15233), ('rests', 13450), ('decimates', 4183), ('mu', 10622), ('jin', 8618), ('fences', 6018), ('lust', 9624), ('severe', 14384), ('dystopia', 5057), ('betray', 1760), ('hikes', 7551), ('scatter', 14074), ('stalked', 15268), ('drunkenly', 4983), ('cringeworthy', 3831), ('email', 5252), ('hopeless', 7700), ('wes', 17623), ('erase', 5501), ('note', 11056), ('reads', 12993), ('spaniard', 15066), ('passerby', 11709), ('error', 5519), ('genealogy', 6717), ('12th', 12), ('philosopher', 11946), ('profound', 12521), ('teachings', 15995), ('caliph', 2466), ('upend', 17063), ('convinced', 3609), ('rescind', 13375), ('sway', 15778), ('castes', 2658), ('allowed', 687), ('tailspin', 15891), ('helpful', 7474), ('welfare', 17606), ('motives', 10580), ('finnish', 6130), ('1666', 23), ('dakota', 4039), ('zealot', 18054), ('reawakened', 13021), ('degenerate', 4253), ('ryo', 13879), ('chats', 2853), ('rasika', 12951), ('dugal', 5003), ('mythologist', 10708), ('devdutt', 4451), ('pattanaik', 11750), ('relevance', 13243), ('folklore', 6294), ('shesh', 14496), ('shahi', 14410), ('examined', 5641), ('schizophrenia', 14090), ('dexter', 4480), ('spatter', 15087), ('analyst', 797), ('murderers', 10659), ('tipped', 16332), ('ne', 10821), ('er', 5496), ('chased', 2843), ('ditch', 4723), ('jaded', 8509), ('southall', 15045), ('shah', 14409), ('rukh', 13834), ('khan', 8882), ('operation', 11305), ('bigotry', 1813), ('chitragupta', 2960), ('oversees', 11494), ('determine', 4433), ('gamely', 6644), ('complies', 3372), ('connect', 3475), ('draw', 4917), ('normally', 11026), ('preclude', 12334), ('forming', 6373), ('friendships', 6490), ('finance', 6111), ('flops', 6251), ('pocket', 12147), ('difference', 4526), ('empress', 5316), ('taming', 15930), ('mace', 9654), ('magistrate', 9698), ('dee', 4209), ('renjie', 13309), ('motley', 10581), ('lisa', 9408), ('sanders', 13972), ('crowdsources', 3879), ('column', 3261), ('prosecuting', 12570), ('obese', 11136), ('mi', 10205), ('xiao', 17934), ('liang', 9327), ('affects', 509), ('diana', 4497), ('attractive', 1253), ('chambermaid', 2775), ('troublesome', 16670), ('unreasonable', 16997), ('hitting', 7605), ('kirsten', 8943), ('johnson', 8653), ('inventive', 8393), ('comical', 3292), ('inevitable', 8140), ('brosnan', 2265), ('merchant', 10145), ('inexperienced', 8142), ('deranged', 4361), ('possesses', 12267), ('cerebral', 2746), ('cabaret', 2425), ('expounds', 5766), ('primal', 12433), ('decidedly', 4178), ('gastrointestinal', 6679), ('introduced', 8371), ('italy', 8482), ('expertise', 5729), ('sites', 14724), ('miser', 10361), ('charade', 2813), ('akash', 599), ('sameer', 13954), ('shipboard', 14521), ('flawless', 6206), ('facade', 5818), ('desires', 4395), ('agam', 534), ('singh', 14694), ('bandung', 1482), ('dilan', 4543), ('affections', 508), ('milea', 10267), ('involvement', 8422), ('motorbike', 10586), ('imperils', 8010), ('distant', 4707), ('belgium', 1675), ('conflicting', 3452), ('intervenes', 8350), ('favreau', 5954), ('saddest', 13897), ('schmuck', 14091), ('losers', 9534), ('angry', 850), ('naoko', 10747), ('gauko', 6690), ('paleontologists', 11588), ('fossils', 6387), ('located', 9458), ('aided', 566), ('tablets', 15861), ('downed', 4871), ('meteorite', 10187), ('rex', 13546), ('zoe', 18093), ('alpha', 706), ('dinosaurs', 4564), ('ty', 16769), ('rux', 13874), ('revvit', 13542), ('structs', 15511), ('amped', 782), ('stronger', 15507), ('agile', 546), ('dinotrux', 4565), ('newell', 10908), ('lies', 9348), ('meehan', 10059), ('payday', 11775), ('loans', 9446), ('cheat', 2869), ('emissions', 5289), ('brazen', 2170), ('lecturer', 9247), ('russia', 13865), ('shaolin', 14439), ('monk', 10488), ('te', 15988), ('36th', 183), ('creatives', 3798), ('analysis', 796), ('singletons', 14702), ('nairobi', 10733), ('platonic', 12096), ('meldrum', 10093), ('definitive', 4243), ('proof', 12552), ('sasquatch', 14001), ('exasperates', 5648), ('wreaks', 17888), ('ruth', 13870), ('whitefeather', 17663), ('feldman', 5997), ('dispensary', 4683), ('encouraging', 5342), ('traumatizes', 16568), ('deserves', 4385), ('segregation', 14252), ('labor', 9060), ('spearheaded', 15095), ('brides', 2212), ('meager', 10013), ('fallouts', 5869), ('absent', 288), ('shrewd', 14590), ('wisecracking', 17770), ('flashy', 6195), ('fiercely', 6068), ('disillusioned', 4658), ('chart', 2838), ('till', 16310), ('heartthrob', 7424), ('awesome', 1352), ('accompanied', 327), ('django', 4755), ('plantation', 12090), ('neige', 10854), ('meditation', 10053), ('riches', 13572), ('rags', 12847), ('smile', 14856), ('guided', 7133), ('twinkling', 16758), ('disabled', 4583), ('portrayal', 12250), ('gemma', 6710), ('physician', 11971), ('bolshevik', 2017), ('elevating', 5207), ('parody', 11675), ('sharply', 14459), ('spoofs', 15181), ('documentaries', 4771), ('delusional', 4293), ('unhinged', 16933), ('caregivers', 2584), ('connections', 3480), ('mire', 10342), ('controversy', 3591), ('rudy', 13823), ('moore', 10521), ('ego', 5158), ('dolemite', 4791), ('zeina', 18060), ('tarek', 15957), ('dollar', 4794), ('damning', 4049), ('thorny', 16231), ('dolly', 4796), ('parton', 11697), ('forgiveness', 6363), ('catalog', 2672), ('seasonal', 14201), ('screeching', 14165), ('halt', 7233), ('abandons', 246), ('prosthetic', 12578), ('tail', 15887), ('nabbed', 10718), ('mastermind', 9919), ('bosses', 2087), ('wrongs', 17915), ('styled', 15550), ('archaeologist', 996), ('sally', 13942), ('hurst', 7838), ('takers', 15901), ('jaw', 8554), ('dropping', 4965), ('unpredictable', 16989), ('elements', 5201), ('locations', 9460), ('sumptuous', 15641), ('landscapes', 9127), ('manhunt', 9790), ('promiscuous', 12538), ('bro', 2242), ('zixin', 18091), ('qihong', 12737), ('gallivanting', 6628), ('mistaken', 10392), ('stir', 15399), ('recovering', 13097), ('addict', 402), ('reconstructions', 13084), ('archive', 1011), ('sir', 14713), ('branson', 2154), ('balloon', 1456), ('improv', 8047), ('plea', 12116), ('spurring', 15222), ('fearlessly', 5965), ('glover', 6868), ('cocoa', 3180), ('puffs', 12662), ('toys', 16471), ('distress', 4714), ('signal', 14642), ('wiped', 17761), ('population', 12233), ('swarm', 15775), ('invades', 8384), ('martian', 9890), ('marines', 9858), ('obliterate', 11145), ('survivalists', 15739), ('scenarios', 14079), ('civilization', 3044), ('collapse', 3217), ('frantically', 6434), ('recreates', 13101), ('bygone', 2418), ('noticing', 11064), ('passed', 11706), ('users', 17113), ('bracing', 2136), ('landlord', 9117), ('educated', 5134), ('resisting', 13413), ('repressive', 13359), ('caiman', 2448), ('undo', 16886), ('lizard', 9437), ('sorcerer', 15018), ('nikaido', 10959), ('hole', 7628), ('landlady', 9116), ('pose', 12255), ('jig', 8610), ('flatmate', 6198), ('supposed', 15697), ('dong', 4823), ('yilong', 17985), ('selects', 14269), ('warriors', 17514), ('tenant', 16073), ('bickering', 1797), ('aloysius', 704), ('flynn', 6276), ('pupil', 12689), ('1971', 97), ('sergei', 14341), ('dovlatov', 4866), ('maddening', 9668), ('publishing', 12653), ('equine', 5493), ('propels', 12558), ('reined', 13206), ('trainers', 16515), ('zac', 18039), ('efron', 5151), ('darin', 4081), ('olien', 11258), ('leong', 9294), ('healers', 7399), ('offs', 11232), ('hat', 7342), ('proceeds', 12480), ('messes', 10174), ('grump', 7107), ('whoville', 17677), ('generous', 6726), ('lorax', 9521), ('sighted', 14637), ('ler', 9298), ('ruining', 13831), ('profit', 12518), ('seuss', 14379), ('gory', 6935), ('vulnerability', 17422), ('stationed', 15324), ('defense', 4232), ('hisone', 7587), ('amakasu', 736), ('concealed', 3393), ('gifu', 6794), ('luca', 9587), ('ladja', 9076), ('zenithian', 18065), ('gate', 6681), ('shibumi', 14500), ('resurrected', 13458), ('arisen', 1035), ('ethan', 5567), ('slips', 14829), ('breathers', 2187), ('soared', 14923), ('skies', 14753), ('alliance', 679), ('malicious', 9761), ('draco', 4889), ('offspring', 11233), ('drake', 4905), ('stable', 15250), ('brittania', 2240), ('ruler', 13838), ('monarch', 10477), ('grandchildren', 6978), ('slain', 14780), ('savages', 14025), ('breathing', 2188), ('wielding', 17693), ('reopen', 13323), ('dragonpur', 4900), ('how', 7771), ('hiccup', 7518), ('toothless', 16397), ('dak', 4037), ('leyla', 9322), ('devote', 4472), ('huttsgalor', 7852), ('pirates', 12048), ('snowfall', 14911), ('marks', 9868), ('odinyule', 11205), ('viking', 17298), ('weather', 17561), ('cancel', 2510), ('unless', 16966), ('swoop', 15817), ('hypnotizes', 7870), ('dragons', 4901), ('facilitator', 5827), ('narrated', 10760), ('cruise', 3889), ('nationalities', 10786), ('tailored', 15889), ('shea', 14472), ('syd', 15823), ('mcgee', 9998), ('riveting', 13654), ('doc', 4761), ('judicial', 8720), ('falsely', 5872), ('valentine', 17144), ('themed', 16178), ('dreamworks', 4934), ('shrek', 14589), ('oh', 11238), ('introduce', 8370), ('boovs', 2069), ('unfortunately', 16925), ('shorts', 14569), ('then', 16181), ('gobber', 6883), ('boneknapper', 2037), ('po', 12143), ('masters', 9923), ('thundering', 16272), ('storming', 15431), ('ox', 11519), ('croc', 3853), ('shifu', 14508), ('puss', 12719), ('captured', 2559), ('participates', 11688), ('ginormica', 6811), ('pumpkins', 12674), ('carrots', 2623), ('megamind', 10075), ('doom', 4832), ('distinctive', 4709), ('dries', 4942), ('noten', 11059), ('airship', 588), ('quin', 12786), ('zaza', 18052), ('fail', 5840), ('empty', 5318), ('stomachs', 15411), ('least', 9238), ('worries', 17866), ('hungover', 7824), ('unexceptional', 16904), ('pushes', 12717), ('practical', 12308), ('stacks', 15253), ('kingpins', 8931), ('enforcers', 5370), ('sworn', 15822), ('del', 4266), ('sol', 14957), ('absorbing', 291), ('supply', 15692), ('chain', 2759), ('illicit', 7947), ('tracing', 16478), ('export', 5758), ('sale', 13935), ('consumption', 3536), ('tryst', 16693), ('tettsu', 16139), ('chiharu', 2927), ('spring', 15209), ('wary', 17518), ('dishonesty', 4654), ('intimacy', 8357), ('flounders', 6261), ('clock', 3126), ('winds', 17737), ('grounded', 7090), ('ducklings', 4991), ('anastasia', 806), ('cardona', 2571), ('kidnaps', 8897), ('corrupted', 3672), ('offender', 11213), ('blockbuster', 1937), ('brained', 2141), ('rhode', 13552), ('measuring', 10025), ('fitting', 6167), ('willowdean', 17722), ('dickson', 4506), ('assuming', 1177), ('doppelgänger', 4840), ('perky', 11875), ('ikebukuro', 7938), ('mesh', 10165), ('waiter', 17441), ('pakistani', 11581), ('colleague', 3220), ('hernán', 7499), ('zin', 18083), ('carringtons', 2621), ('colbys', 3206), ('updated', 17062), ('surge', 15715), ('vaping', 17173), ('smokers', 14862), ('courageous', 3718), ('emergencies', 5280), ('unlawful', 16961), ('sawmill', 14038), ('stashes', 15316), ('luna', 9612), ('jupiter', 8753), ('sublime', 15567), ('forbidding', 6330), ('flourish', 6262), ('harshest', 7323), ('ingenuity', 8195), ('expat', 5706), ('usual', 17120), ('sushi', 15748), ('cal', 2453), ('chicagoans', 2916), ('fumbling', 6546), ('maze', 9985), ('olive', 11259), ('healed', 7397), ('herbalist', 7490), ('treating', 16589), ('reshape', 13397), ('liz', 9436), ('spirituality', 15156), ('affectionate', 507), ('laurel', 9177), ('canyon', 2533), ('nexus', 10924), ('eddie', 5113), ('strongest', 15508), ('flashing', 6193), ('murphy', 10667), ('unleashes', 16964), ('1983', 110), ('impressions', 8041), ('remembrances', 13280), ('tarzan', 15964), ('threats', 16245), ('sociopathic', 14940), ('summon', 15636), ('confusion', 3463), ('rediscovers', 13123), ('astronomers', 1192), ('trap', 16557), ('asteroids', 1180), ('comets', 3288), ('edmilson', 5129), ('filho', 6089), ('audience', 1261), ('edoardo', 5131), ('ferrario', 6031), ('unpacks', 16983), ('peculiarities', 11800), ('beer', 1643), ('rattles', 12963), ('clairvoyant', 3053), ('counselor', 3695), ('leans', 9226), ('loveless', 9562), ('ruskin', 13863), ('eggy', 5157), ('fates', 5937), ('serve', 14352), ('einsatzgruppen', 5171), ('jews', 8604), ('romani', 13746), ('proposal', 12566), ('denied', 4322), ('affinity', 511), ('meddle', 10038), ('conductor', 3424), ('obtaining', 11169), ('electricity', 5192), ('hindered', 7568), ('didn', 4517), ('scorched', 14130), ('arson', 1082), ('indebted', 8096), ('grifter', 7056), ('swindlers', 15803), ('trusted', 16684), ('imran', 8055), ('kareena', 8812), ('kapoor', 8804), ('exceptionally', 5654), ('dissimilar', 4704), ('suitors', 15624), ('knock', 8968), ('forty', 6384), ('storm', 15430), ('liquor', 9406), ('fugitive', 6530), ('jesse', 8590), ('pinkman', 12032), ('outrun', 11451), ('written', 17908), ('gilligan', 6805), ('aaron', 238), ('lópez', 9649), ('trafficker', 16497), ('pepe', 11838), ('cadena', 2435), ('treacherous', 16581), ('warring', 17512), ('cartels', 2630), ('dea', 4126), ('joaquín', 8632), ('chapo', 2806), ('guzmán', 7175), ('chavo', 2864), ('nameless', 10739), ('chilindrina', 2940), ('quico', 12781), ('doña', 4886), ('florinda', 6256), ('ramón', 12904), ('jirafales', 8626), ('paco', 11544), ('ignacio', 7923), ('taibo', 15885), ('ernesto', 5510), ('che', 2867), ('guevara', 7130), ('sheds', 14475), ('revolutionary', 13536), ('lucas', 9588), ('jade', 8508), ('clone', 3129), ('passionless', 11714), ('counterintuitive', 3701), ('wives', 17798), ('insomniac', 8258), ('mini', 10312), ('mart', 9887), ('chato', 2852), ('hitman', 7602), ('cholo', 2972), ('replace', 13338), ('theme', 16177), ('insecurity', 8244), ('eta', 5565), ('himalayas', 7564), ('jean', 8562), ('maggi', 9688), ('profiled', 12513), ('advancement', 469), ('adaptive', 398), ('surrounded', 15732), ('cuarteto', 3916), ('rodrigo', 13718), ('bueno', 2313), ('paroled', 11676), ('aurelio', 1276), ('casillas', 2647), ('areas', 1022), ('anthropologist', 895), ('resisted', 13412), ('languishes', 9132), ('troubles', 16669), ('photojournalist', 11966), ('jesús', 8594), ('abad', 239), ('colorado', 3250), ('photographs', 11964), ('regional', 13179), ('vato', 17185), ('succeed', 15587), ('enticing', 5447), ('deceptive', 4174), ('bands', 1481), ('márama', 10713), ('rombai', 13754), ('financially', 6114), ('naresh', 10758), ('probe', 12471), ('activities', 380), ('proog', 12553), ('emo', 5293), ('capricious', 2543), ('infinite', 8172), ('underprivileged', 16870), ('elevator', 5208), ('cub', 3918), ('merry', 10164), ('wrangles', 17882), ('reindeer', 13205), ('tow', 16455), ('clinic', 3116), ('1901', 54), ('elisa', 5219), ('loriga', 9529), ('marcela', 9837), ('gracia', 6960), ('ibeas', 7879), ('enroll', 5412), ('recollections', 13073), ('rarely', 12944), ('seen', 14246), ('pays', 11779), ('tribute', 16621), ('90th', 227), ('newlywed', 10913), ('2003', 134), ('overlapping', 11482), ('exceptional', 5653), ('bravery', 2162), ('nurses', 11109), ('deportees', 4347), ('turbulence', 16725), ('blitzen', 1934), ('miniature', 10313), ('tryouts', 16692), ('appeared', 945), ('legions', 9264), ('sitter', 14726), ('unorthodox', 16981), ('borrowers', 2083), ('unable', 16810), ('theatro', 16169), ('emicida', 5284), ('exec', 5667), ('cooper', 3624), ('embraces', 5274), ('calandrelli', 2456), ('demonstrations', 4318), ('makassar', 9733), ('expelled', 5718), ('seymour', 14400), ('cute', 3991), ('convert', 3602), ('pairs', 11576), ('deciphering', 4186), ('comprised', 3379), ('emojis', 5295), ('reenactments', 13132), ('origins', 11379), ('empires', 5306), ('extent', 5777), ('smell', 14854), ('directs', 4577), ('enriches', 5411), ('month', 10503), ('caged', 2444), ('psychologically', 12634), ('emotionally', 5298), ('blooded', 1945), ('outcome', 11425), ('practitioners', 12313), ('zavala', 18051), ('longer', 9497), ('humdrum', 7809), ('dorm', 4845), ('hamburg', 7235), ('enissa', 5394), ('amani', 742), ('deductions', 4208), ('etiquette', 5575), ('negligent', 10849), ('followers', 6302), ('enola', 5406), ('outsmart', 11457), ('horrific', 7717), ('fathers', 5941), ('notable', 11053), ('peek', 11809), ('infiltrates', 8169), ('avid', 1329), ('magically', 9694), ('screenwriters', 14170), ('depart', 4336), ('norm', 11024), ('simply', 14672), ('relieved', 13252), ('equestria', 5491), ('ponies', 12206), ('canterlot', 2531), ('totalitarian', 16430), ('maintains', 9725), ('peace', 11785), ('subduing', 15562), ('populace', 12229), ('displays', 4690), ('punishable', 12681), ('vanished', 17168), ('before', 1648), ('astrid', 1185), ('satoru', 14014), ('fujinuma', 6534), ('eric', 5504), ('andre', 821), ('orleans', 11383), ('autofill', 1299), ('python', 12731), ('idle', 7914), ('greats', 7021), ('decline', 4194), ('piano', 11979), ('blacksmith', 1891), ('tortures', 16424), ('blames', 1903), ('misery', 10364), ('trespassing', 16608), ('builds', 2324), ('library', 9341), ('traps', 16562), ('scavenger', 14076), ('freely', 6455), ('prompting', 12549), ('censor', 2734), ('mossad', 10562), ('bouts', 2116), ('fútbol', 6588), ('primera', 12437), ('cora', 3641), ('80', 221), ('heir', 7452), ('addled', 411), ('deities', 4262), ('bai', 1425), ('qian', 12735), ('ye', 17959), ('hua', 7780), ('lifetimes', 9359), ('transcend', 16526), ('sociocultural', 14937), ('1940s', 71), ('kariman', 8817), ('solace', 14958), ('fragile', 6410), ('singers', 14693), ('represent', 13354), ('showdown', 14580), ('scheming', 14087), ('narcissistic', 10754), ('evan', 5591), ('ark', 1044), ('preparation', 12363), ('flood', 6246), ('meanwhile', 10021), ('interprets', 8333), ('hobby', 7615), ('shinji', 14516), ('nerv', 10876), ('policymakers', 12182), ('gambia', 6636), ('genital', 6734), ('mutilation', 10688), ('kin', 8917), ('incursion', 8094), ('bolivian', 2015), ('exploitation', 5741), ('orthodox', 11394), ('unimaginable', 16940), ('destinies', 4414), ('paramedic', 11640), ('journeying', 8700), ('patiently', 11741), ('audrey', 1268), ('materials', 9934), ('miodownik', 10333), ('objects', 11142), ('comfortable', 3290), ('ancestors', 809), ('av', 1305), ('vhs', 17252), ('miracles', 10335), ('possession', 12268), ('robs', 13698), ('weirder', 17598), ('geology', 6748), ('professors', 12511), ('microscopic', 10225), ('wrench', 17893), ('blossoming', 1956), ('somehow', 14983), ('coder', 3183), ('retreat', 13484), ('subordinate', 15571), ('sweetheart', 15791), ('allegations', 667), ('clergy', 3097), ('journalists', 8698), ('reporting', 13351), ('malaysia', 9752), ('hijack', 7543), ('747', 218), ('nerve', 10877), ('gas', 6676), ('aimed', 573), ('pains', 11563), ('dna', 4759), ('cadaver', 2434), ('participants', 11686), ('protracted', 12596), ('afghanistan', 518), ('regrets', 13184), ('maverick', 9964), ('orin', 11380), ('boyd', 2127), ('latrell', 9162), ('walker', 17457), ('cinematographers', 3025), ('forests', 6352), ('capturing', 2561), ('pandas', 11602), ('monkeys', 10490), ('cranes', 3772), ('refurbished', 13158), ('catastrophe', 2678), ('uploaded', 17074), ('cyber', 3998), ('enlightening', 5399), ('vox', 17412), ('range', 12914), ('cryptocurrency', 3910), ('diets', 4525), ('guys', 7174), ('exterminating', 5780), ('bangladesh', 1487), ('grasping', 7004), ('hungrily', 7825), ('millman', 10288), ('maggie', 9689), ('extras', 5789), ('accompany', 329), ('icu', 7895), ('unknowingly', 16959), ('nurse', 11106), ('tragically', 16503), ('impacted', 7997), ('clarinet', 3059), ('enjoying', 5396), ('hüseyin', 7876), ('firuzan', 6150), ('roamed', 13668), ('flowed', 6264), ('maddy', 9670), ('venturing', 17224), ('fabrizio', 5816), ('copano', 3631), ('participation', 11689), ('reflecting', 13142), ('sperm', 15126), ('whatsapp', 17637), ('banter', 1499), ('fadily', 5837), ('camara', 2480), ('weaves', 17563), ('cigale', 3017), ('wizards', 17800), ('losses', 9538), ('divorcée', 4749), ('widower', 17689), ('fiona', 6131), ('bruce', 2275), ('philip', 11942), ('mould', 10593), ('impressive', 8042), ('forgeries', 6357), ('fakkah', 5862), ('fuzz', 6583), ('mines', 10308), ('malay', 9750), ('unscrupulous', 17013), ('closing', 3136), ('billion', 1828), ('ad', 388), ('hotshot', 7750), ('nets', 10889), ('miscommunication', 10355), ('inn', 8223), ('remodel', 13291), ('rustic', 13868), ('contractor', 3576), ('diego', 4520), ('isabel', 8455), ('pretend', 12405), ('falz', 5873), ('gambling', 6642), ('legalize', 9259), ('luck', 9595), ('butcher', 2401), ('mckellan', 10004), ('kite', 8950), ('omar', 11271), ('abdulrahman', 261), ('outlandish', 11433), ('lower', 9573), ('jabya', 8498), ('upper', 17076), ('shalu', 14424), ('derided', 4364), ('position', 12260), ('proves', 12603), ('stumbling', 15538), ('skullbania', 14768), ('barbarian', 1504), ('carnival', 2605), ('wonderland', 17822), ('bungling', 2350), ('grips', 7066), ('fary', 5919), ('veers', 17192), ('tony', 16391), ('toretto', 16408), ('circuit', 3028), ('drivers', 4954), ('supercars', 15658), ('cred', 3804), ('sleeper', 14803), ('gearheads', 6699), ('drink', 4947), ('grail', 6973), ('fuyuki', 6582), ('splintered', 15164), ('timeline', 16315), ('holy', 7643), ('unprecedented', 16988), ('hakuno', 7220), ('kishinami', 8944), ('extinction', 5783), ('chaldea', 2765), ('shiro', 14530), ('unsettled', 17017), ('mystical', 10700), ('compassionate', 3344), ('doubles', 4857), ('effective', 5145), ('solver', 14975), ('chesterton', 2904), ('grads', 6965), ('seriously', 14346), ('severely', 14386), ('sacrifice', 13893), ('clerical', 3099), ('lease', 9237), ('portly', 12245), ('palestinian', 11590), ('militant', 10270), ('motion', 10573), ('sportswriter', 15191), ('samoan', 13958), ('hallucinogenic', 7231), ('romp', 13757), ('counterculture', 3699), ('fist', 6160), ('witches', 17783), ('houses', 7765), ('babysitter', 1378), ('mae', 9682), ('sobriety', 14927), ('squarely', 15234), ('outline', 11439), ('exercise', 5676), ('centered', 2739), ('felipe', 6001), ('esparza', 5543), ('muy', 10691), ('comments', 3305), ('neto', 10888), ('não', 11125), ('faz', 5957), ('sentido', 14316), ('felix', 6002), ('lobrecht', 9453), ('polite', 12186), ('laughter', 9169), ('sheer', 14478), ('walking', 17460), ('revisiting', 13527), ('photos', 11967), ('feminist', 6015), ('unattractive', 16821), ('fernando', 6027), ('sanjiao', 13984), ('impersonations', 8013), ('concepts', 3402), ('masculinity', 9902), ('acquire', 362), ('ferris', 6034), ('peasant', 11796), ('strong', 15506), ('willed', 17715), ('pre', 12329), ('earning', 5073), ('jury', 8756), ('crises', 3838), ('figaro', 6074), ('phobias', 11953), ('wordless', 17841), ('grillo', 7057), ('immersing', 7982), ('schoolers', 14101), ('yearlong', 17964), ('conspiring', 3518), ('leon', 9290), ('vitali', 17368), ('envy', 5473), ('cocky', 3178), ('barista', 1524), ('easily', 5083), ('cheated', 2870), ('kimberly', 8914), ('premonition', 12360), ('prompt', 12547), ('prevents', 12415), ('rekindle', 13222), ('publicly', 12650), ('nostalgia', 11049), ('lampedusa', 9105), ('mediterranean', 10056), ('migrants', 10246), ('2016', 146), ('rages', 12843), ('backcountry', 1386), ('firefighters', 6136), ('flames', 6185), ('razed', 12977), ('wildfire', 17705), ('dylan', 5049), ('gray', 7014), ('pharmaceutical', 11928), ('companies', 3336), ('hiv', 7606), ('affordable', 516), ('successfully', 15591), ('unresolved', 17002), ('preschoolers', 12373), ('fireman', 6138), ('pontypandy', 12209), ('uhd', 16794), ('4k', 199), ('clearest', 3093), ('picture', 11991), ('fireplace', 6139), ('crackles', 3759), ('adding', 408), ('warmth', 17501), ('atmosphere', 1217), ('hd', 7381), ('snaps', 14885), ('nazuna', 10815), ('norimichi', 11023), ('gwinnett', 7178), ('embellishes', 5266), ('impress', 8036), ('broker', 2252), ('starry', 15303), ('sketchy', 14747), ('intertwines', 8348), ('reserved', 13395), ('tenacious', 16071), ('juventus', 8764), ('reign', 13195), ('khmer', 8884), ('rouge', 13793), ('cambodia', 2483), ('foes', 6284), ('shanties', 14437), ('cornish', 3652), ('chants', 2800), ('sail', 13917), ('harry', 7321), ('stanton', 15288), ('cowboys', 3746), ('calves', 2477), ('montana', 10501), ('fishtail', 6157), ('basin', 1551), ('fishtronaut', 6158), ('marina', 9855), ('zeek', 18059), ('too', 16392), ('physique', 11976), ('image', 7963), ('aristocratic', 1039), ('hearts', 7421), ('fitness', 6165), ('crossfit', 3868), ('sanctional', 13966), ('ninjas', 10972), ('fury', 6573), ('contractors', 3577), ('hosted', 7738), ('sabato', 13885), ('renovates', 13311), ('rvs', 13876), ('properties', 12560), ('fiza', 6177), ('funky', 6560), ('enclave', 5333), ('enlightened', 5398), ('auto', 1294), ('inventing', 8390), ('intermittent', 8321), ('windshield', 17738), ('wipers', 17762), ('delve', 4295), ('delectable', 4272), ('chaoshan', 2802), ('creation', 3794), ('steaming', 15345), ('noodles', 11019), ('nosy', 11051), ('flinch', 6230), ('embedded', 5265), ('untenable', 17031), ('1959', 85), ('pasadena', 11702), ('jazz', 8558), ('rooms', 13773), ('flooded', 6247), ('lava', 9182), ('leaping', 9229), ('chairs', 2763), ('hanging', 7261), ('curtains', 3978), ('swinging', 15808), ('chandeliers', 2789), ('yes', 17977), ('senile', 14299), ('granny', 6991), ('constantly', 3522), ('crumbling', 3893), ('barely', 1516), ('outlaw', 11435), ('teng', 16080), ('buzzfeed', 2415), ('ranging', 12918), ('crazes', 3785), ('injection', 8213), ('instagram', 8266), ('irl', 8441), ('epicureans', 5478), ('evolution', 5628), ('americas', 769), ('diaspora', 4500), ('soma', 14978), ('totsuki', 16434), ('victorious', 17271), ('expulsion', 5771), ('mosley', 10559), ('botanist', 2092), ('eat', 5089), ('concerning', 3404), ('generosity', 6725), ('simmer', 14665), ('agree', 552), ('camino', 2494), ('santiago', 13990), ('mile', 10266), ('ntozake', 11085), ('shange', 14433), ('consists', 3511), ('curtis', 3979), ('duffy', 5001), ('catholics', 2691), ('preserve', 12382), ('frustrating', 6519), ('visa', 17349), ('renewal', 13307), ('likable', 9370), ('devises', 4469), ('unromantic', 17005), ('fowl', 6403), ('menagerie', 10121), ('ire', 8435), ('interwoven', 8356), ('limbo', 9379), ('failures', 5845), ('targeted', 15959), ('leonard', 9291), ('nimoy', 10965), ('spock', 15169), ('frisbee', 6498), ('brodie', 2249), ('exhibition', 5681), ('undesirable', 16883), ('álex', 18114), ('justin', 8760), ('fashanu', 5925), ('openly', 11297), ('pulp', 12670), ('nielsen', 10942), ('starship', 15305), ('altair', 717), ('iv', 8487), ('mole', 10468), ('operating', 11304), ('govern', 6945), ('false', 5871), ('ticking', 16287), ('technicians', 16012), ('procedures', 12479), ('kai', 8777), ('discarded', 4607), ('shuhei', 14600), ('claimed', 3049), ('71', 217), ('chapecoense', 2804), ('furor', 6571), ('addition', 410), ('beitar', 1672), ('jerusalem', 8588), ('underscores', 16872), ('institutionalized', 8275), ('bladesmiths', 1896), ('pages', 11557), ('xue', 17937), ('abandoning', 244), ('devil', 4462), ('seok', 14319), ('according', 334), ('processed', 12482), ('epidemic', 5479), ('rates', 12955), ('obesity', 11137), ('diabetes', 4487), ('diseases', 4635), ('managers', 9775), ('feimster', 5995), ('awakenings', 1342), ('divorced', 4746), ('havana', 7360), ('revolves', 13539), ('wistful', 17778), ('mario', 9860), ('conde', 3414), ('sultry', 15630), ('nuptials', 11104), ('simmering', 14666), ('phobic', 11954), ('brit', 2236), ('alluring', 694), ('crawford', 3781), ('allegedly', 669), ('injured', 8214), ('conducts', 3425), ('panicked', 11611), ('franca', 6417), ('sozzani', 15055), ('vogue', 17386), ('provocateur', 12613), ('milan', 10262), ('francesco', 6421), ('carlo', 2597), ('habits', 7196), ('franco', 6426), ('escamilla', 5530), ('reflections', 13144), ('violently', 17329), ('dashed', 4097), ('farewell', 5908), ('elstner', 5239), ('savors', 14036), ('discussions', 4632), ('brühl', 2287), ('lena', 9279), ('meyer', 10202), ('landrut', 9123), ('harbour', 7290), ('uninterested', 16943), ('pledge', 12123), ('frightening', 6493), ('tramp', 16520), ('meek', 10060), ('cook', 3615), ('unsavory', 17010), ('widespread', 17686), ('drummers', 4978), ('fred', 6446), ('armisen', 1050), ('genres', 6738), ('drummer', 4977), ('accents', 313), ('repo', 13346), ('sizable', 14733), ('sheet', 14480), ('transaction', 16524), ('deserted', 4380), ('shootout', 14550), ('mistletoe', 10397), ('ornament', 11384), ('gaby', 6598), ('mia', 10208), ('fabled', 5814), ('stone', 15413), ('blinds', 1925), ('raven', 12972), ('mississippi', 10387), ('deserters', 4382), ('slaves', 14793), ('confederacy', 3429), ('painted', 11567), ('exhibit', 5680), ('freeway', 6460), ('rick', 13577), ('freeze', 6462), ('device', 4460), ('frost', 6511), ('resists', 13414), ('locket', 9464), ('seizes', 14262), ('communicate', 3326), ('warp', 17508), ('devout', 4478), ('reliant', 13247), ('vienna', 17282), ('sigmund', 14640), ('freud', 6478), ('counselors', 3696), ('voorhees', 17404), ('maniac', 9791), ('slasher', 14785), ('gotten', 6943), ('righteous', 13602), ('eventful', 5602), ('abu', 295), ('dhabi', 4482), ('robbing', 13681), ('rodriguez', 13719), ('relocates', 13261), ('werner', 17622), ('herzog', 7510), ('texting', 16146), ('altered', 720), ('trivial', 16650), ('assist', 1164), ('regimen', 13174), ('froning', 6506), ('narcotic', 10756), ('southwest', 15048), ('18th', 50), ('trappers', 16560), ('wrest', 17895), ('hudson', 7785), ('antarctic', 889), ('wildernesses', 17703), ('attenborough', 1234), ('temperatures', 16055), ('collecting', 3225), ('mohawk', 10461), ('reservation', 13392), ('canadian', 2508), ('eddy', 5114), ('smuggle', 14867), ('rendering', 13299), ('2009', 138), ('orchestrates', 11350), ('powerfully', 12301), ('vindictive', 17319), ('catastrophes', 2679), ('clueless', 3146), ('troublemaking', 16668), ('classroom', 3075), ('spinoff', 15144), ('foreboding', 6339), ('forgo', 6364), ('renewed', 13308), ('olympic', 11268), ('chayse', 2866), ('tanner', 15944), ('fuller', 6541), ('stephanie', 15363), ('kimmy', 8916), ('alchemist', 626), ('edward', 5140), ('elric', 5236), ('al', 607), ('closely', 3131), ('alphonse', 709), ('preschool', 12371), ('common', 3321), ('rowdy', 13808), ('programs', 12526), ('embraced', 5273), ('sri', 15242), ('lanka', 9134), ('hai', 7207), ('phuong', 11968), ('saigon', 13915), ('abductors', 258), ('kyle', 9052), ('afflict', 512), ('purchase', 12697), ('website', 17568), ('fyre', 6586), ('billed', 1826), ('spectacularly', 15105), ('carpet', 2614), ('photo', 11960), ('arif', 1032), ('gora', 6925), ('betrothed', 1766), ('gabbar', 6591), ('crafts', 3765), ('gabby', 6592), ('pandy', 11607), ('paws', 11770), ('gabriel', 6595), ('fluffy', 6269), ('vicente', 17259), ('2019', 149), ('buchmann', 2296), ('gap', 6659), ('malawi', 9748), ('hawaiian', 7366), ('shirt', 14532), ('racist', 12819), ('baskets', 1553), ('prius', 12458), ('taco', 15869), ('dreaming', 4931), ('gad', 6599), ('elmaleh', 5230), ('gleefully', 6840), ('obsessions', 11161), ('slang', 14782), ('regales', 13164), ('encountered', 5336), ('reviled', 13524), ('branded', 2152), ('traitor', 16518), ('gaga', 6604), ('halftime', 7224), ('cosmonaut', 3680), ('yuri', 18034), ('gagarin', 6605), ('1961', 88), ('vostok', 17405), ('galavant', 6616), ('tongue', 16386), ('cheek', 2877), ('accuses', 345), ('cameos', 2489), ('doesn', 4782), ('ptsd', 12644), ('badass', 1408), ('deserter', 4381), ('warm', 17498), ('recut', 13110), ('gavreel', 6692), ('posted', 12276), ('cleaning', 3088), ('confronting', 3458), ('sarcastic', 13997), ('1860s', 36), ('vallon', 17150), ('cooperate', 3625), ('osaka', 11396), ('troll', 16653), ('tape', 15949), ('governments', 6947), ('slaughter', 14788), ('elephants', 5204), ('ivory', 8490), ('rangers', 12916), ('bravely', 2161), ('concluding', 3408), ('strip', 15499), ('yearly', 17965), ('ramone', 12895), ('menace', 10118), ('minions', 10320), ('enslave', 5416), ('garfunkel', 6669), ('oates', 11131), ('wormhole', 17861), ('mecha', 10030), ('garth', 6673), ('brooks', 2260), ('zealous', 18056), ('internal', 8323), ('complicate', 3367), ('sinisterly', 14707), ('incompetent', 8081), ('kidnappers', 8895), ('developers', 4455), ('saipan', 13925), ('subterranean', 15580), ('bunker', 2351), ('wwii', 17923), ('punjabi', 12686), ('oppressive', 11327), ('traits', 16519), ('peers', 11813), ('spelling', 15118), ('hoshino', 7730), ('sold', 14960), ('dome', 4799), ('couric', 3719), ('understanding', 16875), ('transgender', 16543), ('intersex', 8342), ('bodybuilding', 1999), ('piana', 11977), ('greene', 7027), ('bodybuilders', 1998), ('olympia', 11266), ('perfection', 11856), ('excel', 5650), ('historian', 7589), ('bettany', 1768), ('hughes', 7790), ('socrates', 14943), ('confucius', 3460), ('intellectual', 8292), ('karl', 8819), ('marx', 9896), ('friedrich', 6484), ('nietzsche', 10944), ('gentrification', 6741), ('relates', 13226), ('escapades', 5532), ('thrilling', 16251), ('henry', 7484), ('morgan', 10534), ('lopez', 9519), ('latinx', 9161), ('touching', 16439), ('clumsy', 3149), ('ape', 928), ('lion', 9398), ('handcuffed', 7248), ('bed', 1632), ('warped', 17509), ('brainy', 2145), ('schoolwide', 14108), ('escort', 5539), ('occupied', 11177), ('squatters', 15237), ('rebirth', 13028), ('operative', 11307), ('organizers', 11371), ('clea', 3085), ('edit', 5123), ('categorize', 2685), ('clutter', 3151), ('crashing', 3777), ('enforcer', 5369), ('reinvent', 13211), ('elmore', 5232), ('compromised', 3381), ('maxwell', 9970), ('capable', 2534), ('99', 232), ('thwart', 16274), ('blowtorch', 1963), ('víctor', 17426), ('vault', 17186), ('gal', 6613), ('lauren', 9178), ('andrea', 822), ('miraculous', 10336), ('occur', 11180), ('sanju', 13985), ('surrounds', 15735), ('blissful', 1931), ('shrine', 14593), ('unwittingly', 17050), ('upsets', 17089), ('engulfed', 5389), ('section', 14218), ('counter', 3698), ('snow', 14906), ('leopards', 9296), ('newport', 10916), ('501', 204), ('manor', 9811), ('daredevil', 4077), ('biker', 1818), ('blaze', 1908), ('skulled', 14769), ('mephistopheles', 10138), ('zoya', 18105), ('akhtar', 602), ('anurag', 910), ('kashyap', 8831), ('dibakar', 4502), ('banerjee', 1483), ('karan', 8808), ('johar', 8649), ('quartet', 12759), ('thrillers', 16250), ('motoko', 10584), ('batou', 1572), ('togusa', 16364), ('leg', 9255), ('buffs', 2318), ('valuables', 17154), ('traverse', 16577), ('forgotten', 6365), ('landmarks', 9120), ('collectibles', 3224), ('responsibilities', 13434), ('aramaki', 988), ('extremism', 5797), ('worn', 17864), ('chateau', 2850), ('previously', 12417), ('unexplained', 16907), ('detention', 4430), ('exhibits', 5682), ('interrogator', 8337), ('soe', 14946), ('hok', 7621), ('gie', 6789), ('regimes', 13177), ('suharto', 15616), ('sukarno', 15626), ('prehistoric', 12352), ('jonny', 8677), ('duddle', 4993), ('gigi', 6799), ('avant', 1313), ('garde', 6664), ('waif', 17436), ('groomed', 7081), ('fille', 6093), ('joie', 8655), ('gaston', 6678), ('metamorphoses', 10184), ('lorelai', 9525), ('rory', 13781), ('continual', 3564), ('repartee', 13330), ('finale', 6109), ('revival', 13530), ('gilmore', 6806), ('seasons', 14203), ('gims', 6808), ('stade', 15255), ('gina', 6809), ('yashere', 17956), ('toilet', 16366), ('correspondent', 3669), ('ginger', 6810), ('rosa', 13782), ('rejected', 13217), ('accepting', 318), ('lawman', 9190), ('engulf', 5388), ('tougher', 16442), ('lara', 9137), ('hurdles', 7835), ('confirmation', 3447), ('nanno', 10743), ('transfers', 16532), ('misdeeds', 10359), ('faculty', 5836), ('anew', 836), ('tackled', 15866), ('quadruplets', 12744), ('liver', 9431), ('mockery', 10436), ('sophia', 15011), ('memoir', 10109), ('greeting', 7034), ('salvage', 13948), ('dormitory', 4847), ('dental', 4328), ('miho', 10251), ('nishizumi', 10979), ('tankery', 15942), ('enrolling', 5413), ('ōarai', 18121), ('tank', 15941), ('closure', 3137), ('eyeballed', 5803), ('volleyball', 17395), ('wilson', 17727), ('monologue', 10494), ('culminating', 3938), ('underdog', 16858), ('glee', 6838), ('winners', 17749), ('actual', 386), ('preteen', 12404), ('glitter', 6848), ('splendorius', 15162), ('mercenare', 10142), ('orange', 11341), ('grapplers', 7000), ('charcoal', 2814), ('deftly', 4249), ('environs', 5470), ('juggles', 8724), ('gnomes', 6874), ('kart', 8824), ('beep', 1642), ('buckle', 2298), ('carson', 2627), ('winding', 17735), ('bumperton', 2340), ('mía', 10714), ('lupe', 9614), ('mercedes', 10141), ('juanma', 8712), ('álvaro', 18115), ('lakeside', 9090), ('conventional', 3596), ('weapon', 17554), ('entries', 5461), ('linda', 9386), ('bishop', 1864), ('starvation', 15313), ('sanity', 13982), ('atheistic', 1206), ('leaders', 9214), ('congregation', 3468), ('yorkshire', 18004), ('withdrawn', 17786), ('romanian', 13748), ('depths', 4357), ('terrorizes', 16119), ('populated', 12232), ('recolonize', 13074), ('godzilla', 6889), ('haruo', 7330), ('companions', 3338), ('houtua', 7768), ('mechagodzilla', 10031), ('weakened', 17551), ('siding', 14630), ('exif', 5684), ('shadows', 14403), ('compel', 3346), ('ram', 12886), ('fictitious', 6062), ('debonair', 4155), ('satellite', 14007), ('services', 14357), ('goldie', 6898), ('goldilocks', 6899), ('persons', 11899), ('industrial', 8130), ('gollu', 6904), ('pappu', 11624), ('detonate', 4441), ('bungle', 2349), ('choppy', 2977), ('thwarting', 16276), ('wooing', 17839), ('pranksters', 12323), ('bamboozle', 1467), ('bungalow', 2348), ('activity', 381), ('aimlessly', 577), ('please', 12120), ('praise', 12316), ('cluelessly', 3147), ('gigs', 6800), ('joint', 8660), ('burger', 2364), ('fires', 6141), ('cenk', 2733), ('esports', 5547), ('orchestrate', 11348), ('grocery', 7077), ('hops', 7704), ('labs', 9065), ('comb', 3266), ('overachieving', 11464), ('finishing', 6127), ('reputations', 13370), ('tommy', 16383), ('egan', 5153), ('drones', 4961), ('boost', 2062), ('jenna', 8574), ('arrange', 1063), ('apolitical', 934), ('swirls', 15811), ('predator', 12336), ('underused', 16879), ('newsman', 10918), ('murrow', 10669), ('sen', 14290), ('mccarthy', 9991), ('crusade', 3895), ('quell', 12767), ('communism', 3331), ('spearheading', 15096), ('eluding', 5243), ('enchanting', 5332), ('provokes', 12617), ('exasperation', 5649), ('rolling', 13739), ('paranoid', 11645), ('varying', 17179), ('looting', 9518), ('shoe', 14544), ('contemplating', 3546), ('dispatching', 4681), ('rude', 13822), ('opposing', 11321), ('glatt', 6836), ('appoints', 957), ('nemesis', 10867), ('stine', 15393), ('adaptations', 396), ('goosebumps', 6924), ('sriram', 15244), ('dia', 4486), ('guardians', 7118), ('gorm', 6934), ('ruling', 13841), ('witty', 17797), ('whodunit', 17670), ('servants', 14350), ('mccordle', 9994), ('hyperprivileged', 7867), ('wayne', 17546), ('currently', 3970), ('employs', 5312), ('corridors', 3670), ('disinterested', 4660), ('gregorio', 7038), ('goyo', 6951), ('pilar', 12011), ('generals', 6719), ('heneral', 7483), ('frankie', 6429), ('hmong', 7609), ('1972', 98), ('gran', 6975), ('torino', 16410), ('islands', 8466), ('float', 6242), ('sky', 14773), ('erste', 5521), ('mccloud', 9992), ('guise', 7142), ('footman', 6325), ('extramarital', 5787), ('occupy', 11178), ('cumbersome', 3949), ('anticipating', 899), ('likely', 9372), ('fujairah', 6532), ('bestie', 1753), ('jinky', 8621), ('backpack', 1395), ('lit', 9417), ('ignited', 7925), ('travolta', 16580), ('olivia', 11261), ('newton', 10921), ('greaser', 7016), ('budgets', 2312), ('mettle', 10197), ('workforce', 17848), ('swindler', 15802), ('makoto', 9743), ('edamura', 5112), ('laurent', 9179), ('thierry', 16203), ('temperature', 16054), ('variations', 17174), ('yellowstone', 17972), ('talentless', 15909), ('pearl', 11794), ('harbor', 7287), ('colorized', 3254), ('uncanny', 16831), ('dish', 4648), ('femicides', 6012), ('punk', 12687), ('bohemians', 2007), ('ethnic', 5574), ('hayley', 7371), ('although', 728), ('greenleaf', 7031), ('memphis', 10116), ('megachurch', 10070), ('adultery', 463), ('sins', 14712), ('greg', 7036), ('davies', 4112), ('manscaping', 9812), ('pranks', 12321), ('savagely', 14024), ('grego', 7037), ('rossello', 13788), ('airline', 585), ('meredith', 10150), ('beppe', 1731), ('controversies', 3590), ('mcafee', 9989), ('now', 11080), ('scandalous', 14054), ('disaffected', 4586), ('lacrosse', 9071), ('grizzy', 7075), ('frolicsome', 6505), ('lemmings', 9276), ('coy', 3750), ('parts', 11698), ('nurtured', 11112), ('sierra', 14634), ('minas', 10293), ('esquipulas', 5549), ('guatemala', 7122), ('geological', 6747), ('mayan', 9973), ('downside', 4877), ('houseguest', 7759), ('countryman', 3710), ('tennis', 16082), ('vilas', 17302), ('versions', 17241), ('1921', 62), ('unrest', 17003), ('anarchists', 805), ('stole', 15409), ('ignite', 7924), ('roaming', 13669), ('kenyan', 8869), ('rifles', 13596), ('pampered', 11597), ('average', 1321), ('peacekeeping', 11787), ('lieutenant', 9349), ('gunjan', 7155), ('saxena', 14040), ('aviator', 1327), ('kargil', 8814), ('aboveground', 281), ('gurukant', 7167), ('desai', 4369), ('ignores', 7931), ('sticky', 15386), ('preparing', 12367), ('airworthy', 590), ('vulcan', 17420), ('bomber', 2024), ('aircraft', 583), ('paralyzed', 11639), ('holloway', 7637), ('misadventures', 10351), ('surgical', 15719), ('imprecision', 8034), ('uneducated', 16898), ('clockwork', 3127), ('1949', 79), ('freedoms', 6453), ('hükümet', 7875), ('mayoral', 9982), ('faruk', 5918), ('gals', 6630), ('burden', 2356), ('fin', 6107), ('mermaids', 10161), ('whenever', 17645), ('undersea', 16873), ('keeping', 8854), ('spread', 15205), ('gags', 6608), ('opposition', 11324), ('superstitious', 15683), ('regarding', 13168), ('mango', 9787), ('companion', 3337), ('habibie', 7191), ('helena', 7461), ('hones', 7667), ('poorly', 12218), ('shahid', 14411), ('hamlet', 7238), ('kashmiri', 8830), ('hinata', 7566), ('1962', 89), ('plus', 12141), ('size', 14734), ('tracy', 16483), ('turnblad', 16733), ('racially', 12816), ('divided', 4739), ('watusi', 17539), ('obscure', 11150), ('tasks', 15968), ('streetcar', 15476), ('develop', 4452), ('vehicle', 17202), ('engine', 5377), ('perpetually', 11881), ('roadblock', 13662), ('twenties', 16751), ('entwined', 5464), ('madhav', 9673), ('riya', 13656), ('differently', 4529), ('compromise', 3380), ('halo', 7232), ('spartan', 15083), ('enhanced', 5391), ('dawn', 4115), ('avinash', 1330), ('preeti', 12347), ('shunned', 14603), ('fortified', 6379), ('vietcong', 17286), ('wanting', 17487), ('picks', 11989), ('swoons', 15816), ('described', 4377), ('outsider', 11454), ('rugby', 13825), ('clashing', 3065), ('relentless', 13241), ('gene', 6716), ('add', 400), ('context', 3559), ('clarity', 3060), ('unpack', 16982), ('trove', 16673), ('sightings', 14638), ('profiler', 12514), ('hangman', 7262), ('berlinger', 1741), ('trilogy', 16637), ('treasury', 16586), ('paulson', 11759), ('complexities', 3365), ('reshapes', 13398), ('standard', 15278), ('pairing', 11575), ('cannibal', 2522), ('hannibal', 7272), ('lecter', 9246), ('stealthy', 15343), ('buress', 2362), ('zipper', 18086), ('steroids', 15378), ('cosby', 3676), ('hans', 7273), ('teeuwen', 16030), ('proclaims', 12486), ('composer', 3374), ('zimmer', 18082), ('scores', 14134), ('o2', 11127), ('arena', 1024), ('prague', 12315), ('kak', 8781), ('limah', 9378), ('shortly', 14568), ('haunts', 7359), ('darkly', 4086), ('hiring', 7581), ('lens', 9288), ('purehearted', 12699), ('lazzaro', 9211), ('sharecropper', 14447), ('marquise', 9874), ('ideal', 7900), ('allow', 686), ('trickery', 16624), ('pull', 12666), ('employers', 5310), ('decluttering', 4195), ('belongings', 1696), ('clingy', 3115), ('cartoonist', 2633), ('deed', 4210), ('sergeant', 14339), ('cawood', 2707), ('boozy', 2071), ('marbles', 9834), ('cartoon', 2632), ('unicorn', 16935), ('adman', 426), ('advises', 488), ('rebrand', 13033), ('credits', 3808), ('awaited', 1336), ('filmmaking', 6102), ('selfish', 14273), ('advantage', 471), ('schoolgirl', 14102), ('gratify', 7007), ('stake', 15264), ('mckenna', 10005), ('emulating', 5320), ('entirely', 5449), ('shooter', 14548), ('vague', 17138), ('mayo', 9980), ('hari', 7304), ('kondabolu', 8990), ('neophyte', 10869), ('1913', 57), ('length', 9282), ('malaysian', 9753), ('harith', 7305), ('iskander', 8459), ('astley', 1181), ('globetrotters', 6857), ('1948', 78), ('lakers', 9089), ('1951', 82), ('kumar', 9034), ('stoner', 15415), ('craving', 3780), ('hamburgers', 7236), ('storyboard', 15435), ('michelson', 10217), ('researcher', 13383), ('illuminate', 7951), ('shipman', 14522), ('harriet', 7316), ('welsch', 17613), ('stiff', 15387), ('snooty', 14903), ('archrival', 1014), ('sabotage', 13887), ('dutch', 5033), ('jumper', 8740), ('benson', 1728), ('earned', 5071), ('renown', 13314), ('patching', 11729), ('alabama', 608), ('pakistan', 11580), ('drifts', 4945), ('harvey', 7333), ('option', 11335), ('hasan', 7335), ('minhaj', 10311), ('nikhil', 10960), ('meeta', 10064), ('punishes', 12682), ('overzealous', 11508), ('2010', 140), ('shells', 14484), ('hatchtopia', 7346), ('sings', 14703), ('contempt', 3548), ('sufficient', 15609), ('snobbish', 14901), ('industrialist', 8131), ('victories', 17270), ('coincide', 3203), ('ensemble', 5415), ('sit', 14720), ('enactments', 5328), ('102', 6), ('goblin', 6884), ('simulations', 14677), ('audiences', 1262), ('spawned', 15089), ('luau', 9585), ('partygoers', 11700), ('unenviable', 16901), ('interaction', 8305), ('administrator', 428), ('paints', 11572), ('lister', 9415), ('hardships', 7297), ('afflictions', 513), ('rents', 13321), ('evicted', 5618), ('1895', 47), ('talpade', 15922), ('defies', 4237), ('sparse', 15080), ('funding', 6554), ('airplane', 586), ('strung', 15518), ('metin', 10194), ('stops', 15423), ('seeing', 14234), ('gloom', 6859), ('vivacious', 17376), ('hayat', 7369), ('minute', 10331), ('mallory', 9766), ('kane', 8794), ('ideologies', 7912), ('hazel', 7375), ('brugger', 2277), ('breezy', 2194), ('geese', 6705), ('chatty', 2856), ('gynecologists', 7186), ('sali', 13941), ('longed', 9496), ('confrontation', 3456), ('reclusive', 13068), ('thugs', 16267), ('pawns', 11769), ('ax', 1359), ('ritual', 13642), ('greek', 7025), ('roiling', 13730), ('odyssey', 11208), ('jeopardy', 8582), ('headspace', 7394), ('offering', 11220), ('meditations', 10054), ('physicians', 11972), ('psyche', 12626), ('ailments', 571), ('schedule', 14083), ('hartley', 7327), ('fashioned', 5928), ('feminine', 6013), ('wiles', 17711), ('swindle', 15800), ('deepens', 4214), ('overtones', 11500), ('overdue', 11474), ('erupts', 5527), ('severed', 14385), ('operators', 11310), ('ontario', 11287), ('highways', 7541), ('hedgehog', 7437), ('pigeon', 12006), ('habitat', 7194), ('telenovela', 16038), ('heidi', 7447), ('helios', 7464), ('steals', 15341), ('mobile', 10426), ('wmd', 17801), ('wipe', 17760), ('oath', 11132), ('cullen', 3935), ('bohannon', 2005), ('hellboy', 7467), ('avenged', 1317), ('wesley', 17624), ('georgie', 6755), ('pretzel', 12411), ('overseas', 11492), ('aspirations', 1136), ('taste', 15969), ('epoque', 5484), ('privilege', 12461), ('benefited', 1716), ('pennsylvania', 11828), ('hemlock', 7480), ('evils', 5623), ('plain', 12079), ('tireless', 16337), ('leadership', 9215), ('1899', 49), ('typical', 16775), ('sleekest', 14800), ('packages', 11539), ('bought', 2105), ('strategist', 15463), ('calculated', 2457), ('decimated', 4182), ('wen', 17615), ('nuan', 11086), ('signs', 14649), ('zhan', 18074), ('nanxian', 10746), ('analyzes', 801), ('pugilist', 12664), ('shantung', 14438), ('ladder', 9073), ('stellar', 15357), ('shine', 14512), ('sinclair', 14688), ('ssc', 15246), ('bio', 1838), ('masks', 9908), ('hastily', 7339), ('defuse', 4250), ('missionary', 10385), ('voyeuristic', 17416), ('glitz', 6851), ('storied', 15428), ('fractures', 6409), ('tyrannical', 16778), ('lorenzo', 9528), ('49', 197), ('reappears', 13010), ('remarried', 13274), ('abysmally', 305), ('academics', 308), ('arcade', 993), ('akira', 604), ('marshal', 9886), ('abilene', 268), ('kansas', 8799), ('hickok', 7519), ('guns', 7159), ('gall', 6623), ('tidy', 16293), ('lawless', 9188), ('frontier', 6508), ('impersonators', 8015), ('listening', 9414), ('only', 11282), ('germophobic', 6763), ('truce', 16674), ('intrusion', 8377), ('kuryu', 9044), ('takeover', 15900), ('amamiya', 740), ('befell', 1646), ('oya', 11522), ('delinquent', 4283), ('housen', 7764), ('crows', 3883), ('crossover', 3872), ('lockout', 9465), ('sidelines', 14626), ('structure', 15512), ('snake', 14880), ('handlers', 7253), ('motivates', 10575), ('innovators', 8234), ('deputy', 4358), ('curator', 3959), ('chaebol', 2756), ('gallery', 6626), ('über', 18119), ('policies', 12179), ('perhaps', 11867), ('vital', 17367), ('priceless', 12423), ('instruments', 8282), ('veera', 17190), ('captors', 2557), ('emancipated', 5254), ('hazardous', 7373), ('towing', 16462), ('hardship', 7296), ('wrecked', 17891), ('direction', 4572), ('jonathan', 8673), ('adversity', 481), ('kindness', 8923), ('hikaru', 7549), ('utada', 17122), ('makuhari', 9744), ('messe', 10172), ('hilda', 7557), ('yale', 17947), ('accusations', 343), ('forsaking', 6376), ('mcs', 10007), ('djs', 4756), ('detailed', 4424), ('1945', 75), ('hiroshima', 7582), ('includes', 8076), ('prelude', 12355), ('sudan', 15599), ('bait', 1429), ('nagin', 10725), ('granting', 6994), ('essence', 5552), ('reptilian', 13365), ('puccios', 12655), ('roastmaster', 13674), ('slew', 14817), ('poke', 12165), ('honoring', 7678), ('infographics', 8185), ('breakthroughs', 2183), ('movements', 10610), ('bout', 2115), ('cage', 2443), ('profane', 12501), ('engagingly', 5376), ('swear', 15780), ('scams', 14052), ('hitch', 7597), ('impression', 8038), ('nosing', 11046), ('conquest', 3491), ('betrayals', 1762), ('designs', 4392), ('propaganda', 12554), ('1936', 68), ('microscope', 10224), ('armored', 1053), ('headquarters', 7392), ('boasting', 1984), ('communications', 3330), ('cannons', 2525), ('miniseries', 10321), ('rita', 13639), ('hjørdis', 7608), ('karachi', 8806), ('hoarders', 7612), ('acquisition', 366), ('overwhelms', 11506), ('hasselhoff', 7337), ('rails', 12858), ('hogie', 7620), ('locales', 9455), ('galapagos', 6615), ('resurrect', 13457), ('iskender', 8460), ('iffy', 7917), ('naturalist', 10795), ('wolves', 17809), ('blamed', 1902), ('colon', 3241), ('benjamin', 1723), ('bradley', 2138), ('nester', 10882), ('solo', 14970), ('honeymoon', 7671), ('tighten', 16304), ('belts', 1702), ('lean', 9224), ('gateway', 6684), ('st', 15247), ('patrick', 11747), ('comprise', 3378), ('puppeteer', 12692), ('somewhere', 14989), ('electronic', 5195), ('divine', 4741), ('nuns', 11102), ('expectancy', 5709), ('imagination', 7967), ('uncoordinated', 16846), ('monks', 10491), ('monastery', 10479), ('idealism', 7901), ('disenchantment', 4637), ('alarming', 614), ('quarry', 12753), ('relics', 13249), ('karnataka', 8821), ('eviction', 5619), ('currents', 3971), ('socio', 14936), ('johanne', 8647), ('beyoncé', 1776), ('coachella', 3156), ('channel', 2796), ('creativity', 3799), ('covid', 3743), ('isolation', 8473), ('juvie', 8765), ('bronx', 2255), ('rec', 13038), ('daniels', 4064), ('discouragement', 4621), ('honeymoons', 7672), ('naive', 10734), ('merciless', 10146), ('loosely', 9516), ('hansel', 7274), ('gretel', 7041), ('pan', 11598), ('workaholic', 17844), ('neverland', 10903), ('pirate', 12047), ('leagues', 9221), ('easter', 5085), ('bunny', 2353), ('multigenerational', 10643), ('mindsets', 10301), ('cryonically', 3908), ('cherished', 2899), ('toddler', 16356), ('miraculously', 10337), ('remission', 13288), ('ngoepe', 10926), ('recounted', 13092), ('ig', 7919), ('perish', 11873), ('horns', 7712), ('confess', 3432), ('frustration', 6521), ('babysitting', 1380), ('pets', 11921), ('sofa', 14947), ('nightmares', 10955), ('mold', 10466), ('maggots', 9690), ('inconveniences', 8084), ('rumored', 13846), ('fondness', 6308), ('horses', 7724), ('lucid', 9593), ('trickling', 16626), ('malachi', 9746), ('disenchanted', 4636), ('conduct', 3422), ('exorcisms', 5698), ('lima', 9377), ('ambassador', 754), ('cheyenne', 2908), ('safely', 13907), ('geeks', 6703), ('lifelike', 9353), ('dodge', 4777), ('interconnected', 8309), ('skewer', 14748), ('misunderstandings', 10404), ('sundance', 15643), ('breakout', 2180), ('rashida', 12950), ('intersection', 8341), ('rewiring', 13544), ('fundamental', 6551), ('resourceful', 13422), ('flighty', 6228), ('samberg', 13952), ('buses', 2386), ('moped', 10523), ('separates', 14324), ('kato', 8839), ('tranquil', 16521), ('motivated', 10574), ('dishwasher', 4656), ('tread', 16582), ('mavis', 9966), ('lydia', 9635), ('transylvania', 16556), ('ericka', 5506), ('imposed', 8028), ('errors', 5520), ('simultaneous', 14679), ('arrivals', 1072), ('package', 11537), ('stressful', 15485), ('posen', 12256), ('blending', 1914), ('myth', 10703), ('docufiction', 4768), ('argues', 1028), ('purchased', 12698), ('yugoslavia', 18025), ('bible', 1794), ('felt', 6009), ('grinch', 7061), ('lou', 9546), ('lothario', 9542), ('boot', 2063), ('sponsor', 15175), ('dray', 4922), ('gathered', 6686), ('protest', 12591), ('formed', 6369), ('greenpeace', 7032), ('chemists', 2893), ('cripple', 3833), ('annalise', 867), ('keating', 8850), ('copywriter', 3640), ('beeny', 1641), ('mortgage', 10552), ('quilting', 12785), ('captivate', 2550), ('prodigal', 12489), ('tumi', 16710), ('caesar', 2439), ('mussolini', 10682), ('consolidated', 3512), ('considerable', 3507), ('coups', 3716), ('rider', 13585), ('berk', 1739), ('whimsical', 17653), ('tumble', 16706), ('campaigns', 2498), ('deathbed', 4144), ('providence', 12606), ('dictates', 4507), ('duplicity', 5024), ('benevolence', 1718), ('hubie', 7782), ('salem', 13936), ('scaredy', 14062), ('stationmaster', 15325), ('unlocking', 16973), ('pits', 12061), ('hulk', 7795), ('marvel', 9893), ('wolverine', 17808), ('nisha', 10977), ('prem', 12356), ('stepson', 15370), ('division', 4743), ('breakthrough', 2182), ('morality', 10528), ('revelation', 13512), ('modification', 10449), ('crispr', 3840), ('outfit', 11429), ('khirad', 8883), ('ashar', 1115), ('disapprove', 4595), ('cowen', 3747), ('misadventure', 10350), ('belligerent', 1690), ('rhodes', 13553), ('diligent', 4549), ('contracted', 3574), ('dealings', 4138), ('pacific', 11533), ('amphibious', 784), ('fired', 6135), ('bianca', 1789), ('scornful', 14137), ('pretenses', 12409), ('deb', 4146), ('domineering', 4812), ('deserved', 4384), ('retreated', 13485), ('grandeur', 6981), ('cracked', 3756), ('clientele', 3105), ('playwright', 12115), ('soprano', 15015), ('yun', 18030), ('sim', 14661), ('deok', 4333), ('diva', 4727), ('hyo', 7861), ('ri', 13559), ('jeju', 8568), ('essential', 5553), ('racers', 12811), ('supercharged', 15659), ('custom', 3985), ('baddest', 1410), ('automotive', 1300), ('obstacle', 11165), ('rehearsing', 13192), ('usain', 17108), ('captivating', 2552), ('internationally', 8325), ('enslaved', 5417), ('ads', 459), ('classified', 3072), ('jonas', 8672), ('irresistible', 8448), ('nathan', 10780), ('glatze', 6837), ('renounce', 13310), ('shameless', 14427), ('chauvinist', 2861), ('locks', 9466), ('qualify', 12749), ('remarries', 13275), ('li', 9325), ('angsty', 851), ('unrequited', 17001), ('rein', 13202), ('baldwin', 1446), ('unfinished', 16912), ('medgar', 10042), ('evers', 5611), ('malcolm', 9754), ('propagandist', 12555), ('jong', 8676), ('il', 7940), ('defection', 4226), ('nervous', 10880), ('scares', 14063), ('reddy', 13112), ('misogyny', 10378), ('anthem', 891), ('avenging', 1320), ('slimy', 14824), ('degenerates', 4254), ('affable', 500), ('yim', 17986), ('tutor', 16744), ('loathes', 9448), ('penning', 11827), ('scripts', 14173), ('marcos', 9841), ('roster', 13789), ('maye', 9977), ('mourners', 10601), ('ending', 5352), ('carpenter', 2613), ('passing', 11711), ('citizen', 3034), ('companionship', 3339), ('aoki', 919), ('benihana', 1721), ('perennial', 11852), ('morin', 10537), ('agony', 551), ('mutual', 10690), ('twisty', 16766), ('evocative', 5625), ('undocumented', 16887), ('ulises', 16799), ('hooked', 7685), ('cumbia', 3950), ('situations', 14731), ('neuroses', 10896), ('sticking', 15385), ('foot', 6317), ('mouth', 10604), ('misgivings', 10369), ('charli', 2827), ('xcx', 17930), ('harper', 7315), ('tag', 15879), ('fling', 6231), ('shards', 14445), ('lodged', 9469), ('cyclist', 4008), ('wades', 17429), ('leaks', 9223), ('doping', 4839), ('paid', 11558), ('pursuers', 12707), ('defrosted', 4247), ('mikuri', 10257), ('gleib', 6841), ('teasers', 16006), ('void', 17390), ('mourn', 10600), ('eduard', 5132), ('universes', 16955), ('observe', 11155), ('milestones', 10269), ('igor', 7933), ('deformed', 4245), ('glickenstein', 6842), ('gretchen', 7040), ('iliza', 7941), ('shlesinger', 14536), ('undeniable', 16853), ('35', 181), ('applies', 953), ('acerbic', 347), ('conscious', 3496), ('2029', 152), ('illang', 7943), ('combats', 3269), ('koreas', 9006), ('lurking', 9621), ('pathway', 11738), ('solutions', 14973), ('vitiligo', 17371), ('portraits', 12248), ('today', 16354), ('illustrates', 7958), ('incest', 8069), ('bloodlust', 1947), ('kimchee', 8915), ('recipes', 13057), ('dmitry', 4758), ('brawl', 2164), ('loyalty', 9580), ('bigger', 1809), ('supported', 15694), ('matrimony', 9945), ('absconds', 286), ('regains', 13163), ('attendant', 1236), ('cheats', 2872), ('reassess', 13018), ('domineered', 4811), ('lax', 9200), ('murderer', 10658), ('catapulted', 2677), ('assailants', 1140), ('consume', 3532), ('federico', 5982), ('fellini', 6004), ('kuwait', 9047), ('vices', 17261), ('oxygen', 11521), ('scuba', 14177), ('whites', 17665), ('dizzying', 4753), ('fetishes', 6044), ('deceptions', 4173), ('cry', 3906), ('wade', 17428), ('grass', 7005), ('suzu', 15765), ('utero', 17124), ('subconscious', 15559), ('gizem', 6824), ('reawakens', 13022), ('hijacks', 7547), ('stopping', 15422), ('jilted', 8614), ('conceive', 3396), ('invite', 8416), ('senegal', 14297), ('retaining', 13463), ('stormy', 15433), ('elections', 5189), ('elastigirl', 5179), ('toughest', 16443), ('code', 3182), ('names', 10740), ('fulfilled', 6537), ('biologist', 1843), ('bonnin', 2043), ('stripped', 15500), ('residential', 13403), ('rink', 13616), ('matchmaker', 9927), ('sima', 14662), ('taparia', 15948), ('skulls', 14770), ('akator', 600), ('amazonian', 753), ('cradle', 3762), ('locate', 9457), ('covenant', 3735), ('songbird', 14995), ('victor', 17267), ('reich', 13193), ('widening', 17684), ('italians', 8481), ('uneasiness', 16896), ('premiere', 12359), ('basterds', 1557), ('conviction', 3605), ('substance', 15577), ('wage', 17432), ('attended', 1237), ('bloodthirsty', 1951), ('manifests', 9792), ('alain', 611), ('delambre', 4267), ('57', 209), ('pawn', 11768), ('tofu', 16362), ('wheel', 17638), ('elimination', 5217), ('protégée', 12598), ('harassment', 7286), ('unbeknownst', 16826), ('bookbinder', 2048), ('reading', 12991), ('somethings', 14986), ('maneuver', 9782), ('entanglements', 5426), ('bullied', 2329), ('pageants', 11556), ('gates', 6683), ('influenced', 8176), ('nypd', 11124), ('negotiator', 10853), ('butts', 2409), ('meticulous', 10193), ('machinations', 9658), ('immoral', 7989), ('freemasons', 6457), ('fraternal', 6437), ('psyches', 12628), ('dozens', 4885), ('connolly', 3485), ('voluntary', 17399), ('intimidation', 8361), ('gadget', 6600), ('reactivated', 12986), ('overnight', 11486), ('rentals', 13318), ('rating', 12957), ('doorstep', 4837), ('tot', 16428), ('dowdy', 4868), ('andhra', 819), ('pradesh', 12314), ('frame', 6413), ('laborers', 9063), ('torturing', 16425), ('avail', 1308), ('idealist', 7902), ('equation', 5490), ('jailhouse', 8517), ('shawcross', 14469), ('genesee', 6727), ('river', 13649), ('tangle', 15936), ('territorial', 16111), ('warlords', 17497), ('frightened', 6492), ('eruptions', 5526), ('hijacked', 7544), ('outrace', 11447), ('sun', 15642), ('below', 1699), ('pipa', 12043), ('simultaneously', 14680), ('perdida', 11850), ('yanked', 17952), ('kagome', 8775), ('higurashi', 7542), ('reassemble', 13016), ('inuyasha', 8379), ('horai', 7706), ('saviors', 14035), ('sesshomaru', 14361), ('kikyo', 8901), ('beaqueathed', 1603), ('swords', 15819), ('fang', 5889), ('awakened', 1340), ('sealed', 14188), ('200', 130), ('defeated', 4223), ('emerging', 5283), ('zim', 18080), ('phase', 11931), ('dib', 4501), ('membrane', 10106), ('elected', 5187), ('nelson', 10864), ('mandela', 9780), ('1995', 123), ('saint', 13922), ('exupéry', 5801), ('initiation', 8211), ('xhosa', 17932), ('closeted', 3135), ('occupying', 11179), ('duels', 4997), ('superiority', 15667), ('ip', 8427), ('perseveres', 11887), ('chun', 3010), ('springs', 15211), ('wrestles', 17898), ('impairment', 8001), ('spice', 15127), ('triathlete', 16616), ('swim', 15797), ('112', 9), ('bike', 1817), ('26', 170), ('shaw', 14468), ('blockbusters', 1938), ('commerce', 3306), ('skull', 14767), ('taskmaster', 15967), ('hydra', 7857), ('iron', 8442), ('stark', 15298), ('ingeniously', 8194), ('engineered', 5379), ('armor', 1052), ('reptiles', 13364), ('spurs', 15223), ('abbie', 249), ('goof', 6917), ('bell', 1684), ('cranel', 3771), ('diminutive', 4554), ('hestia', 7512), ('helper', 7472), ('fore', 6338), ('duplicitous', 5023), ('rajiv', 12877), ('expresses', 5768), ('payal', 11773), ('deceitful', 4169), ('seduces', 14226), ('fakes', 5860), ('coerce', 3189), ('letting', 9313), ('faiths', 5858), ('provinces', 12610), ('address', 412), ('prices', 12424), ('dwindling', 5047), ('rethinking', 13472), ('34', 180), ('isoken', 8470), ('maneuvered', 9783), ('genders', 6714), ('openness', 11298), ('banaras', 1471), ('overprotective', 11490), ('wynn', 17925), ('handman', 7255), ('recalled', 13040), ('laida', 9086), ('miggy', 10240), ('olsen', 11265), ('pauper', 11760), ('devotes', 4475), ('respect', 13424), ('belly', 1692), ('antisocial', 905), ('selfless', 14274), ('psych', 12625), ('their', 16172), ('stratospheric', 15465), ('iverson', 8489), ('indelible', 8100), ('benin', 1722), ('retain', 13462), ('morgue', 10535), ('izzy', 8495), ('cuddly', 3928), ('magnetic', 9701), ('miniforce', 10316), ('megastar', 10078), ('chou', 2984), ('trotting', 16664), ('shankar', 14435), ('abandonment', 245), ('alimony', 664), ('payments', 11778), ('spitfire', 15158), ('dejected', 4264), ('chatterbox', 2855), ('mechanical', 10033), ('shadow', 14402), ('understands', 16876), ('pastime', 11721), ('multi', 10638), ('bruen', 2276), ('whitehall', 17664), ('maps', 9828), ('pattinson', 11754), ('notoriously', 11069), ('stuffy', 15535), ('extravaganza', 5793), ('hotels', 7748), ('stupidity', 15547), ('jovial', 8702), ('southeast', 15046), ('strengthen', 15481), ('dough', 4863), ('rachael', 12813), ('stirling', 15400), ('multifaceted', 10642), ('jacqueline', 8506), ('onassis', 11275), ('radziwill', 12832), ('lottery', 9545), ('ticket', 16285), ('salesperson', 13939), ('medic', 10044), ('wishing', 17777), ('marianne', 9849), ('gustav', 7170), ('tamilian', 15929), ('uncles', 16839), ('proclaimed', 12485), ('longstanding', 9502), ('throat', 16255), ('sacramento', 13891), ('cubby', 3921), ('skully', 14772), ('ecologists', 5105), ('migrating', 10247), ('flamingoes', 6186), ('expecting', 5714), ('dusty', 5032), ('acaster', 311), ('mundane', 10649), ('phishing', 11951), ('meena', 10062), ('romantically', 13752), ('jandino', 8530), ('asporaat', 1139), ('serenades', 14334), ('rousing', 13799), ('rendition', 13302), ('vowing', 17410), ('chaste', 2848), ('villanueva', 17313), ('slip', 14827), ('rethink', 13471), ('jani', 8534), ('dueñas', 4999), ('pours', 12295), ('dieting', 4524), ('caustic', 2700), ('fraying', 6443), ('seams', 14190), ('earthquakes', 5079), ('devastate', 4447), ('resolve', 13416), ('sinking', 14708), ('archipelago', 1006), ('continuing', 3570), ('hezbollah', 7515), ('militiamen', 10275), ('shinda', 14511), ('laali', 9056), ('fully', 6543), ('relocate', 13259), ('sells', 14280), ('silent', 14653), ('egos', 5159), ('permission', 11877), ('tinseltown', 16327), ('mistrust', 10401), ('cagey', 2445), ('tailor', 15888), ('whereabouts', 17647), ('ventriloquist', 17220), ('achmed', 355), ('peanut', 11792), ('walter', 17473), ('dunham', 5015), ('slays', 14796), ('jalapeño', 8522), ('bubba', 2289), ('incorrect', 8085), ('pepper', 11840), ('hysterical', 7874), ('entourage', 5452), ('trailer', 16507), ('slightly', 14822), ('demented', 4302), ('posse', 12264), ('puppets', 12694), ('gleeful', 6839), ('skewering', 14749), ('joined', 8657), ('foxworthy', 6405), ('cable', 2433), ('garlin', 6671), ('37th', 185), ('learnings', 9234), ('jeffrey', 8567), ('epstein', 5486), ('abuses', 301), ('rocker', 13705), ('jem', 8570), ('jen', 8571), ('kirkman', 8940), ('jenni', 8575), ('rivera', 13650), ('banda', 1474), ('jenny', 8577), ('slate', 14786), ('trebek', 16593), ('longest', 9498), ('jeremiah', 8583), ('invention', 8391), ('jeremy', 8584), ('missouri', 10388), ('moschino', 10556), ('charted', 2839), ('blast', 1907), ('cuts', 3994), ('buffets', 2317), ('restaurants', 13440), ('tarts', 15963), ('comer', 3284), ('orny', 11386), ('adams', 393), ('bumpy', 2343), ('offstage', 11234), ('stretches', 15488), ('tips', 16334), ('jessica', 8591), ('darling', 4088), ('hugh', 7789), ('bonneville', 2041), ('itinerant', 8485), ('immense', 7980), ('thais', 16153), ('provided', 12605), ('lgbt', 9323), ('infancy', 8149), ('webcam', 17566), ('worldview', 17857), ('endured', 5360), ('predicaments', 12341), ('bandmates', 1480), ('crusader', 3896), ('stunningly', 15543), ('immersive', 7983), ('kaufman', 8843), ('carrey', 2617), ('gaffigan', 6603), ('pockets', 12148), ('catholicism', 2690), ('wickedly', 17680), ('fifth', 6073), ('bacon', 1405), ('weighty', 17594), ('overweight', 11503), ('sardonic', 13999), ('jefferies', 8565), ('auditioning', 1266), ('famously', 5882), ('excruciating', 5664), ('generational', 6723), ('grabby', 6955), ('hypocrisy', 7873), ('advised', 486), ('unrestricted', 17004), ('jaunt', 8548), ('filthy', 6106), ('norton', 11039), ('proclivities', 12487), ('carr', 2615), ('deadpan', 4131), ('uk', 16796), ('hammersmith', 7240), ('faint', 5846), ('gooey', 6916), ('retroville', 13492), ('neutron', 10898), ('hideaki', 7523), ('sanma', 13987), ('apprentice', 962), ('toymaker', 16470), ('petra', 11919), ('jinns', 8623), ('battleground', 1580), ('jiro', 8627), ('ono', 11283), ('85', 223), ('300', 175), ('plate', 12094), ('foodies', 6311), ('pilgrimage', 12016), ('jo', 8629), ('koy', 9013), ('filter', 6104), ('spotlighting', 15194), ('joan', 8630), ('didion', 4516), ('griffin', 7054), ('dunne', 5017), ('78', 220), ('rivers', 13653), ('slowing', 14839), ('reyes', 13548), ('zesty', 18070), ('bathroom', 1569), ('royalty', 13815), ('16th', 24), ('strategic', 15461), ('genuine', 6744), ('woodstock', 17836), ('cocker', 3174), ('mande', 9779), ('critical', 3847), ('adulation', 460), ('rogan', 13721), ('vegans', 17195), ('boston', 2089), ('inquisitive', 8236), ('gummies', 7151), ('quasi', 12761), ('exhausted', 5678), ('servicing', 14358), ('lennon', 9286), ('yoko', 17995), ('apaches', 921), ('fruitful', 6515), ('devolved', 4471), ('died', 4519), ('reformed', 13148), ('upends', 17066), ('leguizamo', 9269), ('mellencamp', 10096), ('mulaney', 10636), ('existential', 5690), ('catchy', 2684), ('eviscerates', 5624), ('laments', 9102), ('electric', 5191), ('quicksand', 12780), ('motown', 10590), ('boyish', 2131), ('beef', 1639), ('clinton', 3118), ('electronics', 5196), ('whiz', 17668), ('broadcasts', 2245), ('monitors', 10487), ('genetically', 6729), ('joestar', 8644), ('nickname', 10935), ('periods', 11872), ('infertile', 8162), ('situated', 14729), ('republic', 13366), ('fulfillment', 6539), ('surreal', 15729), ('meditative', 10055), ('tableaux', 15859), ('classes', 3067), ('1806', 30), ('norrell', 11031), ('conjurer', 3472), ('unjust', 16957), ('interpretation', 8332), ('brilliantly', 2228), ('coat', 3165), ('mobilized', 10428), ('joshua', 8690), ('autonomy', 1301), ('untold', 17034), ('olasupo', 11250), ('shasore', 14462), ('greenland', 7030), ('archaic', 999), ('inuit', 8378), ('paying', 11776), ('austria', 1283), ('assesses', 1157), ('obsessively', 11163), ('cursed', 3974), ('presides', 12393), ('municipality', 10653), ('juana', 8711), ('inés', 8425), ('cruz', 3905), ('burdened', 2357), ('judah', 8713), ('friedlander', 6483), ('explaining', 5734), ('judd', 8714), ('apatow', 927), ('riffing', 13594), ('amusing', 793), ('counsel', 3693), ('afford', 515), ('raja', 12873), ('judy', 8722), ('stink', 15397), ('opal', 11294), ('indomitable', 8119), ('tenacity', 16072), ('julie', 8730), ('524', 208), ('outlined', 11440), ('lift', 9360), ('watchful', 17531), ('andrews', 825), ('artwork', 1108), ('julius', 8733), ('juman', 8736), ('hisham', 7586), ('outlooks', 11443), ('sang', 13978), ('ah', 557), ('shield', 14502), ('shin', 14510), ('whirlwind', 17658), ('rushes', 13861), ('vineyard', 17320), ('relations', 13227), ('carolina', 2609), ('multitude', 10647), ('invited', 8417), ('nublar', 11091), ('hates', 7350), ('overconfident', 11471), ('bets', 1767), ('homely', 7651), ('wager', 17434), ('uptight', 17091), ('lighten', 9365), ('nevada', 10899), ('hinder', 7567), ('slick', 14820), ('sung', 15648), ('approached', 965), ('bieber', 1803), ('snapshots', 14886), ('demme', 4306), ('deft', 4248), ('squidgy', 15240), ('tons', 16390), ('spina', 15138), ('bifida', 1804), ('realized', 13001), ('hunted', 7830), ('kings', 8932), ('ballistic', 1455), ('capt', 2548), ('vostrikov', 17406), ('gorging', 6930), ('sugary', 15613), ('snacks', 14876), ('crank', 3773), ('sakuragaoka', 13929), ('seung', 14377), ('guardian', 7117), ('wang', 17482), ('dadong', 4027), ('bale', 1447), ('anomaly', 879), ('liu', 9425), ('bei', 1667), ('guan', 7113), ('zhang', 18075), ('fei', 5993), ('ko', 8981), ('visitors', 17361), ('locksmith', 9467), ('fled', 6209), ('aiding', 567), ('strata', 15460), ('expectation', 5711), ('restless', 13443), ('curses', 3975), ('infanticide', 8152), ('employer', 5309), ('simpleton', 14671), ('wayward', 17548), ('ikoma', 7939), ('fortress', 6380), ('battlegrounds', 1581), ('unato', 16820), ('region', 13178), ('kabane', 8772), ('rift', 13597), ('disowns', 4674), ('exalted', 5637), ('fused', 6574), ('rage', 12842), ('turbulently', 16727), ('poet', 12154), ('imaginations', 7968), ('ahmedabad', 559), ('bartender', 1540), ('yumeko', 18029), ('jabami', 8496), ('enrolls', 5414), ('hyakkaou', 7853), ('ranked', 12923), ('winnings', 17752), ('mba', 9987), ('cheenu', 2879), ('resurrecting', 13459), ('tenuous', 16091), ('mess', 10168), ('solomon', 14971), ('mahlangu', 9713), ('battled', 1578), ('dropout', 4963), ('kandasamys', 8793), ('unethical', 16902), ('sales', 13937), ('rep', 13325), ('kantaro', 8801), ('wraps', 17884), ('indulge', 8127), ('tastiest', 15971), ('sweets', 15793), ('frays', 6444), ('kudret', 9031), ('léon', 9647), ('rivail', 13644), ('séance', 15853), ('spiritism', 15152), ('electrocution', 5194), ('damaged', 4047), ('karol', 8822), ('modzelewski', 10452), ('łukasz', 18120), ('lotek', 9541), ('lodkowski', 9470), ('warsaw', 17516), ('klub', 8958), ('hybrydy', 7855), ('drone', 4960), ('nobility', 10988), ('1900s', 53), ('flimsy', 6229), ('flings', 6232), ('imparts', 8002), ('polish', 12184), ('rafał', 12836), ('pacześ', 11548), ('katarzyna', 8834), ('piasecka', 11980), ('anecdotes', 832), ('guiding', 7135), ('nobleman', 10990), ('chipper', 2958), ('boomer', 2056), ('papilloma', 11622), ('knockoff', 8971), ('fashions', 5929), ('meats', 10028), ('purveyor', 12712), ('brett', 2200), ('bolder', 2012), ('katherine', 8837), ('fancy', 5888), ('enraged', 5409), ('signing', 14648), ('stereotypical', 15374), ('unflinching', 16915), ('roast', 13673), ('katt', 8840), ('ushers', 17117), ('kattpacalypse', 8841), ('exploding', 5739), ('doomsday', 4834), ('entertainer', 5438), ('2006', 136), ('paint', 11565), ('sassy', 14003), ('wonderful', 17819), ('kavin', 8845), ('bumbler', 2337), ('unparalleled', 16985), ('richards', 13571), ('bard', 1514), ('initiative', 8212), ('burns', 2378), ('beleaguered', 1673), ('theodore', 16183), ('franklin', 6430), ('eleanor', 5186), ('roosevelt', 13774), ('embarked', 5259), ('westward', 17629), ('expansion', 5705), ('jeong', 8578), ('hangover', 7263), ('ohma', 11241), ('tokita', 16368), ('disputes', 4695), ('settled', 14371), ('gladiator', 6826), ('forget', 6359), ('fusing', 6576), ('kenny', 8866), ('analytical', 799), ('frumpy', 6517), ('footwear', 6327), ('flightless', 6226), ('indeed', 8098), ('shines', 14514), ('theatrical', 16168), ('madison', 9675), ('brick', 2208), ('oven', 11462), ('contributions', 3583), ('entertaining', 5440), ('dishing', 4652), ('hourlong', 7755), ('taped', 15950), ('2001', 132), ('kevyn', 8876), ('aucoin', 1257), ('merged', 10153), ('recapture', 13043), ('cons', 3493), ('forcing', 6336), ('assemble', 1151), ('momentous', 10473), ('blazes', 1909), ('anxious', 912), ('rely', 13266), ('busting', 2397), ('missions', 10386), ('regimented', 13175), ('developing', 4456), ('beetle', 1645), ('hailey', 7208), ('ollie', 11263), ('opponents', 11316), ('sloan', 14832), ('brute', 2285), ('graduating', 6969), ('roomies', 13769), ('petrified', 11920), ('gutsy', 7172), ('manny', 9809), ('pacquiao', 11545), ('cookie', 3618), ('pudding', 12656), ('kitten', 8951), ('alfred', 650), ('freddy', 6448), ('heineken', 7450), ('gagged', 6606), ('carefully', 2582), ('nagger', 10724), ('declares', 4192), ('rampage', 12896), ('budd', 2303), ('elle', 5224), ('teeming', 16021), ('efficiently', 5148), ('unraveled', 16994), ('scissor', 14124), ('ryuko', 13880), ('matoi', 9942), ('bogged', 2001), ('cautious', 2703), ('telecom', 16034), ('conference', 3431), ('fledgling', 6211), ('democracy', 4308), ('cleveland', 3101), ('crusading', 3898), ('nicaraguan', 10930), ('chinu', 2955), ('hateful', 7349), ('hernandez', 7498), ('clowns', 3142), ('harvest', 7332), ('cocooning', 3181), ('cotton', 3688), ('souza', 15051), ('masterminding', 9920), ('reported', 13348), ('rallied', 12881), ('piers', 12000), ('shedding', 14474), ('spencer', 15120), ('entered', 5431), ('dollars', 4795), ('protected', 12584), ('offenders', 11214), ('wheelchair', 17639), ('helpers', 7473), ('crosshairs', 3869), ('serbian', 14333), ('paratrooper', 11650), ('riverbed', 13651), ('littered', 9423), ('coping', 3635), ('mercurial', 10147), ('saddled', 13898), ('projectionist', 12532), ('dvd', 5040), ('pirating', 12049), ('despicable', 4404), ('obnoxious', 11148), ('210', 159), ('qin', 12739), ('insurgent', 8286), ('xiang', 17933), ('spectacular', 15104), ('ranges', 12917), ('bowler', 2119), ('nosedive', 11044), ('ishmael', 8457), ('houseful', 7758), ('rodney', 13717), ('verdict', 17230), ('masire', 9905), ('entices', 5446), ('clashed', 3063), ('skater', 14738), ('carley', 2596), ('thrills', 16252), ('dominates', 4807), ('soil', 14955), ('combating', 3268), ('sandee', 13970), ('either', 5173), ('ranching', 12908), ('coax', 3167), ('vets', 17251), ('rescues', 13380), ('felines', 6000), ('astrophes', 1195), ('slayer', 14795), ('postman', 12279), ('crusades', 3897), ('siege', 14632), ('ocasio', 11171), ('cortez', 3674), ('congress', 3469), ('culturally', 3945), ('insensitive', 8245), ('mit', 10405), ('astrophysics', 1197), ('capsule', 2547), ('quake', 12746), ('tutored', 16745), ('efsun', 5152), ('sinan', 14684), ('kodachrome', 8983), ('rohan', 13727), ('simran', 14674), ('koko', 8986), ('penny', 11829), ('patterson', 11753), ('taught', 15980), ('basic', 1550), ('invader', 8382), ('steamship', 15346), ('lustful', 9626), ('explorer', 5749), ('heyerdahl', 7514), ('sails', 13921), ('balsa', 1464), ('raft', 12839), ('2050', 155), ('owl', 11511), ('kopitiam', 9001), ('pork', 12234), ('koreans', 9005), ('persists', 11891), ('unforgiving', 16923), ('accepted', 317), ('dignity', 4540), ('snowplow', 14914), ('nils', 10964), ('norwegian', 11041), ('minstrels', 10328), ('folktales', 6297), ('rajasthan', 12875), ('artisan', 1098), ('payment', 11777), ('bihar', 1815), ('assigns', 1162), ('parrot', 11679), ('bengal', 1719), ('crocodile', 3854), ('foolishness', 6315), ('inconsiderate', 8083), ('courtiers', 3725), ('krisha', 9020), ('thanksgiving', 16159), ('grudges', 7103), ('addictions', 405), ('girlfriends', 6816), ('confused', 3461), ('indecisiveness', 8097), ('balaram', 1443), ('vrindavan', 17418), ('opting', 11334), ('coed', 3187), ('justine', 8761), ('handful', 7250), ('delay', 4269), ('hut', 7850), ('stripper', 15501), ('alcoholics', 630), ('per', 11842), ('grocer', 7076), ('heroism', 7506), ('frogs', 6504), ('scorpions', 14139), ('spiders', 15130), ('amphibians', 783), ('darel', 4079), ('kulipari', 9033), ('formally', 6367), ('clad', 3047), ('axe', 1360), ('shortsighted', 14570), ('magoo', 9705), ('mutants', 10685), ('preparations', 12364), ('feast', 5969), ('mismatched', 10377), ('archaeologists', 997), ('tibetan', 16283), ('youngsters', 18013), ('antique', 902), ('suburbs', 15584), ('tetsuya', 16137), ('kuroko', 9041), ('seirin', 14256), ('samurai', 13962), ('nirvana', 10976), ('kygo', 9051), ('venue', 17225), ('renders', 13300), ('incapable', 8062), ('aishwarya', 592), ('rai', 12851), ('vivek', 17377), ('oberoi', 11135), ('diya', 4752), ('coorg', 3629), ('interfering', 8316), ('léa', 9645), ('camille', 2493), ('notion', 11066), ('timely', 16316), ('ritchie', 13640), ('valens', 17142), ('depicted', 4342), ('hostages', 7737), ('manipulates', 9797), ('duration', 5027), ('altagracia', 716), ('elegant', 5198), ('1821', 32), ('spouse', 15199), ('mago', 9704), ('awes', 1351), ('bystanders', 2421), ('reminiscing', 13287), ('guo', 7164), ('xuehu', 17938), ('línea', 9648), ('toting', 16432), ('feared', 5962), ('desperado', 4401), ('guerrilla', 7126), ('reintegrates', 13209), ('estevan', 5562), ('oriol', 11381), ('mister', 10396), ('impacting', 7998), ('yolanda', 17996), ('reimagined', 13200), ('besets', 1749), ('aristocracy', 1037), ('teresa', 16095), ('mendoza', 10124), ('perceived', 11844), ('conquering', 3489), ('inevitably', 8141), ('griselda', 7067), ('blanco', 1906), ('governs', 6949), ('rajesh', 12876), ('explode', 5738), ('ratu', 12964), ('deepika', 4217), ('kumari', 9035), ('rose', 13783), ('archer', 1002), ('prashasti', 12327), ('kaneez', 8795), ('surka', 15721), ('supriya', 15706), ('niveditha', 10981), ('prakasam', 12317), ('barred', 1530), ('potentially', 12287), ('dirt', 4578), ('expect', 5708), ('bamford', 1468), ('nymph', 11122), ('marquis', 9873), ('kort', 9008), ('allie', 681), ('tabares', 15857), ('plucked', 12134), ('laerte', 9080), ('coutinho', 3732), ('cartoonists', 2634), ('1890s', 45), ('harshly', 7324), ('taxed', 15984), ('champaner', 2779), ('mooching', 10511), ('pat', 11726), ('carries', 2619), ('reenlists', 13134), ('apathy', 926), ('hoxley', 7777), ('seducing', 14227), ('enterprise', 5433), ('gambit', 6637), ('git', 6819), ('swampy', 15769), ('walmart', 17469), ('worms', 17863), ('grate', 7006), ('tropical', 16661), ('larva', 9145), ('fantásticas', 5901), ('diver', 4732), ('floor', 6250), ('ncaa', 10818), ('fertile', 6035), ('recruiting', 13106), ('flags', 6180), ('mankind', 9805), ('lau', 9164), ('ecological', 5104), ('being', 1669), ('edicts', 5119), ('tempting', 16066), ('acquaintances', 360), ('injuries', 8215), ('yankees', 17953), ('pitcher', 12055), ('chien', 2925), ('majors', 9729), ('squirrel', 15241), ('lavell', 9184), ('orpheum', 11392), ('raking', 12880), ('vagaries', 17137), ('bootlegging', 2066), ('bondurant', 2035), ('prohibition', 12530), ('wrapping', 17883), ('repeated', 13333), ('islam', 8462), ('blackmailing', 1888), ('karim', 8816), ('benzema', 1730), ('retraces', 13483), ('demo', 4307), ('scientology', 14121), ('accounts', 338), ('leah', 9222), ('remini', 13283), ('anna', 866), ('chooses', 2974), ('february', 5978), ('29', 173), ('innkeeper', 8226), ('evaluate', 5590), ('félicie', 6587), ('1880s', 41), ('quigley', 12784), ('tad', 15876), ('jumbles', 8738), ('transport', 16553), ('axel', 1361), ('leapfrog', 9228), ('numberland', 11096), ('alligator', 684), ('sounding', 15035), ('vowels', 17409), ('geared', 6698), ('contacts', 3538), ('enlisting', 5402), ('feet', 5992), ('bloodline', 1946), ('mikaelson', 10253), ('innate', 8224), ('ronnie', 13761), ('kray', 9017), ('elude', 5240), ('transfixing', 16533), ('soren', 15021), ('barn', 1526), ('accomplices', 331), ('relic', 13248), ('winged', 17745), ('humanoids', 7804), ('leo', 9289), ('teodora', 16092), ('alebrije', 634), ('lei', 9272), ('ying', 17987), ('tieh', 16297), ('hon', 7665), ('ti', 16279), ('tan', 15933), ('yunnan', 18031), ('redefined', 13115), ('messiah', 10175), ('superman', 15668), ('disappearing', 4591), ('caper', 2537), ('amulet', 791), ('elvendale', 5246), ('heartlake', 7419), ('petacular', 11911), ('missteps', 10390), ('billund', 1832), ('130', 14), ('lego', 9266), ('bricks', 2209), ('awe', 1350), ('jurassic', 8754), ('velociraptor', 17206), ('rugged', 13826), ('behaviorist', 1664), ('ultron', 16806), ('avengers', 1318), ('killmonger', 8908), ('klaue', 8956), ('panther', 11615), ('vibranium', 17256), ('ravagers', 12970), ('ninjago', 10971), ('quests', 12775), ('zane', 18044), ('elemental', 5199), ('spinjitzu', 15141), ('yang', 17951), ('boomtown', 2059), ('awesomeness', 1353), ('loki', 9482), ('amassing', 746), ('segregates', 14251), ('skirts', 14765), ('lenox', 9287), ('dedication', 4206), ('webcams', 17567), ('voyeurism', 17415), ('leopard', 9295), ('tig', 16300), ('eschewing', 5537), ('lions', 9400), ('vegetarian', 17197), ('shun', 14602), ('les', 9299), ('bleus', 1919), ('mirrored', 10347), ('seduce', 14224), ('apnea', 931), ('joyfully', 8705), ('priests', 12431), ('dunblane', 5011), ('newtown', 10922), ('connecticut', 3477), ('occurred', 11181), ('snowstorm', 14915), ('affecting', 505), ('scars', 14070), ('shall', 14423), ('residing', 13406), ('levius', 9319), ('mecnun', 10035), ('newborns', 10906), ('manuscript', 9823), ('closet', 3134), ('unannounced', 16814), ('elects', 5197), ('rumor', 13845), ('disobeys', 4669), ('elders', 5182), ('riggers', 13600), ('beau', 1620), ('log', 9473), ('dramatically', 4909), ('consumed', 3533), ('overjoyed', 11480), ('comers', 3285), ('neediest', 10835), ('intermingling', 8320), ('bias', 1791), ('bail', 1426), ('casteism', 2656), ('bbc', 1591), ('sequences', 14331), ('hundreds', 7820), ('refugee', 13156), ('withdraw', 17785), ('uncertainties', 16834), ('resignation', 13407), ('cured', 3962), ('abbott', 250), ('habitats', 7195), ('shapeshifter', 14443), ('speeds', 15114), ('mortality', 10550), ('johnnie', 8651), ('firefighting', 6137), ('dilemmas', 4547), ('shatters', 14466), ('enjoys', 5397), ('blessings', 1918), ('advertising', 483), ('caribbean', 2590), ('tita', 16338), ('peep', 11811), ('attracted', 1249), ('initiate', 8209), ('kicking', 8889), ('testifying', 16130), ('tagliano', 15881), ('limmy', 9383), ('limond', 9384), ('headlines', 7389), ('costumed', 3687), ('falconhoof', 5863), ('spielberg', 15132), ('towering', 16461), ('abraham', 282), ('lincoln', 9385), ('stewardship', 15383), ('erased', 5502), ('triads', 16611), ('antiques', 903), ('appraiser', 960), ('tamer', 15926), ('adaeze', 390), ('liss', 9410), ('pereira', 11851), ('uncomfortable', 16840), ('triggering', 16634), ('senses', 14306), ('steering', 15351), ('quincy', 12787), ('compilation', 3357), ('peppy', 11841), ('bumps', 2342), ('twinkle', 16757), ('jacus', 8507), ('rhyme', 13554), ('adopting', 442), ('snack', 14874), ('mrs', 10619), ('gonsha', 6909), ('primary', 12434), ('traditionally', 16493), ('sumo', 15640), ('hiyori', 7607), ('revolutionize', 13537), ('nicky', 10937), ('oust', 11418), ('rohit', 13728), ('shetty', 14497), ('singham', 14695), ('kaal', 8769), ('vilest', 17304), ('chikki', 2928), ('bandarpur', 1475), ('kohinoor', 8985), ('badder', 1409), ('abductions', 257), ('mirchi', 10340), ('nagar', 10723), ('mirchigadh', 10341), ('goth', 6940), ('iraq', 8432), ('cohabiting', 3199), ('akko', 605), ('nova', 11074), ('attitude', 1244), ('tucket', 16700), ('liv', 9426), ('wisconsin', 17767), ('busiest', 2388), ('keepers', 8853), ('orderly', 11359), ('emilio', 5287), ('martínez', 9892), ('pushed', 12715), ('cardiac', 2569), ('divide', 4738), ('mentored', 10134), ('spa', 15056), ('replaced', 13339), ('lizzie', 9438), ('borden', 2072), ('1892', 46), ('axing', 1362), ('llama', 9440), ('sorrows', 15024), ('unanswered', 16815), ('asunta', 1200), ('basterra', 1558), ('porto', 12246), ('aguazul', 555), ('montserrat', 10507), ('wily', 17729), ('millionaires', 10286), ('butter', 2405), ('benefactor', 1713), ('bundle', 2346), ('shiftless', 14505), ('lads', 9077), ('ivan', 8488), ('locke', 9462), ('keys', 8880), ('manipulated', 9796), ('embezzling', 5268), ('caucasian', 2693), ('lowborn', 9572), ('criminality', 3827), ('hiking', 7552), ('wall', 17462), ('23rd', 165), ('domed', 4800), ('exist', 5687), ('pleasures', 12122), ('stefan', 15353), ('grab', 6952), ('motive', 10579), ('hedonist', 7438), ('catalan', 2670), ('wyoming', 17926), ('rebuilding', 13036), ('johny', 8654), ('preschooler', 12372), ('croupier', 3874), ('70', 215), ('lorena', 9527), ('ramírez', 12903), ('rarámuri', 12946), ('pastoral', 11723), ('straps', 15459), ('sandals', 13969), ('ultramarathon', 16805), ('capusotto', 2562), ('recurring', 13109), ('spurred', 15221), ('boredom', 2077), ('intersecting', 8340), ('chapultepec', 2809), ('testimonies', 16131), ('norteño', 11034), ('tigres', 16307), ('norte', 11033), ('folsom', 6305), ('coxless', 3749), ('rowed', 13809), ('charities', 2822), ('songwriters', 15000), ('profession', 12504), ('containing', 3542), ('succubus', 15593), ('sustains', 15761), ('feeding', 5987), ('okon', 11247), ('bona', 2030), ('selected', 14265), ('robinson', 13688), ('neunatia', 10892), ('loudon', 9550), ('wainwright', 17439), ('iii', 7936), ('milwaukee', 10290), ('rats', 12960), ('mickey', 10221), ('natured', 10798), ('gus', 7169), ('agonies', 549), ('radically', 12827), ('biotech', 1847), ('consultant', 3529), ('flirty', 6241), ('societal', 14934), ('alerts', 638), ('vicinity', 17262), ('jojo', 8661), ('adversities', 480), ('wako', 17451), ('yumeaki', 18028), ('starlet', 15299), ('overcrowded', 11472), ('ballpark', 1458), ('outgoing', 11430), ('poetry', 12156), ('taiwanese', 15895), ('shelby', 14482), ('vegan', 17194), ('45', 195), ('ican', 7882), ('enacts', 5329), ('ban', 1469), ('indoors', 8123), ('core', 3647), ('facilitating', 5826), ('cherie', 2898), ('saleswoman', 13940), ('christmastime', 2997), ('selective', 14268), ('perception', 11845), ('prescribed', 12375), ('psychotherapist', 12642), ('toprak', 16403), ('yusuf', 18035), ('motherless', 10570), ('adoring', 453), ('governor', 6948), ('assert', 1155), ('shutterbug', 14607), ('fearing', 5963), ('ömer', 18118), ('aysem', 1367), ('seductress', 14230), ('faithful', 5856), ('inclined', 8074), ('diametrically', 4494), ('opposed', 11320), ('morbid', 10531), ('yiru', 17988), ('stud', 15522), ('rut', 13869), ('agenda', 539), ('charlatan', 2825), ('individually', 8115), ('sanjay', 13983), ('karina', 8818), ('scuttle', 14183), ('tempered', 16056), ('horticulturist', 7727), ('titchmarsh', 16341), ('uplifting', 17073), ('planting', 12091), ('deserving', 4386), ('yuta', 18036), ('weirdo', 17599), ('rikka', 13607), ('delusions', 4294), ('nsfw', 11083), ('presented', 12378), ('fincher', 6117), ('sue', 15602), ('guarantees', 7115), ('lasting', 9150), ('vlogger', 17381), ('separating', 14325), ('mindy', 10302), ('beachside', 1597), ('1958', 84), ('mildred', 10265), ('feverish', 6050), ('depressing', 4353), ('lu', 9584), ('deion', 4261), ('luccas', 9589), ('gi', 6782), ('heading', 7387), ('gymkhana', 7181), ('lucha', 9590), ('luciana', 9591), ('aymar', 1364), ('luciano', 9592), ('mellera', 10097), ('emphasizes', 5304), ('lovesick', 9568), ('luckee', 9596), ('satisfying', 14012), ('hormones', 7711), ('lucknow', 9598), ('laidback', 9087), ('ren', 13296), ('petersburg', 11915), ('aditya', 420), ('resurfaced', 13455), ('suitcase', 15622), ('riff', 13593), ('anywhere', 917), ('captivated', 2551), ('cohabitate', 3197), ('chest', 2903), ('petunia', 11924), ('amazia', 749), ('scrapbook', 14157), ('obscene', 11149), ('march', 9838), ('dreamlike', 4932), ('arsène', 1084), ('lupin', 9615), ('assane', 1142), ('diop', 4566), ('inflicted', 8174), ('jigen', 8611), ('goemon', 6891), ('cagliostro', 2446), ('detour', 4442), ('nations', 10788), ('2013', 143), ('talkies', 15918), ('gangland', 6654), ('khurana', 8886), ('lynne', 9641), ('koplitz', 9002), ('childlessness', 2934), ('layers', 9204), ('1927', 63), ('rainey', 12864), ('recording', 13088), ('session', 14362), ('viola', 17323), ('denzel', 4332), ('wolfe', 17807), ('devin', 4465), ('overstreet', 11496), ('valedictorian', 17141), ('mac', 9650), ('relocating', 13262), ('machete', 9656), ('pretended', 12406), ('mode', 10440), ('exposure', 5764), ('retaliation', 13467), ('janitorial', 8537), ('conspires', 3517), ('pilfer', 12014), ('scheduled', 14084), ('cherry', 2901), ('trailers', 16508), ('poster', 12277), ('47', 196), ('oldies', 11255), ('spattered', 15088), ('stockbroker', 15404), ('bipolar', 1850), ('cramped', 3770), ('bridge', 2213), ('strands', 15451), ('sadly', 13902), ('subsequent', 15574), ('supplier', 15689), ('aphrodisiac', 929), ('stimulating', 15392), ('socialites', 14932), ('opulent', 11338), ('lagaan', 9081), ('millennium', 10282), ('satyajit', 14017), ('bhatkal', 1784), ('resolute', 13415), ('nanny', 10744), ('intentions', 8303), ('originally', 11377), ('everlasting', 5610), ('magi', 9691), ('seas', 14198), ('started', 15308), ('dungeon', 5014), ('aladdin', 609), ('alibaba', 656), ('orchestrating', 11351), ('willman', 17721), ('cellphone', 2729), ('protector', 12588), ('itself', 8486), ('intervention', 8351), ('warps', 17510), ('magnus', 9703), ('carlsen', 2599), ('reinterpretation', 13210), ('ranjit', 12921), ('establishing', 5557), ('nerd', 10872), ('aryan', 1109), ('impressing', 8037), ('worried', 17865), ('mahi', 9709), ('tame', 15925), ('mahjong', 9712), ('council', 3691), ('misaki', 10352), ('prasad', 12326), ('sharma', 14455), ('milaap', 10259), ('fruition', 6516), ('usher', 17115), ('raghavan', 12844), ('weds', 17578), ('mismatch', 10376), ('lying', 9636), ('orthopedic', 11395), ('samir', 13957), ('conjure', 3471), ('chances', 2787), ('exoneree', 5695), ('witcher', 17782), ('jaskier', 8543), ('authentically', 1284), ('portray', 12249), ('hasidic', 7336), ('pertain', 11903), ('h2o', 7188), ('merman', 10162), ('mako', 9742), ('mobsters', 10431), ('wailing', 17437), ('prayers', 12328), ('autopilot', 1302), ('discontent', 4618), ('thorns', 16230), ('crony', 3857), ('nativist', 10791), ('espouses', 5548), ('abortion', 276), ('ok', 11245), ('very', 17244), ('lifeguard', 9351), ('malibu', 9760), ('flounder', 6259), ('beachmaster', 1596), ('weaving', 17564), ('motherly', 10571), ('characteristics', 2811), ('childish', 2933), ('idiot', 7913), ('mobeen', 10425), ('beijing', 1668), ('pandering', 11604), ('grylls', 7110), ('leone', 9293), ('flagrant', 6179), ('sanctimonious', 13965), ('madam', 9666), ('brothel', 2266), ('assistance', 1165), ('dementia', 4303), ('mulsim', 10637), ('vile', 17303), ('heroics', 7503), ('jewell', 8600), ('foiled', 6290), ('horoscope', 7713), ('bode', 1994), ('reevaluated', 13138), ('scathing', 14072), ('screenwriter', 14169), ('herman', 7497), ('mankiewicz', 9804), ('finish', 6126), ('talker', 15916), ('hinders', 7569), ('manolo', 9810), ('blahnik', 1898), ('speaks', 15093), ('chime', 2947), ('1800s', 29), ('circumstance', 3030), ('pleasant', 12119), ('indo', 8117), ('saadat', 13884), ('manto', 9816), ('censors', 2735), ('sadaat', 13896), ('culminate', 3936), ('partitioning', 11694), ('subcontinent', 15560), ('abstract', 292), ('rightful', 13603), ('burial', 2369), ('revolving', 13540), ('savage', 14023), ('greenhouses', 7028), ('maradona', 9829), ('culiacán', 3932), ('sinaloa', 14683), ('dorados', 4841), ('thefts', 16171), ('heists', 7458), ('marc', 9836), ('maron', 9871), ('swamp', 15768), ('vitamin', 17370), ('hustlers', 7847), ('evangelicals', 5593), ('investigated', 8399), ('shogi', 14546), ('marching', 9839), ('memorize', 10114), ('tend', 16075), ('slay', 14794), ('marco', 9840), ('luque', 9616), ('polo', 12197), ('kublai', 9028), ('chains', 2760), ('earns', 5074), ('alleys', 678), ('theaters', 16166), ('mariah', 9848), ('carey', 2588), ('plagues', 12078), ('mariusz', 9862), ('kałamaga', 8849), ('kopiec', 9000), ('wiolka', 17759), ('walaszczyk', 17452), ('gatiss', 6689), ('mycroft', 10693), ('benedict', 1712), ('cumberbatch', 3948), ('freeman', 6456), ('friendliest', 6486), ('levelheaded', 9316), ('rollicking', 13738), ('marlon', 9870), ('wayans', 17544), ('kardashians', 8811), ('saurabh', 14021), ('accidental', 322), ('noah', 10986), ('baumbach', 1585), ('compatibility', 3345), ('spacecraft', 15058), ('2033', 153), ('colonize', 3245), ('marseille', 9884), ('reins', 13207), ('zhi', 18077), ('lawrence', 9194), ('95', 230), ('theses', 16194), ('quebecois', 12763), ('matte', 9948), ('dowry', 4882), ('victimized', 17265), ('abusers', 300), ('logan', 9474), ('dissolution', 4705), ('assembled', 1152), ('xavier', 17929), ('ymir', 17989), ('phil', 11936), ('coulson', 3690), ('blinded', 1923), ('matt', 9947), ('murdock', 10664), ('rand', 12909), ('presumed', 12403), ('gamma', 6648), ('reactor', 12987), ('tormentor', 16414), ('hoodie', 7681), ('unbreakable', 16829), ('punish', 12680), ('endor', 5356), ('foremost', 6346), ('rice', 13568), ('objections', 11140), ('retail', 13460), ('portas', 12242), ('collaborates', 3213), ('complained', 3358), ('about', 279), ('stores', 15427), ('neena', 10839), ('masaba', 9899), ('gupta', 7165), ('shifts', 14506), ('arabia', 981), ('suits', 15625), ('mascot', 9901), ('masha', 9904), ('thunder', 16270), ('retells', 13470), ('tends', 16079), ('jumbled', 8737), ('irani', 8430), ('borne', 2081), ('needing', 10836), ('bargains', 1520), ('ledger', 9249), ('dev', 4446), ('elevate', 5205), ('abandon', 242), ('direct', 4570), ('collision', 3236), ('intriguing', 8369), ('30s', 177), ('staunch', 15332), ('expects', 5715), ('uphold', 17071), ('possessive', 12269), ('overindulged', 11479), ('mau', 9956), ('nieto', 10943), ('sober', 14925), ('maurício', 9962), ('meirelles', 10086), ('scathingly', 14073), ('prejudices', 12354), ('turtles', 16739), ('unfaithful', 16909), ('messaging', 10171), ('mute', 10687), ('excess', 5655), ('inability', 8058), ('distrust', 4717), ('angelou', 842), ('illustrating', 7959), ('appetite', 949), ('mayday', 9976), ('summoned', 15637), ('detests', 4437), ('maynard', 9979), ('maz', 9984), ('jobrani', 8635), ('pump', 12672), ('keyboardist', 8878), ('anda', 814), ('bares', 1517), ('pariah', 11661), ('hoodlum', 7682), ('inveterate', 8411), ('rinella', 13613), ('scrounges', 14175), ('wildest', 17704), ('unscripted', 17012), ('ducks', 4992), ('deer', 4219), ('merited', 10155), ('awarding', 1347), ('maestro', 9683), ('spratt', 15202), ('childrens', 2937), ('cdc', 2710), ('cosimo', 3677), ('medici', 10049), ('15th', 21), ('florence', 6253), ('steers', 15352), ('convergence', 3599), ('ensures', 5423), ('annihilation', 870), ('instill', 8271), ('pushback', 12714), ('enterprises', 5434), ('ashita', 1118), ('mechanized', 10034), ('megalo', 10072), ('boxers', 2124), ('supremacy', 15702), ('rig', 13598), ('haul', 7355), ('loads', 9443), ('bengali', 1720), ('cassette', 2650), ('performer', 11862), ('pastry', 11724), ('bake', 1432), ('melvin', 10103), ('conversation', 3600), ('disclose', 4614), ('blogs', 1942), ('augmented', 1269), ('hostel', 7739), ('memorization', 10113), ('recipient', 13058), ('extraterrestrials', 5791), ('reprise', 13360), ('unofficial', 16980), ('civilian', 3041), ('voyage', 17413), ('heperi', 7486), ('mita', 10406), ('maori', 9826), ('merata', 10139), ('caledonia', 2460), ('soane', 14920), ('spaceflight', 15059), ('surfaces', 15711), ('hiralal', 7576), ('tiwari', 16348), ('gravely', 7009), ('treks', 16599), ('owning', 11518), ('pupils', 12690), ('oriented', 11374), ('merlin', 10159), ('arriving', 1075), ('camelot', 2488), ('vigilante', 17293), ('blackmailed', 1887), ('richest', 13573), ('abuja', 296), ('concealing', 3394), ('lowlifes', 9574), ('elites', 5221), ('metallica', 10182), ('roadie', 13663), ('errand', 5514), ('checking', 2875), ('shancai', 14430), ('achievers', 353), ('disgusted', 4647), ('snatchers', 14889), ('chennai', 2896), ('stamina', 15275), ('angelino', 841), ('meat', 10026), ('shivaji', 14535), ('medieval', 10051), ('pearce', 11793), ('scapegoat', 14058), ('spycraft', 15225), ('sleeve', 14810), ('unicorns', 16936), ('panthea', 11614), ('menial', 10126), ('75', 219), ('bolton', 2019), ('telethon', 16043), ('homophobia', 7663), ('benjie', 1725), ('nycum', 11120), ('mcintyre', 10003), ('buteau', 2402), ('dazzles', 4121), ('adore', 450), ('massages', 9913), ('childbirth', 2931), ('otters', 11413), ('billing', 1827), ('rafe', 12837), ('handbook', 7247), ('middleditch', 10228), ('schwartz', 14113), ('epically', 5476), ('listeners', 9413), ('syndicated', 15840), ('backstreets', 1400), ('shinjuku', 14517), ('theirs', 16173), ('patrons', 11749), ('particular', 11690), ('mallika', 9765), ('dua', 4986), ('shalishka', 14422), ('whips', 17657), ('meal', 10014), ('youngster', 18012), ('fanatics', 5885), ('express', 5767), ('welcomes', 17604), ('tracksville', 16482), ('boundless', 2111), ('decorating', 4198), ('devouring', 4477), ('spraying', 15204), ('holi', 7631), ('townspeople', 16465), ('makar', 9732), ('sankranti', 13986), ('zedd', 18058), ('repulsa', 13368), ('raju', 12879), ('capoeira', 2540), ('birbiglia', 1852), ('riotous', 13620), ('culled', 3934), ('epps', 5485), ('unapologetically', 16817), ('misconduct', 10357), ('ed', 5111), ('campaigner', 2497), ('milada', 10260), ('horáková', 7729), ('czechoslovakia', 4018), ('communist', 3332), ('asset', 1158), ('mythology', 10709), ('40s', 190), ('steamy', 15347), ('sean', 14193), ('penn', 11825), ('milk', 10276), ('supervisor', 15687), ('1978', 104), ('adulting', 465), ('unemployment', 16900), ('listings', 9416), ('hamptons', 7242), ('restaurateurs', 13442), ('eateries', 5090), ('discerning', 4608), ('investors', 8410), ('unsuccessful', 17025), ('monthly', 10504), ('sum', 15631), ('foretell', 6353), ('paralegal', 11634), ('uneasily', 16895), ('stepping', 15367), ('methane', 10190), ('miners', 10307), ('minecraft', 10304), ('wisely', 17772), ('defenseless', 4233), ('zenos', 18067), ('interviewed', 8353), ('virtues', 17346), ('olympian', 11267), ('apolo', 936), ('anton', 908), ('ohno', 11242), ('completing', 3362), ('disability', 4582), ('noir', 10997), ('continuum', 3571), ('glitch', 6847), ('vera', 17227), ('displaces', 4687), ('kun', 9037), ('colleen', 3231), ('ballinger', 1454), ('magichinry', 9695), ('grimm', 7059), ('skinned', 14759), ('dwarves', 5042), ('ged', 6701), ('strategies', 15462), ('sleeping', 14804), ('passenger', 11707), ('drunk', 4981), ('posts', 12280), ('netherlands', 10886), ('singled', 14698), ('tentative', 16090), ('aren', 1023), ('harnessing', 7313), ('ditching', 4725), ('valentina', 17143), ('ei', 5165), ('tetsuzo', 16138), ('hokusai', 7622), ('woodblock', 17830), ('prints', 12450), ('edo', 5130), ('quirk', 12791), ('disapproval', 4594), ('sexism', 14392), ('tea', 15989), ('dials', 4493), ('1890', 44), ('aristocrats', 1040), ('coaxes', 3168), ('valet', 17145), ('towel', 16459), ('patissier', 11743), ('gloomy', 6861), ('easygoing', 5088), ('mainstream', 9722), ('disparaging', 4675), ('portrayals', 12251), ('contribute', 3581), ('under', 16854), ('females', 6011), ('positions', 12261), ('resolving', 13418), ('si', 14613), ('yi', 17981), ('interfere', 8315), ('pancreatic', 11600), ('intact', 8289), ('oceanographer', 11189), ('sylvia', 15830), ('earle', 5066), ('overfishing', 11475), ('command', 3296), ('squadron', 15230), ('cardsharp', 2573), ('mitt', 10411), ('romney', 13756), ('bites', 1869), ('mo', 10422), ('amer', 764), ('mohammed', 10459), ('dynamics', 5051), ('gathering', 6687), ('espers', 5545), ('banagher', 1470), ('burne', 2374), ('gundam', 7153), ('colony', 3248), ('terraformed', 16102), ('allergy', 675), ('invisible', 8414), ('firsts', 6149), ('moesha', 10453), ('occasional', 11173), ('investing', 8407), ('flexible', 6221), ('1812', 31), ('pursued', 12706), ('thirsting', 16214), ('mohenjo', 10462), ('daro', 4091), ('chick', 2919), ('pastel', 11720), ('molly', 10470), ('bloom', 1953), ('lofty', 9472), ('stepdaughter', 15361), ('furious', 6567), ('perpetrators', 11879), ('walked', 17456), ('salon', 13945), ('holding', 7626), ('promote', 12543), ('1953', 83), ('wellesley', 17609), ('measured', 10023), ('quo', 12799), ('maría', 9898), ('tequila', 16094), ('craftspeople', 3767), ('garbage', 6661), ('dump', 5007), ('hatchett', 7345), ('asım', 1202), ('noyan', 11082), ('draka', 4904), ('zoologist', 18102), ('mcgavin', 9997), ('behaviors', 1665), ('primates', 12435), ('khon', 8885), ('lazy', 9210), ('dim', 4552), ('festive', 6042), ('clawdeen', 3082), ('howleen', 7774), ('fangtastic', 5892), ('gala', 6614), ('comet', 3287), ('nefera', 10842), ('normies', 11029), ('moanica', 10423), ('lagoona', 9082), ('stein', 15355), ('skulltimate', 14771), ('clawd', 3081), ('deuce', 4445), ('afoot', 522), ('administrators', 429), ('merger', 10154), ('draculaura', 4892), ('whisked', 17659), ('frightfully', 6494), ('flaws', 6207), ('frenemy', 6468), ('spectra', 15107), ('vondergeist', 17403), ('spookery', 15184), ('ghoul', 6778), ('nile', 10963), ('roost', 13775), ('scaris', 14066), ('screams', 14164), ('ghoulfriends', 6779), ('suspicions', 15757), ('un', 16808), ('beating', 1616), ('vacant', 17130), ('goo', 6911), ('thumbs', 16269), ('temp', 16051), ('platoon', 12098), ('tentacled', 16089), ('imitates', 7977), ('chiyo', 2962), ('dig', 4534), ('conceptions', 3401), ('horticultural', 7726), ('hideaways', 7524), ('luxurious', 9633), ('botanical', 2091), ('supremely', 15704), ('terry', 16122), ('gilliam', 6804), ('hiatus', 7516), ('tickled', 16288), ('ribs', 13563), ('pythons', 12732), ('phonetic', 11957), ('accent', 312), ('timing', 16321), ('penchant', 11817), ('dressing', 4940), ('judea', 8715), ('zealots', 18055), ('monzón', 10510), ('alicia', 658), ('muñiz', 10692), ('sarang', 13995), ('astronaut', 1189), ('railway', 12859), ('estrangement', 5564), ('mila', 10258), ('morphle', 10544), ('heidelberg', 7446), ('mortified', 10554), ('chaturthi', 2857), ('moshe', 10558), ('kasher', 8828), ('oakland', 11129), ('uproarious', 17084), ('bossa', 2086), ('transitioned', 16546), ('mosul', 10566), ('erratic', 5516), ('awaken', 1339), ('distorted', 4711), ('towards', 16458), ('returnee', 13496), ('bhopal', 1788), ('solely', 14964), ('associated', 1170), ('fraudulent', 6440), ('ashram', 1122), ('paintbrush', 11566), ('motu', 10592), ('patlu', 11744), ('breathtaking', 2189), ('imagery', 7964), ('narration', 10762), ('viewers', 17291), ('summits', 15635), ('choreographers', 2980), ('shaping', 14444), ('popping', 12223), ('collage', 3216), ('fried', 6481), ('louie', 9551), ('schwartzberg', 14114), ('flowers', 6266), ('melissa', 10095), ('chan', 2785), ('cabdriver', 2428), ('temporary', 16061), ('redefines', 13116), ('longfellow', 9499), ('bigwig', 1814), ('pounce', 12291), ('underperforming', 16869), ('mater', 9930), ('bullwinkle', 2332), ('peabody', 11784), ('sherman', 14495), ('foreclosure', 6341), ('hog', 7618), ('1871', 40), ('shinmiyangyo', 14518), ('noblewoman', 10992), ('feng', 6022), ('shui', 14601), ('warning', 17505), ('fallen', 5866), ('gym', 7180), ('graduates', 6968), ('asleep', 1132), ('unmarried', 16976), ('mercado', 10140), ('poignantly', 12159), ('mahir', 9710), ('mud', 10626), ('prejudice', 12353), ('specialist', 15098), ('costume', 3686), ('temper', 16052), ('pleas', 12118), ('mukhsin', 10635), ('tomboy', 16378), ('orked', 11382), ('inklings', 8220), ('begrudgingly', 1658), ('virgin', 17338), ('32', 178), ('bombings', 2026), ('healer', 7398), ('jassi', 8547), ('mune', 10650), ('successor', 15592), ('muppets', 10654), ('pandit', 11606), ('kant', 8800), ('breakdown', 2176), ('reconciliation', 13076), ('jingle', 8619), ('nanda', 10742), ('hitchhikes', 7600), ('rope', 13779), ('paired', 11574), ('sources', 15041), ('artfully', 1088), ('humboldt', 7808), ('hairdresser', 7211), ('plucks', 12135), ('main', 9719), ('cyntoia', 4014), ('physiology', 11975), ('spouses', 15200), ('gulf', 7146), ('fart', 5916), ('seamy', 14192), ('louder', 9548), ('fivers', 6169), ('nemeses', 10866), ('brando', 2153), ('nuanced', 11088), ('lt', 9583), ('fletcher', 6218), ('hms', 7610), ('mutiny', 10689), ('bligh', 1921), ('triggers', 16635), ('communal', 3324), ('uttar', 17127), ('beasties', 1610), ('regularly', 13187), ('stroke', 15505), ('relearns', 13235), ('impulse', 8051), ('kaul', 8844), ('blurred', 1976), ('swimmer', 15798), ('goryeo', 6936), ('proclaim', 12484), ('pessimistic', 11908), ('page', 11553), ('astronomer', 1191), ('relocated', 13260), ('cali', 2464), ('gio', 6813), ('between', 1772), ('commissioned', 3309), ('goebbels', 6890), ('georgian', 6754), ('announces', 875), ('humanlike', 7802), ('hologram', 7642), ('prickly', 12426), ('fumbles', 6545), ('assertive', 1156), ('straighten', 15443), ('sexiest', 14391), ('selfie', 14272), ('kumiko', 9036), ('rj', 13659), ('anmol', 864), ('successes', 15589), ('yearbook', 17963), ('sunset', 15655), ('shimmer', 14509), ('this', 16221), ('applejack', 951), ('sporting', 15188), ('counterparts', 3703), ('pony', 12210), ('everfree', 5608), ('pinkie', 12031), ('pie', 11994), ('rarity', 12945), ('fluttershy', 6272), ('vanishing', 17170), ('kinship', 8936), ('excursions', 5666), ('billions', 1830), ('kelp', 8859), ('twelve', 16750), ('manhood', 9789), ('pitches', 12056), ('amal', 737), ('authoritarian', 1286), ('cruelty', 3888), ('neglect', 10845), ('egotistic', 5160), ('refined', 13140), ('transferred', 16531), ('fistfights', 6162), ('stonewalled', 15417), ('theroux', 16193), ('nutritionist', 11118), ('slept', 14813), ('introvert', 8375), ('cheery', 2884), ('extrovert', 5799), ('sued', 15603), ('emancipation', 5255), ('hypnosis', 7868), ('ramez', 12892), ('fawns', 5956), ('ironworks', 8444), ('possibly', 12273), ('bossman', 2088), ('declaring', 4193), ('archie', 1005), ('videotapes', 17278), ('reactions', 12985), ('junkies', 8751), ('riley', 13610), ('infatuation', 8156), ('eid', 5168), ('ayvalık', 1370), ('astray', 1184), ('silvio', 14660), ('berlusconi', 1742), ('putin', 12721), ('marilyn', 9854), ('frivolity', 6500), ('leaning', 9225), ('castanhari', 2654), ('marvels', 9894), ('facts', 5835), ('joel', 8643), ('commentary', 3303), ('mst3k', 10621), ('jonah', 8671), ('survives', 15742), ('blitz', 1933), ('cheesy', 2886), ('collar', 3219), ('parlor', 11672), ('resolves', 13417), ('mortician', 10553), ('listen', 9412), ('feigns', 5994), ('mythic', 10705), ('disguising', 4646), ('nadiya', 10722), ('hussain', 7844), ('delicious', 4278), ('shortcuts', 14567), ('favorites', 5952), ('naked', 10736), ('gurus', 7168), ('transcending', 16528), ('bakers', 1434), ('edible', 5118), ('masterpieces', 9922), ('dessert', 4408), ('euro', 5580), ('nailed', 10729), ('desserts', 4409), ('delightfully', 4281), ('fondant', 6307), ('duplicating', 5022), ('trophy', 16660), ('botswana', 2100), ('loyally', 9578), ('bellboy', 1686), ('dismay', 4664), ('jasmeet', 8544), ('malhotra', 9758), ('western', 17626), ('arranges', 1065), ('ballu', 1461), ('bassem', 1555), ('motivation', 10576), ('fractious', 6407), ('naomi', 10748), ('ely', 5248), ('setback', 14365), ('infamously', 8147), ('fuels', 6528), ('narcos', 10755), ('guadalajara', 7111), ('outwit', 11460), ('naruto', 10768), ('konohagakure', 8995), ('sasuke', 14004), ('raikage', 12856), ('hozuki', 7779), ('uzumaki', 17129), ('priestess', 12429), ('nin', 10967), ('ambushed', 761), ('temujin', 16069), ('exuberant', 5800), ('sakura', 13928), ('kakashi', 8782), ('crescent', 3816), ('natalia', 10776), ('oreiro', 11365), ('fuses', 6575), ('irreverence', 8450), ('reproductive', 13363), ('respecting', 13427), ('valdebenito', 17140), ('teatro', 16008), ('caupolicán', 2695), ('irony', 8445), ('natalie', 10777), ('palamides', 11584), ('consent', 3500), ('viennese', 17283), ('basement', 1547), ('headline', 7388), ('ordering', 11358), ('microfilm', 10223), ('recipe', 13056), ('cookies', 3619), ('cannon', 2524), ('colt', 3258), ('by', 2416), ('luger', 9603), ('redford', 13120), ('stashed', 15315), ('shakespearean', 14418), ('ungrateful', 16928), ('fleeting', 6216), ('vitalyzdtv', 17369), ('roady', 13665), ('prankwood', 12324), ('attached', 1222), ('sneaky', 14894), ('orcas', 11345), ('owls', 11512), ('discovered', 4623), ('scans', 14057), ('patterns', 11752), ('significant', 14646), ('migrations', 10249), ('caribou', 2591), ('zebras', 18057), ('packham', 11541), ('geographical', 6746), ('reared', 13012), ('concentration', 3399), ('camps', 2503), ('buchenwald', 2295), ('ohrdruf', 11243), ('eisenhower', 5172), ('hardware', 7299), ('defenses', 4234), ('fortifications', 6378), ('boats', 1987), ('missiles', 10382), ('ncis', 10819), ('naval', 10802), ('mandate', 9778), ('zha', 18073), ('imperil', 8008), ('baring', 1523), ('neal', 10822), ('brennan', 2197), ('rapist', 12935), ('evades', 5588), ('unnerving', 16979), ('kaz', 8848), ('kaan', 8770), ('yokio', 17994), ('ikari', 7937), ('leftist', 9253), ('neruda', 10875), ('wills', 17724), ('unlike', 16968), ('rebounding', 13032), ('gabi', 6593), ('hookup', 7689), ('creeps', 3813), ('experienced', 5722), ('displayed', 4689), ('affected', 504), ('cris', 3836), ('mai', 9714), ('unearthing', 16892), ('reggaeton', 13171), ('scamming', 14051), ('viable', 17255), ('securing', 14220), ('juvenile', 8763), ('environmentalists', 5468), ('explosives', 5756), ('eco', 5103), ('lifts', 9363), ('veil', 17204), ('bats', 1574), ('crews', 3819), ('climbed', 3111), ('dived', 4731), ('froze', 6513), ('sunlit', 15651), ('trolling', 16654), ('telepath', 16040), ('rim', 13611), ('nightmarish', 10956), ('increased', 8086), ('landlords', 9118), ('exasperated', 5647), ('flanner', 6189), ('nikki', 10961), ('glaser', 6831), ('spare', 15071), ('mature', 9954), ('gravitates', 7012), ('ozunu', 11526), ('raizo', 12871), ('turtle', 16738), ('venus', 17226), ('milo', 10289), ('counterpart', 3702), ('alberto', 621), ('nisman', 10980), ('israelite', 8476), ('association', 1172), ('elixir', 5222), ('bequeathed', 1732), ('veterinary', 17250), ('sexist', 14393), ('sideways', 14629), ('sora', 15016), ('disboard', 4606), ('machina', 9657), ('skipping', 14763), ('lall', 9094), ('temptation', 16063), ('artemis', 1086), ('dynamo', 5052), ('straitjacketed', 15447), ('evie', 5621), ('crackpot', 3760), ('venice', 17217), ('upperclassmen', 17078), ('recluse', 13067), ('nurturing', 11113), ('intends', 8297), ('offline', 11231), ('hogan', 7619), ('gawker', 6693), ('critics', 3850), ('angelus', 844), ('destabilizes', 4410), ('susan', 15747), ('upending', 17065), ('toyland', 16469), ('noddy', 10994), ('wiser', 17773), ('8th', 224), ('mill', 10277), ('parson', 11682), ('hale', 7222), ('grappled', 6999), ('diaries', 4498), ('theologian', 16184), ('hull', 7796), ('impressionistic', 8040), ('descent', 4375), ('blindness', 1924), ('pops', 12227), ('biographical', 1840), ('evangelical', 5592), ('edir', 5122), ('macedo', 9655), ('avian', 1325), ('aptitude', 975), ('examples', 5645), ('parrots', 11680), ('astrophysicists', 1196), ('radiation', 12824), ('chariot', 2820), ('millennia', 10279), ('drilling', 4946), ('crater', 3778), ('asteroid', 1179), ('cassini', 2652), ('saturn', 14016), ('eclipse', 5102), ('storms', 15432), ('tusks', 16741), ('weaponry', 17556), ('expeditions', 5717), ('skeleton', 14742), ('lithuania', 9422), ('dug', 5002), ('floods', 6249), ('predict', 12342), ('lengthy', 9284), ('correct', 3664), ('forecasting', 6340), ('flourishing', 6263), ('predictions', 12345), ('statistics', 15327), ('algorithms', 652), ('reliability', 13245), ('armorer', 1054), ('recreate', 13100), ('rediscovering', 13122), ('metalworking', 10183), ('relying', 13267), ('rover', 13804), ('responders', 13431), ('anguish', 852), ('unfolded', 16918), ('nov', 11073), ('progress', 12527), ('treading', 16583), ('uneasy', 16897), ('waxing', 17542), ('passage', 11705), ('1970', 95), ('rockumentary', 13711), ('topping', 16401), ('dauntless', 4108), ('socialist', 14930), ('uphill', 17070), ('diving', 4742), ('tattooed', 15978), ('auschwitz', 1277), ('rikuo', 13608), ('yokai', 17993), ('relies', 13251), ('meds', 10058), ('exhausting', 5679), ('nymphomaniac', 11123), ('lars', 9144), ('trier', 16630), ('reignited', 13198), ('schoolmates', 14105), ('type', 16773), ('oasis', 11130), ('noel', 10995), ('gallagher', 6624), ('interplay', 8330), ('intruders', 8376), ('initiates', 8210), ('silk', 14654), ('glove', 6867), ('restart', 13438), ('sinatra', 14685), ('downright', 4875), ('deloris', 4290), ('viv', 17375), ('geoff', 6745), ('explorers', 5750), ('octonauts', 11195), ('combs', 3275), ('caves', 2706), ('swarms', 15776), ('starfish', 15294), ('oddsville', 11202), ('dressed', 4939), ('oddbods', 11199), ('bubbles', 2291), ('naughty', 10800), ('zaps', 18047), ('jeopardizing', 8581), ('domino', 4815), ('ease', 5081), ('freewheeling', 6461), ('insightful', 8253), ('uselessness', 17112), ('degrees', 4259), ('swayed', 15779), ('spaniards', 15067), ('advertised', 482), ('amaia', 735), ('baztan', 1589), ('worthiness', 17872), ('terrence', 16105), ('downe', 4870), ('scientifically', 14118), ('hacks', 7201), ('obstetrician', 11167), ('thirties', 16217), ('wimpy', 17731), ('oggy', 11236), ('snooze', 14904), ('bothered', 2097), ('cockroaches', 3176), ('replacing', 13342), ('confidently', 3442), ('libidinous', 9339), ('haughty', 7354), ('mens', 10127), ('lurk', 9620), ('taew', 15878), ('mod', 10439), ('dum', 5006), ('communicates', 3327), ('shopkeeper', 14553), ('kanji', 8797), ('bhai', 1781), ('lawsuit', 9197), ('policy', 12181), ('grownups', 7099), ('concoction', 3411), ('cartoons', 2635), ('yuck', 18022), ('mates', 9937), ('ickiest', 7889), ('geriatrics', 6760), ('andrei', 823), ('aloof', 703), ('schoolmate', 14104), ('ramona', 12894), ('anemona', 834), ('septuagenarian', 14328), ('snapped', 14884), ('ethics', 5572), ('timothy', 16323), ('mcveigh', 10009), ('1900', 52), ('munich', 10651), ('brewer', 2201), ('curt', 3976), ('dominate', 4805), ('oktoberfest', 11248), ('cerrado', 2750), ('savanna', 14026), ('deforestation', 4244), ('backstabbing', 1397), ('blackmail', 1886), ('underreported', 16871), ('snail', 14879), ('salma', 13943), ('monitored', 10486), ('surveillance', 15736), ('mystic', 10699), ('parental', 11656), ('dysfunction', 5055), ('offense', 11215), ('stefano', 15354), ('cucchi', 3925), ('transitions', 16548), ('regular', 13186), ('neill', 10860), ('retreats', 13486), ('ezra', 5811), ('standout', 15282), ('meighan', 10084), ('sergio', 14342), ('pizzorno', 12071), ('moby', 10432), ('guitarist', 7144), ('rodgers', 13716), ('sessions', 14363), ('onerepublic', 11278), ('tlc', 16349), ('demolition', 4310), ('youssef', 18015), ('disciple', 4610), ('sect', 14217), ('tutelage', 16743), ('temperamental', 16053), ('sage', 13910), ('ushering', 17116), ('outlived', 11441), ('compassion', 3343), ('shoaib', 14538), ('pressing', 12397), ('spaghetti', 15064), ('flinty', 6235), ('gunslinger', 7161), ('railroad', 12857), ('solicits', 14966), ('overlooked', 11483), ('latina', 9159), ('branch', 2149), ('spurlock', 15219), ('combination', 3271), ('rahman', 12849), ('satnam', 14013), ('bhamara', 1782), ('booze', 2070), ('vancouver', 17161), ('infertility', 8163), ('assisted', 1168), ('reproduction', 13362), ('disappointment', 4593), ('disharmony', 4649), ('ostracism', 11403), ('sportscaster', 15190), ('flex', 6219), ('breanna', 2185), ('luffy', 9602), ('straw', 15467), ('ji', 8606), ('6th', 214), ('senbatsu', 14293), ('ennui', 5405), ('izmir', 8493), ('flies', 6224), ('supervise', 15685), ('ware', 17493), ('domesticated', 4802), ('perennially', 11853), ('pestered', 11909), ('aide', 565), ('airborne', 582), ('pave', 11763), ('map', 9827), ('adventurers', 475), ('trekked', 16598), ('klondike', 8957), ('mekong', 10089), ('arouses', 1062), ('operator', 11309), ('drs', 4970), ('xand', 17927), ('tulleken', 16705), ('educate', 5133), ('seul', 14376), ('baek', 1418), ('evacuate', 5586), ('yemen', 17973), ('sympathetic', 15836), ('kwangtung', 9049), ('tigers', 16302), ('chiao', 2912), ('opium', 11314), ('exonerated', 5694), ('weeds', 17581), ('civic', 3039), ('pickpockets', 11988), ('biryani', 1863), ('hazards', 7374), ('marauding', 9833), ('chickens', 2921), ('adversaries', 479), ('unveil', 17042), ('implant', 8018), ('beta', 1757), ('yields', 17983), ('induces', 8125), ('compressed', 3377), ('explanations', 5737), ('modus', 10451), ('operandi', 11301), ('kuttappayi', 9046), ('tommaso', 16382), ('buscetta', 2385), ('testify', 16129), ('generate', 6720), ('wireless', 17765), ('dumps', 5009), ('bookshop', 2051), ('scope', 14129), ('produce', 12493), ('here', 7494), ('percussions', 11849), ('merits', 10156), ('canon', 2527), ('addie', 407), ('platonically', 12097), ('alleviate', 676), ('loneliness', 9490), ('blossom', 1955), ('haruhi', 7328), ('ouran', 11417), ('guerrillas', 7127), ('yield', 17982), ('tortured', 16423), ('brainwashed', 2144), ('wildfires', 17706), ('downpours', 4874), ('chassis', 2847), ('haves', 7363), ('have', 7361), ('nots', 11070), ('gabaldon', 6590), ('38', 186), ('advocated', 492), ('android', 827), ('bastian', 1559), ('province', 12609), ('advisors', 490), ('pounds', 12294), ('carves', 2637), ('adviser', 487), ('ozarks', 11525), ('launder', 9174), ('appease', 948), ('grandma', 6984), ('orchestrated', 11349), ('duck', 4990), ('wombat', 17815), ('chumpkins', 3009), ('tumor', 16711), ('paan', 11527), ('tomar', 16374), ('brigand', 2221), ('planned', 12085), ('sinning', 14711), ('botch', 2094), ('intentioned', 8302), ('theyyam', 16197), ('conceals', 3395), ('abortions', 277), ('practitioner', 12312), ('crayons', 3782), ('druglord', 4975), ('eyewitness', 5808), ('pac', 11529), ('betrayus', 1765), ('pacenstein', 11532), ('cyli', 4009), ('pacula', 11547), ('statue', 15328), ('andean', 815), ('shaman', 14425), ('covert', 3740), ('coastline', 3164), ('humiliation', 7813), ('markets', 9867), ('hygienic', 7860), ('sanitary', 13980), ('pad', 11549), ('poorest', 12217), ('ignoring', 7932), ('superstitions', 15682), ('underbelly', 16856), ('statwart', 15331), ('vijaydan', 17296), ('detha', 4438), ('nepal', 10870), ('fictionalized', 6061), ('plunge', 12138), ('hustling', 7848), ('despairing', 4400), ('blame', 1901), ('peking', 11815), ('pajanimals', 11579), ('roberto', 13685), ('palazuelos', 11587), ('siena', 14633), ('forum', 6385), ('ofelia', 11210), ('faun', 5946), ('influenza', 8182), ('lowly', 9575), ('imminent', 7988), ('burglars', 2367), ('maratha', 9830), ('afghan', 517), ('paradoxes', 11630), ('stemming', 15358), ('lied', 9346), ('stan', 15276), ('amazingly', 751), ('paprika', 11625), ('paquita', 11626), ('mehdi', 10081), ('moonlights', 10519), ('bumble', 2335), ('squabble', 15227), ('snort', 14905), ('neil', 10859), ('sow', 15054), ('seeds', 14232), ('daryl', 4094), ('playground', 12107), ('hematologist', 7479), ('plunged', 12139), ('inexplicable', 8143), ('unwillingly', 17048), ('investigations', 8403), ('micah', 10211), ('ouija', 11416), ('communicating', 3328), ('parasites', 11648), ('migi', 10243), ('docile', 4762), ('parasitic', 11649), ('parchís', 11653), ('balls', 1460), ('sustenance', 15762), ('ifs', 7918), ('sassier', 14002), ('dirtier', 4579), ('insisting', 8255), ('fliegender', 6223), ('zirkus', 18089), ('probing', 12473), ('fingablast', 6125), ('slizzard', 14831), ('paskal', 11703), ('cutter', 3995), ('rane', 12913), ('delivered', 4285), ('trends', 16603), ('como', 3335), ('considerate', 3508), ('remove', 13294), ('microchips', 10222), ('highlighting', 7534), ('1854', 35), ('1867', 38), ('foundational', 6394), ('flatlining', 6197), ('sunday', 15644), ('spoiling', 15173), ('screenplay', 14167), ('farcical', 5905), ('craziness', 3787), ('patton', 11755), ('oswalt', 11406), ('glut', 6871), ('dread', 4924), ('denny', 4326), ('proms', 12550), ('clown', 3141), ('miserly', 10363), ('amount', 781), ('embarrassment', 5263), ('particularly', 11691), ('harrison', 7319), ('corey', 3648), ('appraise', 959), ('expensive', 5720), ('parikshit', 11662), ('jayesh', 8557), ('parag', 11631), ('bhavesh', 1785), ('applicants', 952), ('cremation', 3815), ('mortuary', 10555), ('1919', 59), ('birmingham', 1857), ('feudalistic', 6047), ('revolt', 13534), ('oppressed', 11325), ('starck', 15291), ('mak', 9730), ('nak', 10735), ('manganiello', 9786), ('pee', 11808), ('wee', 17579), ('masses', 9914), ('childlike', 2935), ('avalanche', 1311), ('skates', 14739), ('glides', 6844), ('carols', 2611), ('charo', 2836), ('indigent', 8111), ('subsidy', 15576), ('suspension', 15755), ('pusher', 12716), ('cochlear', 3173), ('implants', 8019), ('nationally', 10787), ('manipuri', 9801), ('background', 1392), ('qualifier', 12748), ('superfan', 15661), ('seclusion', 14209), ('penguin', 11821), ('skipper', 14762), ('kowalski', 9012), ('rico', 13580), ('suave', 15557), ('octavius', 11193), ('brine', 2230), ('dorian', 4843), ('woven', 17878), ('remakes', 13272), ('stretch', 15486), ('policewoman', 12178), ('ro', 13660), ('scent', 14082), ('glands', 6830), ('excised', 5658), ('menstruation', 10129), ('pads', 11552), ('stride', 15492), ('reese', 13137), ('finch', 6116), ('critically', 3848), ('medium', 10057), ('shopper', 14557), ('pete', 11912), ('davidson', 4111), ('hilltop', 7560), ('vermont', 17235), ('backbreaking', 1385), ('grizzled', 7073), ('organic', 11368), ('dunning', 5018), ('rascally', 12948), ('veggies', 17200), ('mcgregor', 10000), ('pettersson', 11922), ('findus', 6121), ('highlands', 7532), ('madman', 9677), ('beckett', 1628), ('wrongful', 17912), ('termination', 16100), ('ajay', 596), ('ria', 13560), ('stations', 15326), ('disfiguring', 4640), ('festering', 6040), ('4bia', 198), ('swapping', 15773), ('participant', 11685), ('menstruating', 10128), ('braves', 2163), ('stigmas', 15389), ('napkins', 10750), ('labrador', 9064), ('puppies', 12695), ('chasm', 2846), ('spellbinding', 15116), ('psychosexual', 12640), ('ann', 865), ('opts', 11337), ('pine', 12026), ('fissures', 6159), ('stoned', 15414), ('server', 14354), ('unjustly', 16958), ('attacker', 1226), ('defended', 4228), ('pinkfong', 12030), ('pinky', 12033), ('malinky', 9762), ('wiener', 17695), ('guileless', 7137), ('preserved', 12383), ('1915', 58), ('1946', 76), ('restores', 13446), ('transcended', 16527), ('thakur', 16154), ('avadh', 1307), ('scrape', 14158), ('convictions', 3606), ('hardscrabble', 7295), ('pj', 12072), ('aamir', 235), ('rajkumar', 12878), ('hirani', 7577), ('blossoms', 1957), ('waning', 17483), ('reminiscent', 13285), ('suburbia', 15583), ('treated', 16588), ('diversity', 4736), ('himalayan', 7563), ('everywhere', 5617), ('sakaar', 13926), ('muscle', 10670), ('slavery', 14792), ('purport', 12703), ('sergeants', 14340), ('semi', 14285), ('oliver', 11260), ('romania', 13747), ('coaching', 3158), ('soothe', 15009), ('chambers', 2776), ('ubisoft', 16788), ('offices', 11227), ('vandenberghe', 17165), ('pnl', 12142), ('hypnotic', 7869), ('visuals', 17366), ('dans', 4068), ('légende', 9646), ('bercy', 1733), ('pocoyo', 12149), ('richly', 13576), ('spooked', 15183), ('golf', 6901), ('goh', 6893), ('fellows', 6006), ('cerise', 2748), ('pokémon', 12169), ('pikachu', 12009), ('fula', 6535), ('alola', 698), ('ketchum', 8872), ('aim', 572), ('misty', 10402), ('brock', 2248), ('mewtwo', 10198), ('artificially', 1097), ('polaroid', 12172), ('afterward', 531), ('shrink', 14594), ('polly', 12196), ('petite', 11917), ('rehabilitate', 13189), ('trustworthy', 16686), ('popuko', 12228), ('pipimi', 12044), ('stomp', 15412), ('wim', 17730), ('wenders', 17616), ('pontiff', 12208), ('humanist', 7798), ('wrecks', 17892), ('sailor', 13919), ('popeye', 12221), ('washes', 17521), ('ashore', 1120), ('rooming', 13770), ('oyl', 11523), ('popple', 12225), ('pororo', 12236), ('loopy', 9514), ('beaver', 1624), ('poby', 12146), ('crong', 3855), ('brownstein', 2274), ('ore', 11363), ('artisanal', 1099), ('bulbs', 2326), ('bookstores', 2053), ('portuguese', 12254), ('resonating', 13419), ('1987', 114), ('fixture', 6176), ('blanca', 1905), ('spells', 15119), ('revelers', 13514), ('capsizes', 2546), ('scholastic', 14096), ('brusque', 2280), ('raconteur', 12821), ('faints', 5847), ('stunned', 15541), ('promoting', 12545), ('vasectomies', 17181), ('delicate', 4277), ('bigfoot', 1808), ('jino', 8624), ('bluewill', 1968), ('butting', 2407), ('stuntman', 15545), ('energems', 5365), ('sledge', 14799), ('returned', 13495), ('accomplished', 332), ('dino', 4562), ('gems', 6711), ('enabling', 5324), ('mesogog', 10167), ('turbo', 16724), ('cassie', 2651), ('ashley', 1119), ('zordon', 18103), ('specter', 15106), ('rumble', 13842), ('graves', 7010), ('mariner', 9857), ('lightspeed', 9369), ('quasar', 12760), ('sabers', 13886), ('scorpius', 14140), ('unleashed', 16963), ('sorceress', 15019), ('udonna', 16789), ('empowers', 5315), ('galvanax', 6631), ('lothor', 9543), ('shane', 14431), ('waldo', 17453), ('dillon', 4550), ('troobian', 16656), ('delta', 4291), ('morphs', 10545), ('squash', 15236), ('symbols', 15835), ('shiba', 14499), ('rpm', 13817), ('xandred', 17928), ('mooger', 10514), ('creepiest', 3812), ('netherworld', 10887), ('megaforce', 10071), ('vekar', 17205), ('augments', 1270), ('vrak', 17417), ('mavro', 9967), ('armada', 1047), ('serrator', 14348), ('megazord', 10080), ('nighlok', 10948), ('illusion', 7954), ('3000', 176), ('ransik', 12926), ('divatox', 4728), ('divazords', 4729), ('org', 11366), ('morphin', 10543), ('acquired', 363), ('zeo', 18068), ('scariest', 14065), ('conjures', 3473), ('robo', 13689), ('donated', 4820), ('ramblings', 12889), ('lynchpin', 9640), ('frights', 6495), ('blown', 1960), ('capra', 2542), ('authoritarianism', 1287), ('liberty', 9338), ('prior', 12451), ('coronation', 3654), ('stern', 15376), ('springboard', 15210), ('fda', 5960), ('wander', 17477), ('fran', 6416), ('lebowitz', 9244), ('scorsese', 14141), ('heartstrings', 7423), ('studious', 15530), ('teddy', 16019), ('missed', 10380), ('snowed', 14910), ('emil', 5286), ('moose', 10522), ('printing', 12449), ('options', 11336), ('sliver', 14830), ('data', 4100), ('oceanside', 11191), ('addison', 409), ('montgomery', 10502), ('holistic', 7634), ('disguise', 4643), ('courted', 3724), ('amendment', 763), ('prohibiting', 12529), ('repeal', 13332), ('mocked', 10435), ('rebuffed', 13034), ('erodes', 5511), ('mckeyla', 10006), ('pauses', 11762), ('pill', 12019), ('autistic', 1293), ('badminton', 1416), ('skateboarder', 14737), ('ferencz', 6024), ('nuremberg', 11105), ('gem', 6709), ('masquerades', 9910), ('gullible', 7148), ('garu', 6674), ('pucca', 12654), ('madoka', 9679), ('kaname', 8790), ('fanbase', 5886), ('couture', 3734), ('handbag', 7246), ('puffin', 12659), ('puffling', 12661), ('oona', 11291), ('baba', 1374), ('61', 213), ('stylized', 15556), ('philosophical', 11948), ('misjudged', 10373), ('labeled', 9059), ('bark', 1525), ('cutest', 3993), ('cuddliest', 3927), ('dognapped', 4788), ('yorkie', 18003), ('replaces', 13341), ('pooches', 12213), ('wrath', 17885), ('busted', 2396), ('tumbling', 16709), ('humpty', 7818), ('dumpty', 5010), ('softpaws', 14952), ('accounting', 337), ('removed', 13295), ('phobe', 11952), ('questioning', 12773), ('into', 8362), ('quentin', 12769), ('quarterbacks', 12756), ('landowner', 9122), ('statesman', 15321), ('shang', 14432), ('enact', 5325), ('reforms', 13150), ('chandigarh', 2790), ('realms', 13006), ('audiovisual', 1264), ('hardstyle', 7298), ('qlimax', 12741), ('javier', 8553), ('implicates', 8022), ('trainee', 16512), ('parrish', 11678), ('royale', 13814), ('infiltrated', 8168), ('mi6', 10207), ('verdi', 17229), ('sours', 15042), ('33', 179), ('bounds', 2112), ('gertrude', 6766), ('sono', 15004), ('ism', 8467), ('unturned', 17038), ('pitting', 12064), ('fab', 5812), ('advise', 485), ('grooming', 7082), ('drowning', 4969), ('imitate', 7976), ('stockholm', 15406), ('suburb', 15581), ('adjusted', 422), ('wedemeyer', 17576), ('gehrig', 6706), ('sharpshooting', 14460), ('shrunk', 14596), ('item', 8483), ('goods', 6915), ('nebbish', 10829), ('scion', 14123), ('rabbits', 12804), ('we', 17550), ('retire', 13474), ('swindled', 15801), ('luster', 9625), ('thickens', 16201), ('ranvir', 12928), ('dadá', 4029), ('figueiredo', 6080), ('trendsetting', 16604), ('lends', 9281), ('unpopular', 16987), ('valve', 17157), ('radium', 12831), ('bessie', 1751), ('raees', 12834), ('gujarat', 7145), ('banaś', 1472), ('michał', 10214), ('leja', 9274), ('rafinha', 12838), ('bastos', 1561), ('lamotta', 9104), ('undone', 16888), ('sensuous', 14311), ('rigged', 13599), ('ragini', 12846), ('sleazy', 14797), ('glaciers', 6825), ('labyrinth', 9066), ('occupation', 11176), ('savant', 14027), ('raymond', 12975), ('mistreated', 10398), ('choco', 2966), ('developmentally', 4458), ('fonz', 6309), ('kinky', 8935), ('resentful', 13389), ('cleaver', 3094), ('druggie', 4974), ('loathed', 9447), ('grasp', 7003), ('ralph', 12884), ('vanellope', 17166), ('ralphie', 12885), ('waffles', 17431), ('maui', 9957), ('pioneering', 12040), ('dass', 4099), ('calcutta', 2458), ('ramen', 12891), ('masato', 9900), ('retrace', 13482), ('williamson', 17719), ('cheong', 2897), ('envoy', 5472), ('chameleon', 2777), ('rango', 12919), ('burma', 2372), ('qawwal', 12734), ('1947', 77), ('ratched', 12953), ('exterior', 5778), ('ratones', 12959), ('paranoicos', 11644), ('featured', 5975), ('icky', 7890), ('snakebite', 14881), ('repay', 13331), ('sundown', 15647), ('quebec', 12762), ('romano', 13749), ('cellar', 2727), ('sweep', 15786), ('sultanate', 15629), ('restrained', 13448), ('atsushi', 1221), ('tamura', 15932), ('salman', 13944), ('perfume', 11866), ('cadre', 2438), ('2000', 131), ('supermarket', 15669), ('bombs', 2027), ('schneider', 14092), ('contender', 3550), ('imposing', 8029), ('firmly', 6145), ('plato', 12095), ('seminar', 14287), ('psychodrama', 12632), ('seduction', 14228), ('mikey', 10256), ('unreliable', 17000), ('stepbrother', 15360), ('dale', 4041), ('mage', 9687), ('siluca', 14657), ('wanders', 17479), ('atlatan', 1214), ('errant', 5515), ('theo', 16182), ('paratroopers', 11651), ('systematically', 15846), ('rabindranath', 12806), ('tagore', 15882), ('notice', 11062), ('parallels', 11636), ('assumed', 1175), ('grades', 6964), ('exists', 5691), ('innovator', 8233), ('grits', 7070), ('yates', 17957), ('unifying', 16939), ('principles', 12446), ('regiments', 13176), ('scots', 14144), ('capper', 2541), ('rechristens', 13055), ('reggae', 13170), ('cloaked', 3125), ('bluesman', 1967), ('jara', 8541), ('1973', 99), ('symbol', 15832), ('tonight', 16388), ('showband', 14575), ('cooke', 3617), ('drew', 4941), ('contributed', 3582), ('nixon', 10982), ('dmc', 4757), ('1976', 102), ('marley', 9869), ('zev', 18072), ('strained', 15445), ('unveiling', 17043), ('extracts', 5786), ('fixated', 6171), ('humiliate', 7810), ('rapists', 12936), ('shi', 14498), ('reviving', 13533), ('combustible', 3276), ('cellist', 2728), ('welsh', 17614), ('alice', 657), ('sanctuary', 13967), ('spur', 15218), ('residente', 13402), ('script', 14172), ('gentrified', 6742), ('wendy', 17617), ('whelan', 17643), ('endangers', 5347), ('13th', 15), ('sultan', 15628), ('andes', 818), ('artisans', 1100), ('disillusion', 4657), ('scammer', 14050), ('supporters', 15695), ('lid', 9344), ('overturn', 11501), ('roe', 13720), ('shibuya', 14501), ('2388', 164), ('daisuke', 4035), ('conscripted', 3498), ('ahrv', 561), ('revisions', 13525), ('roald', 13666), ('dahl', 4031), ('illustrator', 7960), ('blake', 1900), ('emptiness', 5317), ('albanian', 619), ('rezeta', 13550), ('daisy', 4036), ('snackable', 14875), ('snap', 14883), ('rhys', 13556), ('nicholson', 10933), ('flexes', 6220), ('tranquilizers', 16522), ('harris', 7318), ('cardi', 2568), ('ricardo', 13566), ('farrill', 5915), ('observational', 11153), ('sarcasm', 13996), ('specific', 15102), ('sensibility', 14308), ('expressive', 5770), ('astute', 1199), ('sensibilities', 14307), ('tease', 16004), ('unscathed', 17011), ('droll', 4959), ('quevedo', 12777), ('teto', 16135), ('paula', 11757), ('pryor', 12624), ('richie', 13575), ('trillion', 16636), ('nonstop', 11013), ('slings', 14826), ('snark', 14887), ('blowout', 1961), ('weirdos', 17600), ('suggesting', 15614), ('kaoru', 8803), ('rilakkuma', 13609), ('endearingly', 5348), ('fuzzy', 6585), ('pandharpur', 11605), ('blessing', 1917), ('suffocating', 15610), ('andries', 826), ('riphagen', 13624), ('ripper', 13625), ('ottoman', 11415), ('mehmed', 10082), ('byzantine', 2423), ('constantinople', 3521), ('transformations', 16537), ('trails', 16509), ('matrimonial', 9944), ('endlessly', 5355), ('paralympic', 11637), ('fares', 5907), ('auctioned', 1258), ('bidders', 1802), ('atlético', 1215), ('haruna', 7329), ('yamada', 17948), ('unreasonably', 16998), ('riverdale', 13652), ('krumping', 9025), ('originated', 11378), ('threatening', 16243), ('overpower', 11489), ('alfonso', 649), ('cuarón', 3917), ('roma', 13741), ('presses', 12396), ('repair', 13326), ('gandhi', 6650), ('victoria', 17268), ('izu', 8494), ('discord', 4619), ('pong', 12205), ('pif', 12004), ('saviano', 14032), ('gomorrah', 6905), ('exposé', 5765), ('nottingham', 11071), ('hood', 7680), ('brooms', 2263), ('robocar', 13690), ('poli', 12174), ('robotruck', 13696), ('robotechnology', 13692), ('homemade', 7652), ('siffredi', 14635), ('showcased', 14578), ('defect', 4225), ('stallion', 15273), ('fulfilling', 6538), ('rocko', 13709), ('sylvester', 15829), ('stallone', 15274), ('balboa', 1444), ('creed', 3809), ('publicity', 12649), ('stunt', 15544), ('climax', 3109), ('reigning', 13196), ('pounding', 12293), ('humbled', 7807), ('regaining', 13162), ('pulverized', 12671), ('careerless', 2579), ('carrington', 2620), ('poking', 12168), ('gaining', 6611), ('guenveur', 7124), ('sponsored', 15176), ('corporations', 3660), ('steubenville', 15379), ('paraplegic', 11647), ('cordell', 3645), ('alchemic', 625), ('revue', 13541), ('ripe', 13623), ('reinvention', 13214), ('commodus', 3320), ('naturally', 10796), ('sonoko', 15005), ('tetsuo', 16136), ('esra', 5550), ('quits', 12796), ('didem', 4514), ('cem', 2730), ('camping', 2502), ('tater', 15974), ('salad', 13931), ('cynicism', 4012), ('coleman', 3211), ('ronny', 13762), ('chieng', 2926), ('asians', 1126), ('hae', 7206), ('ryung', 13881), ('historians', 7590), ('dominique', 4814), ('strauss', 15466), ('kahn', 8776), ('squandering', 15232), ('sublets', 15566), ('disarmingly', 4599), ('creepy', 3814), ('braid', 2139), ('broom', 2261), ('mielle', 10238), ('hydrocephalus', 7858), ('classical', 3069), ('rodeo', 13715), ('councilman', 3692), ('scovel', 14151), ('unfocused', 16916), ('mystify', 10701), ('thong', 16225), ('foreigner', 6343), ('befoes', 1647), ('15k', 20), ('roxanne', 13810), ('shante', 14436), ('lawson', 9196), ('freelance', 6454), ('crust', 3903), ('hector', 7435), ('payback', 11774), ('biotechnology', 1848), ('rugrats', 13828), ('pickles', 11986), ('euroreptarland', 5583), ('reduced', 13124), ('jhanvi', 8605), ('ganpat', 6658), ('veering', 17191), ('preset', 12385), ('pace', 11530), ('translator', 16549), ('columnist', 3262), ('bihari', 1816), ('elope', 5233), ('nomadic', 11003), ('swordsman', 15820), ('meiji', 10085), ('rockers', 13706), ('formation', 6368), ('loquacious', 9520), ('ruminates', 13844), ('howard', 7772), ('plows', 12132), ('shortcomings', 14565), ('terrier', 16108), ('hunk', 7827), ('docu', 4766), ('furniture', 6570), ('reveling', 13515), ('ridiculously', 13589), ('stereotype', 15372), ('unsatirized', 17008), ('nadia', 10720), ('reliving', 13258), ('barrel', 1531), ('avery', 1324), ('shoaf', 14537), ('connor', 3486), ('retro', 13490), ('hopefully', 7699), ('decorated', 4197), ('premeditated', 12357), ('folksy', 6296), ('ballooning', 1457), ('alessandro', 639), ('luk', 9606), ('keung', 8874), ('betting', 1770), ('drafting', 4895), ('blindsided', 1926), ('fidelity', 6063), ('spontaneously', 15179), ('hated', 7348), ('dislikes', 4662), ('megalopolis', 10074), ('materialistic', 9932), ('confounding', 3454), ('polio', 12183), ('manufacturer', 9821), ('terrorized', 16118), ('gianfranco', 6783), ('rosi', 13785), ('minivan', 10324), ('1966', 91), ('cemetery', 2731), ('sadie', 13899), ('mitchell', 10408), ('regression', 13182), ('savior', 14034), ('indiscretion', 8113), ('concerns', 3405), ('scorpion', 14138), ('hooker', 7686), ('afternoon', 530), ('remarry', 13276), ('downward', 4881), ('dakar', 4038), ('retake', 13464), ('abdus', 262), ('salam', 13932), ('achievement', 351), ('samin', 13956), ('nosrat', 11048), ('roommates', 13772), ('audacity', 1260), ('shudders', 14599), ('hbo', 7380), ('kinison', 8933), ('rip', 13622), ('wiltern', 17728), ('segment', 14249), ('screaming', 14163), ('sin', 14682), ('samantha', 13951), ('fringes', 6497), ('harebrained', 7302), ('rocks', 13710), ('disliked', 4661), ('stinginess', 15395), ('windfall', 17734), ('bordering', 2074), ('bongo', 2039), ('kool', 8999), ('herc', 7491), ('sampling', 13960), ('samson', 13961), ('brawn', 2168), ('scare', 14060), ('liri', 9407), ('valley', 17149), ('pietro', 12002), ('example', 5644), ('urmila', 17102), ('shrikant', 14591), ('choosey', 2975), ('sai', 13913), ('bedouin', 1635), ('chafes', 2757), ('checkered', 2874), ('dutt', 5037), ('vincenzo', 17317), ('muccioli', 10624), ('cared', 2575), ('charges', 2818), ('fiji', 6085), ('bureaucrat', 2360), ('realtors', 13007), ('sack', 13890), ('kittens', 8952), ('allergic', 673), ('reaction', 12984), ('happiest', 7281), ('slide', 14821), ('chimneys', 2948), ('lip', 9401), ('synching', 15838), ('silverman', 14659), ('yeah', 17961), ('arresting', 1069), ('archduke', 1000), ('franz', 6435), ('ferdinand', 6023), ('honorable', 7677), ('manisha', 9803), ('favors', 5953), ('electoral', 5190), ('heated', 7427), ('ministers', 10323), ('instrument', 8280), ('traditionalist', 16492), ('percussionist', 11848), ('worldviews', 17858), ('attitudes', 1245), ('busking', 2394), ('corners', 3651), ('contemplate', 3544), ('rebuilds', 13037), ('bumpkin', 2341), ('sarajevo', 13994), ('getter', 6772), ('priorities', 12452), ('floggings', 6245), ('executions', 5673), ('kanaka', 8789), ('shelters', 14488), ('satirist', 14010), ('saverio', 14030), ('raimondo', 12861), ('knuckle', 8980), ('flights', 6227), ('seismic', 14257), ('walt', 17472), ('poppins', 12224), ('nut', 11114), ('clinging', 3113), ('megan', 10076), ('sayed', 14044), ('lehman', 9271), ('ghoulish', 6780), ('syfy', 15825), ('quality', 12750), ('vote', 17407), ('repent', 13336), ('scream', 14162), ('matrix', 9946), ('swan', 15770), ('inception', 8068), ('widens', 17685), ('oskar', 11400), ('schindler', 14088), ('ramshackle', 12902), ('motel', 10567), ('historically', 7593), ('pledging', 12125), ('disadvantaged', 4584), ('schubert', 14109), ('dutifully', 5036), ('schulz', 14111), ('divisive', 4744), ('hairdressing', 7212), ('daphne', 4073), ('moonscar', 10520), ('update', 17061), ('scooby', 14127), ('doo', 4831), ('shaggy', 14408), ('bedeviled', 1633), ('bedlam', 1634), ('nubian', 11090), ('vanquished', 17172), ('pilgrim', 12015), ('cyberbullying', 3999), ('lakewood', 9091), ('echoes', 5099), ('gale', 6619), ('sidney', 14631), ('prescott', 12374), ('steroid', 15377), ('peddler', 11802), ('unlicensed', 16967), ('tactical', 15872), ('gallivant', 6627), ('debauchery', 4152), ('executes', 5670), ('osama', 11397), ('laden', 9074), ('carjacked', 2593), ('implacable', 8017), ('competitions', 3353), ('albums', 624), ('wainraich', 17438), ('minibars', 10314), ('funerals', 6558), ('maniscalco', 9802), ('acerbically', 348), ('peacocks', 11789), ('planes', 12082), ('annoyances', 877), ('tirade', 16335), ('decorum', 4201), ('beacon', 1598), ('nicknames', 10936), ('dodging', 4778), ('artistically', 1103), ('jennifer', 8576), ('outcasts', 11424), ('ninth', 10973), ('earl', 5065), ('althorp', 727), ('chatsworth', 2854), ('zenith', 18064), ('inextricably', 8145), ('viii', 17295), ('downton', 4879), ('highclere', 7529), ('yard', 17955), ('synonymous', 15842), ('selfridge', 14275), ('londoners', 9487), ('untouched', 17037), ('decipher', 4185), ('armory', 1055), ('amphitheater', 785), ('parliament', 11671), ('westminster', 17627), ('pageantry', 11555), ('ripples', 13627), ('prodigies', 12490), ('firebrand', 6134), ('allred', 690), ('ambulance', 759), ('organ', 11367), ('stacked', 15252), ('selena', 14270), ('washerwoman', 17520), ('transplanted', 16551), ('brokers', 2254), ('oppenheim', 11315), ('luxe', 9631), ('buyers', 2411), ('ramps', 12900), ('weeklong', 17585), ('klutzy', 8960), ('tekin', 16033), ('ayrton', 1366), ('senna', 14302), ('babylon', 1377), ('telepathically', 16041), ('davina', 4113), ('revamp', 13506), ('summarily', 15632), ('vieira', 17281), ('mello', 10098), ('dweller', 5044), ('upward', 17093), ('mobility', 10427), ('craved', 3779), ('ruse', 13859), ('singlehood', 14699), ('ukrainian', 16798), ('assistants', 1167), ('trick', 16622), ('cyprus', 4015), ('alumnus', 731), ('seth', 14367), ('meyers', 10203), ('rogen', 13722), ('combine', 3272), ('madhu', 9674), ('jayaganthan', 8556), ('engrossed', 5386), ('suitable', 15621), ('descendant', 4371), ('dwarfs', 5041), ('shuts', 14606), ('irs', 8452), ('jersey', 8587), ('sundays', 15645), ('reconnection', 13079), ('cantabria', 2529), ('malkin', 9763), ('expenses', 5719), ('otis', 11411), ('maeve', 9684), ('proposes', 12568), ('outs', 11452), ('flare', 6190), ('noses', 11045), ('sextuplet', 14395), ('sort', 15025), ('rear', 13011), ('urging', 17101), ('disconcertingly', 4617), ('blurry', 1977), ('kingdoms', 8929), ('shaka', 14413), ('zulu', 18110), ('mounting', 10598), ('barnyard', 1528), ('sheepdog', 14477), ('bitzer', 1878), ('pidsley', 11993), ('shirley', 14529), ('oodles', 11290), ('llamas', 9441), ('unguarded', 16929), ('shawn', 14470), ('mendes', 10123), ('constable', 3519), ('legacies', 9256), ('adora', 446), ('ra', 12800), ('nola', 11000), ('kirk', 8939), ('drop', 4962), ('morning', 10539), ('carroll', 2622), ('ardent', 1018), ('unbalanced', 16824), ('doyle', 4883), ('prowls', 12620), ('chanchal', 2788), ('appu', 973), ('jealousies', 8560), ('witherspoon', 17787), ('sandi', 13973), ('sniper', 14897), ('policemen', 12177), ('gunfight', 7154), ('shopkins', 14554), ('shopville', 14561), ('peppa', 11839), ('shoppie', 14558), ('scarletta', 14068), ('gateau', 6682), ('pawville', 11771), ('shoppies', 14559), ('vloggable', 17380), ('dredges', 4937), ('eroding', 5512), ('stringers', 15498), ('scour', 14147), ('outlets', 11438), ('aptly', 976), ('mick', 10220), ('haredi', 7303), ('doldrums', 4790), ('horizon', 7709), ('fourteen', 6401), ('zaenab', 18042), ('doel', 4780), ('reuniting', 13504), ('outskirts', 11456), ('glass', 6833), ('misdiagnosed', 10360), ('mathematics', 9940), ('reluctance', 13263), ('walkie', 17459), ('talkie', 15917), ('transcends', 16529), ('similarities', 14664), ('permeating', 11876), ('moonbot', 10516), ('studios', 15529), ('storytellers', 15439), ('inventors', 8395), ('heather', 7428), ('compaq', 3341), ('founders', 6399), ('1982', 109), ('goliath', 6903), ('ibm', 7881), ('pc', 11783), ('dominance', 4803), ('unstable', 17023), ('simon', 14668), ('communication', 3329), ('introspective', 8374), ('amstell', 789), ('ayahuasca', 1363), ('manu', 9817), ('nna', 10984), ('telenovelas', 16039), ('mezcal', 10204), ('irate', 8434), ('crooner', 3861), ('fond', 6306), ('bangladeshi', 1488), ('margins', 9846), ('tituss', 16347), ('burgess', 2365), ('notes', 11060), ('palina', 11591), ('rojinski', 13732), ('shyam', 14612), ('singaporeans', 14691), ('terrain', 16103), ('frames', 6415), ('bajirao', 1430), ('somewhat', 14988), ('pathetic', 11733), ('feedback', 5986), ('condominium', 3421), ('inhabited', 8200), ('preys', 12420), ('favela', 5947), ('maintaining', 9724), ('jaegers', 8512), ('vampires', 17159), ('sirius', 14715), ('werewolf', 17620), ('yuliy', 18027), ('startling', 15310), ('tia', 16280), ('landry', 9124), ('tamera', 15927), ('campbell', 2499), ('vendetta', 17209), ('roxy', 13811), ('edie', 5120), ('pari', 11660), ('nuances', 11089), ('arabian', 982), ('complexions', 3364), ('naya', 10809), ('colorism', 3253), ('sheila', 14481), ('nazarian', 10812), ('selves', 14283), ('rupaul', 13857), ('shunning', 14604), ('pyrotechnic', 12730), ('cai', 2447), ('qiang', 12736), ('vietnamese', 17288), ('sơn', 15854), ('tùng', 16785), ('tp', 16472), ('concerts', 3407), ('aerobatics', 498), ('fredric', 6449), ('aerobatic', 497), ('skylander', 14774), ('hurled', 7836), ('imagines', 7972), ('rampaging', 12898), ('carnage', 2604), ('hooking', 7687), ('philanderers', 11939), ('reform', 13147), ('insomnia', 8257), ('motivational', 10577), ('speaker', 15091), ('sleepover', 14806), ('archrivals', 1015), ('murdering', 10661), ('slobby', 14833), ('robby', 13683), ('junkie', 8750), ('collectable', 3223), ('prostitution', 12581), ('compelled', 3347), ('wetherhold', 17631), ('biannual', 1790), ('collisions', 3237), ('definitely', 4241), ('encouraged', 5340), ('embezzled', 5267), ('flays', 6208), ('skins', 14760), ('spotting', 15197), ('clip', 3119), ('sneaker', 14892), ('wheeling', 17641), ('congressman', 3470), ('taliban', 15913), ('wheeler', 17640), ('hal', 7221), ('dreaded', 4925), ('meteorologist', 10188), ('snowden', 14909), ('remaining', 13269), ('circling', 3027), ('viren', 17337), ('narrative', 10763), ('nationalist', 10784), ('niño', 10983), ('degollado', 4256), ('canary', 2509), ('cliff', 3107), ('casanova', 2641), ('han', 7244), ('chewbacca', 2907), ('holed', 7629), ('ownership', 11517), ('everybody', 5613), ('rosenthal', 13784), ('lisbon', 9409), ('blindsiding', 1927), ('braces', 2135), ('ballerino', 1452), ('uproar', 17083), ('fiancee', 6053), ('shoot', 14547), ('creep', 3811), ('sanborn', 13964), ('wines', 17741), ('dines', 4559), ('anxiously', 913), ('receptionist', 13053), ('bickers', 1798), ('doctoral', 4764), ('luminous', 9610), ('funnywoman', 6564), ('sommore', 14991), ('wows', 17880), ('defender', 4229), ('songwriting', 15001), ('sonic', 15002), ('eggman', 5155), ('emeralds', 5277), ('understatement', 16877), ('badly', 1415), ('existed', 5688), ('tussle', 16742), ('sovereignty', 15052), ('sandeep', 13971), ('gunshot', 7160), ('aviation', 1326), ('kongpob', 8994), ('arthit', 1091), ('maka', 9731), ('meister', 10088), ('helpless', 7476), ('cordero', 3646), ('spellbook', 15117), ('volume', 17397), ('wine', 17739), ('battlbox', 1576), ('explosions', 5754), ('robyn', 13700), ('stardust', 15293), ('provincialism', 12611), ('supremes', 15705), ('sparring', 15079), ('thracian', 16239), ('outlast', 11434), ('executioners', 5672), ('reborn', 13030), ('palsy', 11595), ('branches', 2150), ('insular', 8283), ('jeweler', 8599), ('passports', 11717), ('liberdade', 9336), ('spenser', 15124), ('tasting', 15972), ('invincible', 8413), ('crop', 3862), ('bitten', 1872), ('radioactive', 12829), ('slinging', 14825), ('maricela', 9851), ('mare', 9843), ('herd', 7492), ('miradero', 10338), ('palomino', 11593), ('bluffs', 1969), ('boulder', 2106), ('pru', 12621), ('abigail', 267), ('hiroyuki', 7583), ('ehara', 5164), ('consultations', 3530), ('wally', 17468), ('spivak', 15159), ('splash', 15160), ('dunk', 5016), ('ripple', 13626), ('spookley', 15185), ('pumpkin', 12673), ('editors', 5128), ('molestation', 10469), ('rite', 13641), ('bikinis', 1820), ('springsteen', 15212), ('jamaican', 8525), ('juni', 8746), ('alexander', 644), ('minion', 10319), ('gary', 6675), ('gerti', 6765), ('giggles', 6798), ('cecil', 2712), ('bureau', 2358), ('unwed', 17045), ('acquaintance', 359), ('farmhouse', 5912), ('reflective', 13145), ('unflappable', 16914), ('civilizations', 3045), ('sisko', 14716), ('federation', 5981), ('innovation', 8230), ('technologies', 16016), ('luc', 9586), ('picard', 11981), ('voyager', 17414), ('quadrant', 12742), ('remnants', 13290), ('kylo', 9053), ('rey', 13547), ('skywalker', 14777), ('zoey', 18094), ('starbeam', 15290), ('fishbeard', 6152), ('sleeves', 14811), ('tristan', 16645), ('thorn', 16228), ('stargate', 15295), ('roars', 13672), ('stargates', 15296), ('maneuvers', 9784), ('contradictions', 3578), ('starsky', 15306), ('hutch', 7851), ('huggy', 7788), ('joris', 8684), ('genevieve', 6732), ('gorder', 6926), ('lorimer', 9530), ('moneymaking', 10483), ('showstoppers', 14587), ('unshakeable', 17019), ('collectors', 3229), ('plunder', 12137), ('porter', 12243), ('diesel', 4522), ('engines', 5382), ('deliveries', 4286), ('erupting', 5524), ('materialize', 9933), ('sorority', 15022), ('rhythmically', 13558), ('sisterhood', 14718), ('reminders', 13282), ('erik', 5507), ('keying', 8879), ('foibles', 6288), ('fearlessness', 5966), ('quips', 12790), ('partition', 11693), ('pensioners', 11831), ('scrapes', 14159), ('glasgow', 6832), ('tomlin', 16380), ('tiffany', 16299), ('haddish', 7203), ('noting', 11065), ('odor', 11206), ('pajamas', 11578), ('chemical', 2890), ('groms', 7079), ('woody', 17838), ('moga', 10454), ('apprenticeship', 963), ('dupes', 5021), ('outpace', 11445), ('scavengers', 14077), ('contents', 3554), ('repossessed', 13353), ('storage', 15424), ('units', 16952), ('writings', 17907), ('nobel', 10987), ('storybots', 15437), ('apps', 972), ('brainiac', 2142), ('ocd', 11185), ('erratically', 5517), ('numbered', 11095), ('unpleasant', 16986), ('disturb', 4718), ('strawberry', 15468), ('shortcake', 14564), ('bitty', 1877), ('rendezvous', 13301), ('noha', 10996), ('impressionable', 8039), ('flavorful', 6203), ('offerings', 11221), ('armstrong', 1057), ('charter', 2840), ('hoofer', 7683), ('hastings', 7340), ('graceless', 6959), ('quarter', 12754), ('madonna', 9680), ('1990', 117), ('indolent', 8118), ('impulsively', 8054), ('cajoles', 2450), ('gabrielle', 6597), ('reece', 13126), ('bong', 2038), ('procures', 12488), ('yance', 17950), ('ford', 6337), ('aldo', 632), ('socioeconomic', 14938), ('disadvantages', 4585), ('stony', 15418), ('sculptor', 14179), ('stanislav', 15286), ('szukalski', 15849), ('astounding', 1183), ('stuart', 15519), ('entrenched', 5456), ('lonesome', 9494), ('discotheque', 4620), ('glittery', 6850), ('conservatory', 3505), ('tuition', 16704), ('hellscape', 7469), ('styling', 15553), ('superstars', 15680), ('bolden', 2011), ('adair', 391), ('jsn', 8709), ('chicest', 2918), ('comrade', 3387), ('endemic', 5351), ('ern', 5509), ('ped', 11801), ('recuperate', 13108), ('spiraling', 15148), ('suffragette', 15611), ('ingredient', 8196), ('jolly', 8666), ('quartering', 12757), ('gambles', 6641), ('watering', 17534), ('adriatic', 457), ('moccia', 10433), ('chiara', 2913), ('sunderland', 15646), ('relegation', 13240), ('correlation', 3667), ('projects', 12533), ('renewable', 13306), ('bunnies', 2352), ('wherever', 17648), ('vyom', 17425), ('wedge', 17577), ('lobo', 9452), ('glorb', 6862), ('vida', 17273), ('pitchfork', 12057), ('katya', 8842), ('drac', 4888), ('adorably', 449), ('deck', 4189), ('halls', 7229), ('afraid', 524), ('día', 5059), ('muertos', 10630), ('spook', 15182), ('tacular', 15874), ('parade', 11628), ('lend', 9280), ('purple', 12702), ('howlers', 7775), ('unappreciated', 16818), ('drudgery', 4972), ('youngblood', 18009), ('net', 10884), ('avert', 1323), ('kara', 8805), ('danvers', 4070), ('chitón', 2961), ('lois', 9481), ('lex', 9321), ('luthor', 9629), ('trivia', 16649), ('stuffing', 15534), ('carts', 2636), ('crisscross', 3841), ('aerodynamics', 499), ('processes', 12483), ('enabled', 5322), ('upcoming', 17060), ('statewide', 15322), ('mentors', 10136), ('overshadow', 11495), ('expectant', 5710), ('pras', 12325), ('arini', 1033), ('meirose', 10087), ('momentum', 10475), ('critique', 3851), ('packaged', 11538), ('than', 16155), ('bayless', 1588), ('researches', 13385), ('cults', 3943), ('buddhist', 2306), ('americanized', 767), ('revered', 13520), ('tremblay', 16600), ('robb', 13676), ('wells', 17611), ('foulmouthed', 6391), ('swearnet', 15781), ('baker', 1433), ('pies', 12001), ('toast', 16351), ('maddie', 9669), ('serenity', 14337), ('triple', 16641), ('shipwrecked', 14527), ('rampant', 12899), ('ayumi', 1369), ('evaporates', 5596), ('envious', 5465), ('zenko', 18066), ('avatars', 1315), ('karen', 8813), ('gaming', 6647), ('pitohui', 12060), ('anonymously', 881), ('tung', 16718), ('chen', 2894), ('wu', 17919), ('tang', 15935), ('nursed', 11107), ('knife', 8963), ('mitts', 10413), ('encryption', 5343), ('hack', 7197), ('infernal', 8160), ('outgrows', 11431), ('benni', 1726), ('manav', 9777), ('mansi', 9813), ('daydreamer', 4119), ('ishaan', 8456), ('histories', 7594), ('confiscated', 3448), ('moneylender', 10482), ('tahaan', 15884), ('kashmir', 8829), ('simulated', 14675), ('flagging', 6178), ('jumps', 8741), ('miao', 10210), ('fen', 6016), ('supervision', 15686), ('cashier', 2646), ('pep', 11837), ('guardiola', 7120), ('hypercompetitive', 7864), ('adderall', 401), ('coders', 3184), ('beret', 1735), ('jeddah', 8563), ('inter', 8304), ('ignorance', 7928), ('singleton', 14701), ('barbary', 1506), ('cohorts', 3202), ('slouching', 14837), ('jodi', 8640), ('neglectful', 10847), ('dependency', 4340), ('ved', 17188), ('tango', 15940), ('vastly', 17183), ('provoke', 12616), ('fare', 5906), ('ascend', 1111), ('doubting', 4860), ('godly', 6887), ('pilates', 12012), ('rot', 13791), ('decay', 4165), ('monumental', 10509), ('halfway', 7225), ('tomlinson', 16381), ('routes', 13801), ('tayo', 15987), ('duri', 5028), ('pont', 12207), ('schultz', 14110), ('kaylie', 8847), ('konrad', 8997), ('swaps', 15774), ('teased', 16005), ('takagi', 15896), ('nishikata', 10978), ('swears', 15782), ('golfer', 6902), ('ariya', 1041), ('jutanugarn', 8762), ('lpga', 9582), ('goon', 6920), ('teefa', 16020), ('longing', 9500), ('perci', 11847), ('trachtenberg', 16476), ('venkat', 17218), ('subramaniam', 15573), ('foundations', 6395), ('probability', 12469), ('chat', 2849), ('theory', 16188), ('dens', 4327), ('sterling', 15375), ('splinter', 15163), ('amok', 778), ('shredder', 14588), ('ooze', 11292), ('obtains', 11170), ('junk', 8749), ('glowing', 6869), ('sewers', 14387), ('flamboyant', 6182), ('gamble', 6638), ('swipe', 15809), ('speeding', 15113), ('trusts', 16685), ('marcus', 9842), ('teenaged', 16024), ('telluria', 16050), ('tourists', 16449), ('wilds', 17709), ('2025', 151), ('depicting', 4343), ('crackdowns', 3755), ('fisted', 6161), ('benefit', 1715), ('1000', 5), ('dominating', 4808), ('militaristic', 10272), ('oahu', 11128), ('batch', 1564), ('snowboarder', 14908), ('karuizawa', 8825), ('dilapidated', 4544), ('slicing', 14819), ('slaughtering', 14790), ('enforcement', 5368), ('surprisingly', 15728), ('echolocation', 5100), ('sena', 14291), ('bal', 1439), ('thackeray', 16148), ('impostor', 8032), ('infidelities', 8165), ('indulging', 8129), ('hazy', 7378), ('enrich', 5410), ('deceiving', 4170), ('soo', 15007), ('remorse', 13292), ('ultimatum', 16802), ('habitable', 7193), ('octogenarian', 11194), ('saboteur', 13888), ('motor', 10585), ('enzo', 5474), ('alia', 654), ('consults', 3531), ('says', 14046), ('ayotzinapa', 1365), ('iguala', 7934), ('4400', 194), ('reappear', 13009), ('none', 11008), ('administration', 427), ('sleepaway', 14802), ('suspenseful', 15754), ('ss', 15245), ('complicity', 3371), ('elliott', 5228), ('toying', 16468), ('archaeological', 995), ('connoisseur', 3484), ('sharkboy', 14452), ('lavagirl', 9183), ('baddie', 1411), ('hyper', 7862), ('cohort', 3201), ('tails', 15890), ('prower', 12619), ('mobius', 10429), ('robotnik', 13695), ('georges', 6752), ('remi', 13281), ('tintin', 16328), ('faceless', 5822), ('vocalize', 17384), ('congolese', 3467), ('transplants', 16552), ('faceoff', 5823), ('tempts', 16068), ('hilton', 7561), ('ostrovsky', 11405), ('brittany', 2241), ('furlan', 6568), ('kirill', 8938), ('bichutsky', 1796), ('hustle', 7845), ('lobbyist', 9451), ('ordeal', 11354), ('lutz', 9630), ('homespun', 7657), ('mayberry', 9975), ('ashraf', 1121), ('marwan', 9895), ('protesters', 12592), ('durie', 5029), ('baptismal', 1500), ('smashing', 14852), ('arbitration', 991), ('dismissal', 4666), ('gynecologist', 7185), ('sexologist', 14394), ('taboo', 15862), ('publish', 12651), ('crunch', 3894), ('calhoun', 2463), ('motorcyclist', 10588), ('mostly', 10565), ('oscars', 11399), ('defining', 4240), ('gianni', 6784), ('versace', 17237), ('surgically', 15720), ('will', 17714), ('coroners', 3656), ('unidentified', 16937), ('motti', 10591), ('errol', 5518), ('morris', 10546), ('elsa', 5237), ('dorfman', 4842), ('luminaries', 9609), ('homegrown', 7648), ('bedtime', 1637), ('satanic', 14006), ('contestant', 3556), ('fedotowsky', 5984), ('banished', 1489), ('wasteland', 17526), ('soaked', 14919), ('cannibals', 2523), ('ineffective', 8137), ('cornwall', 3653), ('probably', 12470), ('mojave', 10463), ('adhere', 418), ('coen', 3188), ('settlers', 14373), ('assassinated', 1145), ('disparity', 4677), ('fence', 6017), ('tortuous', 16421), ('mavericks', 9965), ('underdogs', 16859), ('bing', 1836), ('midway', 10234), ('guilty', 7140), ('triggered', 16633), ('drumming', 4979), ('tending', 16078), ('urbanization', 17096), ('neuroscience', 10894), ('rutkowski', 13873), ('olka', 11262), ('szczęśniak', 15848), ('francesca', 6420), ('stavrakopoulou', 15334), ('testament', 16126), ('angler', 848), ('florists', 6258), ('sculptors', 14180), ('boldest', 2013), ('sculptures', 14182), ('wwe', 17921), ('midwives', 10237), ('rainmaker', 12865), ('exiled', 5686), ('resides', 13405), ('baddies', 1412), ('agricultural', 554), ('wepner', 17619), ('innovate', 8229), ('51st', 207), ('allegory', 671), ('montage', 10500), ('kinetics', 8926), ('acid', 356), ('disposal', 4691), ('methodical', 10191), ('1897', 48), ('eli', 5211), ('barren', 1532), ('borgia', 2078), ('lucrezia', 9601), ('sprung', 15215), ('corp', 3657), ('textile', 16145), ('foreman', 6345), ('stirring', 15401), ('hostility', 7743), ('filthiest', 6105), ('supermonster', 15672), ('nicole', 10940), ('kamkwamba', 8788), ('turbine', 16723), ('malawian', 9749), ('1968', 93), ('reckoning', 13064), ('unspoken', 17021), ('crowley', 3880), ('albania', 618), ('mash', 9903), ('erica', 5505), ('bain', 1428), ('muhammad', 10632), ('slope', 14834), ('disguises', 4645), ('weekly', 17586), ('cohabitating', 3198), ('brooke', 2258), ('spats', 15086), ('condo', 3420), ('mel', 10090), ('habaek', 7190), ('yoruba', 18005), ('igbo', 7921), ('exterminators', 5782), ('fullest', 6542), ('wrought', 17917), ('substances', 15578), ('coal', 3159), ('poets', 12157), ('bye', 2417), ('fracking', 6406), ('lakota', 9092), ('cleanse', 3089), ('kidnapper', 8894), ('hinting', 7572), ('driverless', 4953), ('sedan', 14222), ('cyberpunks', 4001), ('unyielding', 17055), ('christianity', 2991), ('verifiable', 17234), ('māori', 10716), ('kaiora', 8778), ('tipene', 16331), ('polynesian', 12200), ('awfully', 1355), ('nifty', 10945), ('executives', 5675), ('chalet', 2766), ('alumni', 730), ('contests', 3558), ('eliminations', 5218), ('hookups', 7690), ('slaughterhouse', 14789), ('lofts', 9471), ('1937', 69), ('belgian', 1674), ('assassinate', 1144), ('trotsky', 16663), ('zika', 18079), ('vaccine', 17134), ('pantanal', 11613), ('progressive', 12528), ('nighter', 10951), ('cocksure', 3177), ('titular', 16346), ('cincinnati', 3020), ('lancey', 9111), ('flirt', 6237), ('catfish', 2686), ('ekes', 5175), ('infomercials', 8186), ('sitters', 14727), ('senegalese', 14298), ('everest', 5607), ('orbiting', 11343), ('mdma', 10010), ('sautoy', 14022), ('mathematical', 9939), ('underlying', 16867), ('downsizing', 4878), ('repel', 13335), ('wedded', 17573), ('infamy', 8148), ('confessed', 3433), ('coerced', 3190), ('involuntary', 8420), ('handyman', 7258), ('toolbox', 16394), ('paralysis', 11638), ('wright', 17901), ('chiller', 2942), ('visas', 17350), ('objective', 11141), ('thirtysomething', 16219), ('jae', 8511), ('yeong', 17976), ('neuroscientist', 10895), ('eagleman', 5063), ('taps', 15954), ('misstep', 10389), ('inhabiting', 8201), ('raping', 12934), ('obliterates', 11146), ('unworldly', 17051), ('draven', 4916), ('crow', 3875), ('ira', 8428), ('fergus', 6025), ('jody', 8641), ('dil', 4542), ('puppeteers', 12693), ('thra', 16238), ('cuba', 3919), ('mcconnell', 9993), ('fills', 6096), ('inappropriate', 8060), ('scotia', 14142), ('scored', 14133), ('marginally', 9845), ('alum', 729), ('louvre', 9557), ('cryptographer', 3911), ('da', 4021), ('vinci', 17318), ('spite', 15157), ('srintil', 15243), ('unconditional', 16842), ('gelfling', 6708), ('overlords', 11484), ('drain', 4903), ('caldwell', 2459), ('jorgeson', 8683), ('staggering', 15261), ('climbing', 3112), ('yosemite', 18006), ('castillo', 2659), ('detached', 4422), ('begs', 1659), ('headmaster', 7391), ('tyranny', 16780), ('distance', 4706), ('marsha', 9885), ('cristi', 3843), ('puiu', 12665), ('travails', 16569), ('waits', 17444), ('shuttles', 14610), ('hospitals', 7734), ('stalin', 15267), ('fisticuffs', 6163), ('bitterly', 1874), ('nektons', 10863), ('brass', 2157), ('coarse', 3160), ('corrections', 3665), ('postwar', 12281), ('friedkin', 6482), ('91', 228), ('ente', 5429), ('alciel', 627), ('deity', 4263), ('jog', 8646), ('dupont', 5025), ('chemicals', 2891), ('teflon', 16031), ('disturbances', 4719), ('mötley', 10715), ('crüe', 3914), ('superstardom', 15679), ('madeleine', 9672), ('mccann', 9990), ('sophomore', 15014), ('kusuo', 9045), ('saiki', 13916), ('swore', 15821), ('gaggle', 6607), ('backwater', 1402), ('regarded', 13167), ('belonged', 1694), ('princes', 12441), ('elven', 5245), ('heirs', 7456), ('testimony', 16132), ('busan', 2384), ('headfirst', 7385), ('exports', 5759), ('blurs', 1978), ('pondering', 12203), ('1866', 37), ('despot', 4407), ('hazzard', 7379), ('charger', 2817), ('presidencies', 12388), ('nadine', 10721), ('detested', 4436), ('cynic', 4010), ('unbearable', 16825), ('eichmann', 5166), ('relives', 13257), ('angles', 849), ('pharaonic', 11927), ('seele', 14240), ('evas', 5597), ('gendo', 6715), ('instrumentality', 8281), ('lipsky', 9404), ('videotape', 17277), ('footballers', 6321), ('undies', 16885), ('raimi', 12860), ('kaiser', 8780), ('wilhelm', 17712), ('garcia', 6663), ('teendom', 16027), ('robotics', 13694), ('fascination', 5923), ('blows', 1962), ('manzonis', 9825), ('normandy', 11028), ('difficulty', 4533), ('firms', 6146), ('occasionally', 11174), ('brighton', 2224), ('petitions', 11918), ('executed', 5669), ('twisting', 16764), ('snag', 14877), ('orgasm', 11373), ('xie', 17935), ('zhen', 18076), ('defeats', 4224), ('bestowed', 1754), ('bannon', 1498), ('palates', 11585), ('imperiled', 8009), ('athenian', 1208), ('attorneys', 1247), ('spearhead', 15094), ('museum', 10673), ('parthenon', 11684), ('porta', 12239), ('dos', 4850), ('fundos', 6555), ('rotating', 13792), ('forensics', 6348), ('squares', 15235), ('flintstones', 6234), ('barney', 1527), ('yabba', 17943), ('dabba', 4022), ('wilma', 17726), ('posits', 12263), ('wielders', 17692), ('jackie', 8504), ('cataclysmic', 2667), ('sullen', 15627), ('conman', 3474), ('noises', 10998), ('radha', 12823), ('multiethnic', 10641), ('brood', 2256), ('mcdonald', 9996), ('kroc', 9022), ('dismemberment', 4665), ('1827', 33), ('freestyle', 6459), ('skier', 14752), ('jossi', 8692), ('highlining', 7536), ('frenchies', 6466), ('atop', 1219), ('pyrenees', 12729), ('servaz', 14351), ('alaska', 615), ('trooper', 16657), ('inspirational', 8261), ('furchester', 6566), ('melanie', 10091), ('adjusts', 425), ('derwin', 4368), ('wilks', 17713), ('compare', 3342), ('plants', 12092), ('spoiler', 15171), ('skips', 14764), ('alienation', 660), ('lasagna', 9147), ('teasing', 16007), ('geeky', 6704), ('tormenting', 16413), ('dimwitted', 4557), ('odie', 11203), ('moonlight', 10517), ('motorsport', 10589), ('1977', 103), ('breakneck', 2179), ('boisterous', 2008), ('brawling', 2166), ('malacca', 9745), ('lan', 9108), ('ratting', 12961), ('1843', 34), ('crippled', 3834), ('anatolian', 808), ('prying', 12623), ('lyricist', 9643), ('javed', 8551), ('1950', 80), ('sickness', 14617), ('clay', 3084), ('pathologically', 11735), ('kindhearted', 8921), ('absorbed', 290), ('shellstrop', 14485), ('dealership', 4136), ('gwyneth', 7179), ('paltrow', 11596), ('goop', 6922), ('psychedelics', 12627), ('aramaic', 987), ('gospel', 6937), ('texts', 16147), ('enacted', 5326), ('lauded', 9165), ('accuracy', 342), ('apostle', 937), ('matthew', 9952), ('highlighted', 7533), ('gong', 6908), ('ansi', 885), ('whipping', 17656), ('prue', 12622), ('leith', 9273), ('tent', 16088), ('dozen', 4884), ('amiably', 771), ('tasty', 15973), ('cambridge', 2484), ('analytica', 798), ('symbolize', 15833), ('reproduce', 13361), ('immortals', 7992), ('filipinos', 6091), ('1963', 90), ('squeezed', 15239), ('logging', 9476), ('soup', 15038), ('guernsey', 7125), ('bloodthirst', 1950), ('addicts', 406), ('chu', 3005), ('waylaid', 17545), ('blizzard', 1935), ('dicey', 4504), ('stagecoach', 15259), ('rogues', 13725), ('smear', 14853), ('vitriol', 17373), ('hathaway', 7351), ('au', 1256), ('gothic', 6942), ('fractured', 6408), ('extends', 5774), ('scruffy', 14176), ('dude', 4994), ('javanese', 8550), ('didi', 4515), ('kempot', 8860), ('stiller', 15391), ('describe', 4376), ('interviewing', 8354), ('housemaids', 7762), ('brooding', 2257), ('lark', 9142), ('boswell', 2090), ('steely', 15348), ('advent', 472), ('predicting', 12344), ('pointing', 12161), ('unwrap', 17053), ('portals', 12241), ('leland', 9275), ('neglected', 10846), ('panelists', 11609), ('abnormal', 272), ('summit', 15634), ('natasha', 10778), ('leggero', 9263), ('dissect', 4700), ('hung', 7821), ('aval', 1310), ('mora', 10524), ('fannie', 5893), ('haughton', 7353), ('grenada', 7039), ('vinay', 17314), ('pathak', 11732), ('breadwinner', 2174), ('parsi', 11681), ('collectively', 3227), ('scoring', 14135), ('orchestral', 11347), ('soundtracks', 15037), ('caseworker', 2644), ('begun', 1660), ('authority', 1290), ('shortcut', 14566), ('outracing', 11448), ('showdowns', 14581), ('predators', 12337), ('600', 211), ('parnassus', 11673), ('renegotiate', 13305), ('generated', 6721), ('2004', 135), ('tsunami', 16694), ('meddled', 10039), ('hers', 7508), ('rib', 13562), ('tickling', 16289), ('wretched', 17900), ('stairwell', 15263), ('mithco', 10409), ('gigantic', 6796), ('peach', 11788), ('sunnytown', 15653), ('wooden', 17831), ('cupboard', 3955), ('iroquois', 8446), ('figurine', 6083), ('cabinet', 2431), ('whitacre', 17661), ('grisham', 7068), ('nonfiction', 11010), ('june', 8743), ('confusing', 3462), ('gunz', 7163), ('tic', 16284), ('disloyal', 4663), ('aspires', 1137), ('fueling', 6527), ('grabbed', 6953), ('quadriplegia', 12743), ('fibs', 6057), ('inconclusive', 8082), ('criminologist', 3830), ('navarre', 10803), ('sheeran', 14479), ('bufalino', 2315), ('niro', 10975), ('pacino', 11535), ('pesci', 11906), ('thatcher', 16162), ('tatsuya', 15976), ('miyuki', 10419), ('honors', 7679), ('colonel', 3242), ('intel', 8291), ('illiterate', 7948), ('dweebs', 5043), ('cloddish', 3128), ('mi5', 10206), ('fascist', 5924), ('intercept', 8308), ('jaime', 8518), ('maussan', 9963), ('resemble', 13387), ('trending', 16602), ('mchale', 10002), ('eldon', 5185), ('frontline', 6510), ('somalian', 14981), ('gossip', 6938), ('derision', 4365), ('mowgli', 10617), ('bagheera', 1423), ('baloo', 1463), ('shere', 14492), ('literacy', 9418), ('dre', 4923), ('cesnik', 2752), ('badlands', 1414), ('cabeleira', 2429), ('gunman', 7156), ('curated', 3958), ('edges', 5116), ('logothetis', 9479), ('carouser', 2612), ('hostilities', 7742), ('portal', 12240), ('vi', 17253), ('stutter', 15548), ('lionel', 9399), ('logue', 9480), ('strangest', 15456), ('kirlian', 8942), ('sandy', 13977), ('kominsky', 8989), ('newlander', 10911), ('laughing', 9167), ('lesbians', 9301), ('overturned', 11502), ('nativity', 10792), ('abdel', 251), ('sharqawi', 14461), ('pills', 12020), ('anders', 816), ('scavenging', 14078), ('lapis', 9136), ('lazuli', 9209), ('yellow', 17971), ('aggression', 544), ('unexploded', 16908), ('ordnance', 11362), ('scrapyard', 14161), ('hallenbeck', 7227), ('czar', 4017), ('nicholas', 10932), ('bulls', 2331), ('unaired', 16813), ('98', 231), ('robber', 13677), ('tepid', 16093), ('footloose', 6324), ('mere', 10149), ('supper', 15688), ('peruvian', 11905), ('shining', 14515), ('norse', 11032), ('uhtred', 16795), ('saxon', 14041), ('vikings', 17299), ('birthright', 1862), ('cernan', 2749), ('lunar', 9613), ('landings', 9115), ('2041', 154), ('sexes', 14390), ('primitive', 12439), ('retirees', 13477), ('paramilitary', 11641), ('combatting', 3270), ('paraguayan', 11633), ('clinically', 3117), ('quit', 12794), ('rekindles', 13223), ('eulogist', 5578), ('pituitary', 12065), ('raging', 12845), ('panama', 11599), ('superrich', 15676), ('physicist', 11973), ('thermodynamics', 16192), ('faulty', 5945), ('cycling', 4007), ('movistar', 10615), ('baztán', 1590), ('trend', 16601), ('decriminalization', 4202), ('bhagat', 1780), ('1920', 60), ('duffel', 5000), ('nutball', 11115), ('prophecies', 12562), ('fickle', 6058), ('kwazulu', 9050), ('natal', 10775), ('recipients', 13059), ('seo', 14318), ('hui', 7794), ('sik', 14650), ('daycare', 4118), ('restored', 13445), ('pod', 12150), ('unconventionally', 16845), ('opinionated', 11312), ('gardener', 6666), ('overscheduled', 11491), ('cantankerous', 2530), ('lobby', 9450), ('annexation', 869), ('soraya', 15017), ('nabil', 10719), ('talal', 15905), ('eavesdrops', 5094), ('tempted', 16065), ('angering', 846), ('jose', 8685), ('canseco', 2528), ('mcgwire', 10001), ('roped', 13780), ('hitches', 7599), ('crewe', 3818), ('gridiron', 7045), ('warner', 17504), ('eyebrows', 5804), ('aragorn', 985), ('gandalf', 6649), ('fellowship', 6007), ('gondor', 6906), ('frodo', 6502), ('mordor', 10532), ('gimli', 6807), ('legolas', 9267), ('pippin', 12045), ('masquerade', 9909), ('channeling', 2797), ('adrianne', 455), ('forgive', 6362), ('splitsville', 15167), ('unwilling', 17047), ('absolution', 289), ('mortals', 10551), ('ketogenic', 8873), ('ms', 10620), ('frizzle', 6501), ('anthill', 892), ('walkerville', 17458), ('zones', 18100), ('tardigrade', 15956), ('splits', 15166), ('scattering', 14075), ('coldwater', 3209), ('specializing', 15099), ('intimidating', 8360), ('frigid', 6496), ('majesty', 9727), ('chillier', 2943), ('leveraging', 9318), ('withstand', 17790), ('meta', 10180), ('lewan', 9320), ('bilked', 1823), ('matures', 9955), ('revelry', 13516), ('bloodstained', 1949), ('professed', 12503), ('nerds', 10873), ('zorro', 18104), ('torch', 16406), ('discipline', 4612), ('pranked', 12320), ('semblance', 14284), ('lancaster', 9109), ('dodd', 4776), ('perceive', 11843), ('simulation', 14676), ('zion', 18084), ('pinpointed', 12036), ('unconscious', 16843), ('selma', 14282), ('bosnian', 2084), ('cleansing', 3090), ('prioritizes', 12453), ('healthcare', 7402), ('150', 19), ('execute', 5668), ('latches', 9152), ('unbelievable', 16827), ('lyn', 9639), ('starlets', 15300), ('defaults', 4221), ('traversing', 16578), ('trippy', 16643), ('simulator', 14678), ('caster', 2657), ('dairy', 4034), ('narrator', 10765), ('bourdain', 2114), ('artistry', 1104), ('happening', 7278), ('disorders', 4671), ('minimalism', 10317), ('millburn', 10278), ('nicodemus', 10938), ('sniffly', 14896), ('sweaty', 15783), ('publisher', 12652), ('eras', 5500), ('fog', 6285), ('farther', 5917), ('humiliating', 7812), ('gawky', 6694), ('guignol', 7136), ('stalled', 15272), ('receding', 13046), ('hairline', 7216), ('revitalize', 13529), ('atheist', 1205), ('madalyn', 9665), ('manipulating', 9798), ('penthouse', 11834), ('stabbing', 15249), ('bristol', 2235), ('autobiography', 1296), ('tenor', 16084), ('bocelli', 1993), ('toru', 16426), ('muranishi', 10655), ('revolutionized', 13538), ('drebin', 4936), ('intend', 8295), ('suppress', 15699), ('urged', 17098), ('spade', 15063), ('titles', 16345), ('skits', 14766), ('liberates', 9334), ('scrolls', 14174), ('gonzo', 6910), ('journalism', 8696), ('miyagi', 10418), ('chilly', 2946), ('alpine', 710), ('sparing', 15073), ('hanks', 7268), ('nsu', 11084), ('eluded', 5241), ('grouchy', 7087), ('kicked', 8888), ('maury', 9961), ('clara', 3056), ('allowing', 688), ('stalking', 15270), ('deluded', 4292), ('dunder', 5012), ('mifflin', 10239), ('undying', 16889), ('sentences', 14315), ('preferred', 12348), ('sophie', 15012), ('ina', 8057), ('pledges', 12124), ('cedric', 2713), ('bernie', 1744), ('mikaelsons', 10254), ('elopes', 5234), ('connives', 3482), ('obscurity', 11151), ('jockeys', 8639), ('weir', 17596), ('brotherhood', 2268), ('contemplates', 3545), ('layered', 9203), ('outnumbered', 11444), ('offensive', 11217), ('kamdesh', 8787), ('hellbent', 7466), ('grandchild', 6977), ('editorial', 5127), ('ángel', 18116), ('undergraduate', 16863), ('monica', 10485), ('darby', 4075), ('justices', 8759), ('july', 8735), ('1998', 126), ('conglomerate', 3465), ('gins', 6812), ('enhance', 5390), ('shaky', 14421), ('finances', 6112), ('1870', 39), ('pharmacist', 11929), ('extremes', 5796), ('catalán', 2675), ('negatives', 10844), ('atrocities', 1220), ('11th', 10), ('persia', 11888), ('jew', 8597), ('admit', 433), ('christians', 2992), ('clouseau', 3140), ('spritely', 15214), ('tinker', 16326), ('zarina', 18048), ('pixie', 12069), ('dust', 5030), ('somalia', 14980), ('hijackers', 7545), ('pixar', 12067), ('sewn', 14388), ('wrocław', 17909), ('recreating', 13102), ('jailer', 8516), ('programming', 12525), ('résumés', 13883), ('fumble', 6544), ('payton', 11780), ('ponzi', 12211), ('stretched', 15487), ('gripped', 7063), ('banlieue', 1496), ('konomi', 8996), ('frog', 6503), ('stacy', 15254), ('descended', 4372), ('lorded', 9523), ('nightly', 10953), ('oxford', 11520), ('dictionary', 4513), ('vocabulary', 17382), ('wwi', 17922), ('lifted', 9361), ('unpaid', 16984), ('internship', 8327), ('brokerage', 2253), ('snowmobile', 14913), ('korgan', 9007), ('spinal', 15139), ('cord', 3644), ('ancients', 812), ('drafts', 4896), ('gowns', 6950), ('conquistador', 3492), ('heredia', 7495), ('catalina', 2671), ('reenters', 13135), ('seventeen', 14381), ('dolezal', 4792), ('wipes', 17763), ('scandinavia', 14056), ('fits', 6166), ('lyricists', 9644), ('jermaine', 8585), ('dupri', 5026), ('finest', 6124), ('coexistence', 3192), ('rodents', 13714), ('byproducts', 2419), ('hooliganism', 7692), ('hooligans', 7693), ('rowdiest', 13807), ('fumio', 6547), ('demura', 4321), ('devotees', 4474), ('influencing', 8180), ('wheels', 17642), ('manuela', 9819), ('olmo', 11264), ('ethiopian', 5573), ('overall', 11465), ('toughness', 16444), ('reebok', 13125), ('visionaries', 17354), ('rewrote', 13545), ('narratives', 10764), ('runway', 13856), ('timeworn', 16319), ('heirlooms', 7455), ('embabah', 5257), ('january', 8538), ('slush', 14844), ('myung', 10711), ('bak', 1431), ('slows', 14841), ('safari', 13903), ('stockburn', 15405), ('wreckage', 17890), ('serbia', 14332), ('possess', 12265), ('viewer', 17290), ('rears', 13013), ('heedless', 7441), ('rafting', 12840), ('argument', 1029), ('macho', 9661), ('acclimating', 326), ('sara', 13992), ('purification', 12701), ('taoist', 15946), ('nowhere', 11081), ('knocked', 8969), ('investor', 8409), ('info', 8184), ('depp', 4349), ('thompson', 16224), ('runaways', 13850), ('paving', 11765), ('1881', 42), ('describes', 4378), ('romanovs', 13750), ('lenin', 9285), ('ulyanov', 16807), ('ndrangheta', 10820), ('contracting', 3575), ('hemophiliac', 7481), ('templar', 16057), ('homesteader', 7658), ('avenges', 1319), ('gail', 6609), ('cynthia', 4013), ('unintended', 16941), ('safecracker', 13905), ('fuji', 6533), ('wanderer', 17478), ('muddy', 10629), ('astrobiologists', 1186), ('kanaya', 8792), ('snowball', 14907), ('gidget', 6788), ('vendettas', 17210), ('deposed', 4348), ('disbanded', 4604), ('dowd', 4867), ('policing', 12180), ('salvation', 13949), ('mauritius', 9960), ('courses', 3722), ('serendipitous', 14335), ('lambert', 9099), ('overwhelming', 11505), ('swoon', 15815), ('favorable', 5950), ('researching', 13386), ('shades', 14401), ('alluding', 692), ('tolls', 16372), ('disturbingly', 4721), ('stabs', 15251), ('trapper', 16559), ('succumbing', 15594), ('posthumously', 12278), ('gargamel', 6670), ('smurfs', 14873), ('smurf', 14872), ('alikes', 663), ('naughties', 10799), ('networking', 10891), ('alarm', 613), ('creations', 3795), ('facebook', 5820), ('zuckerberg', 18108), ('ham', 7234), ('isolate', 8471), ('ridiculous', 13588), ('subpar', 15572), ('webtoonist', 17571), ('blunders', 1973), ('interplanetary', 8329), ('aimee', 574), ('sutter', 15763), ('rubik', 13820), ('cube', 3922), ('feliks', 5998), ('zemdegs', 18062), ('tumbledown', 16707), ('cohen', 3200), ('downloads', 4873), ('file', 6087), ('ahron', 560), ('bregman', 2195), ('peterson', 11916), ('confiscating', 3449), ('livestock', 9434), ('freshest', 6475), ('conducting', 3423), ('stanford', 15285), ('mock', 10434), ('invested', 8397), ('prolong', 12535), ('scully', 14178), ('pioneers', 12041), ('superintendent', 15666), ('disappearances', 4589), ('bros', 2264), ('arci', 1016), ('affiliated', 510), ('philosophers', 11947), ('pickpocket', 11987), ('dispatcher', 4679), ('garber', 6662), ('lush', 9623), ('vandalized', 17163), ('graveyard', 7011), ('chainsaw', 2761), ('esteem', 5560), ('hawking', 7368), ('als', 713), ('increasing', 8087), ('dependence', 4339), ('beggar', 1653), ('unwitting', 17049), ('sami', 13955), ('wildcats', 17701), ('conservation', 3502), ('required', 13373), ('doubters', 4859), ('involuntarily', 8419), ('zips', 18088), ('trader', 16487), ('potatoes', 12284), ('currency', 3968), ('nelufar', 10865), ('hedayat', 7436), ('empowered', 5313), ('medina', 10052), ('stoop', 15420), ('medication', 10047), ('coogan', 3614), ('brydon', 2286), ('gorge', 6928), ('burgle', 2368), ('covets', 3742), ('javid', 8552), ('abdelmoneim', 252), ('splendor', 15161), ('tudor', 16701), ('hospitalized', 7733), ('computerized', 3385), ('tuxedo', 16746), ('jurors', 8755), ('serling', 14347), ('tinged', 16325), ('subservient', 15575), ('xvi', 17940), ('chauvinistic', 2862), ('commentator', 3304), ('noodle', 11018), ('counters', 3704), ('dropped', 4964), ('commodity', 3319), ('astronomical', 1193), ('rumsfeld', 13847), ('reviews', 13523), ('gerald', 6757), ('bush', 2387), ('dru', 4971), ('kal', 8783), ('wondering', 17821), ('soulmates', 15032), ('armistead', 1051), ('maupin', 9958), ('oslo', 11401), ('damon', 4050), ('exorcists', 5700), ('bemoans', 1705), ('undermined', 16868), ('laziness', 9208), ('asperger', 1135), ('violinist', 17332), ('chidi', 2923), ('eugenia', 5576), ('loudmouthed', 9549), ('banding', 1476), ('eyesight', 5807), ('towns', 16464), ('pattern', 11751), ('bone', 2036), ('playoffs', 12111), ('marred', 9875), ('superstition', 15681), ('josiah', 8691), ('bartlet', 1542), ('airstrikes', 589), ('wiggles', 17698), ('choreography', 2981), ('perfectly', 11858), ('imperfect', 8006), ('pilgrims', 12017), ('homesteading', 7659), ('primeval', 12438), ('abusing', 302), ('geralt', 6758), ('rivia', 13655), ('mutated', 10686), ('hissrich', 7588), ('powering', 12303), ('acoustics', 358), ('ears', 5076), ('libertine', 9337), ('jie', 8609), ('cheng', 2895), ('jacine', 8501), ('jadresko', 8510), ('rabbi', 12801), ('incite', 8073), ('shipyard', 14528), ('sociopolitical', 14941), ('notices', 11063), ('equestrian', 5492), ('caroline', 2610), ('conservationist', 3503), ('scaly', 14048), ('illegally', 7945), ('trafficked', 16496), ('belong', 1693), ('jill', 8613), ('eerily', 5143), ('texted', 16144), ('jiang', 8608), ('catalyst', 2674), ('upturn', 17092), ('centurion', 2743), ('nazareth', 10811), ('through', 16257), ('bicycles', 1800), ('capsized', 2545), ('massimo', 9915), ('bottura', 2104), ('needy', 10838), ('expo', 5757), ('mokia', 10465), ('thelonious', 16175), ('hypochondriac', 7871), ('pitt', 12062), ('chimpanzees', 2949), ('padnos', 11551), ('qaida', 12733), ('prospector', 12574), ('stoking', 15408), ('minority', 10326), ('preoccupied', 12361), ('yvan', 18038), ('semitism', 14289), ('entertainers', 5439), ('thiago', 16198), ('ventura', 17221), ('highwayman', 7540), ('lichte', 9343), ('downtrodden', 4880), ('flanders', 6187), ('pramoedya', 12318), ('ananta', 802), ('toer', 16360), ('hackers', 7199), ('exploit', 5740), ('sous', 15043), ('tomorrowland', 16384), ('centenarian', 2737), ('sodor', 14945), ('flurry', 6271), ('inventions', 8392), ('useful', 17111), ('are', 1020), ('weave', 17562), ('delays', 4271), ('debacles', 4147), ('muay', 10623), ('asgard', 1113), ('stumped', 15539), ('thorne', 16229), ('dragged', 4898), ('dedicates', 4205), ('awaiting', 1337), ('occurring', 11183), ('polygamist', 12198), ('rockland', 13708), ('mormons', 10538), ('utah', 17123), ('cristy', 3845), ('conceal', 3392), ('debuts', 4161), ('compton', 3382), ('ufc', 16790), ('ronda', 13760), ('rousey', 13798), ('thunderbolt', 16271), ('shown', 14584), ('raids', 12855), ('mcteer', 10008), ('orphelin', 11391), ('sirens', 14714), ('tidying', 16294), ('marie', 9852), ('kondo', 8991), ('trainees', 16513), ('melilla', 10094), ('rif', 13591), ('picked', 11983), ('oozing', 11293), ('bombastic', 2022), ('unpretentious', 16991), ('notaro', 11054), ('announced', 873), ('studied', 15526), ('zoo', 18101), ('frente', 6470), ('tijuana', 16308), ('preventing', 12414), ('middlemen', 10229), ('cooperative', 3627), ('speculative', 15110), ('mirrorfiction', 10348), ('headlong', 7390), ('deepest', 4216), ('stuff', 15533), ('lawn', 9192), ('grunts', 7109), ('lawns', 9193), ('flanked', 6188), ('orchestra', 11346), ('minchin', 10294), ('albert', 620), ('wonderfully', 17820), ('canvas', 2532), ('archaeology', 998), ('kalief', 8784), ('browder', 2272), ('spousal', 15198), ('graphics', 6997), ('retell', 13468), ('impish', 8016), ('lamb', 9098), ('fairness', 5851), ('fearsome', 5968), ('neverbeast', 10901), ('fawn', 5955), ('journal', 8695), ('weisbarth', 17601), ('giffin', 6790), ('hypercustomized', 7865), ('replacement', 13340), ('meadow', 10012), ('titipo', 16342), ('reliably', 13246), ('pantsula', 11617), ('officially', 11229), ('article', 1093), ('nationalism', 10783), ('venezuela', 17213), ('multibillion', 10639), ('simone', 14669), ('nervosa', 10879), ('midwestern', 10235), ('classically', 3070), ('horrid', 7716), ('tobots', 16352), ('delayed', 4270), ('appointments', 956), ('bounces', 2108), ('kit', 8947), ('denying', 4331), ('compliments', 3373), ('lauriente', 9181), ('animatedly', 857), ('slices', 14818), ('quixotic', 12797), ('sanitation', 13981), ('predominantly', 12346), ('transactional', 16525), ('weighing', 17591), ('booth', 2064), ('reassigned', 13019), ('papa', 11618), ('staten', 15319), ('segura', 14253), ('uncomfortably', 16841), ('offhand', 11223), ('appraisals', 958), ('digestive', 4535), ('blunt', 1974), ('bearded', 1605), ('piercings', 11999), ('tyson', 16783), ('tomasz', 16375), ('jachimek', 8500), ('jacek', 8499), ('stramik', 15449), ('megalomaniacal', 10073), ('patience', 11739), ('arguably', 1027), ('robbins', 13682), ('mega', 10069), ('mingle', 10310), ('calvin', 2478), ('guadalcanal', 7112), ('brig', 2220), ('toon', 16396), ('biz', 1879), ('skyrockets', 14776), ('knocking', 8970), ('persistently', 11890), ('ufos', 16792), ('hayes', 7370), ('grier', 7048), ('tightrope', 16306), ('nomad', 11002), ('soothsayer', 15010), ('unspool', 17022), ('poem', 12153), ('ryūji', 13882), ('taiga', 15886), ('toro', 16417), ('booming', 2057), ('interspersed', 8344), ('bongs', 2040), ('douglas', 4865), ('quaid', 12745), ('insurrection', 8288), ('perpetual', 11880), ('queensland', 12766), ('semis', 14288), ('málaga', 10712), ('retrial', 13487), ('messenger', 10173), ('livelihood', 9429), ('julian', 8729), ('legit', 9265), ('demolish', 4309), ('bravado', 2159), ('intoxicated', 8364), ('requirements', 13374), ('miscreants', 10358), ('lamest', 9103), ('sunnyvale', 15654), ('roc', 13701), ('rapped', 12938), ('barb', 1503), ('lahey', 9084), ('lam', 9095), ('renton', 13320), ('infiltration', 8171), ('briefcase', 2218), ('singularity', 14705), ('computers', 3386), ('boating', 1986), ('woodworker', 17837), ('florian', 6254), ('powerlifter', 12304), ('kroczaleski', 9023), ('autobots', 1298), ('decepticons', 4171), ('megatron', 10079), ('bots', 2099), ('cybertron', 4002), ('optimus', 11333), ('allspark', 691), ('scrambled', 14153), ('transformers', 16540), ('heatwave', 7429), ('blades', 1895), ('autobot', 1297), ('ravage', 12968), ('heap', 7405), ('loutish', 9556), ('onur', 11289), ('incurable', 8092), ('klutz', 8959), ('şeref', 18122), ('organizes', 11372), ('crafting', 3764), ('astroworld', 1198), ('travis', 16579), ('bulldozer', 2327), ('damien', 4048), ('hirst', 7584), ('oceanic', 11188), ('virtue', 17345), ('politeness', 12187), ('trees', 16596), ('toby', 16353), ('teri', 16096), ('seismologist', 14258), ('readings', 12992), ('equipment', 5494), ('handymen', 7259), ('suck', 15596), ('supersucking', 15684), ('worming', 17862), ('worm', 17860), ('burt', 2382), ('gummer', 7150), ('graboids', 6957), ('survivalist', 15738), ('graboid', 6956), ('weaponized', 17555), ('naming', 10741), ('tacos', 15871), ('snakes', 14882), ('immunity', 7994), ('jostling', 8693), ('systemic', 15847), ('emphasis', 5303), ('goan', 6881), ('recalling', 13041), ('interpersonal', 8328), ('shoplifters', 14555), ('distinct', 4708), ('adept', 417), ('tampa', 15931), ('buccaneers', 2294), ('trixie', 16651), ('mattel', 9949), ('poppy', 12226), ('bergens', 1736), ('celebrations', 2720), ('trotro', 16662), ('aphrodite', 930), ('herdsman', 7493), ('sparta', 15081), ('homer', 7655), ('odysseus', 11207), ('extension', 5775), ('lecherous', 9245), ('bighearted', 1812), ('bartleby', 1541), ('mattie', 9953), ('crusty', 3904), ('rooster', 13776), ('cogburn', 3196), ('forcibly', 6335), ('bleed', 1911), ('freshly', 6476), ('grippity', 7065), ('grizelda', 7072), ('bracelet', 2134), ('grabbleapple', 6954), ('glummy', 6870), ('glooma', 6860), ('autumn', 1304), ('loneliest', 9489), ('contagious', 3540), ('cue', 3929), ('neverending', 10902), ('dillydally', 4551), ('spinner', 15142), ('pinocchio', 12034), ('yeti', 17979), ('howling', 7776), ('greenies', 7029), ('freezing', 6463), ('wishfest', 17776), ('gooding', 6913), ('tippy', 16333), ('wuzzle', 17920), ('wegg', 17588), ('blacklisted', 1885), ('dalton', 4044), ('trumbo', 16681), ('canceled', 2511), ('noisy', 10999), ('toucan', 16435), ('tuca', 16698), ('thrush', 16263), ('bertie', 1747), ('relax', 13232), ('saints', 13923), ('ramifications', 12893), ('morake', 10525), ('fisheries', 6153), ('cultivation', 3942), ('reticent', 13473), ('bakery', 1435), ('stranglehold', 15457), ('imbues', 7975), ('amps', 786), ('1778', 26), ('abe', 263), ('woodhull', 17832), ('cabbage', 2426), ('obliged', 11144), ('spying', 15226), ('podcaster', 12152), ('seafarer', 14186), ('transformational', 16536), ('reenacts', 13133), ('tsutomu', 16695), ('yamaguchi', 17949), ('vitoria', 17372), ('gasteiz', 6677), ('mimicking', 10291), ('palmer', 11592), ('lips', 9402), ('bead', 1599), ('twirlywoos', 16760), ('boat', 1985), ('ganesha', 6652), ('lawmakers', 9189), ('catalonia', 2673), ('jasper', 8546), ('honolulu', 7675), ('heavyweight', 7434), ('acquiesce', 361), ('kabir', 8773), ('kuhu', 9032), ('whim', 17651), ('bs', 2288), ('grub', 7102), ('storyline', 15438), ('representing', 13356), ('sainz', 13924), ('ultraman', 16804), ('rescuer', 13378), ('uncharted', 16836), ('fanatic', 5884), ('follower', 6301), ('composes', 3375), ('preyed', 12419), ('kaczynski', 8774), ('unabomber', 16811), ('greer', 7033), ('shipper', 14525), ('spate', 15085), ('anymore', 914), ('reverend', 13521), ('stave', 15333), ('lluís', 9442), ('carlana', 2595), ('crystals', 3913), ('yemeni', 17974), ('uae', 16786), ('sommelier', 14990), ('implicate', 8020), ('playoff', 12110), ('surfers', 15713), ('lawbreakers', 9187), ('warns', 17507), ('beaches', 1595), ('riccione', 13567), ('iran', 8429), ('liquid', 9405), ('campground', 2501), ('weekends', 17584), ('archenemy', 1001), ('foosball', 6316), ('incarnated', 8065), ('batchmates', 1565), ('choir', 2971), ('cybercrimes', 4000), ('somber', 14982), ('eradicating', 5499), ('selecting', 14266), ('editing', 5124), ('ph', 11925), ('fatigue', 5942), ('puzzling', 12726), ('laurie', 9180), ('pedophile', 11806), ('abrupt', 284), ('roam', 13667), ('ghastly', 6774), ('overnighting', 11487), ('bingham', 1837), ('firing', 6143), ('assets', 1159), ('indy', 8135), ('startup', 15312), ('fray', 6442), ('callous', 2472), ('tricked', 16623), ('exploiters', 5743), ('urzila', 17104), ('carlson', 2600), ('roaring', 13671), ('recasting', 13045), ('boxed', 2122), ('supplies', 15691), ('sucking', 15598), ('fiends', 6066), ('dal', 4040), ('geon', 6749), ('elísabet', 5250), ('benavent', 1708), ('helicopter', 7462), ('unseemly', 17015), ('disciplinary', 4611), ('committee', 3317), ('gentrifying', 6743), ('antiterrorism', 906), ('ashton', 1123), ('bandit', 1477), ('punches', 12676), ('calmer', 2475), ('pacifist', 11534), ('entrants', 5455), ('vitro', 17374), ('fertilization', 6037), ('veggie', 17199), ('horizons', 7710), ('tomato', 16376), ('cucumber', 3926), ('seamstress', 14191), ('velvet', 17207), ('minding', 10298), ('gilded', 6802), ('polygamy', 12199), ('piety', 12003), ('congenial', 3464), ('edinburgh', 5121), ('fahri', 5839), ('aisha', 591), ('thiru', 16220), ('viceroy', 17260), ('mountbatten', 10597), ('oversee', 11493), ('bilbao', 1822), ('jihadi', 8612), ('vega', 17193), ('olaya', 11251), ('miner', 10305), ('emigrates', 5285), ('1934', 67), ('odin', 11204), ('parcak', 11652), ('explorations', 5746), ('pub', 12645), ('terse', 16123), ('violet', 17330), ('evergarden', 5609), ('emotionless', 5299), ('vir', 17335), ('das', 4095), ('globalism', 6854), ('cleverly', 3103), ('crosscut', 3864), ('vedas', 17189), ('vasco', 17180), ('gama', 6635), ('vacuous', 17135), ('plotlines', 12129), ('homebound', 7646), ('sahay', 13912), ('grandkids', 6983), ('gorillas', 6932), ('virunga', 17347), ('rulers', 13839), ('nascent', 10770), ('1974', 100), ('anatolia', 807), ('trepidation', 16606), ('bemused', 1706), ('ezekiel', 5809), ('nontraditional', 11014), ('pharrell', 11930), ('megapowerful', 10077), ('voltron', 17396), ('yacine', 17945), ('belhousse', 1676), ('talese', 15912), ('spied', 15131), ('bombshell', 2028), ('zippy', 18087), ('kamau', 8786), ('dustups', 5031), ('woke', 17803), ('grid', 7044), ('glossy', 6866), ('juxtaposes', 8766), ('winthrop', 17756), ('dishonorably', 4655), ('ask', 1128), ('passive', 11716), ('wadi', 17430), ('serene', 14336), ('educators', 5138), ('reformers', 13149), ('shenaniganz', 14490), ('anesthesiologist', 835), ('brat', 2158), ('meaningless', 10019), ('significantly', 14647), ('attic', 1243), ('yugo', 18024), ('eliatrope', 5213), ('wakfu', 17449), ('qilby', 12738), ('ogrest', 11237), ('crying', 3907), ('amalia', 738), ('dofus', 4783), ('zen', 18063), ('thich', 16199), ('nhat', 10927), ('hanh', 7266), ('mindfulness', 10297), ('monastic', 10480), ('occurs', 11184), ('paperman', 11620), ('wanda', 17476), ('sykes', 15826), ('nekfeu', 10862), ('taut', 15982), ('englishman', 5385), ('cavalry', 2704), ('hubris', 7783), ('intimidated', 8359), ('happenings', 7279), ('retiring', 13480), ('lino', 9396), ('bearer', 1606), ('striking', 15496), ('dated', 4102), ('joon', 8679), ('rushing', 13862), ('barons', 1529), ('waterschool', 17537), ('warren', 17511), ('breakfast', 2177), ('amputee', 787), ('grandmaster', 6985), ('solidarité', 14967), ('nationalistic', 10785), ('fervor', 6039), ('rostock', 13790), ('xenophobic', 17931), ('vandana', 17164), ('unchecked', 16837), ('visceral', 17351), ('hackman', 7200), ('corps', 3661), ('lalaloopsy', 9093), ('collaboration', 3214), ('thesis', 16195), ('retailers', 13461), ('glock', 6858), ('pistol', 12051), ('implications', 8023), ('kirkuk', 8941), ('coffins', 3195), ('foreshadows', 6349), ('mathias', 9941), ('buoyed', 2355), ('farce', 5904), ('respectable', 13425), ('correspondence', 3668), ('hostiles', 7741), ('paranoia', 11643), ('campers', 2500), ('bribery', 2207), ('marrow', 9880), ('donation', 4821), ('leukemia', 9314), ('bea', 1593), ('insult', 8284), ('mecca', 10029), ('heeled', 7442), ('infantry', 8153), ('lacking', 9069), ('firepower', 6140), ('peninsula', 11823), ('westside', 17628), ('barbell', 1508), ('powerlifting', 12305), ('firewood', 6142), ('hanky', 7269), ('panky', 11612), ('hooky', 7691), ('nayla', 10810), ('interrogates', 8335), ('septuplets', 14329), ('detection', 4427), ('heard', 7407), ('jokingly', 8665), ('monogamous', 10492), ('reassure', 13020), ('psychopathy', 12639), ('nonviolent', 11016), ('pei', 11814), ('mei', 10083), ('fortuitously', 6381), ('crabby', 3752), ('industries', 8132), ('glam', 6827), ('fertility', 6036), ('sardinian', 13998), ('loren', 9526), ('gilbert', 6801), ('edition', 5125), ('modernity', 10446), ('yogesh', 17992), ('astrological', 1188), ('coordinating', 3628), ('dongbaek', 4824), ('peoples', 11836), ('persuade', 11902), ('prodigious', 12491), ('hipster', 7575), ('initially', 8208), ('whindersson', 17654), ('nunes', 11101), ('attachments', 1223), ('glimmers', 6845), ('verse', 17239), ('captor', 2556), ('commanding', 3298), ('wolfdog', 17806), ('distinctly', 4710), ('romping', 13758), ('essex', 5554), ('ibiza', 7880), ('coldhearted', 3208), ('kari', 8815), ('byron', 2420), ('tory', 16427), ('belleci', 1689), ('imahara', 7973), ('mythbusters', 10704), ('whitney', 17667), ('cummings', 3951), ('frustratingly', 6520), ('alago', 610), ('signed', 14645), ('desirable', 4393), ('geneticist', 6730), ('dispels', 4682), ('monogamy', 10493), ('russo', 13867), ('varied', 17175), ('continental', 3562), ('abundance', 297), ('ships', 14526), ('surrendering', 15730), ('avoids', 1334), ('utopian', 17126), ('ingenious', 8193), ('notch', 11055), ('liberated', 9333), ('verdies', 17232), ('grimps', 7060), ('tickets', 16286), ('holders', 7625), ('confectionary', 3427), ('firearms', 6133), ('constructs', 3528), ('product', 12498), ('napa', 10749), ('messier', 10176), ('faison', 5854), ('numerical', 11098), ('tidbits', 16291), ('smallest', 14847), ('93', 229), ('ukraine', 16797), ('moribund', 10536), ('aidan', 564), ('tack', 15864), ('harmony', 7311), ('suzannah', 15764), ('lipscomb', 9403), ('defrauding', 4246), ('arshile', 1081), ('gorky', 6933), ('arcadia', 994), ('wonho', 17826), ('chung', 3011), ('ratchets', 12954), ('floats', 6243), ('potent', 12285), ('decays', 4166), ('reminisce', 13284), ('pecks', 11798), ('bailey', 1427), ('franny', 6432), ('kip', 8937), ('lulu', 9608), ('tilly', 16311), ('maternity', 9936), ('renxin', 13322), ('wow', 17879), ('winx', 17758), ('worldly', 17855), ('rescuers', 13379), ('definition', 4242), ('workings', 17850), ('metropolises', 10196), ('avoided', 1332), ('profiling', 12517), ('bottles', 2102), ('fantastically', 5899), ('residences', 13400), ('mk', 10420), ('boori', 2061), ('controlling', 3587), ('bootlegger', 2065), ('huston', 7849), ('aleutian', 641), ('wyatt', 17924), ('cenac', 2732), ('borough', 2082), ('sitcoms', 14722), ('cheesemongers', 2885), ('earp', 5075), ('corral', 3663), ('holliday', 7636), ('revenants', 13518), ('has', 7334), ('been', 1640), ('allure', 693), ('touched', 16437), ('deemed', 4212), ('untouchable', 17035), ('cooperating', 3626), ('xxx', 17941), ('augustus', 1272), ('gibbons', 6787), ('tenoch', 16083), ('julio', 8732), ('luisa', 9605), ('fervent', 6038), ('frías', 6523), ('parra', 11677), ('industrious', 8133), ('dharam', 4483), ('swati', 15777), ('virtually', 17344), ('leprosy', 9297), ('clamors', 3054), ('harshu', 7325), ('balances', 1441), ('tags', 15883), ('tomboyish', 16379), ('distractions', 4712), ('heartaches', 7413), ('attractions', 1252), ('refresh', 13151), ('devoutly', 4479), ('suppressing', 15700), ('seungri', 14378), ('bigbang', 1806), ('yg', 17980), ('frees', 6458), ('yo', 17990), ('oto', 11412), ('vik', 17297), ('playgrounds', 12108), ('whichever', 17650), ('yoo', 17997), ('byung', 2422), ('touchy', 16440), ('bare', 1515), ('yoohoo', 17998), ('insert', 8247), ('footing', 6323), ('hairstylist', 7218), ('dallying', 4043), ('fairytale', 5853), ('georgina', 6756), ('announcing', 876), ('incriminating', 8090), ('incendiary', 8066), ('hate', 7347), ('wallander', 17464), ('birdy', 1855), ('kanan', 8791), ('gill', 6803), ('tumult', 16712), ('morsi', 10548), ('ouster', 11419), ('demonstrators', 4319), ('calamities', 2455), ('replaying', 13343), ('yugi', 18023), ('moto', 10582), ('téa', 16784), ('pendulum', 11819), ('technique', 16013), ('yuya', 18037), ('dueltainer', 4998), ('creatively', 3797), ('fatherly', 5940), ('mongol', 10484), ('invasions', 8388), ('yunus', 18032), ('emre', 5319), ('temptations', 16064), ('dervish', 4367), ('zé', 18113), ('miri', 10344), ('zak', 18043), ('bermuda', 1743), ('unqualified', 16992), ('disapproves', 4596), ('obey', 11138), ('clearance', 3092), ('vertically', 17243), ('laundering', 9175), ('zig', 18078), ('hyena', 7859), ('sharko', 14453), ('kashaf', 8827), ('zaroon', 18049), ('sadist', 13900), ('zip', 18085), ('zap', 18046), ('zoé', 18107), ('zoids', 18095), ('untapped', 17030), ('dorky', 4844), ('roughneck', 13795), ('deprives', 4355), ('zozo', 18106), ('introducing', 8373), ('adriano', 456), ('zumbo', 18111), ('amateurs', 748), ('mystique', 10702)])"
            ]
          },
          "metadata": {},
          "execution_count": 51
        }
      ]
    },
    {
      "cell_type": "code",
      "source": [
        "vocab = [ ]\n",
        "count_of_vocab = []\n",
        "for key , value in dictionary:\n",
        "  vocab.append( key )\n",
        "  count_of_vocab.append( value )"
      ],
      "metadata": {
        "id": "VeYOYv4ovJSi"
      },
      "execution_count": 52,
      "outputs": []
    },
    {
      "cell_type": "markdown",
      "source": [
        "Creating a new *DataFrame* **vocab_before_stemming**"
      ],
      "metadata": {
        "id": "_I8CMSoCvN-y"
      }
    },
    {
      "cell_type": "code",
      "source": [
        "# Store the count in panadas dataframe with vocab as index\n",
        "vocab_before_stemming = pd.DataFrame({\"Word\": vocab ,\n",
        "                                      \"count\" :count_of_vocab})\n",
        "# Sort the dataframe\n",
        "vocab_before_stemming = vocab_before_stemming.sort_values(\"count\" ,ascending=False)"
      ],
      "metadata": {
        "id": "MI-XK1MKvWzl"
      },
      "execution_count": 53,
      "outputs": []
    },
    {
      "cell_type": "code",
      "source": [
        "vocab_before_stemming.head(4)"
      ],
      "metadata": {
        "colab": {
          "base_uri": "https://localhost:8080/",
          "height": 175
        },
        "id": "mQhyDcfvvb0R",
        "outputId": "8472003d-34be-4d04-af79-ce61a6e8c56c"
      },
      "execution_count": 54,
      "outputs": [
        {
          "output_type": "execute_result",
          "data": {
            "text/plain": [
              "         Word  count\n",
              "17475   şeref  18122\n",
              "9914    ōarai  18121\n",
              "11710  łukasz  18120\n",
              "10570    über  18119"
            ],
            "text/html": [
              "\n",
              "  <div id=\"df-42d5743d-3877-445e-ba32-9c5852c94000\">\n",
              "    <div class=\"colab-df-container\">\n",
              "      <div>\n",
              "<style scoped>\n",
              "    .dataframe tbody tr th:only-of-type {\n",
              "        vertical-align: middle;\n",
              "    }\n",
              "\n",
              "    .dataframe tbody tr th {\n",
              "        vertical-align: top;\n",
              "    }\n",
              "\n",
              "    .dataframe thead th {\n",
              "        text-align: right;\n",
              "    }\n",
              "</style>\n",
              "<table border=\"1\" class=\"dataframe\">\n",
              "  <thead>\n",
              "    <tr style=\"text-align: right;\">\n",
              "      <th></th>\n",
              "      <th>Word</th>\n",
              "      <th>count</th>\n",
              "    </tr>\n",
              "  </thead>\n",
              "  <tbody>\n",
              "    <tr>\n",
              "      <th>17475</th>\n",
              "      <td>şeref</td>\n",
              "      <td>18122</td>\n",
              "    </tr>\n",
              "    <tr>\n",
              "      <th>9914</th>\n",
              "      <td>ōarai</td>\n",
              "      <td>18121</td>\n",
              "    </tr>\n",
              "    <tr>\n",
              "      <th>11710</th>\n",
              "      <td>łukasz</td>\n",
              "      <td>18120</td>\n",
              "    </tr>\n",
              "    <tr>\n",
              "      <th>10570</th>\n",
              "      <td>über</td>\n",
              "      <td>18119</td>\n",
              "    </tr>\n",
              "  </tbody>\n",
              "</table>\n",
              "</div>\n",
              "      <button class=\"colab-df-convert\" onclick=\"convertToInteractive('df-42d5743d-3877-445e-ba32-9c5852c94000')\"\n",
              "              title=\"Convert this dataframe to an interactive table.\"\n",
              "              style=\"display:none;\">\n",
              "        \n",
              "  <svg xmlns=\"http://www.w3.org/2000/svg\" height=\"24px\"viewBox=\"0 0 24 24\"\n",
              "       width=\"24px\">\n",
              "    <path d=\"M0 0h24v24H0V0z\" fill=\"none\"/>\n",
              "    <path d=\"M18.56 5.44l.94 2.06.94-2.06 2.06-.94-2.06-.94-.94-2.06-.94 2.06-2.06.94zm-11 1L8.5 8.5l.94-2.06 2.06-.94-2.06-.94L8.5 2.5l-.94 2.06-2.06.94zm10 10l.94 2.06.94-2.06 2.06-.94-2.06-.94-.94-2.06-.94 2.06-2.06.94z\"/><path d=\"M17.41 7.96l-1.37-1.37c-.4-.4-.92-.59-1.43-.59-.52 0-1.04.2-1.43.59L10.3 9.45l-7.72 7.72c-.78.78-.78 2.05 0 2.83L4 21.41c.39.39.9.59 1.41.59.51 0 1.02-.2 1.41-.59l7.78-7.78 2.81-2.81c.8-.78.8-2.07 0-2.86zM5.41 20L4 18.59l7.72-7.72 1.47 1.35L5.41 20z\"/>\n",
              "  </svg>\n",
              "      </button>\n",
              "      \n",
              "  <style>\n",
              "    .colab-df-container {\n",
              "      display:flex;\n",
              "      flex-wrap:wrap;\n",
              "      gap: 12px;\n",
              "    }\n",
              "\n",
              "    .colab-df-convert {\n",
              "      background-color: #E8F0FE;\n",
              "      border: none;\n",
              "      border-radius: 50%;\n",
              "      cursor: pointer;\n",
              "      display: none;\n",
              "      fill: #1967D2;\n",
              "      height: 32px;\n",
              "      padding: 0 0 0 0;\n",
              "      width: 32px;\n",
              "    }\n",
              "\n",
              "    .colab-df-convert:hover {\n",
              "      background-color: #E2EBFA;\n",
              "      box-shadow: 0px 1px 2px rgba(60, 64, 67, 0.3), 0px 1px 3px 1px rgba(60, 64, 67, 0.15);\n",
              "      fill: #174EA6;\n",
              "    }\n",
              "\n",
              "    [theme=dark] .colab-df-convert {\n",
              "      background-color: #3B4455;\n",
              "      fill: #D2E3FC;\n",
              "    }\n",
              "\n",
              "    [theme=dark] .colab-df-convert:hover {\n",
              "      background-color: #434B5C;\n",
              "      box-shadow: 0px 1px 3px 1px rgba(0, 0, 0, 0.15);\n",
              "      filter: drop-shadow(0px 1px 2px rgba(0, 0, 0, 0.3));\n",
              "      fill: #FFFFFF;\n",
              "    }\n",
              "  </style>\n",
              "\n",
              "      <script>\n",
              "        const buttonEl =\n",
              "          document.querySelector('#df-42d5743d-3877-445e-ba32-9c5852c94000 button.colab-df-convert');\n",
              "        buttonEl.style.display =\n",
              "          google.colab.kernel.accessAllowed ? 'block' : 'none';\n",
              "\n",
              "        async function convertToInteractive(key) {\n",
              "          const element = document.querySelector('#df-42d5743d-3877-445e-ba32-9c5852c94000');\n",
              "          const dataTable =\n",
              "            await google.colab.kernel.invokeFunction('convertToInteractive',\n",
              "                                                     [key], {});\n",
              "          if (!dataTable) return;\n",
              "\n",
              "          const docLinkHtml = 'Like what you see? Visit the ' +\n",
              "            '<a target=\"_blank\" href=https://colab.research.google.com/notebooks/data_table.ipynb>data table notebook</a>'\n",
              "            + ' to learn more about interactive tables.';\n",
              "          element.innerHTML = '';\n",
              "          dataTable['output_type'] = 'display_data';\n",
              "          await google.colab.output.renderOutput(dataTable, element);\n",
              "          const docLink = document.createElement('div');\n",
              "          docLink.innerHTML = docLinkHtml;\n",
              "          element.appendChild(docLink);\n",
              "        }\n",
              "      </script>\n",
              "    </div>\n",
              "  </div>\n",
              "  "
            ]
          },
          "metadata": {},
          "execution_count": 54
        }
      ]
    },
    {
      "cell_type": "code",
      "source": [
        "vocab_before_stemming.head(20).T"
      ],
      "metadata": {
        "colab": {
          "base_uri": "https://localhost:8080/",
          "height": 112
        },
        "id": "fPRznX8ivkS3",
        "outputId": "a4b27a53-712e-4cd9-f56a-6e9ca759b5f4"
      },
      "execution_count": 55,
      "outputs": [
        {
          "output_type": "execute_result",
          "data": {
            "text/plain": [
              "       17475  9914    11710  10570  12513  6378   16885   9947   9427   18093  \\\n",
              "Word   şeref  ōarai  łukasz   über   ömer  émile  ángel  álvaro   álex     zé   \n",
              "count  18122  18121   18120  18119  18118  18117  18116   18115  18114  18113   \n",
              "\n",
              "        6333   18120  15312  6952        17068  18111  18117  9823   16773  \\\n",
              "Word   zurich  zumbo   zulu   zuhu  zuckerberg    zoé   zozo   zoya  zorro   \n",
              "count   18112  18111  18110  18109       18108  18107  18106  18105  18104   \n",
              "\n",
              "        14452  \n",
              "Word   zordon  \n",
              "count   18103  "
            ],
            "text/html": [
              "\n",
              "  <div id=\"df-eef702a6-4c48-48ad-bcae-d5191458faf9\">\n",
              "    <div class=\"colab-df-container\">\n",
              "      <div>\n",
              "<style scoped>\n",
              "    .dataframe tbody tr th:only-of-type {\n",
              "        vertical-align: middle;\n",
              "    }\n",
              "\n",
              "    .dataframe tbody tr th {\n",
              "        vertical-align: top;\n",
              "    }\n",
              "\n",
              "    .dataframe thead th {\n",
              "        text-align: right;\n",
              "    }\n",
              "</style>\n",
              "<table border=\"1\" class=\"dataframe\">\n",
              "  <thead>\n",
              "    <tr style=\"text-align: right;\">\n",
              "      <th></th>\n",
              "      <th>17475</th>\n",
              "      <th>9914</th>\n",
              "      <th>11710</th>\n",
              "      <th>10570</th>\n",
              "      <th>12513</th>\n",
              "      <th>6378</th>\n",
              "      <th>16885</th>\n",
              "      <th>9947</th>\n",
              "      <th>9427</th>\n",
              "      <th>18093</th>\n",
              "      <th>6333</th>\n",
              "      <th>18120</th>\n",
              "      <th>15312</th>\n",
              "      <th>6952</th>\n",
              "      <th>17068</th>\n",
              "      <th>18111</th>\n",
              "      <th>18117</th>\n",
              "      <th>9823</th>\n",
              "      <th>16773</th>\n",
              "      <th>14452</th>\n",
              "    </tr>\n",
              "  </thead>\n",
              "  <tbody>\n",
              "    <tr>\n",
              "      <th>Word</th>\n",
              "      <td>şeref</td>\n",
              "      <td>ōarai</td>\n",
              "      <td>łukasz</td>\n",
              "      <td>über</td>\n",
              "      <td>ömer</td>\n",
              "      <td>émile</td>\n",
              "      <td>ángel</td>\n",
              "      <td>álvaro</td>\n",
              "      <td>álex</td>\n",
              "      <td>zé</td>\n",
              "      <td>zurich</td>\n",
              "      <td>zumbo</td>\n",
              "      <td>zulu</td>\n",
              "      <td>zuhu</td>\n",
              "      <td>zuckerberg</td>\n",
              "      <td>zoé</td>\n",
              "      <td>zozo</td>\n",
              "      <td>zoya</td>\n",
              "      <td>zorro</td>\n",
              "      <td>zordon</td>\n",
              "    </tr>\n",
              "    <tr>\n",
              "      <th>count</th>\n",
              "      <td>18122</td>\n",
              "      <td>18121</td>\n",
              "      <td>18120</td>\n",
              "      <td>18119</td>\n",
              "      <td>18118</td>\n",
              "      <td>18117</td>\n",
              "      <td>18116</td>\n",
              "      <td>18115</td>\n",
              "      <td>18114</td>\n",
              "      <td>18113</td>\n",
              "      <td>18112</td>\n",
              "      <td>18111</td>\n",
              "      <td>18110</td>\n",
              "      <td>18109</td>\n",
              "      <td>18108</td>\n",
              "      <td>18107</td>\n",
              "      <td>18106</td>\n",
              "      <td>18105</td>\n",
              "      <td>18104</td>\n",
              "      <td>18103</td>\n",
              "    </tr>\n",
              "  </tbody>\n",
              "</table>\n",
              "</div>\n",
              "      <button class=\"colab-df-convert\" onclick=\"convertToInteractive('df-eef702a6-4c48-48ad-bcae-d5191458faf9')\"\n",
              "              title=\"Convert this dataframe to an interactive table.\"\n",
              "              style=\"display:none;\">\n",
              "        \n",
              "  <svg xmlns=\"http://www.w3.org/2000/svg\" height=\"24px\"viewBox=\"0 0 24 24\"\n",
              "       width=\"24px\">\n",
              "    <path d=\"M0 0h24v24H0V0z\" fill=\"none\"/>\n",
              "    <path d=\"M18.56 5.44l.94 2.06.94-2.06 2.06-.94-2.06-.94-.94-2.06-.94 2.06-2.06.94zm-11 1L8.5 8.5l.94-2.06 2.06-.94-2.06-.94L8.5 2.5l-.94 2.06-2.06.94zm10 10l.94 2.06.94-2.06 2.06-.94-2.06-.94-.94-2.06-.94 2.06-2.06.94z\"/><path d=\"M17.41 7.96l-1.37-1.37c-.4-.4-.92-.59-1.43-.59-.52 0-1.04.2-1.43.59L10.3 9.45l-7.72 7.72c-.78.78-.78 2.05 0 2.83L4 21.41c.39.39.9.59 1.41.59.51 0 1.02-.2 1.41-.59l7.78-7.78 2.81-2.81c.8-.78.8-2.07 0-2.86zM5.41 20L4 18.59l7.72-7.72 1.47 1.35L5.41 20z\"/>\n",
              "  </svg>\n",
              "      </button>\n",
              "      \n",
              "  <style>\n",
              "    .colab-df-container {\n",
              "      display:flex;\n",
              "      flex-wrap:wrap;\n",
              "      gap: 12px;\n",
              "    }\n",
              "\n",
              "    .colab-df-convert {\n",
              "      background-color: #E8F0FE;\n",
              "      border: none;\n",
              "      border-radius: 50%;\n",
              "      cursor: pointer;\n",
              "      display: none;\n",
              "      fill: #1967D2;\n",
              "      height: 32px;\n",
              "      padding: 0 0 0 0;\n",
              "      width: 32px;\n",
              "    }\n",
              "\n",
              "    .colab-df-convert:hover {\n",
              "      background-color: #E2EBFA;\n",
              "      box-shadow: 0px 1px 2px rgba(60, 64, 67, 0.3), 0px 1px 3px 1px rgba(60, 64, 67, 0.15);\n",
              "      fill: #174EA6;\n",
              "    }\n",
              "\n",
              "    [theme=dark] .colab-df-convert {\n",
              "      background-color: #3B4455;\n",
              "      fill: #D2E3FC;\n",
              "    }\n",
              "\n",
              "    [theme=dark] .colab-df-convert:hover {\n",
              "      background-color: #434B5C;\n",
              "      box-shadow: 0px 1px 3px 1px rgba(0, 0, 0, 0.15);\n",
              "      filter: drop-shadow(0px 1px 2px rgba(0, 0, 0, 0.3));\n",
              "      fill: #FFFFFF;\n",
              "    }\n",
              "  </style>\n",
              "\n",
              "      <script>\n",
              "        const buttonEl =\n",
              "          document.querySelector('#df-eef702a6-4c48-48ad-bcae-d5191458faf9 button.colab-df-convert');\n",
              "        buttonEl.style.display =\n",
              "          google.colab.kernel.accessAllowed ? 'block' : 'none';\n",
              "\n",
              "        async function convertToInteractive(key) {\n",
              "          const element = document.querySelector('#df-eef702a6-4c48-48ad-bcae-d5191458faf9');\n",
              "          const dataTable =\n",
              "            await google.colab.kernel.invokeFunction('convertToInteractive',\n",
              "                                                     [key], {});\n",
              "          if (!dataTable) return;\n",
              "\n",
              "          const docLinkHtml = 'Like what you see? Visit the ' +\n",
              "            '<a target=\"_blank\" href=https://colab.research.google.com/notebooks/data_table.ipynb>data table notebook</a>'\n",
              "            + ' to learn more about interactive tables.';\n",
              "          element.innerHTML = '';\n",
              "          dataTable['output_type'] = 'display_data';\n",
              "          await google.colab.output.renderOutput(dataTable, element);\n",
              "          const docLink = document.createElement('div');\n",
              "          docLink.innerHTML = docLinkHtml;\n",
              "          element.appendChild(docLink);\n",
              "        }\n",
              "      </script>\n",
              "    </div>\n",
              "  </div>\n",
              "  "
            ]
          },
          "metadata": {},
          "execution_count": 55
        }
      ]
    },
    {
      "cell_type": "code",
      "source": [
        "vocab_before_stemming.tail(4)"
      ],
      "metadata": {
        "colab": {
          "base_uri": "https://localhost:8080/",
          "height": 175
        },
        "id": "qhJHreAGvqH-",
        "outputId": "3285809a-c893-4ccd-9f4f-1d3e58b074cd"
      },
      "execution_count": 56,
      "outputs": [
        {
          "output_type": "execute_result",
          "data": {
            "text/plain": [
              "     Word  count\n",
              "1013   10      3\n",
              "7670  009      2\n",
              "6647  007      1\n",
              "1014  000      0"
            ],
            "text/html": [
              "\n",
              "  <div id=\"df-73847097-8a11-4a79-ac1a-1576df5f1d5e\">\n",
              "    <div class=\"colab-df-container\">\n",
              "      <div>\n",
              "<style scoped>\n",
              "    .dataframe tbody tr th:only-of-type {\n",
              "        vertical-align: middle;\n",
              "    }\n",
              "\n",
              "    .dataframe tbody tr th {\n",
              "        vertical-align: top;\n",
              "    }\n",
              "\n",
              "    .dataframe thead th {\n",
              "        text-align: right;\n",
              "    }\n",
              "</style>\n",
              "<table border=\"1\" class=\"dataframe\">\n",
              "  <thead>\n",
              "    <tr style=\"text-align: right;\">\n",
              "      <th></th>\n",
              "      <th>Word</th>\n",
              "      <th>count</th>\n",
              "    </tr>\n",
              "  </thead>\n",
              "  <tbody>\n",
              "    <tr>\n",
              "      <th>1013</th>\n",
              "      <td>10</td>\n",
              "      <td>3</td>\n",
              "    </tr>\n",
              "    <tr>\n",
              "      <th>7670</th>\n",
              "      <td>009</td>\n",
              "      <td>2</td>\n",
              "    </tr>\n",
              "    <tr>\n",
              "      <th>6647</th>\n",
              "      <td>007</td>\n",
              "      <td>1</td>\n",
              "    </tr>\n",
              "    <tr>\n",
              "      <th>1014</th>\n",
              "      <td>000</td>\n",
              "      <td>0</td>\n",
              "    </tr>\n",
              "  </tbody>\n",
              "</table>\n",
              "</div>\n",
              "      <button class=\"colab-df-convert\" onclick=\"convertToInteractive('df-73847097-8a11-4a79-ac1a-1576df5f1d5e')\"\n",
              "              title=\"Convert this dataframe to an interactive table.\"\n",
              "              style=\"display:none;\">\n",
              "        \n",
              "  <svg xmlns=\"http://www.w3.org/2000/svg\" height=\"24px\"viewBox=\"0 0 24 24\"\n",
              "       width=\"24px\">\n",
              "    <path d=\"M0 0h24v24H0V0z\" fill=\"none\"/>\n",
              "    <path d=\"M18.56 5.44l.94 2.06.94-2.06 2.06-.94-2.06-.94-.94-2.06-.94 2.06-2.06.94zm-11 1L8.5 8.5l.94-2.06 2.06-.94-2.06-.94L8.5 2.5l-.94 2.06-2.06.94zm10 10l.94 2.06.94-2.06 2.06-.94-2.06-.94-.94-2.06-.94 2.06-2.06.94z\"/><path d=\"M17.41 7.96l-1.37-1.37c-.4-.4-.92-.59-1.43-.59-.52 0-1.04.2-1.43.59L10.3 9.45l-7.72 7.72c-.78.78-.78 2.05 0 2.83L4 21.41c.39.39.9.59 1.41.59.51 0 1.02-.2 1.41-.59l7.78-7.78 2.81-2.81c.8-.78.8-2.07 0-2.86zM5.41 20L4 18.59l7.72-7.72 1.47 1.35L5.41 20z\"/>\n",
              "  </svg>\n",
              "      </button>\n",
              "      \n",
              "  <style>\n",
              "    .colab-df-container {\n",
              "      display:flex;\n",
              "      flex-wrap:wrap;\n",
              "      gap: 12px;\n",
              "    }\n",
              "\n",
              "    .colab-df-convert {\n",
              "      background-color: #E8F0FE;\n",
              "      border: none;\n",
              "      border-radius: 50%;\n",
              "      cursor: pointer;\n",
              "      display: none;\n",
              "      fill: #1967D2;\n",
              "      height: 32px;\n",
              "      padding: 0 0 0 0;\n",
              "      width: 32px;\n",
              "    }\n",
              "\n",
              "    .colab-df-convert:hover {\n",
              "      background-color: #E2EBFA;\n",
              "      box-shadow: 0px 1px 2px rgba(60, 64, 67, 0.3), 0px 1px 3px 1px rgba(60, 64, 67, 0.15);\n",
              "      fill: #174EA6;\n",
              "    }\n",
              "\n",
              "    [theme=dark] .colab-df-convert {\n",
              "      background-color: #3B4455;\n",
              "      fill: #D2E3FC;\n",
              "    }\n",
              "\n",
              "    [theme=dark] .colab-df-convert:hover {\n",
              "      background-color: #434B5C;\n",
              "      box-shadow: 0px 1px 3px 1px rgba(0, 0, 0, 0.15);\n",
              "      filter: drop-shadow(0px 1px 2px rgba(0, 0, 0, 0.3));\n",
              "      fill: #FFFFFF;\n",
              "    }\n",
              "  </style>\n",
              "\n",
              "      <script>\n",
              "        const buttonEl =\n",
              "          document.querySelector('#df-73847097-8a11-4a79-ac1a-1576df5f1d5e button.colab-df-convert');\n",
              "        buttonEl.style.display =\n",
              "          google.colab.kernel.accessAllowed ? 'block' : 'none';\n",
              "\n",
              "        async function convertToInteractive(key) {\n",
              "          const element = document.querySelector('#df-73847097-8a11-4a79-ac1a-1576df5f1d5e');\n",
              "          const dataTable =\n",
              "            await google.colab.kernel.invokeFunction('convertToInteractive',\n",
              "                                                     [key], {});\n",
              "          if (!dataTable) return;\n",
              "\n",
              "          const docLinkHtml = 'Like what you see? Visit the ' +\n",
              "            '<a target=\"_blank\" href=https://colab.research.google.com/notebooks/data_table.ipynb>data table notebook</a>'\n",
              "            + ' to learn more about interactive tables.';\n",
              "          element.innerHTML = '';\n",
              "          dataTable['output_type'] = 'display_data';\n",
              "          await google.colab.output.renderOutput(dataTable, element);\n",
              "          const docLink = document.createElement('div');\n",
              "          docLink.innerHTML = docLinkHtml;\n",
              "          element.appendChild(docLink);\n",
              "        }\n",
              "      </script>\n",
              "    </div>\n",
              "  </div>\n",
              "  "
            ]
          },
          "metadata": {},
          "execution_count": 56
        }
      ]
    },
    {
      "cell_type": "markdown",
      "source": [
        "### **Top 10 most occured word**"
      ],
      "metadata": {
        "id": "QQAnUSGvxVSH"
      }
    },
    {
      "cell_type": "code",
      "source": [
        "top10_most_ocurred_vacab = vocab_before_stemming.head(10)"
      ],
      "metadata": {
        "id": "p0z07jKvxlJi"
      },
      "execution_count": 75,
      "outputs": []
    },
    {
      "cell_type": "code",
      "source": [
        "top10_most_occurred_words = top10_most_ocurred_vacab.Word.values \n",
        "top10_most_occurred_words"
      ],
      "metadata": {
        "colab": {
          "base_uri": "https://localhost:8080/"
        },
        "id": "4ro9tuo5xrEp",
        "outputId": "694f5a2f-e7b8-4d9d-dadd-5a42659a095f"
      },
      "execution_count": 76,
      "outputs": [
        {
          "output_type": "execute_result",
          "data": {
            "text/plain": [
              "array(['şeref', 'ōarai', 'łukasz', 'über', 'ömer', 'émile', 'ángel',\n",
              "       'álvaro', 'álex', 'zé'], dtype=object)"
            ]
          },
          "metadata": {},
          "execution_count": 76
        }
      ]
    },
    {
      "cell_type": "code",
      "source": [
        "top10_most_occurred_words_count = top10_most_ocurred_vacab['count'].values \n",
        "top10_most_occurred_words_count"
      ],
      "metadata": {
        "colab": {
          "base_uri": "https://localhost:8080/"
        },
        "id": "Z52Lh8XvxvED",
        "outputId": "11ee3810-9e3d-40a4-d801-716a398c603b"
      },
      "execution_count": 77,
      "outputs": [
        {
          "output_type": "execute_result",
          "data": {
            "text/plain": [
              "array([18122, 18121, 18120, 18119, 18118, 18117, 18116, 18115, 18114,\n",
              "       18113])"
            ]
          },
          "metadata": {},
          "execution_count": 77
        }
      ]
    },
    {
      "cell_type": "code",
      "source": [
        "plt.figure( figsize = ( 14,6 ))\n",
        "plt.xlim(18000, 18130)\n",
        "plt.barh(top10_most_occurred_words , top10_most_occurred_words_count )\n"
      ],
      "metadata": {
        "colab": {
          "base_uri": "https://localhost:8080/",
          "height": 394
        },
        "id": "ugdhXxRAx0zK",
        "outputId": "fcfcde3f-3944-4d43-90f9-48b32e51aaa0"
      },
      "execution_count": 78,
      "outputs": [
        {
          "output_type": "execute_result",
          "data": {
            "text/plain": [
              "<BarContainer object of 10 artists>"
            ]
          },
          "metadata": {},
          "execution_count": 78
        },
        {
          "output_type": "display_data",
          "data": {
            "text/plain": [
              "<Figure size 1008x432 with 1 Axes>"
            ],
            "image/png": "[encoded data removed]"
          },
          "metadata": {}
        }
      ]
    },
    {
      "cell_type": "markdown",
      "source": [
        "### **SnowballStemmer( 'english' )**"
      ],
      "metadata": {
        "id": "C68ZPyzh10ci"
      }
    },
    {
      "cell_type": "code",
      "source": [
        "# Create an object of stemming function\n",
        "stemmer = SnowballStemmer(\"english\")"
      ],
      "metadata": {
        "id": "8Oc9avD615EN"
      },
      "execution_count": 79,
      "outputs": []
    },
    {
      "cell_type": "code",
      "source": [
        "def Apply_stemming(text):    \n",
        "    '''a function which stems each word in the given text'''\n",
        "    text = [stemmer.stem(word) for word in text.split()]\n",
        "    return \" \".join(text) "
      ],
      "metadata": {
        "id": "Rp_0jxXx2KRi"
      },
      "execution_count": 80,
      "outputs": []
    },
    {
      "cell_type": "code",
      "source": [
        "#Stemming for description\n",
        "netflix_df['description'] = netflix_df['description'].apply( Apply_stemming )\n",
        "netflix_df.head()"
      ],
      "metadata": {
        "colab": {
          "base_uri": "https://localhost:8080/",
          "height": 337
        },
        "id": "AmGyTdwy2bcV",
        "outputId": "6444c33d-8460-433f-bcdd-597be4e38fb5"
      },
      "execution_count": 82,
      "outputs": [
        {
          "output_type": "execute_result",
          "data": {
            "text/plain": [
              "  show_id     type  title        country date_added  release_year rating  \\\n",
              "0      s1  TV Show     3%         Brazil 2020-08-14          2020  TV-MA   \n",
              "1      s2    Movie   7:19         Mexico 2016-12-23          2016  TV-MA   \n",
              "2      s3    Movie  23:59      Singapore 2018-12-20          2011      R   \n",
              "3      s4    Movie      9  United States 2017-11-16          2009  PG-13   \n",
              "4      s5    Movie     21  United States 2020-01-01          2008  PG-13   \n",
              "\n",
              "    duration                                          listed_in  \\\n",
              "0  4 Seasons  International TV Shows, TV Dramas, TV Sci-Fi &...   \n",
              "1     93 min                       Dramas, International Movies   \n",
              "2     78 min                Horror Movies, International Movies   \n",
              "3     80 min  Action & Adventure, Independent Movies, Sci-Fi...   \n",
              "4    123 min                                             Dramas   \n",
              "\n",
              "                                         description  year_added  month_added  \n",
              "0  futur elit inhabit island paradis far crowd sl...        2020            8  \n",
              "1  devast earthquak hit mexico city, trap survivo...        2016           12  \n",
              "2  armi recruit found dead, fellow soldier forc c...        2018           12  \n",
              "3  postapocalypt world, rag-dol robot hide fear d...        2017           11  \n",
              "4  brilliant group student becom card-count exper...        2020            1  "
            ],
            "text/html": [
              "\n",
              "  <div id=\"df-20ca30ab-1c5b-412f-953a-33be9dda141c\">\n",
              "    <div class=\"colab-df-container\">\n",
              "      <div>\n",
              "<style scoped>\n",
              "    .dataframe tbody tr th:only-of-type {\n",
              "        vertical-align: middle;\n",
              "    }\n",
              "\n",
              "    .dataframe tbody tr th {\n",
              "        vertical-align: top;\n",
              "    }\n",
              "\n",
              "    .dataframe thead th {\n",
              "        text-align: right;\n",
              "    }\n",
              "</style>\n",
              "<table border=\"1\" class=\"dataframe\">\n",
              "  <thead>\n",
              "    <tr style=\"text-align: right;\">\n",
              "      <th></th>\n",
              "      <th>show_id</th>\n",
              "      <th>type</th>\n",
              "      <th>title</th>\n",
              "      <th>country</th>\n",
              "      <th>date_added</th>\n",
              "      <th>release_year</th>\n",
              "      <th>rating</th>\n",
              "      <th>duration</th>\n",
              "      <th>listed_in</th>\n",
              "      <th>description</th>\n",
              "      <th>year_added</th>\n",
              "      <th>month_added</th>\n",
              "    </tr>\n",
              "  </thead>\n",
              "  <tbody>\n",
              "    <tr>\n",
              "      <th>0</th>\n",
              "      <td>s1</td>\n",
              "      <td>TV Show</td>\n",
              "      <td>3%</td>\n",
              "      <td>Brazil</td>\n",
              "      <td>2020-08-14</td>\n",
              "      <td>2020</td>\n",
              "      <td>TV-MA</td>\n",
              "      <td>4 Seasons</td>\n",
              "      <td>International TV Shows, TV Dramas, TV Sci-Fi &amp;...</td>\n",
              "      <td>futur elit inhabit island paradis far crowd sl...</td>\n",
              "      <td>2020</td>\n",
              "      <td>8</td>\n",
              "    </tr>\n",
              "    <tr>\n",
              "      <th>1</th>\n",
              "      <td>s2</td>\n",
              "      <td>Movie</td>\n",
              "      <td>7:19</td>\n",
              "      <td>Mexico</td>\n",
              "      <td>2016-12-23</td>\n",
              "      <td>2016</td>\n",
              "      <td>TV-MA</td>\n",
              "      <td>93 min</td>\n",
              "      <td>Dramas, International Movies</td>\n",
              "      <td>devast earthquak hit mexico city, trap survivo...</td>\n",
              "      <td>2016</td>\n",
              "      <td>12</td>\n",
              "    </tr>\n",
              "    <tr>\n",
              "      <th>2</th>\n",
              "      <td>s3</td>\n",
              "      <td>Movie</td>\n",
              "      <td>23:59</td>\n",
              "      <td>Singapore</td>\n",
              "      <td>2018-12-20</td>\n",
              "      <td>2011</td>\n",
              "      <td>R</td>\n",
              "      <td>78 min</td>\n",
              "      <td>Horror Movies, International Movies</td>\n",
              "      <td>armi recruit found dead, fellow soldier forc c...</td>\n",
              "      <td>2018</td>\n",
              "      <td>12</td>\n",
              "    </tr>\n",
              "    <tr>\n",
              "      <th>3</th>\n",
              "      <td>s4</td>\n",
              "      <td>Movie</td>\n",
              "      <td>9</td>\n",
              "      <td>United States</td>\n",
              "      <td>2017-11-16</td>\n",
              "      <td>2009</td>\n",
              "      <td>PG-13</td>\n",
              "      <td>80 min</td>\n",
              "      <td>Action &amp; Adventure, Independent Movies, Sci-Fi...</td>\n",
              "      <td>postapocalypt world, rag-dol robot hide fear d...</td>\n",
              "      <td>2017</td>\n",
              "      <td>11</td>\n",
              "    </tr>\n",
              "    <tr>\n",
              "      <th>4</th>\n",
              "      <td>s5</td>\n",
              "      <td>Movie</td>\n",
              "      <td>21</td>\n",
              "      <td>United States</td>\n",
              "      <td>2020-01-01</td>\n",
              "      <td>2008</td>\n",
              "      <td>PG-13</td>\n",
              "      <td>123 min</td>\n",
              "      <td>Dramas</td>\n",
              "      <td>brilliant group student becom card-count exper...</td>\n",
              "      <td>2020</td>\n",
              "      <td>1</td>\n",
              "    </tr>\n",
              "  </tbody>\n",
              "</table>\n",
              "</div>\n",
              "      <button class=\"colab-df-convert\" onclick=\"convertToInteractive('df-20ca30ab-1c5b-412f-953a-33be9dda141c')\"\n",
              "              title=\"Convert this dataframe to an interactive table.\"\n",
              "              style=\"display:none;\">\n",
              "        \n",
              "  <svg xmlns=\"http://www.w3.org/2000/svg\" height=\"24px\"viewBox=\"0 0 24 24\"\n",
              "       width=\"24px\">\n",
              "    <path d=\"M0 0h24v24H0V0z\" fill=\"none\"/>\n",
              "    <path d=\"M18.56 5.44l.94 2.06.94-2.06 2.06-.94-2.06-.94-.94-2.06-.94 2.06-2.06.94zm-11 1L8.5 8.5l.94-2.06 2.06-.94-2.06-.94L8.5 2.5l-.94 2.06-2.06.94zm10 10l.94 2.06.94-2.06 2.06-.94-2.06-.94-.94-2.06-.94 2.06-2.06.94z\"/><path d=\"M17.41 7.96l-1.37-1.37c-.4-.4-.92-.59-1.43-.59-.52 0-1.04.2-1.43.59L10.3 9.45l-7.72 7.72c-.78.78-.78 2.05 0 2.83L4 21.41c.39.39.9.59 1.41.59.51 0 1.02-.2 1.41-.59l7.78-7.78 2.81-2.81c.8-.78.8-2.07 0-2.86zM5.41 20L4 18.59l7.72-7.72 1.47 1.35L5.41 20z\"/>\n",
              "  </svg>\n",
              "      </button>\n",
              "      \n",
              "  <style>\n",
              "    .colab-df-container {\n",
              "      display:flex;\n",
              "      flex-wrap:wrap;\n",
              "      gap: 12px;\n",
              "    }\n",
              "\n",
              "    .colab-df-convert {\n",
              "      background-color: #E8F0FE;\n",
              "      border: none;\n",
              "      border-radius: 50%;\n",
              "      cursor: pointer;\n",
              "      display: none;\n",
              "      fill: #1967D2;\n",
              "      height: 32px;\n",
              "      padding: 0 0 0 0;\n",
              "      width: 32px;\n",
              "    }\n",
              "\n",
              "    .colab-df-convert:hover {\n",
              "      background-color: #E2EBFA;\n",
              "      box-shadow: 0px 1px 2px rgba(60, 64, 67, 0.3), 0px 1px 3px 1px rgba(60, 64, 67, 0.15);\n",
              "      fill: #174EA6;\n",
              "    }\n",
              "\n",
              "    [theme=dark] .colab-df-convert {\n",
              "      background-color: #3B4455;\n",
              "      fill: #D2E3FC;\n",
              "    }\n",
              "\n",
              "    [theme=dark] .colab-df-convert:hover {\n",
              "      background-color: #434B5C;\n",
              "      box-shadow: 0px 1px 3px 1px rgba(0, 0, 0, 0.15);\n",
              "      filter: drop-shadow(0px 1px 2px rgba(0, 0, 0, 0.3));\n",
              "      fill: #FFFFFF;\n",
              "    }\n",
              "  </style>\n",
              "\n",
              "      <script>\n",
              "        const buttonEl =\n",
              "          document.querySelector('#df-20ca30ab-1c5b-412f-953a-33be9dda141c button.colab-df-convert');\n",
              "        buttonEl.style.display =\n",
              "          google.colab.kernel.accessAllowed ? 'block' : 'none';\n",
              "\n",
              "        async function convertToInteractive(key) {\n",
              "          const element = document.querySelector('#df-20ca30ab-1c5b-412f-953a-33be9dda141c');\n",
              "          const dataTable =\n",
              "            await google.colab.kernel.invokeFunction('convertToInteractive',\n",
              "                                                     [key], {});\n",
              "          if (!dataTable) return;\n",
              "\n",
              "          const docLinkHtml = 'Like what you see? Visit the ' +\n",
              "            '<a target=\"_blank\" href=https://colab.research.google.com/notebooks/data_table.ipynb>data table notebook</a>'\n",
              "            + ' to learn more about interactive tables.';\n",
              "          element.innerHTML = '';\n",
              "          dataTable['output_type'] = 'display_data';\n",
              "          await google.colab.output.renderOutput(dataTable, element);\n",
              "          const docLink = document.createElement('div');\n",
              "          docLink.innerHTML = docLinkHtml;\n",
              "          element.appendChild(docLink);\n",
              "        }\n",
              "      </script>\n",
              "    </div>\n",
              "  </div>\n",
              "  "
            ]
          },
          "metadata": {},
          "execution_count": 82
        }
      ]
    },
    {
      "cell_type": "markdown",
      "source": [
        "### **Using TfidfVectorizer(after stemming)**"
      ],
      "metadata": {
        "id": "AmwUAN2w3ept"
      }
    },
    {
      "cell_type": "code",
      "source": [
        "# Create the object of tfid vectorizer\n",
        "tfid_vectorizer = TfidfVectorizer()\n",
        "\n",
        "# Fit the vectorizer using the text data\n",
        "tfid_vectorizer.fit(netflix_df['description'])\n",
        "\n",
        "# Collect the vocabulary items used in the vectorizer\n",
        "dictionary = tfid_vectorizer.vocabulary_.items()"
      ],
      "metadata": {
        "id": "msMKRfrt7FIp"
      },
      "execution_count": 84,
      "outputs": []
    },
    {
      "cell_type": "code",
      "source": [
        "# Lists to store the vocab and counts\n",
        "vocab = []\n",
        "count_of_vocab = []\n",
        "# Iterate through each vocab and count append the value to designated lists\n",
        "for key, value in dictionary:\n",
        "    vocab.append(key)\n",
        "    count_of_vocab.append(value)"
      ],
      "metadata": {
        "id": "XLllg7Zq7Uiq"
      },
      "execution_count": 85,
      "outputs": []
    },
    {
      "cell_type": "markdown",
      "source": [
        "Creating a new *DataFrame* **vocab_after_stemming**"
      ],
      "metadata": {
        "id": "ufeXIiUq7ZzY"
      }
    },
    {
      "cell_type": "code",
      "source": [
        "# Store the count in panadas dataframe with vocab as index\n",
        "vocab_after_stemming = pd.DataFrame({\"Word\": vocab ,\n",
        "                                      \"count\" :count_of_vocab})\n",
        "# Sort the dataframe\n",
        "vocab_after_stemming = vocab_after_stemming.sort_values(\"count\" ,ascending=False)"
      ],
      "metadata": {
        "id": "Coqyxd6w7fiw"
      },
      "execution_count": 86,
      "outputs": []
    },
    {
      "cell_type": "code",
      "source": [
        "top10_most_ocurred_vocab = vocab_after_stemming.head(10)"
      ],
      "metadata": {
        "id": "iTmv3Xt27mR6"
      },
      "execution_count": 87,
      "outputs": []
    },
    {
      "cell_type": "code",
      "source": [
        "top10_most_occurred_words = top10_most_ocurred_vocab.Word.values \n",
        "top10_most_occurred_words"
      ],
      "metadata": {
        "colab": {
          "base_uri": "https://localhost:8080/"
        },
        "id": "JrbLU2TK7rud",
        "outputId": "3a209402-4b1f-4886-aecd-6bf960be0366"
      },
      "execution_count": 88,
      "outputs": [
        {
          "output_type": "execute_result",
          "data": {
            "text/plain": [
              "array(['şeref', 'ōarai', 'łukasz', 'über', 'ömer', 'émile', 'ángel',\n",
              "       'álvaro', 'álex', 'zé'], dtype=object)"
            ]
          },
          "metadata": {},
          "execution_count": 88
        }
      ]
    },
    {
      "cell_type": "code",
      "source": [
        "top10_most_occurred_words_count = top10_most_ocurred_vocab['count'].values \n",
        "top10_most_occurred_words_count"
      ],
      "metadata": {
        "colab": {
          "base_uri": "https://localhost:8080/"
        },
        "id": "Uv4aiacz7zgN",
        "outputId": "f6df3f41-a488-4a92-ec93-c8c23c53a25a"
      },
      "execution_count": 89,
      "outputs": [
        {
          "output_type": "execute_result",
          "data": {
            "text/plain": [
              "array([15651, 15650, 15649, 15648, 15647, 15646, 15645, 15644, 15643,\n",
              "       15642])"
            ]
          },
          "metadata": {},
          "execution_count": 89
        }
      ]
    },
    {
      "cell_type": "code",
      "source": [
        "plt.figure( figsize = ( 16,6 ))\n",
        "plt.xlim(15600, 15660)\n",
        "plt.barh(top10_most_occurred_words , top10_most_occurred_words_count )"
      ],
      "metadata": {
        "colab": {
          "base_uri": "https://localhost:8080/",
          "height": 394
        },
        "id": "YatDdkZm76CS",
        "outputId": "e54339d4-5791-41a3-f972-da83f019e3d3"
      },
      "execution_count": 93,
      "outputs": [
        {
          "output_type": "execute_result",
          "data": {
            "text/plain": [
              "<BarContainer object of 10 artists>"
            ]
          },
          "metadata": {},
          "execution_count": 93
        },
        {
          "output_type": "display_data",
          "data": {
            "text/plain": [
              "<Figure size 1152x432 with 1 Axes>"
            ],
            "image/png": "[encoded data removed]"
          },
          "metadata": {}
        }
      ]
    },
    {
      "cell_type": "markdown",
      "source": [
        "Adding a new column **length** which will contain length of description"
      ],
      "metadata": {
        "id": "nM63HwHo8j11"
      }
    },
    {
      "cell_type": "code",
      "source": [
        "netflix_df['Length(description)'] = netflix_df['description'].apply(lambda x: len(x))"
      ],
      "metadata": {
        "id": "C1w7I8yv8p1Q"
      },
      "execution_count": 94,
      "outputs": []
    },
    {
      "cell_type": "code",
      "source": [
        "netflix_df.head(3)"
      ],
      "metadata": {
        "colab": {
          "base_uri": "https://localhost:8080/",
          "height": 239
        },
        "id": "_M-nfzvk8zUj",
        "outputId": "92a02d14-afe7-494c-d3a1-ebaec88310d8"
      },
      "execution_count": 95,
      "outputs": [
        {
          "output_type": "execute_result",
          "data": {
            "text/plain": [
              "  show_id     type  title    country date_added  release_year rating  \\\n",
              "0      s1  TV Show     3%     Brazil 2020-08-14          2020  TV-MA   \n",
              "1      s2    Movie   7:19     Mexico 2016-12-23          2016  TV-MA   \n",
              "2      s3    Movie  23:59  Singapore 2018-12-20          2011      R   \n",
              "\n",
              "    duration                                          listed_in  \\\n",
              "0  4 Seasons  International TV Shows, TV Dramas, TV Sci-Fi &...   \n",
              "1     93 min                       Dramas, International Movies   \n",
              "2     78 min                Horror Movies, International Movies   \n",
              "\n",
              "                                         description  year_added  month_added  \\\n",
              "0  futur elit inhabit island paradis far crowd sl...        2020            8   \n",
              "1  devast earthquak hit mexico city, trap survivo...        2016           12   \n",
              "2  armi recruit found dead, fellow soldier forc c...        2018           12   \n",
              "\n",
              "   Length(description)  \n",
              "0                   86  \n",
              "1                   91  \n",
              "2                  104  "
            ],
            "text/html": [
              "\n",
              "  <div id=\"df-cff4e5bd-73dc-470e-9961-ef814fca24a0\">\n",
              "    <div class=\"colab-df-container\">\n",
              "      <div>\n",
              "<style scoped>\n",
              "    .dataframe tbody tr th:only-of-type {\n",
              "        vertical-align: middle;\n",
              "    }\n",
              "\n",
              "    .dataframe tbody tr th {\n",
              "        vertical-align: top;\n",
              "    }\n",
              "\n",
              "    .dataframe thead th {\n",
              "        text-align: right;\n",
              "    }\n",
              "</style>\n",
              "<table border=\"1\" class=\"dataframe\">\n",
              "  <thead>\n",
              "    <tr style=\"text-align: right;\">\n",
              "      <th></th>\n",
              "      <th>show_id</th>\n",
              "      <th>type</th>\n",
              "      <th>title</th>\n",
              "      <th>country</th>\n",
              "      <th>date_added</th>\n",
              "      <th>release_year</th>\n",
              "      <th>rating</th>\n",
              "      <th>duration</th>\n",
              "      <th>listed_in</th>\n",
              "      <th>description</th>\n",
              "      <th>year_added</th>\n",
              "      <th>month_added</th>\n",
              "      <th>Length(description)</th>\n",
              "    </tr>\n",
              "  </thead>\n",
              "  <tbody>\n",
              "    <tr>\n",
              "      <th>0</th>\n",
              "      <td>s1</td>\n",
              "      <td>TV Show</td>\n",
              "      <td>3%</td>\n",
              "      <td>Brazil</td>\n",
              "      <td>2020-08-14</td>\n",
              "      <td>2020</td>\n",
              "      <td>TV-MA</td>\n",
              "      <td>4 Seasons</td>\n",
              "      <td>International TV Shows, TV Dramas, TV Sci-Fi &amp;...</td>\n",
              "      <td>futur elit inhabit island paradis far crowd sl...</td>\n",
              "      <td>2020</td>\n",
              "      <td>8</td>\n",
              "      <td>86</td>\n",
              "    </tr>\n",
              "    <tr>\n",
              "      <th>1</th>\n",
              "      <td>s2</td>\n",
              "      <td>Movie</td>\n",
              "      <td>7:19</td>\n",
              "      <td>Mexico</td>\n",
              "      <td>2016-12-23</td>\n",
              "      <td>2016</td>\n",
              "      <td>TV-MA</td>\n",
              "      <td>93 min</td>\n",
              "      <td>Dramas, International Movies</td>\n",
              "      <td>devast earthquak hit mexico city, trap survivo...</td>\n",
              "      <td>2016</td>\n",
              "      <td>12</td>\n",
              "      <td>91</td>\n",
              "    </tr>\n",
              "    <tr>\n",
              "      <th>2</th>\n",
              "      <td>s3</td>\n",
              "      <td>Movie</td>\n",
              "      <td>23:59</td>\n",
              "      <td>Singapore</td>\n",
              "      <td>2018-12-20</td>\n",
              "      <td>2011</td>\n",
              "      <td>R</td>\n",
              "      <td>78 min</td>\n",
              "      <td>Horror Movies, International Movies</td>\n",
              "      <td>armi recruit found dead, fellow soldier forc c...</td>\n",
              "      <td>2018</td>\n",
              "      <td>12</td>\n",
              "      <td>104</td>\n",
              "    </tr>\n",
              "  </tbody>\n",
              "</table>\n",
              "</div>\n",
              "      <button class=\"colab-df-convert\" onclick=\"convertToInteractive('df-cff4e5bd-73dc-470e-9961-ef814fca24a0')\"\n",
              "              title=\"Convert this dataframe to an interactive table.\"\n",
              "              style=\"display:none;\">\n",
              "        \n",
              "  <svg xmlns=\"http://www.w3.org/2000/svg\" height=\"24px\"viewBox=\"0 0 24 24\"\n",
              "       width=\"24px\">\n",
              "    <path d=\"M0 0h24v24H0V0z\" fill=\"none\"/>\n",
              "    <path d=\"M18.56 5.44l.94 2.06.94-2.06 2.06-.94-2.06-.94-.94-2.06-.94 2.06-2.06.94zm-11 1L8.5 8.5l.94-2.06 2.06-.94-2.06-.94L8.5 2.5l-.94 2.06-2.06.94zm10 10l.94 2.06.94-2.06 2.06-.94-2.06-.94-.94-2.06-.94 2.06-2.06.94z\"/><path d=\"M17.41 7.96l-1.37-1.37c-.4-.4-.92-.59-1.43-.59-.52 0-1.04.2-1.43.59L10.3 9.45l-7.72 7.72c-.78.78-.78 2.05 0 2.83L4 21.41c.39.39.9.59 1.41.59.51 0 1.02-.2 1.41-.59l7.78-7.78 2.81-2.81c.8-.78.8-2.07 0-2.86zM5.41 20L4 18.59l7.72-7.72 1.47 1.35L5.41 20z\"/>\n",
              "  </svg>\n",
              "      </button>\n",
              "      \n",
              "  <style>\n",
              "    .colab-df-container {\n",
              "      display:flex;\n",
              "      flex-wrap:wrap;\n",
              "      gap: 12px;\n",
              "    }\n",
              "\n",
              "    .colab-df-convert {\n",
              "      background-color: #E8F0FE;\n",
              "      border: none;\n",
              "      border-radius: 50%;\n",
              "      cursor: pointer;\n",
              "      display: none;\n",
              "      fill: #1967D2;\n",
              "      height: 32px;\n",
              "      padding: 0 0 0 0;\n",
              "      width: 32px;\n",
              "    }\n",
              "\n",
              "    .colab-df-convert:hover {\n",
              "      background-color: #E2EBFA;\n",
              "      box-shadow: 0px 1px 2px rgba(60, 64, 67, 0.3), 0px 1px 3px 1px rgba(60, 64, 67, 0.15);\n",
              "      fill: #174EA6;\n",
              "    }\n",
              "\n",
              "    [theme=dark] .colab-df-convert {\n",
              "      background-color: #3B4455;\n",
              "      fill: #D2E3FC;\n",
              "    }\n",
              "\n",
              "    [theme=dark] .colab-df-convert:hover {\n",
              "      background-color: #434B5C;\n",
              "      box-shadow: 0px 1px 3px 1px rgba(0, 0, 0, 0.15);\n",
              "      filter: drop-shadow(0px 1px 2px rgba(0, 0, 0, 0.3));\n",
              "      fill: #FFFFFF;\n",
              "    }\n",
              "  </style>\n",
              "\n",
              "      <script>\n",
              "        const buttonEl =\n",
              "          document.querySelector('#df-cff4e5bd-73dc-470e-9961-ef814fca24a0 button.colab-df-convert');\n",
              "        buttonEl.style.display =\n",
              "          google.colab.kernel.accessAllowed ? 'block' : 'none';\n",
              "\n",
              "        async function convertToInteractive(key) {\n",
              "          const element = document.querySelector('#df-cff4e5bd-73dc-470e-9961-ef814fca24a0');\n",
              "          const dataTable =\n",
              "            await google.colab.kernel.invokeFunction('convertToInteractive',\n",
              "                                                     [key], {});\n",
              "          if (!dataTable) return;\n",
              "\n",
              "          const docLinkHtml = 'Like what you see? Visit the ' +\n",
              "            '<a target=\"_blank\" href=https://colab.research.google.com/notebooks/data_table.ipynb>data table notebook</a>'\n",
              "            + ' to learn more about interactive tables.';\n",
              "          element.innerHTML = '';\n",
              "          dataTable['output_type'] = 'display_data';\n",
              "          await google.colab.output.renderOutput(dataTable, element);\n",
              "          const docLink = document.createElement('div');\n",
              "          docLink.innerHTML = docLinkHtml;\n",
              "          element.appendChild(docLink);\n",
              "        }\n",
              "      </script>\n",
              "    </div>\n",
              "  </div>\n",
              "  "
            ]
          },
          "metadata": {},
          "execution_count": 95
        }
      ]
    },
    {
      "cell_type": "code",
      "source": [
        "netflix_df.description.iloc[0]"
      ],
      "metadata": {
        "colab": {
          "base_uri": "https://localhost:8080/",
          "height": 36
        },
        "id": "7uuQNFkx8_Cu",
        "outputId": "ba76d813-14a0-4b76-c331-44c91d04c5e4"
      },
      "execution_count": 97,
      "outputs": [
        {
          "output_type": "execute_result",
          "data": {
            "text/plain": [
              "'futur elit inhabit island paradis far crowd slums, get one chanc join 3% save squalor.'"
            ],
            "application/vnd.google.colaboratory.intrinsic+json": {
              "type": "string"
            }
          },
          "metadata": {},
          "execution_count": 97
        }
      ]
    },
    {
      "cell_type": "code",
      "source": [
        "len(netflix_df.description.iloc[0])"
      ],
      "metadata": {
        "colab": {
          "base_uri": "https://localhost:8080/"
        },
        "id": "4h_UyNXg9HGT",
        "outputId": "04b42bf3-4911-43e1-88c3-0f31b13c96c1"
      },
      "execution_count": 98,
      "outputs": [
        {
          "output_type": "execute_result",
          "data": {
            "text/plain": [
              "86"
            ]
          },
          "metadata": {},
          "execution_count": 98
        }
      ]
    }
  ]
}